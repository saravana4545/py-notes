{
 "cells": [
  {
   "cell_type": "code",
   "execution_count": null,
   "id": "11f84ff9-7660-4696-abe7-dc2aec954081",
   "metadata": {},
   "outputs": [],
   "source": [
    "import pywhatkit as kit"
   ]
  },
  {
   "cell_type": "code",
   "execution_count": null,
   "id": "770749d7-c58e-4af9-82bb-bf750c341b11",
   "metadata": {},
   "outputs": [],
   "source": [
    "kit.sendwhatmsg(\"+918248604592\", \"Hello, this is an automated message!\", 15, 30)"
   ]
  },
  {
   "cell_type": "code",
   "execution_count": null,
   "id": "9212c72b-0083-4ddf-bfca-88a08d98e4f2",
   "metadata": {},
   "outputs": [],
   "source": [
    "kit.search(\"Python programming\")"
   ]
  },
  {
   "cell_type": "code",
   "execution_count": null,
   "id": "6958cf91-787a-43ec-85c6-76757a322129",
   "metadata": {},
   "outputs": [],
   "source": [
    "text = \"Python is a powerful programming language.\"\n",
    "kit.text_to_handwriting(text, save_to=\"handwriting.png\", rgb=[0, 0, 255])\n",
    "print(\"Tasks completed!\")"
   ]
  },
  {
   "cell_type": "code",
   "execution_count": null,
   "id": "64f19cb3-627a-4dab-aac6-b85c03d60efd",
   "metadata": {},
   "outputs": [],
   "source": []
  },
  {
   "cell_type": "code",
   "execution_count": null,
   "id": "7c8e4e18-9099-4b88-9f55-61444c7ed954",
   "metadata": {},
   "outputs": [],
   "source": []
  }
 ],
 "metadata": {
  "kernelspec": {
   "display_name": "Python 3 (ipykernel)",
   "language": "python",
   "name": "python3"
  },
  "language_info": {
   "codemirror_mode": {
    "name": "ipython",
    "version": 3
   },
   "file_extension": ".py",
   "mimetype": "text/x-python",
   "name": "python",
   "nbconvert_exporter": "python",
   "pygments_lexer": "ipython3",
   "version": "3.12.7"
  }
 },
 "nbformat": 4,
 "nbformat_minor": 5
}
