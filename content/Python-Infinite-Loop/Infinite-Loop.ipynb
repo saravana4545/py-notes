{
 "cells": [
  {
   "cell_type": "code",
   "execution_count": 1,
   "id": "dc6c6c4d-40fc-44b5-a4e9-bf71edcc91a3",
   "metadata": {},
   "outputs": [],
   "source": [
    "# Created at 27-01-2025"
   ]
  },
  {
   "cell_type": "code",
   "execution_count": 2,
   "id": "d0f47925-b30b-4420-a415-2e8e591eee5a",
   "metadata": {},
   "outputs": [],
   "source": [
    "# https://www.scientecheasy.com/2022/11/infinite-loop-in-python.html/"
   ]
  },
  {
   "cell_type": "code",
   "execution_count": 3,
   "id": "6e8a9da0-8be9-477b-b934-3f82cf6c7411",
   "metadata": {},
   "outputs": [],
   "source": [
    "# Infinte Loop"
   ]
  },
  {
   "cell_type": "code",
   "execution_count": 4,
   "id": "b5c642c4-7280-4114-adf9-7068a7b099d3",
   "metadata": {},
   "outputs": [],
   "source": [
    "# Basic Infinte Loop\n",
    "\n",
    "# while True:\n",
    "    #print(\"This is an infinite loop!\")"
   ]
  },
  {
   "cell_type": "code",
   "execution_count": null,
   "id": "d1bb79de-ad65-4b91-9e2e-b752762dd31d",
   "metadata": {},
   "outputs": [],
   "source": [
    "# Break Statement"
   ]
  },
  {
   "cell_type": "code",
   "execution_count": null,
   "id": "a9233278-62c2-4563-b01d-adb3de4161b7",
   "metadata": {},
   "outputs": [],
   "source": [
    "count = 5"
   ]
  },
  {
   "cell_type": "code",
   "execution_count": null,
   "id": "7e2247a2-08e6-4ef0-854e-6dcde33a30fa",
   "metadata": {},
   "outputs": [],
   "source": [
    "while True:\n",
    "    print(\"Loop running...\")\n",
    "    count += 1\n",
    "    if count == 5:\n",
    "        print(\"Stopping the loop.\")\n",
    "        break"
   ]
  },
  {
   "cell_type": "code",
   "execution_count": null,
   "id": "57701cfd-5700-46b8-83c1-6c13006c5177",
   "metadata": {},
   "outputs": [],
   "source": []
  },
  {
   "cell_type": "code",
   "execution_count": null,
   "id": "74f77ff7-be1e-4c38-b8f1-dea2f94ac84a",
   "metadata": {},
   "outputs": [],
   "source": [
    "while True:\n",
    "    user_input = input(\"Enter 'stop' to end the loop: \")\n",
    "    if user_input.lower() == 'stop':\n",
    "        print(\"Loop stopped.\")\n",
    "        break\n",
    "    else:\n",
    "        print(f\"You entered: {user_input}\")"
   ]
  },
  {
   "cell_type": "code",
   "execution_count": null,
   "id": "bb2b079a-1d55-42d5-836d-4728126fe424",
   "metadata": {},
   "outputs": [],
   "source": []
  }
 ],
 "metadata": {
  "kernelspec": {
   "display_name": "Python 3 (ipykernel)",
   "language": "python",
   "name": "python3"
  },
  "language_info": {
   "codemirror_mode": {
    "name": "ipython",
    "version": 3
   },
   "file_extension": ".py",
   "mimetype": "text/x-python",
   "name": "python",
   "nbconvert_exporter": "python",
   "pygments_lexer": "ipython3",
   "version": "3.12.7"
  }
 },
 "nbformat": 4,
 "nbformat_minor": 5
}
