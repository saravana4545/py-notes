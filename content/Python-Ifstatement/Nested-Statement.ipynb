{
 "cells": [
  {
   "cell_type": "code",
   "execution_count": 1,
   "id": "1820c3f0-0d8f-446f-97bd-4614576b6d0a",
   "metadata": {},
   "outputs": [],
   "source": [
    "# Created at 27-01-2025"
   ]
  },
  {
   "cell_type": "code",
   "execution_count": 2,
   "id": "55e2ce21-bbe8-48e0-ba48-39589e3ea30f",
   "metadata": {},
   "outputs": [],
   "source": [
    "# https://www.scientecheasy.com/2022/10/python-nested-if.html/"
   ]
  },
  {
   "cell_type": "code",
   "execution_count": 3,
   "id": "14175d7c-6d37-4f68-a248-f811298d4c26",
   "metadata": {},
   "outputs": [],
   "source": [
    "# Nested If Condition"
   ]
  },
  {
   "cell_type": "code",
   "execution_count": 9,
   "id": "baf9b2e5-b670-4401-b8ec-4cf007628fb9",
   "metadata": {},
   "outputs": [],
   "source": [
    "age = 25"
   ]
  },
  {
   "cell_type": "code",
   "execution_count": 10,
   "id": "7ae6c48e-018b-4321-8678-314b94905ab6",
   "metadata": {},
   "outputs": [],
   "source": [
    "income = 45000"
   ]
  },
  {
   "cell_type": "code",
   "execution_count": 13,
   "id": "2ee110a8-7906-40ec-84df-6d685a206de4",
   "metadata": {},
   "outputs": [
    {
     "name": "stdout",
     "output_type": "stream",
     "text": [
      "Eligible for the loan.\n"
     ]
    }
   ],
   "source": [
    "if age >= 18:\n",
    "    if income > 40000:\n",
    "        print(\"Eligible for the loan.\")\n",
    "    else:\n",
    "        print(\"Not eligible due to low income.\")\n",
    "else:\n",
    "    print(\"Not eligible due to age.\")"
   ]
  },
  {
   "cell_type": "code",
   "execution_count": null,
   "id": "16bf0efd-843a-410e-a40b-706750a407a7",
   "metadata": {},
   "outputs": [],
   "source": []
  },
  {
   "cell_type": "code",
   "execution_count": null,
   "id": "b04bdbd7-094a-4a09-b2a9-080a5a68b32d",
   "metadata": {},
   "outputs": [],
   "source": []
  }
 ],
 "metadata": {
  "kernelspec": {
   "display_name": "Python 3 (ipykernel)",
   "language": "python",
   "name": "python3"
  },
  "language_info": {
   "codemirror_mode": {
    "name": "ipython",
    "version": 3
   },
   "file_extension": ".py",
   "mimetype": "text/x-python",
   "name": "python",
   "nbconvert_exporter": "python",
   "pygments_lexer": "ipython3",
   "version": "3.12.7"
  }
 },
 "nbformat": 4,
 "nbformat_minor": 5
}
