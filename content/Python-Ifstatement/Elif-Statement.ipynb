{
 "cells": [
  {
   "cell_type": "code",
   "execution_count": 1,
   "id": "cb9f8515-e42b-4f59-acec-01d596f72553",
   "metadata": {},
   "outputs": [],
   "source": [
    "# Created at 27-01-2025"
   ]
  },
  {
   "cell_type": "code",
   "execution_count": 2,
   "id": "95e8909a-a1ee-4bd9-88a1-547269eb2daf",
   "metadata": {},
   "outputs": [],
   "source": [
    "# https://www.scientecheasy.com/2022/10/python-if-elif-else.html/"
   ]
  },
  {
   "cell_type": "code",
   "execution_count": 3,
   "id": "e75d655b-2037-4dc6-8d4b-1b1136c8259a",
   "metadata": {},
   "outputs": [],
   "source": [
    "# Elif Statement"
   ]
  },
  {
   "cell_type": "code",
   "execution_count": 4,
   "id": "c765edf8-dc07-4aae-8bb9-1b53dc87f2a7",
   "metadata": {},
   "outputs": [],
   "source": [
    "marks = 85"
   ]
  },
  {
   "cell_type": "code",
   "execution_count": 8,
   "id": "c2b113ed-c220-4535-8540-e5a4593bcae6",
   "metadata": {},
   "outputs": [
    {
     "name": "stdout",
     "output_type": "stream",
     "text": [
      "Grade: A\n"
     ]
    }
   ],
   "source": [
    "if marks >= 90:\n",
    "    print(\"Grade: A+\")\n",
    "elif marks >= 75:\n",
    "    print(\"Grade: A\")\n",
    "elif marks >= 60:\n",
    "    print(\"Grade: B\")\n",
    "else:\n",
    "    print(\"Grade: F\")"
   ]
  },
  {
   "cell_type": "code",
   "execution_count": null,
   "id": "5f7b5de7-2677-4bd5-9382-1a86a5d2c080",
   "metadata": {},
   "outputs": [],
   "source": []
  },
  {
   "cell_type": "code",
   "execution_count": null,
   "id": "355e6581-65cf-432c-b714-974ab6308d38",
   "metadata": {},
   "outputs": [],
   "source": []
  }
 ],
 "metadata": {
  "kernelspec": {
   "display_name": "Python 3 (ipykernel)",
   "language": "python",
   "name": "python3"
  },
  "language_info": {
   "codemirror_mode": {
    "name": "ipython",
    "version": 3
   },
   "file_extension": ".py",
   "mimetype": "text/x-python",
   "name": "python",
   "nbconvert_exporter": "python",
   "pygments_lexer": "ipython3",
   "version": "3.12.7"
  }
 },
 "nbformat": 4,
 "nbformat_minor": 5
}
