{
 "cells": [
  {
   "cell_type": "code",
   "execution_count": 36,
   "id": "687936d9-11d1-4c0e-9d62-c22d0c12728a",
   "metadata": {},
   "outputs": [],
   "source": [
    "import namegenerator"
   ]
  },
  {
   "cell_type": "code",
   "execution_count": 37,
   "id": "02947477-b6ec-43fb-b9e2-75fed3b2179a",
   "metadata": {},
   "outputs": [],
   "source": [
    "import uuid"
   ]
  },
  {
   "cell_type": "code",
   "execution_count": 38,
   "id": "7d96a42d-f65b-4f7a-b29d-ab965b9c52be",
   "metadata": {},
   "outputs": [],
   "source": [
    "def name_gen():\n",
    "    random_name = namegenerator.gen()\n",
    "    return random_name"
   ]
  },
  {
   "cell_type": "code",
   "execution_count": 42,
   "id": "51c5d57d-950e-4ae0-b5d5-6a0e0ff5f43c",
   "metadata": {},
   "outputs": [],
   "source": [
    "def unique_id():\n",
    "    random_name = namegenerator.gen()\n",
    "    unique_name = f\"{random_name}-{uuid.uuid4().hex[:8]}\"\n",
    "    return unique_name"
   ]
  },
  {
   "cell_type": "code",
   "execution_count": 43,
   "id": "43299417-181d-499e-893b-f6119262f254",
   "metadata": {},
   "outputs": [],
   "source": [
    "def startpy():\n",
    "    print(name_gen())\n",
    "    print(unique_id())"
   ]
  },
  {
   "cell_type": "code",
   "execution_count": 44,
   "id": "4ec3629f-979a-46bd-897f-d28dad51eb41",
   "metadata": {},
   "outputs": [
    {
     "name": "stdout",
     "output_type": "stream",
     "text": [
      "sleepy-lilac-gerbil\n",
      "hasty-orchid-crab-fb050e54\n"
     ]
    }
   ],
   "source": [
    "if __name__ == '__main__':\n",
    "    startpy()"
   ]
  },
  {
   "cell_type": "code",
   "execution_count": null,
   "id": "42efff37-f8c5-4c76-9499-c0fd9a11b0c6",
   "metadata": {},
   "outputs": [],
   "source": []
  }
 ],
 "metadata": {
  "kernelspec": {
   "display_name": "Python 3 (ipykernel)",
   "language": "python",
   "name": "python3"
  },
  "language_info": {
   "codemirror_mode": {
    "name": "ipython",
    "version": 3
   },
   "file_extension": ".py",
   "mimetype": "text/x-python",
   "name": "python",
   "nbconvert_exporter": "python",
   "pygments_lexer": "ipython3",
   "version": "3.12.7"
  }
 },
 "nbformat": 4,
 "nbformat_minor": 5
}
