{
 "cells": [
  {
   "cell_type": "code",
   "execution_count": 1,
   "id": "a108ddb4-3654-44f0-9f55-d30ce898416c",
   "metadata": {},
   "outputs": [],
   "source": [
    "import petname"
   ]
  },
  {
   "cell_type": "code",
   "execution_count": 4,
   "id": "a3e4bfb6-e7b9-48f3-a836-bee69b772683",
   "metadata": {},
   "outputs": [],
   "source": [
    "def ran_petname():\n",
    "    name = petname.generate(words=3, separator=\"_\")\n",
    "    return name"
   ]
  },
  {
   "cell_type": "code",
   "execution_count": 5,
   "id": "e8b824a0-ff6b-432e-9273-d3adef0e4389",
   "metadata": {},
   "outputs": [
    {
     "name": "stdout",
     "output_type": "stream",
     "text": [
      "lovely_cute_maggot\n",
      "newly_valued_swine\n",
      "rarely_tough_marmot\n",
      "solely_heroic_kite\n",
      "freely_ruling_fly\n"
     ]
    }
   ],
   "source": [
    "for _ in range(5):\n",
    "    print(ran_petname())"
   ]
  },
  {
   "cell_type": "code",
   "execution_count": null,
   "id": "52a244a4-f675-4379-89f8-f524df7829e5",
   "metadata": {},
   "outputs": [],
   "source": []
  }
 ],
 "metadata": {
  "kernelspec": {
   "display_name": "Python 3 (ipykernel)",
   "language": "python",
   "name": "python3"
  },
  "language_info": {
   "codemirror_mode": {
    "name": "ipython",
    "version": 3
   },
   "file_extension": ".py",
   "mimetype": "text/x-python",
   "name": "python",
   "nbconvert_exporter": "python",
   "pygments_lexer": "ipython3",
   "version": "3.12.7"
  }
 },
 "nbformat": 4,
 "nbformat_minor": 5
}
