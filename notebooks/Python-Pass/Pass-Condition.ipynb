{
 "cells": [
  {
   "cell_type": "code",
   "execution_count": 1,
   "id": "70a3daac-0830-419b-bf04-cb6a99bfbcaf",
   "metadata": {},
   "outputs": [],
   "source": [
    "# Created at 27-01-2025"
   ]
  },
  {
   "cell_type": "code",
   "execution_count": 2,
   "id": "536a1bc2-0f31-4c61-9b53-d6dc18d30b90",
   "metadata": {},
   "outputs": [],
   "source": [
    "# https://www.scientecheasy.com/2022/11/python-pass-statement.html/"
   ]
  },
  {
   "cell_type": "code",
   "execution_count": 3,
   "id": "d08d498c-b3eb-4435-b1c7-7db7f89d683a",
   "metadata": {},
   "outputs": [],
   "source": [
    "# Pass Statement"
   ]
  },
  {
   "cell_type": "code",
   "execution_count": 4,
   "id": "e2e0fd21-a337-4328-9e71-87a50ba1d9cb",
   "metadata": {},
   "outputs": [
    {
     "name": "stdout",
     "output_type": "stream",
     "text": [
      "0\n",
      "1\n",
      "2\n",
      "4\n"
     ]
    }
   ],
   "source": [
    "for i in range(5):\n",
    "    if i == 3:\n",
    "        pass\n",
    "    else:\n",
    "        print(i)"
   ]
  },
  {
   "cell_type": "code",
   "execution_count": null,
   "id": "db24e74f-c3fc-4fd5-9224-4f461b18c2b6",
   "metadata": {},
   "outputs": [],
   "source": []
  },
  {
   "cell_type": "code",
   "execution_count": 5,
   "id": "015eb23f-074b-488a-8be6-2ff6a06a040a",
   "metadata": {},
   "outputs": [],
   "source": [
    "# Example With Method"
   ]
  },
  {
   "cell_type": "code",
   "execution_count": 6,
   "id": "7fd69024-3aba-4e7e-b027-adc28cea25ce",
   "metadata": {},
   "outputs": [],
   "source": [
    "def my_function():\n",
    "    pass"
   ]
  },
  {
   "cell_type": "code",
   "execution_count": null,
   "id": "a10612c4-f332-4c60-b8c5-96f2de231a49",
   "metadata": {},
   "outputs": [],
   "source": []
  }
 ],
 "metadata": {
  "kernelspec": {
   "display_name": "Python 3 (ipykernel)",
   "language": "python",
   "name": "python3"
  },
  "language_info": {
   "codemirror_mode": {
    "name": "ipython",
    "version": 3
   },
   "file_extension": ".py",
   "mimetype": "text/x-python",
   "name": "python",
   "nbconvert_exporter": "python",
   "pygments_lexer": "ipython3",
   "version": "3.12.7"
  }
 },
 "nbformat": 4,
 "nbformat_minor": 5
}
