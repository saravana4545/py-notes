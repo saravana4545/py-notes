{
 "cells": [
  {
   "cell_type": "code",
   "execution_count": 1,
   "id": "03f53c53-3976-46f1-9972-642e14a0246f",
   "metadata": {},
   "outputs": [],
   "source": [
    "# Created at 20-01-2025"
   ]
  },
  {
   "cell_type": "code",
   "execution_count": 2,
   "id": "df7dd923-ea96-451a-bbbc-40d2948e1696",
   "metadata": {},
   "outputs": [],
   "source": [
    "# https://www.scientecheasy.com/2022/09/data-types-in-python.html/"
   ]
  },
  {
   "cell_type": "code",
   "execution_count": 3,
   "id": "b7058982-57c9-46bf-9302-74483320c5a1",
   "metadata": {},
   "outputs": [],
   "source": [
    "# dictionary type"
   ]
  },
  {
   "cell_type": "code",
   "execution_count": 8,
   "id": "e9059bf5-a484-4076-b4d5-e435463bdd65",
   "metadata": {},
   "outputs": [],
   "source": [
    "d_data = {\n",
    "    'name'     : \"Saravana\",\n",
    "    'city'     : \"Chennai\",\n",
    "    'Language' : \"Python\"\n",
    "} "
   ]
  },
  {
   "cell_type": "code",
   "execution_count": 9,
   "id": "dd303d34-59e3-4811-8d7f-8a7dfdce185f",
   "metadata": {},
   "outputs": [
    {
     "name": "stdout",
     "output_type": "stream",
     "text": [
      "{'name': 'Saravana', 'city': 'Chennai', 'Language': 'Python'}\n"
     ]
    }
   ],
   "source": [
    "print(d_data)"
   ]
  },
  {
   "cell_type": "code",
   "execution_count": 10,
   "id": "1826d8b6-c074-4c20-b3a6-5774307bd652",
   "metadata": {},
   "outputs": [
    {
     "data": {
      "text/plain": [
       "dict"
      ]
     },
     "execution_count": 10,
     "metadata": {},
     "output_type": "execute_result"
    }
   ],
   "source": [
    "type(d_data)"
   ]
  },
  {
   "cell_type": "code",
   "execution_count": null,
   "id": "4383caf0-16e3-4300-bd5f-adbf0cfb6ab3",
   "metadata": {},
   "outputs": [],
   "source": []
  }
 ],
 "metadata": {
  "kernelspec": {
   "display_name": "Python 3 (ipykernel)",
   "language": "python",
   "name": "python3"
  },
  "language_info": {
   "codemirror_mode": {
    "name": "ipython",
    "version": 3
   },
   "file_extension": ".py",
   "mimetype": "text/x-python",
   "name": "python",
   "nbconvert_exporter": "python",
   "pygments_lexer": "ipython3",
   "version": "3.12.7"
  }
 },
 "nbformat": 4,
 "nbformat_minor": 5
}
