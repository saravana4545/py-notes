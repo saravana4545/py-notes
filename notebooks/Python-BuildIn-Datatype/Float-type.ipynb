{
 "cells": [
  {
   "cell_type": "code",
   "execution_count": 1,
   "id": "f2ce79ac-7736-43fa-8901-5d405b9cd03d",
   "metadata": {},
   "outputs": [],
   "source": [
    "# Created at 20-01-2025"
   ]
  },
  {
   "cell_type": "code",
   "execution_count": 2,
   "id": "99ac6e3e-2147-4488-904c-468af8737d8c",
   "metadata": {},
   "outputs": [],
   "source": [
    "# https://www.scientecheasy.com/2022/09/data-types-in-python.html/"
   ]
  },
  {
   "cell_type": "code",
   "execution_count": 3,
   "id": "454dd2e7-6d4d-4640-bb06-34f0cd955214",
   "metadata": {},
   "outputs": [],
   "source": [
    "# Float Data type"
   ]
  },
  {
   "cell_type": "code",
   "execution_count": 22,
   "id": "e66b57c1-aed9-4717-a0e8-8dcee9fddcfd",
   "metadata": {},
   "outputs": [],
   "source": [
    "float_num1 = 50.5"
   ]
  },
  {
   "cell_type": "code",
   "execution_count": 23,
   "id": "50e5013c-88fd-48dc-86de-c2e2604e1a49",
   "metadata": {},
   "outputs": [],
   "source": [
    "float_num2 = 45.3"
   ]
  },
  {
   "cell_type": "code",
   "execution_count": 24,
   "id": "40bd51a9-9fa3-4f3a-8aca-3d5438752bf4",
   "metadata": {},
   "outputs": [],
   "source": [
    "sub_float = float_num1 - float_num2"
   ]
  },
  {
   "cell_type": "code",
   "execution_count": 25,
   "id": "d40d593b-0aaf-4452-a9f0-a0e918dbbb14",
   "metadata": {},
   "outputs": [
    {
     "name": "stdout",
     "output_type": "stream",
     "text": [
      "5.200000000000003\n"
     ]
    }
   ],
   "source": [
    "print(sub_float)"
   ]
  },
  {
   "cell_type": "code",
   "execution_count": null,
   "id": "8b78c0ff-924b-406f-b6d0-fb5cdd95a017",
   "metadata": {},
   "outputs": [],
   "source": []
  }
 ],
 "metadata": {
  "kernelspec": {
   "display_name": "Python 3 (ipykernel)",
   "language": "python",
   "name": "python3"
  },
  "language_info": {
   "codemirror_mode": {
    "name": "ipython",
    "version": 3
   },
   "file_extension": ".py",
   "mimetype": "text/x-python",
   "name": "python",
   "nbconvert_exporter": "python",
   "pygments_lexer": "ipython3",
   "version": "3.12.7"
  }
 },
 "nbformat": 4,
 "nbformat_minor": 5
}
