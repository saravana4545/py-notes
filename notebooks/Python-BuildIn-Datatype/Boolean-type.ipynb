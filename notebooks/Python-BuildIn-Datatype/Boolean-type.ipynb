{
 "cells": [
  {
   "cell_type": "code",
   "execution_count": 1,
   "id": "bf5e6adb-d12c-4c00-aebf-c36e7663fed8",
   "metadata": {},
   "outputs": [],
   "source": [
    "# Created at 20-01-2025"
   ]
  },
  {
   "cell_type": "code",
   "execution_count": 2,
   "id": "5e8bb3a2-a70b-40c8-9a96-2457c066f5af",
   "metadata": {},
   "outputs": [],
   "source": [
    "# https://www.scientecheasy.com/2022/09/data-types-in-python.html/"
   ]
  },
  {
   "cell_type": "code",
   "execution_count": 3,
   "id": "beba6c64-958a-49b4-9973-5ad695915158",
   "metadata": {},
   "outputs": [],
   "source": [
    "# Boolean Data type"
   ]
  },
  {
   "cell_type": "code",
   "execution_count": 5,
   "id": "b93d76e1-b6c9-4c5d-9439-ded5a5f29011",
   "metadata": {},
   "outputs": [],
   "source": [
    "check1 = (10 < 5)"
   ]
  },
  {
   "cell_type": "code",
   "execution_count": 6,
   "id": "e9ce65e6-2c70-4050-bf3e-0da5133ae0ec",
   "metadata": {},
   "outputs": [],
   "source": [
    "check2 = (4 == 2 * 2)"
   ]
  },
  {
   "cell_type": "code",
   "execution_count": 7,
   "id": "73df7088-7048-46b0-b66e-627b836fdc31",
   "metadata": {},
   "outputs": [
    {
     "name": "stdout",
     "output_type": "stream",
     "text": [
      "False\n"
     ]
    }
   ],
   "source": [
    "print(check1)"
   ]
  },
  {
   "cell_type": "code",
   "execution_count": 8,
   "id": "1063bda7-858d-4fb2-b0ec-ee98539bc654",
   "metadata": {},
   "outputs": [
    {
     "name": "stdout",
     "output_type": "stream",
     "text": [
      "True\n"
     ]
    }
   ],
   "source": [
    "print(check2)"
   ]
  },
  {
   "cell_type": "code",
   "execution_count": null,
   "id": "7e971c02-e4dc-43aa-a7da-ae5015bb3f23",
   "metadata": {},
   "outputs": [],
   "source": []
  }
 ],
 "metadata": {
  "kernelspec": {
   "display_name": "Python 3 (ipykernel)",
   "language": "python",
   "name": "python3"
  },
  "language_info": {
   "codemirror_mode": {
    "name": "ipython",
    "version": 3
   },
   "file_extension": ".py",
   "mimetype": "text/x-python",
   "name": "python",
   "nbconvert_exporter": "python",
   "pygments_lexer": "ipython3",
   "version": "3.12.7"
  }
 },
 "nbformat": 4,
 "nbformat_minor": 5
}
