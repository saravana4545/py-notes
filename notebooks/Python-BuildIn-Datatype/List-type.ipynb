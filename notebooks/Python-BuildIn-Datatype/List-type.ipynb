{
 "cells": [
  {
   "cell_type": "code",
   "execution_count": 1,
   "id": "0ee09efb-a5f9-4ff7-9af0-d8d4898b7ed9",
   "metadata": {},
   "outputs": [],
   "source": [
    "# Created at 20-01-2025"
   ]
  },
  {
   "cell_type": "code",
   "execution_count": 2,
   "id": "4668addd-700e-4ed0-9a71-0ac58822a04f",
   "metadata": {},
   "outputs": [],
   "source": [
    "# "
   ]
  },
  {
   "cell_type": "code",
   "execution_count": 3,
   "id": "148b5e3f-984c-4f9d-b8ce-c772c6827960",
   "metadata": {},
   "outputs": [],
   "source": [
    "# List Data type"
   ]
  },
  {
   "cell_type": "code",
   "execution_count": 5,
   "id": "3d9d6b42-25ef-4e65-ab03-01f59752486b",
   "metadata": {},
   "outputs": [],
   "source": [
    "datas = [10, 45, \"saravana\", 5.5, True]"
   ]
  },
  {
   "cell_type": "code",
   "execution_count": 6,
   "id": "e2abd778-c628-4aae-91df-18f5a61a2bdf",
   "metadata": {},
   "outputs": [
    {
     "name": "stdout",
     "output_type": "stream",
     "text": [
      "[10, 45, 'saravana', 5.5, True]\n"
     ]
    }
   ],
   "source": [
    "print(datas)"
   ]
  },
  {
   "cell_type": "code",
   "execution_count": 7,
   "id": "f5723d1f-d020-46e8-ac4f-ab667812b586",
   "metadata": {},
   "outputs": [
    {
     "data": {
      "text/plain": [
       "'saravana'"
      ]
     },
     "execution_count": 7,
     "metadata": {},
     "output_type": "execute_result"
    }
   ],
   "source": [
    "datas[2]"
   ]
  },
  {
   "cell_type": "code",
   "execution_count": null,
   "id": "bf89375a-5361-4cde-a8f7-2fc3a4180d7b",
   "metadata": {},
   "outputs": [],
   "source": []
  },
  {
   "cell_type": "code",
   "execution_count": 8,
   "id": "76cc66d1-f091-476a-b2b6-6287f1aef1f1",
   "metadata": {},
   "outputs": [],
   "source": [
    "# Tuple Data type"
   ]
  },
  {
   "cell_type": "code",
   "execution_count": 9,
   "id": "7db95dcc-b826-4cad-b423-fc58b581a8c9",
   "metadata": {},
   "outputs": [],
   "source": [
    "t_data = (24, 2.1, \"santhosh\", False)"
   ]
  },
  {
   "cell_type": "code",
   "execution_count": 10,
   "id": "e36c0d0d-f30e-4043-b485-d778b6a01244",
   "metadata": {},
   "outputs": [
    {
     "name": "stdout",
     "output_type": "stream",
     "text": [
      "(24, 2.1, 'santhosh', False)\n"
     ]
    }
   ],
   "source": [
    "print(t_data)"
   ]
  },
  {
   "cell_type": "code",
   "execution_count": 11,
   "id": "3190b4cc-7505-4743-9735-dab8eb6140c4",
   "metadata": {},
   "outputs": [
    {
     "data": {
      "text/plain": [
       "tuple"
      ]
     },
     "execution_count": 11,
     "metadata": {},
     "output_type": "execute_result"
    }
   ],
   "source": [
    "type(t_data)"
   ]
  },
  {
   "cell_type": "code",
   "execution_count": null,
   "id": "5b4a123f-8fab-4b8d-9646-7aa9fa252ff4",
   "metadata": {},
   "outputs": [],
   "source": []
  },
  {
   "cell_type": "code",
   "execution_count": 12,
   "id": "4c6ea4e4-5438-4495-a2fe-a8b9c1656393",
   "metadata": {},
   "outputs": [],
   "source": [
    "# Set Data type"
   ]
  },
  {
   "cell_type": "code",
   "execution_count": 13,
   "id": "9f5fdc14-90da-44ec-9fbb-03a4762e03aa",
   "metadata": {},
   "outputs": [],
   "source": [
    "s_data = {True, 45, \"python\", 10.1}"
   ]
  },
  {
   "cell_type": "code",
   "execution_count": 14,
   "id": "190eeba8-bf75-451c-ae9f-76dd20605f76",
   "metadata": {},
   "outputs": [
    {
     "name": "stdout",
     "output_type": "stream",
     "text": [
      "{True, 'python', 10.1, 45}\n"
     ]
    }
   ],
   "source": [
    "print(s_data)"
   ]
  },
  {
   "cell_type": "code",
   "execution_count": 15,
   "id": "8599ba06-4015-4d42-8733-7b05373aa25b",
   "metadata": {},
   "outputs": [
    {
     "data": {
      "text/plain": [
       "set"
      ]
     },
     "execution_count": 15,
     "metadata": {},
     "output_type": "execute_result"
    }
   ],
   "source": [
    "type(s_data)"
   ]
  },
  {
   "cell_type": "code",
   "execution_count": null,
   "id": "55972b85-2a9b-4439-8d5d-1c587ab4edca",
   "metadata": {},
   "outputs": [],
   "source": []
  }
 ],
 "metadata": {
  "kernelspec": {
   "display_name": "Python 3 (ipykernel)",
   "language": "python",
   "name": "python3"
  },
  "language_info": {
   "codemirror_mode": {
    "name": "ipython",
    "version": 3
   },
   "file_extension": ".py",
   "mimetype": "text/x-python",
   "name": "python",
   "nbconvert_exporter": "python",
   "pygments_lexer": "ipython3",
   "version": "3.12.7"
  }
 },
 "nbformat": 4,
 "nbformat_minor": 5
}
