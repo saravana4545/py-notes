{
 "cells": [
  {
   "cell_type": "code",
   "execution_count": 1,
   "id": "0391b8a5-ce14-4356-be1b-e18af4d0855b",
   "metadata": {},
   "outputs": [],
   "source": [
    "#created at 20-01-2025"
   ]
  },
  {
   "cell_type": "code",
   "execution_count": 2,
   "id": "9fe82bf4-0a72-4d29-b534-db3632a4ff43",
   "metadata": {},
   "outputs": [],
   "source": [
    "# https://www.scientecheasy.com/2022/09/data-types-in-python.html"
   ]
  },
  {
   "cell_type": "code",
   "execution_count": 3,
   "id": "96902829-8dfd-4d12-8fcb-67d0c12e9164",
   "metadata": {},
   "outputs": [],
   "source": [
    "# Int Data type"
   ]
  },
  {
   "cell_type": "code",
   "execution_count": 4,
   "id": "4d9706e5-56e7-44a1-839e-8e5a966da396",
   "metadata": {},
   "outputs": [],
   "source": [
    "num1 = 10"
   ]
  },
  {
   "cell_type": "code",
   "execution_count": 5,
   "id": "0f094c48-a006-4f0e-9783-fbbd7d8af5ad",
   "metadata": {},
   "outputs": [],
   "source": [
    "num2 = 20"
   ]
  },
  {
   "cell_type": "code",
   "execution_count": 6,
   "id": "a3ac0412-a275-4003-b39c-1a009a0f585f",
   "metadata": {},
   "outputs": [],
   "source": [
    "result = num1 + num2"
   ]
  },
  {
   "cell_type": "code",
   "execution_count": 7,
   "id": "3589502f-acca-4eae-866a-28c6ebc5320b",
   "metadata": {},
   "outputs": [
    {
     "name": "stdout",
     "output_type": "stream",
     "text": [
      "30\n"
     ]
    }
   ],
   "source": [
    "print(result)"
   ]
  },
  {
   "cell_type": "code",
   "execution_count": null,
   "id": "072295d9-3ef7-43ec-8962-525438d3838d",
   "metadata": {},
   "outputs": [],
   "source": []
  }
 ],
 "metadata": {
  "kernelspec": {
   "display_name": "Python 3 (ipykernel)",
   "language": "python",
   "name": "python3"
  },
  "language_info": {
   "codemirror_mode": {
    "name": "ipython",
    "version": 3
   },
   "file_extension": ".py",
   "mimetype": "text/x-python",
   "name": "python",
   "nbconvert_exporter": "python",
   "pygments_lexer": "ipython3",
   "version": "3.12.7"
  }
 },
 "nbformat": 4,
 "nbformat_minor": 5
}
