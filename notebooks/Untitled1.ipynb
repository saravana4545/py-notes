{
 "cells": [
  {
   "cell_type": "code",
   "execution_count": 42,
   "id": "b4daa35b-ee67-4106-9bb4-ea12f1c7995e",
   "metadata": {},
   "outputs": [],
   "source": [
    "def string_length(s):\n",
    "    \n",
    "    length_of_word = len(s)\n",
    "    if length_of_word == 5:\n",
    "       return length_of_word\n",
    "    # assert string_length(\"123456789\") == 9\n"
   ]
  },
  {
   "cell_type": "code",
   "execution_count": 43,
   "id": "f0147b9c-136a-47bd-9015-163b99e8ba5f",
   "metadata": {},
   "outputs": [
    {
     "name": "stdout",
     "output_type": "stream",
     "text": [
      "5\n"
     ]
    }
   ],
   "source": [
    "#print(string_length(\"123456789\"))\n",
    "print(string_length(\"hello\"))"
   ]
  },
  {
   "cell_type": "code",
   "execution_count": null,
   "id": "2934701f-efa3-4331-86a0-098f3b51066f",
   "metadata": {},
   "outputs": [],
   "source": []
  },
  {
   "cell_type": "code",
   "execution_count": null,
   "id": "2ebd682c-12fd-4984-850f-621f9efe7d33",
   "metadata": {},
   "outputs": [],
   "source": []
  }
 ],
 "metadata": {
  "kernelspec": {
   "display_name": "Python 3 (ipykernel)",
   "language": "python",
   "name": "python3"
  },
  "language_info": {
   "codemirror_mode": {
    "name": "ipython",
    "version": 3
   },
   "file_extension": ".py",
   "mimetype": "text/x-python",
   "name": "python",
   "nbconvert_exporter": "python",
   "pygments_lexer": "ipython3",
   "version": "3.12.7"
  }
 },
 "nbformat": 4,
 "nbformat_minor": 5
}
