{
 "cells": [
  {
   "cell_type": "code",
   "execution_count": 1,
   "id": "f8cf32bd-abce-4d31-b1a7-7f53ebf6d2f3",
   "metadata": {},
   "outputs": [],
   "source": [
    "# Created at 21-01-2025"
   ]
  },
  {
   "cell_type": "code",
   "execution_count": 2,
   "id": "052f6a13-91be-4873-9112-b5247dfdc8f7",
   "metadata": {},
   "outputs": [],
   "source": [
    "# https://www.scientecheasy.com/2022/10/operators-in-python.html/"
   ]
  },
  {
   "cell_type": "code",
   "execution_count": 3,
   "id": "e5759534-2ad1-4695-8517-649624e4d7ed",
   "metadata": {},
   "outputs": [],
   "source": [
    "# Subtraction Operator (-)"
   ]
  },
  {
   "cell_type": "code",
   "execution_count": 4,
   "id": "3d5fb2f1-0c9a-4c24-ad23-de0b6b167967",
   "metadata": {},
   "outputs": [],
   "source": [
    "sub1 = 45"
   ]
  },
  {
   "cell_type": "code",
   "execution_count": 5,
   "id": "ed8fb089-1871-4938-9ed5-42bfc7eda58d",
   "metadata": {},
   "outputs": [],
   "source": [
    "sub2 = 24"
   ]
  },
  {
   "cell_type": "code",
   "execution_count": 6,
   "id": "2837b15e-bef4-4b3c-bcdf-1dd5a77cb56b",
   "metadata": {},
   "outputs": [],
   "source": [
    "result = sub1 - sub2"
   ]
  },
  {
   "cell_type": "code",
   "execution_count": 7,
   "id": "f6da2cd0-6204-4b4e-8e04-8f27386e1432",
   "metadata": {},
   "outputs": [
    {
     "name": "stdout",
     "output_type": "stream",
     "text": [
      "21\n"
     ]
    }
   ],
   "source": [
    "print(result)"
   ]
  },
  {
   "cell_type": "code",
   "execution_count": 8,
   "id": "4597f829-1278-4758-ad1c-700b14e1d4ff",
   "metadata": {},
   "outputs": [],
   "source": [
    "# Multiplication Operator (*)"
   ]
  },
  {
   "cell_type": "code",
   "execution_count": 9,
   "id": "ad61d3a9-77ed-4e07-822d-745c2fccc3d0",
   "metadata": {},
   "outputs": [],
   "source": [
    "num_1 = 20"
   ]
  },
  {
   "cell_type": "code",
   "execution_count": 10,
   "id": "c8ddc2d9-eabf-46c0-b3fc-d0bed5a13ca2",
   "metadata": {},
   "outputs": [],
   "source": [
    "num_2 = 10.2"
   ]
  },
  {
   "cell_type": "code",
   "execution_count": 11,
   "id": "70f2fdbf-9a62-42e7-a88c-117a61f5fed1",
   "metadata": {},
   "outputs": [],
   "source": [
    "multiply = num_1 + num_2"
   ]
  },
  {
   "cell_type": "code",
   "execution_count": 12,
   "id": "d38eadde-d831-4661-819f-75e481818a4d",
   "metadata": {},
   "outputs": [
    {
     "name": "stdout",
     "output_type": "stream",
     "text": [
      "30.2\n"
     ]
    }
   ],
   "source": [
    "print(multiply)"
   ]
  },
  {
   "cell_type": "code",
   "execution_count": null,
   "id": "b8f6b7b9-aba8-4285-bc3f-7dced3a7ce70",
   "metadata": {},
   "outputs": [],
   "source": []
  },
  {
   "cell_type": "code",
   "execution_count": 13,
   "id": "84fb0041-49ec-4b52-8cc9-599dda84da74",
   "metadata": {},
   "outputs": [],
   "source": [
    "# Division Operator (/)"
   ]
  },
  {
   "cell_type": "code",
   "execution_count": 14,
   "id": "81384fca-16e2-462a-8f36-d53cd209a080",
   "metadata": {},
   "outputs": [],
   "source": [
    "div = 10"
   ]
  },
  {
   "cell_type": "code",
   "execution_count": 15,
   "id": "484c0545-f388-4715-a6bb-ce818cb38d34",
   "metadata": {},
   "outputs": [],
   "source": [
    "div1 = 5"
   ]
  },
  {
   "cell_type": "code",
   "execution_count": 16,
   "id": "fa0c1c81-ad4c-4ad2-ac1a-20a5ab51957b",
   "metadata": {},
   "outputs": [],
   "source": [
    "result = div / div1"
   ]
  },
  {
   "cell_type": "code",
   "execution_count": 17,
   "id": "f134c702-6c64-47cd-a766-dc578910c6e5",
   "metadata": {},
   "outputs": [
    {
     "name": "stdout",
     "output_type": "stream",
     "text": [
      "2.0\n"
     ]
    }
   ],
   "source": [
    "print(result)"
   ]
  },
  {
   "cell_type": "code",
   "execution_count": null,
   "id": "81a43d85-5eff-40d7-9b1c-099ca89f91c7",
   "metadata": {},
   "outputs": [],
   "source": []
  }
 ],
 "metadata": {
  "kernelspec": {
   "display_name": "Python 3 (ipykernel)",
   "language": "python",
   "name": "python3"
  },
  "language_info": {
   "codemirror_mode": {
    "name": "ipython",
    "version": 3
   },
   "file_extension": ".py",
   "mimetype": "text/x-python",
   "name": "python",
   "nbconvert_exporter": "python",
   "pygments_lexer": "ipython3",
   "version": "3.12.7"
  }
 },
 "nbformat": 4,
 "nbformat_minor": 5
}
