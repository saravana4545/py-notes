{
 "cells": [
  {
   "cell_type": "code",
   "execution_count": 1,
   "id": "e731d2aa-f0d1-427c-b40b-99138e8c6b1e",
   "metadata": {},
   "outputs": [],
   "source": [
    "# Created at 21-01-2025"
   ]
  },
  {
   "cell_type": "code",
   "execution_count": 2,
   "id": "e4f42ebd-fc98-437a-9452-daffbb14d0a0",
   "metadata": {},
   "outputs": [],
   "source": [
    "# https://www.scientecheasy.com/2022/10/operators-in-python.html/"
   ]
  },
  {
   "cell_type": "code",
   "execution_count": 3,
   "id": "e8213cb0-eefc-4b1b-9ddd-c6ced7268330",
   "metadata": {},
   "outputs": [],
   "source": [
    "# Addition Operator (+)"
   ]
  },
  {
   "cell_type": "code",
   "execution_count": 4,
   "id": "be659aef-d48a-47ab-8de2-c0eb0d55aec5",
   "metadata": {},
   "outputs": [],
   "source": [
    "num1 = 10"
   ]
  },
  {
   "cell_type": "code",
   "execution_count": 5,
   "id": "7a470c1e-d079-4106-8ea3-2a4caf8154c9",
   "metadata": {},
   "outputs": [],
   "source": [
    "num2 = 20"
   ]
  },
  {
   "cell_type": "code",
   "execution_count": 6,
   "id": "3a7aa32e-6d36-4955-b283-9801763e8ae8",
   "metadata": {},
   "outputs": [],
   "source": [
    "add = num1 + num2"
   ]
  },
  {
   "cell_type": "code",
   "execution_count": 7,
   "id": "8f292c06-3a82-4a72-90e7-b98c87274641",
   "metadata": {},
   "outputs": [
    {
     "name": "stdout",
     "output_type": "stream",
     "text": [
      "30\n"
     ]
    }
   ],
   "source": [
    "print(add)"
   ]
  },
  {
   "cell_type": "code",
   "execution_count": null,
   "id": "6353c0cf-0a9e-41c9-bf10-3ab90b5197d9",
   "metadata": {},
   "outputs": [],
   "source": []
  },
  {
   "cell_type": "code",
   "execution_count": 8,
   "id": "73ed34cc-68e3-435e-b86b-b989b11e4f9e",
   "metadata": {},
   "outputs": [],
   "source": [
    "# String Concatenation using (+) Operator"
   ]
  },
  {
   "cell_type": "code",
   "execution_count": 9,
   "id": "fb2b0c9b-4cdf-4f97-b03c-0d70a2e8f958",
   "metadata": {},
   "outputs": [],
   "source": [
    "str1 = \"Saravana\""
   ]
  },
  {
   "cell_type": "code",
   "execution_count": 10,
   "id": "0cf2ab56-7e77-4bf1-ac1e-b7c97a9dafde",
   "metadata": {},
   "outputs": [],
   "source": [
    "str2 = \"Kumar\""
   ]
  },
  {
   "cell_type": "code",
   "execution_count": 11,
   "id": "d653c644-ab88-4b16-b3a6-7bef5958c777",
   "metadata": {},
   "outputs": [],
   "source": [
    "add_str = str1 + str2"
   ]
  },
  {
   "cell_type": "code",
   "execution_count": 12,
   "id": "f88d73d4-24c8-402d-994e-d22bf7f5b84a",
   "metadata": {},
   "outputs": [
    {
     "name": "stdout",
     "output_type": "stream",
     "text": [
      "saravanaKumar\n"
     ]
    }
   ],
   "source": [
    "print(add_str)"
   ]
  },
  {
   "cell_type": "code",
   "execution_count": null,
   "id": "a95b485a-c084-431e-95c7-aa89ec37eda5",
   "metadata": {},
   "outputs": [],
   "source": []
  },
  {
   "cell_type": "code",
   "execution_count": 13,
   "id": "b5813267-b403-4bef-b222-7ca86570c1b8",
   "metadata": {},
   "outputs": [],
   "source": [
    "# List Concatenation using (+) operator"
   ]
  },
  {
   "cell_type": "code",
   "execution_count": 14,
   "id": "f96375c5-46b9-493c-a275-cb889d37aacf",
   "metadata": {},
   "outputs": [],
   "source": [
    "list1 = [1, 2, 3, 4] "
   ]
  },
  {
   "cell_type": "code",
   "execution_count": 15,
   "id": "06ec6ffd-8561-44da-9112-c19f3e4dbd08",
   "metadata": {},
   "outputs": [],
   "source": [
    "list2 = [5, 6, 7, 8]"
   ]
  },
  {
   "cell_type": "code",
   "execution_count": 16,
   "id": "75440cdd-a64f-4d2f-8936-93fcb5fc1ab3",
   "metadata": {},
   "outputs": [],
   "source": [
    "add_list = list1 + list2"
   ]
  },
  {
   "cell_type": "code",
   "execution_count": 17,
   "id": "0cffd307-3cfd-41ea-8c52-44409f000646",
   "metadata": {},
   "outputs": [
    {
     "name": "stdout",
     "output_type": "stream",
     "text": [
      "[1, 2, 3, 4, 5, 6, 7, 8]\n"
     ]
    }
   ],
   "source": [
    "print(add_list)"
   ]
  },
  {
   "cell_type": "code",
   "execution_count": null,
   "id": "57b289bd-1b56-4b73-8e58-419919689fdc",
   "metadata": {},
   "outputs": [],
   "source": []
  },
  {
   "cell_type": "code",
   "execution_count": null,
   "id": "03bee910-ae65-4e97-b73d-36512e0aa92c",
   "metadata": {},
   "outputs": [],
   "source": []
  }
 ],
 "metadata": {
  "kernelspec": {
   "display_name": "Python 3 (ipykernel)",
   "language": "python",
   "name": "python3"
  },
  "language_info": {
   "codemirror_mode": {
    "name": "ipython",
    "version": 3
   },
   "file_extension": ".py",
   "mimetype": "text/x-python",
   "name": "python",
   "nbconvert_exporter": "python",
   "pygments_lexer": "ipython3",
   "version": "3.12.7"
  }
 },
 "nbformat": 4,
 "nbformat_minor": 5
}
