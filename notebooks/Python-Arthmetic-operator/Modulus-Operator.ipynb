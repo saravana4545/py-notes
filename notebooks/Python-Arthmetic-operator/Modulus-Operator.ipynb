{
 "cells": [
  {
   "cell_type": "code",
   "execution_count": 1,
   "id": "8300493c-67d1-4f69-a768-e20f1d085235",
   "metadata": {},
   "outputs": [],
   "source": [
    "# Created at 21-01-2025"
   ]
  },
  {
   "cell_type": "code",
   "execution_count": 2,
   "id": "66a93895-5178-4592-bdf5-fb271cb2b320",
   "metadata": {},
   "outputs": [],
   "source": [
    "# https://www.scientecheasy.com/2022/10/operators-in-python.html/"
   ]
  },
  {
   "cell_type": "code",
   "execution_count": 3,
   "id": "99fc3606-fdc4-4ffb-8f09-2c9675d3716d",
   "metadata": {},
   "outputs": [],
   "source": [
    "# Modulus Operator (%)"
   ]
  },
  {
   "cell_type": "code",
   "execution_count": 4,
   "id": "2d36160b-011a-4be5-a269-d74d82a328f2",
   "metadata": {},
   "outputs": [],
   "source": [
    "num1 = 20"
   ]
  },
  {
   "cell_type": "code",
   "execution_count": 5,
   "id": "86d7ecb6-e0d6-41ca-bfd0-4a18db1b26b7",
   "metadata": {},
   "outputs": [],
   "source": [
    "num2 = 15"
   ]
  },
  {
   "cell_type": "code",
   "execution_count": 6,
   "id": "cc784b7d-1986-441e-801a-193e43e405b8",
   "metadata": {},
   "outputs": [],
   "source": [
    "result = num1 % num2"
   ]
  },
  {
   "cell_type": "code",
   "execution_count": 7,
   "id": "9ee6a1b0-1e20-4ed1-a8c9-a550deca7d85",
   "metadata": {},
   "outputs": [
    {
     "name": "stdout",
     "output_type": "stream",
     "text": [
      "5\n"
     ]
    }
   ],
   "source": [
    "print(result)"
   ]
  },
  {
   "cell_type": "code",
   "execution_count": null,
   "id": "62815be0-474f-4546-86f8-b91292e8f7fc",
   "metadata": {},
   "outputs": [],
   "source": []
  },
  {
   "cell_type": "code",
   "execution_count": 8,
   "id": "cd8359e6-b622-4ace-ac9f-dcf8c87607ac",
   "metadata": {},
   "outputs": [],
   "source": [
    "# Exponential Operator (**)"
   ]
  },
  {
   "cell_type": "code",
   "execution_count": 28,
   "id": "b9348bce-1504-4323-a1ad-4c8151ddf88a",
   "metadata": {},
   "outputs": [],
   "source": [
    "num1 = 8"
   ]
  },
  {
   "cell_type": "code",
   "execution_count": 29,
   "id": "a7b4fd98-f7f3-4f3b-8c1c-2e2ed5ddb037",
   "metadata": {},
   "outputs": [],
   "source": [
    "num2 = 2"
   ]
  },
  {
   "cell_type": "code",
   "execution_count": 30,
   "id": "51b80161-50ed-45fd-bc8b-afbd4784b4ec",
   "metadata": {},
   "outputs": [],
   "source": [
    "result = num1 ** num2"
   ]
  },
  {
   "cell_type": "code",
   "execution_count": 27,
   "id": "026b7a6a-4d37-4f61-876f-58630389f761",
   "metadata": {},
   "outputs": [
    {
     "name": "stdout",
     "output_type": "stream",
     "text": [
      "256\n"
     ]
    }
   ],
   "source": [
    "print (result)"
   ]
  },
  {
   "cell_type": "code",
   "execution_count": null,
   "id": "7761f7b0-45ca-4522-800b-5071c367c9b6",
   "metadata": {},
   "outputs": [],
   "source": []
  },
  {
   "cell_type": "code",
   "execution_count": 31,
   "id": "5a91444d-6766-4a57-b115-8ee5a3d16b08",
   "metadata": {},
   "outputs": [],
   "source": [
    "# Floor Division (//)"
   ]
  },
  {
   "cell_type": "code",
   "execution_count": 46,
   "id": "b2c53923-7c33-4c16-a8e2-4525795cf6d3",
   "metadata": {},
   "outputs": [],
   "source": [
    "num1 = 36"
   ]
  },
  {
   "cell_type": "code",
   "execution_count": 47,
   "id": "7c247141-0368-425b-9a89-66f85cefe544",
   "metadata": {},
   "outputs": [],
   "source": [
    "num2 = 6"
   ]
  },
  {
   "cell_type": "code",
   "execution_count": 48,
   "id": "a994f540-79d5-451f-8191-bd8a88c0a02b",
   "metadata": {},
   "outputs": [],
   "source": [
    "result = num1 // num2"
   ]
  },
  {
   "cell_type": "code",
   "execution_count": 49,
   "id": "d56fbcd3-ab9e-4f27-8d79-a51590ec88dd",
   "metadata": {},
   "outputs": [
    {
     "name": "stdout",
     "output_type": "stream",
     "text": [
      "6\n"
     ]
    }
   ],
   "source": [
    "print(result)"
   ]
  },
  {
   "cell_type": "code",
   "execution_count": null,
   "id": "5f091b1b-7a9e-466e-8b7c-054142de0b59",
   "metadata": {},
   "outputs": [],
   "source": []
  },
  {
   "cell_type": "code",
   "execution_count": null,
   "id": "019aa8b8-7ff5-4297-9736-167f5f8ec6b7",
   "metadata": {},
   "outputs": [],
   "source": []
  }
 ],
 "metadata": {
  "kernelspec": {
   "display_name": "Python 3 (ipykernel)",
   "language": "python",
   "name": "python3"
  },
  "language_info": {
   "codemirror_mode": {
    "name": "ipython",
    "version": 3
   },
   "file_extension": ".py",
   "mimetype": "text/x-python",
   "name": "python",
   "nbconvert_exporter": "python",
   "pygments_lexer": "ipython3",
   "version": "3.12.7"
  }
 },
 "nbformat": 4,
 "nbformat_minor": 5
}
