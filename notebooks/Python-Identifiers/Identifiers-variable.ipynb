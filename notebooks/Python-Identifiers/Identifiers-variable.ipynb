{
 "cells": [
  {
   "cell_type": "code",
   "execution_count": null,
   "id": "44454f18-2c6a-477e-96f5-6ead4db8039c",
   "metadata": {},
   "outputs": [],
   "source": [
    "# Created at 10-01-2025"
   ]
  },
  {
   "cell_type": "code",
   "execution_count": 5,
   "id": "5499044e-a2b4-4b40-84fd-73134909b69e",
   "metadata": {},
   "outputs": [],
   "source": [
    "# valid identifiers Variables"
   ]
  },
  {
   "cell_type": "code",
   "execution_count": null,
   "id": "df8a87c3-c49e-4a99-96e9-8ea8273454f9",
   "metadata": {},
   "outputs": [],
   "source": [
    "#  reference - https://www.scientecheasy.com/2022/09/identifiers-in-python.html"
   ]
  },
  {
   "cell_type": "code",
   "execution_count": 6,
   "id": "b34319de-6e46-48e7-9018-7919c32d9294",
   "metadata": {},
   "outputs": [],
   "source": [
    " # Starts with a letter"
   ]
  },
  {
   "cell_type": "code",
   "execution_count": 7,
   "id": "086db04e-da4e-4ab9-ae7f-902eb042cc7a",
   "metadata": {},
   "outputs": [],
   "source": [
    "name1 = \"Alice\" "
   ]
  },
  {
   "cell_type": "code",
   "execution_count": 8,
   "id": "ba512768-82b3-457b-a9b5-17436ed937e9",
   "metadata": {},
   "outputs": [],
   "source": [
    "# Use an underscore"
   ]
  },
  {
   "cell_type": "code",
   "execution_count": 9,
   "id": "c1e143a5-cc00-49f6-8c79-26cfb3634cd1",
   "metadata": {},
   "outputs": [],
   "source": [
    "my_name = \"Bob\"       "
   ]
  },
  {
   "cell_type": "code",
   "execution_count": 10,
   "id": "87f7125f-f49e-4d0d-a257-c663683dbe06",
   "metadata": {},
   "outputs": [],
   "source": [
    "price_at = 100"
   ]
  },
  {
   "cell_type": "code",
   "execution_count": 11,
   "id": "0b5e2de5-282f-45d6-8617-f5d8ea0953b1",
   "metadata": {},
   "outputs": [],
   "source": [
    " # Replaced keyword `if` with '_condition'"
   ]
  },
  {
   "cell_type": "code",
   "execution_count": 12,
   "id": "08188018-fc6d-46c6-aa5d-1954ce0d6079",
   "metadata": {},
   "outputs": [],
   "source": [
    "if_condition = True"
   ]
  },
  {
   "cell_type": "code",
   "execution_count": 13,
   "id": "2d1fa427-432b-43a4-a98f-7e47fabe93e1",
   "metadata": {},
   "outputs": [],
   "source": [
    "# Using the identifiers"
   ]
  },
  {
   "cell_type": "code",
   "execution_count": 14,
   "id": "4e36f1a4-fac3-4c5c-bd8c-d74a927ba4f8",
   "metadata": {},
   "outputs": [],
   "source": [
    "total = 5 + price_at"
   ]
  },
  {
   "cell_type": "code",
   "execution_count": 15,
   "id": "78934c6f-9506-4fec-83a6-761f7b6b887b",
   "metadata": {},
   "outputs": [
    {
     "name": "stdout",
     "output_type": "stream",
     "text": [
      "Alice\n",
      "Bob\n",
      "105\n"
     ]
    }
   ],
   "source": [
    "print(name1)\n",
    "print(my_name)\n",
    "print(total)"
   ]
  },
  {
   "cell_type": "code",
   "execution_count": null,
   "id": "35a93305-a4bc-4195-92e3-ea538c210468",
   "metadata": {},
   "outputs": [],
   "source": []
  }
 ],
 "metadata": {
  "kernelspec": {
   "display_name": "Python 3 (ipykernel)",
   "language": "python",
   "name": "python3"
  },
  "language_info": {
   "codemirror_mode": {
    "name": "ipython",
    "version": 3
   },
   "file_extension": ".py",
   "mimetype": "text/x-python",
   "name": "python",
   "nbconvert_exporter": "python",
   "pygments_lexer": "ipython3",
   "version": "3.12.7"
  }
 },
 "nbformat": 4,
 "nbformat_minor": 5
}
