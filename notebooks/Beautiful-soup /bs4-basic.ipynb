{
 "cells": [
  {
   "cell_type": "code",
   "execution_count": null,
   "id": "a76b4069-bd52-4f4c-a470-5d97baf96918",
   "metadata": {},
   "outputs": [],
   "source": [
    "#import neccessary libraries"
   ]
  },
  {
   "cell_type": "code",
   "execution_count": 1,
   "id": "eeb9e3e3-78fb-4d38-9d98-68be61537f46",
   "metadata": {},
   "outputs": [],
   "source": [
    "from bs4 import BeautifulSoup"
   ]
  },
  {
   "cell_type": "code",
   "execution_count": null,
   "id": "bc37ec39-d803-45f7-a822-423cb0b0c028",
   "metadata": {},
   "outputs": [],
   "source": [
    "#create html content"
   ]
  },
  {
   "cell_type": "code",
   "execution_count": 7,
   "id": "6f9292c7-018b-4058-a9cf-d88c6081c5e1",
   "metadata": {},
   "outputs": [],
   "source": [
    "html_content = \"\"\"\n",
    "<html>\n",
    "    <head><title>My Web Page</title></head>\n",
    "    <body>\n",
    "        <h1>Welcome to Web Scraping</h1>\n",
    "        <p>This is a <b>simple</b> example.</p>\n",
    "    </body>\n",
    "</html>\n",
    "\"\"\""
   ]
  },
  {
   "cell_type": "code",
   "execution_count": null,
   "id": "ca1eb966-a6eb-48d2-8dbe-53a9da78c545",
   "metadata": {},
   "outputs": [],
   "source": [
    "#parse the html content"
   ]
  },
  {
   "cell_type": "code",
   "execution_count": 8,
   "id": "799858f8-0a03-41e4-86da-c06edabd3017",
   "metadata": {},
   "outputs": [],
   "source": [
    "soup = BeautifulSoup(html_content, 'html.parser')"
   ]
  },
  {
   "cell_type": "code",
   "execution_count": null,
   "id": "ba715203-81b7-4d15-81c9-4bd694338a81",
   "metadata": {},
   "outputs": [],
   "source": [
    "#print the title"
   ]
  },
  {
   "cell_type": "code",
   "execution_count": 9,
   "id": "94fd949c-4447-4269-9833-959abbdba6b2",
   "metadata": {},
   "outputs": [
    {
     "name": "stdout",
     "output_type": "stream",
     "text": [
      "My Web Page\n"
     ]
    }
   ],
   "source": [
    "print(soup.title.string)"
   ]
  },
  {
   "cell_type": "code",
   "execution_count": 10,
   "id": "326a5ddb-c720-45b8-b814-ee9e0b88496c",
   "metadata": {},
   "outputs": [
    {
     "name": "stdout",
     "output_type": "stream",
     "text": [
      "Welcome to Web Scraping\n"
     ]
    }
   ],
   "source": [
    "print(soup.h1.text)"
   ]
  },
  {
   "cell_type": "code",
   "execution_count": 11,
   "id": "47fb10e3-5814-4365-a617-a1382c23e111",
   "metadata": {},
   "outputs": [
    {
     "name": "stdout",
     "output_type": "stream",
     "text": [
      "This is a simple example.\n"
     ]
    }
   ],
   "source": [
    "print(soup.p.text)"
   ]
  },
  {
   "cell_type": "code",
   "execution_count": null,
   "id": "cf86b1c1-5852-41df-9d5d-73487e1e648e",
   "metadata": {},
   "outputs": [],
   "source": []
  }
 ],
 "metadata": {
  "kernelspec": {
   "display_name": "Python 3 (ipykernel)",
   "language": "python",
   "name": "python3"
  },
  "language_info": {
   "codemirror_mode": {
    "name": "ipython",
    "version": 3
   },
   "file_extension": ".py",
   "mimetype": "text/x-python",
   "name": "python",
   "nbconvert_exporter": "python",
   "pygments_lexer": "ipython3",
   "version": "3.12.7"
  }
 },
 "nbformat": 4,
 "nbformat_minor": 5
}
