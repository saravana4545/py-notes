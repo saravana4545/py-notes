{
 "cells": [
  {
   "cell_type": "code",
   "execution_count": null,
   "id": "26d6551a-3361-434c-995c-82dc3321aa5f",
   "metadata": {},
   "outputs": [],
   "source": [
    "# Using beautiful_soup and get details from url"
   ]
  },
  {
   "cell_type": "code",
   "execution_count": null,
   "id": "dd63f4ab-b5cb-4b9c-b73b-44445a111a26",
   "metadata": {},
   "outputs": [],
   "source": [
    "#import neccesary libraries"
   ]
  },
  {
   "cell_type": "code",
   "execution_count": 8,
   "id": "b7cec02e-f8a0-4a86-83a4-28c54c7fdfd8",
   "metadata": {},
   "outputs": [],
   "source": [
    "from bs4 import BeautifulSoup\n",
    "import requests\n",
    "import pandas as pd"
   ]
  },
  {
   "cell_type": "code",
   "execution_count": 9,
   "id": "bc7d2547-441b-4919-9c3c-3adac09e8b8d",
   "metadata": {},
   "outputs": [],
   "source": [
    "#create a csv file and put inside variable"
   ]
  },
  {
   "cell_type": "code",
   "execution_count": 10,
   "id": "258b2adf-3860-4b93-8797-990a11555afa",
   "metadata": {},
   "outputs": [],
   "source": [
    "filename = \"school_details.csv\""
   ]
  },
  {
   "cell_type": "code",
   "execution_count": 11,
   "id": "0d90404f-7afc-4e2c-bab6-dd06f4b91148",
   "metadata": {},
   "outputs": [],
   "source": [
    "# we want a url"
   ]
  },
  {
   "cell_type": "code",
   "execution_count": 12,
   "id": "c79fd0ea-bbe0-485c-882a-e15ebf1d0ef4",
   "metadata": {},
   "outputs": [],
   "source": [
    "url = \"https://stackschools.com/schools/33120100909/air-force-schoolcoimbatore\""
   ]
  },
  {
   "cell_type": "code",
   "execution_count": 13,
   "id": "695dc306-17b1-4d95-91f8-a2f964c6d4cc",
   "metadata": {},
   "outputs": [],
   "source": [
    "response = requests.get(url)"
   ]
  },
  {
   "cell_type": "code",
   "execution_count": 14,
   "id": "6ff031e2-def4-4cd1-b554-b422724eff6d",
   "metadata": {},
   "outputs": [],
   "source": [
    "soup = BeautifulSoup(response.text, \"html.parser\")"
   ]
  },
  {
   "cell_type": "code",
   "execution_count": 15,
   "id": "90d0a693-2342-4302-b6d6-7e2b83338d3b",
   "metadata": {},
   "outputs": [],
   "source": [
    "# create a method called get_data()."
   ]
  },
  {
   "cell_type": "code",
   "execution_count": 16,
   "id": "4bf243e3-7b44-4cd8-a323-5f3daa02b3a6",
   "metadata": {},
   "outputs": [],
   "source": [
    "def get_data():\n",
    "    get_Code        = soup.select_one(\"#main_div > div:nth-child(2) > div:nth-child(1) > p > span\")\n",
    "    get_scl_name    = soup.select_one(\"#main_div > h2\")\n",
    "    publish_year    = soup.select_one(\"#main_div > div:nth-child(2) > div:nth-child(2) > p > span\")\n",
    "    Total_teachers  = soup.select_one(\"#main_div > div:nth-child(10) > p > span.badge.bg-info\")\n",
    "    Total_student   = soup.select_one(\"#main_div > div:nth-child(10) > p > span.badge.bg-danger\")\n",
    "    Total_classroom = soup.select_one(\"#main_div > div:nth-child(14) > p > span.badge.bg-warning\")\n",
    "\n",
    "\n",
    "    # if get_Code:\n",
    "    #     print(get_Code.text)\n",
    "    # else:\n",
    "    #     print(\"UDISE Code is not found\")\n",
    "\n",
    "    data = {\n",
    "        \"school_name\"     : get_scl_name.text,\n",
    "        \"school_code\"     : get_Code.text,\n",
    "        \"publish_year\"    : publish_year.text,\n",
    "\t    \"Total_teachers\"  : Total_teachers.text,\n",
    "\t    \"Total_student\"   : Total_student.text,\n",
    "\t    \"Total_classroom\" : Total_classroom.text\n",
    "    }\n",
    "\n",
    "    df = pd.DataFrame([data])\n",
    "    df.to_csv(filename, mode='a', index=False)\n",
    "\n",
    "    return df"
   ]
  },
  {
   "cell_type": "code",
   "execution_count": 17,
   "id": "f79b49ff-3b4b-4f44-91b5-12493eaf5392",
   "metadata": {},
   "outputs": [],
   "source": [
    "# create variable for the method."
   ]
  },
  {
   "cell_type": "code",
   "execution_count": 18,
   "id": "e8826570-f14e-4a36-8245-4b05a95bb641",
   "metadata": {},
   "outputs": [],
   "source": [
    "result = get_data()"
   ]
  },
  {
   "cell_type": "code",
   "execution_count": 19,
   "id": "bc18db47-7c47-46e8-8edd-03f63a14d0ee",
   "metadata": {},
   "outputs": [],
   "source": [
    "# print the variable "
   ]
  },
  {
   "cell_type": "code",
   "execution_count": 20,
   "id": "24a157de-15d8-470b-a612-d418875527b5",
   "metadata": {},
   "outputs": [
    {
     "name": "stdout",
     "output_type": "stream",
     "text": [
      "                   school_name  school_code publish_year Total_teachers  \\\n",
      "0  AIR FORCE SCHOOL,COIMBATORE  33120100909         1952             26   \n",
      "\n",
      "  Total_student Total_classroom  \n",
      "0           864              24  \n"
     ]
    }
   ],
   "source": [
    "print(result)"
   ]
  },
  {
   "cell_type": "code",
   "execution_count": null,
   "id": "0493c095-0358-4fc0-95a0-6db57bd6ffbd",
   "metadata": {},
   "outputs": [],
   "source": []
  },
  {
   "cell_type": "code",
   "execution_count": null,
   "id": "a8da5e43-d9eb-4c03-a6fb-755e52357fe3",
   "metadata": {},
   "outputs": [],
   "source": []
  }
 ],
 "metadata": {
  "kernelspec": {
   "display_name": "Python 3 (ipykernel)",
   "language": "python",
   "name": "python3"
  },
  "language_info": {
   "codemirror_mode": {
    "name": "ipython",
    "version": 3
   },
   "file_extension": ".py",
   "mimetype": "text/x-python",
   "name": "python",
   "nbconvert_exporter": "python",
   "pygments_lexer": "ipython3",
   "version": "3.12.7"
  }
 },
 "nbformat": 4,
 "nbformat_minor": 5
}
