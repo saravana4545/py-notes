{
 "cells": [
  {
   "cell_type": "code",
   "execution_count": null,
   "id": "18c18abc-be43-4f79-b731-43ee54c223f2",
   "metadata": {},
   "outputs": [],
   "source": [
    "#import neccesary libraries"
   ]
  },
  {
   "cell_type": "code",
   "execution_count": 4,
   "id": "7bcb83b7-fffa-4843-9e4d-c91152d8c061",
   "metadata": {},
   "outputs": [],
   "source": [
    "import streamlit as st\n",
    "from urllib.parse import urlparse\n",
    "from bs4 import BeautifulSoup\n",
    "import requests"
   ]
  },
  {
   "cell_type": "code",
   "execution_count": null,
   "id": "e09fe8f5-5531-41d9-9974-848d7fe6c79e",
   "metadata": {},
   "outputs": [],
   "source": [
    "# we can use it for to create a title in webpage"
   ]
  },
  {
   "cell_type": "code",
   "execution_count": 11,
   "id": "2399be4b-b366-47fc-91f9-420add154c1f",
   "metadata": {},
   "outputs": [],
   "source": [
    "st.title(\"School ID Extractor\")"
   ]
  },
  {
   "cell_type": "code",
   "execution_count": null,
   "id": "285a7237-a57c-4a1e-b1a6-105b10d5b14a",
   "metadata": {},
   "outputs": [],
   "source": [
    "# we can use it for text inside of the search box"
   ]
  },
  {
   "cell_type": "code",
   "execution_count": 10,
   "id": "5e70aa8c-403d-45c0-98ec-3e55cb809d18",
   "metadata": {},
   "outputs": [],
   "source": [
    "url = st.text_input(\"Enter the school URL :\")"
   ]
  },
  {
   "cell_type": "code",
   "execution_count": null,
   "id": "33344626-c8c6-47de-9538-10859ca35b7d",
   "metadata": {},
   "outputs": [],
   "source": [
    "# create a method called get_data(),"
   ]
  },
  {
   "cell_type": "code",
   "execution_count": 7,
   "id": "95d42e23-6f27-4e54-b14f-b43acdc533e2",
   "metadata": {},
   "outputs": [],
   "source": [
    "def get_data()\n",
    "    if st.button(\"Extarct ID\"):\n",
    "        try:\n",
    "            get_url = urlparse(url)\n",
    "            path_parts = get_url.path.split('/')\n",
    "    \n",
    "            if path_parts:\n",
    "                response = requests.get(url)\n",
    "                \n",
    "                if response.status_code == 200:\n",
    "                    \n",
    "                    soup = BeautifulSoup(response.content, 'html.parser')\n",
    "                    \n",
    "                    data = soup.select_one('#main_div > div:nth-child(2) > div:nth-child(1)')\n",
    "                    \n",
    "                    if data:\n",
    "                        st.info(f\"School code : {data.text.strip()}\")\n",
    "                    else:\n",
    "                        st.warning (\"No content found using the specified CSS selector.\")\n",
    "                else:\n",
    "                    st.error(f\"Failed to fetch the webpage. HTTP Status Code :{response.status_code}\")\n",
    "                    \n",
    "        except Exception as e :\n",
    "            st.error (f\"Error: {e}\")"
   ]
  },
  {
   "cell_type": "code",
   "execution_count": null,
   "id": "21cc99ed-d75a-4d89-957d-773f58009a4a",
   "metadata": {},
   "outputs": [],
   "source": [
    "# create a var and call the method inside."
   ]
  },
  {
   "cell_type": "code",
   "execution_count": 9,
   "id": "96b5a612-64aa-4fd7-853c-86a745b50935",
   "metadata": {},
   "outputs": [
    {
     "name": "stdout",
     "output_type": "stream",
     "text": [
      "<function get_data at 0x7fee13f83ba0>\n"
     ]
    }
   ],
   "source": [
    "result = get_data()"
   ]
  },
  {
   "cell_type": "code",
   "execution_count": null,
   "id": "8da90c8a-adb0-426f-9f88-ccef64905c2c",
   "metadata": {},
   "outputs": [],
   "source": [
    "#  print the var "
   ]
  },
  {
   "cell_type": "code",
   "execution_count": null,
   "id": "3ae7c7e0-b9fa-4e82-a08e-91f0885d4207",
   "metadata": {},
   "outputs": [],
   "source": [
    "print(result)"
   ]
  },
  {
   "cell_type": "code",
   "execution_count": null,
   "id": "c56d1644-0cfa-4da4-a108-6f9047194060",
   "metadata": {},
   "outputs": [],
   "source": []
  }
 ],
 "metadata": {
  "kernelspec": {
   "display_name": "Python 3 (ipykernel)",
   "language": "python",
   "name": "python3"
  },
  "language_info": {
   "codemirror_mode": {
    "name": "ipython",
    "version": 3
   },
   "file_extension": ".py",
   "mimetype": "text/x-python",
   "name": "python",
   "nbconvert_exporter": "python",
   "pygments_lexer": "ipython3",
   "version": "3.12.7"
  }
 },
 "nbformat": 4,
 "nbformat_minor": 5
}
