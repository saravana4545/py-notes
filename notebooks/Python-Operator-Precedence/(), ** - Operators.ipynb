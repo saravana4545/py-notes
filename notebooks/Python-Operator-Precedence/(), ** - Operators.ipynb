{
 "cells": [
  {
   "cell_type": "code",
   "execution_count": 1,
   "id": "a9468623-465b-488a-bc5a-6429b225c71b",
   "metadata": {},
   "outputs": [],
   "source": [
    "# Created at 25-01-2025"
   ]
  },
  {
   "cell_type": "code",
   "execution_count": 2,
   "id": "c9a00fa6-7810-4559-af25-145a660b3cfd",
   "metadata": {},
   "outputs": [],
   "source": [
    "# https://www.scientecheasy.com/2022/10/operator-precedence-in-python.html/"
   ]
  },
  {
   "cell_type": "code",
   "execution_count": 3,
   "id": "ec49896c-5b56-430c-934d-64b95b79a640",
   "metadata": {},
   "outputs": [],
   "source": [
    "# Operator Precedence"
   ]
  },
  {
   "cell_type": "code",
   "execution_count": 4,
   "id": "67abd3f3-48d2-484e-ac7f-a092955fb784",
   "metadata": {},
   "outputs": [],
   "source": [
    "# Example 1: Without parentheses"
   ]
  },
  {
   "cell_type": "code",
   "execution_count": 6,
   "id": "5319438a-cac0-4109-b0ae-91c378d921b7",
   "metadata": {},
   "outputs": [],
   "source": [
    "result = 10 + 2 * 3"
   ]
  },
  {
   "cell_type": "code",
   "execution_count": 7,
   "id": "59bda4f9-53c3-44e3-9ad1-b2296d19d2b2",
   "metadata": {},
   "outputs": [
    {
     "name": "stdout",
     "output_type": "stream",
     "text": [
      "Result: 16\n"
     ]
    }
   ],
   "source": [
    "print(\"Result:\", result)"
   ]
  },
  {
   "cell_type": "code",
   "execution_count": 8,
   "id": "510e78a7-40b0-44a1-b157-db18b6237e7c",
   "metadata": {},
   "outputs": [],
   "source": [
    "# Example 2: With parentheses"
   ]
  },
  {
   "cell_type": "code",
   "execution_count": 9,
   "id": "a1a3b89b-f106-48bc-b3f7-25b4b88ba475",
   "metadata": {},
   "outputs": [],
   "source": [
    "result = (10 + 2) * 3"
   ]
  },
  {
   "cell_type": "code",
   "execution_count": 10,
   "id": "1cc4be49-466e-4a3c-a92c-78012ee4e732",
   "metadata": {},
   "outputs": [
    {
     "name": "stdout",
     "output_type": "stream",
     "text": [
      "Result: 36\n"
     ]
    }
   ],
   "source": [
    "print(\"Result:\", result)"
   ]
  },
  {
   "cell_type": "code",
   "execution_count": 11,
   "id": "a3d49f15-c5a1-460d-ba2d-a4d66ee59550",
   "metadata": {},
   "outputs": [],
   "source": [
    "# Example 3: Exponentiation"
   ]
  },
  {
   "cell_type": "code",
   "execution_count": 12,
   "id": "aff8043d-2c8b-4179-8cb4-6bc588bf2561",
   "metadata": {},
   "outputs": [],
   "source": [
    "result = 2 ** 3 ** 2"
   ]
  },
  {
   "cell_type": "code",
   "execution_count": 13,
   "id": "3fc87d7b-a59c-4477-9d58-da2fd0d3c567",
   "metadata": {},
   "outputs": [
    {
     "name": "stdout",
     "output_type": "stream",
     "text": [
      "Result: 512\n"
     ]
    }
   ],
   "source": [
    "print(\"Result:\", result)"
   ]
  },
  {
   "cell_type": "code",
   "execution_count": null,
   "id": "01bd5537-3fb8-4c65-85a9-117a9393ae8d",
   "metadata": {},
   "outputs": [],
   "source": []
  }
 ],
 "metadata": {
  "kernelspec": {
   "display_name": "Python 3 (ipykernel)",
   "language": "python",
   "name": "python3"
  },
  "language_info": {
   "codemirror_mode": {
    "name": "ipython",
    "version": 3
   },
   "file_extension": ".py",
   "mimetype": "text/x-python",
   "name": "python",
   "nbconvert_exporter": "python",
   "pygments_lexer": "ipython3",
   "version": "3.12.7"
  }
 },
 "nbformat": 4,
 "nbformat_minor": 5
}
