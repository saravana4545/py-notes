{
 "cells": [
  {
   "cell_type": "code",
   "execution_count": 1,
   "id": "788ade6f-fb40-4cfd-87c3-2221c6a76441",
   "metadata": {},
   "outputs": [],
   "source": [
    "# Created at 25-01-2025"
   ]
  },
  {
   "cell_type": "code",
   "execution_count": 2,
   "id": "f5d27c34-df29-4661-8772-75da62ed1134",
   "metadata": {},
   "outputs": [],
   "source": [
    "# https://www.scientecheasy.com/2022/10/operator-precedence-in-python.html/"
   ]
  },
  {
   "cell_type": "code",
   "execution_count": 3,
   "id": "fccbaa7f-d393-41d1-a740-5ce0c8df8504",
   "metadata": {},
   "outputs": [],
   "source": [
    "# Operator Precedence"
   ]
  },
  {
   "cell_type": "code",
   "execution_count": 4,
   "id": "d32e4b1b-9665-43fd-b7a2-2398dc234664",
   "metadata": {},
   "outputs": [],
   "source": [
    "# Example 4: Logical operators"
   ]
  },
  {
   "cell_type": "code",
   "execution_count": 5,
   "id": "fd189009-f291-4ee8-a67a-173c62c7ac11",
   "metadata": {},
   "outputs": [],
   "source": [
    "result = True or False and False"
   ]
  },
  {
   "cell_type": "code",
   "execution_count": 6,
   "id": "ad43ecc8-8ccf-4d91-8983-8ffedb582e47",
   "metadata": {},
   "outputs": [
    {
     "name": "stdout",
     "output_type": "stream",
     "text": [
      "Result: True\n"
     ]
    }
   ],
   "source": [
    "print(\"Result:\", result)"
   ]
  },
  {
   "cell_type": "code",
   "execution_count": 7,
   "id": "adc7ed39-b894-4a05-8f2b-d6ed7250913c",
   "metadata": {},
   "outputs": [],
   "source": [
    "# Example 5: Mixing comparison and logical operators"
   ]
  },
  {
   "cell_type": "code",
   "execution_count": 8,
   "id": "1fe8d197-aece-4cde-bf04-ea8e6d154f53",
   "metadata": {},
   "outputs": [],
   "source": [
    "result = 5 > 3 and 2 < 4"
   ]
  },
  {
   "cell_type": "code",
   "execution_count": 9,
   "id": "86d2cf5a-b941-45d5-a440-164a60588ae2",
   "metadata": {},
   "outputs": [
    {
     "name": "stdout",
     "output_type": "stream",
     "text": [
      "Result: True\n"
     ]
    }
   ],
   "source": [
    "print(\"Result:\", result)"
   ]
  },
  {
   "cell_type": "code",
   "execution_count": 10,
   "id": "595f9fc2-e01c-4ad7-82a9-308d8afea050",
   "metadata": {},
   "outputs": [],
   "source": [
    "# Example 6: Unary operators"
   ]
  },
  {
   "cell_type": "code",
   "execution_count": 11,
   "id": "48d0046d-7e7b-4bae-9fd5-c2cb82ca992b",
   "metadata": {},
   "outputs": [],
   "source": [
    "result = -3 ** 2"
   ]
  },
  {
   "cell_type": "code",
   "execution_count": 12,
   "id": "6c1b3a01-5dd8-467d-8df2-8be82a7c6b1f",
   "metadata": {},
   "outputs": [
    {
     "name": "stdout",
     "output_type": "stream",
     "text": [
      "Result: -9\n"
     ]
    }
   ],
   "source": [
    "print(\"Result:\", result)"
   ]
  },
  {
   "cell_type": "code",
   "execution_count": null,
   "id": "4bfc06de-f3d2-4457-9a9e-338bb64154f4",
   "metadata": {},
   "outputs": [],
   "source": []
  }
 ],
 "metadata": {
  "kernelspec": {
   "display_name": "Python 3 (ipykernel)",
   "language": "python",
   "name": "python3"
  },
  "language_info": {
   "codemirror_mode": {
    "name": "ipython",
    "version": 3
   },
   "file_extension": ".py",
   "mimetype": "text/x-python",
   "name": "python",
   "nbconvert_exporter": "python",
   "pygments_lexer": "ipython3",
   "version": "3.12.7"
  }
 },
 "nbformat": 4,
 "nbformat_minor": 5
}
