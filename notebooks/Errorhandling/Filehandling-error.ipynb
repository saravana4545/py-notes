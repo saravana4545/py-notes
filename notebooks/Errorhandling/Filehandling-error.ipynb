{
 "cells": [
  {
   "cell_type": "code",
   "execution_count": null,
   "id": "33b3dfea-2821-41e2-9048-e8d54207f6de",
   "metadata": {},
   "outputs": [],
   "source": [
    "# File Handling Inside a Method"
   ]
  },
  {
   "cell_type": "code",
   "execution_count": null,
   "id": "5bdc65c0-297c-439d-8ffd-75ec4c955f1c",
   "metadata": {},
   "outputs": [],
   "source": []
  },
  {
   "cell_type": "code",
   "execution_count": 1,
   "id": "63984d8c-939d-45b7-86e5-5f74fffef85f",
   "metadata": {},
   "outputs": [],
   "source": [
    "def read_file(file_name):\n",
    "    try:\n",
    "        with open(file_name, \"r\") as file:\n",
    "            return file.read()\n",
    "    except FileNotFoundError:\n",
    "        return f\"Error: File '{file_name}' not found.\"\n",
    "    except PermissionError:\n",
    "        return f\"Error: You don't have permission to read the file '{file_name}'.\""
   ]
  },
  {
   "cell_type": "code",
   "execution_count": 2,
   "id": "250d2f2d-640e-42fb-97ff-9525e5e3858b",
   "metadata": {},
   "outputs": [],
   "source": [
    "# Example Usage"
   ]
  },
  {
   "cell_type": "code",
   "execution_count": null,
   "id": "4d244713-e10d-49dc-b343-bbea4cabbcd0",
   "metadata": {},
   "outputs": [],
   "source": []
  },
  {
   "cell_type": "code",
   "execution_count": null,
   "id": "d327835d-70f4-4ba4-97fb-4d38ad9651f6",
   "metadata": {},
   "outputs": [],
   "source": [
    "# File exists"
   ]
  },
  {
   "cell_type": "code",
   "execution_count": 3,
   "id": "4307f36a-61e3-44c6-b947-10f27a8461bb",
   "metadata": {},
   "outputs": [
    {
     "name": "stdout",
     "output_type": "stream",
     "text": [
      "Error: File 'example.txt' not found.\n"
     ]
    }
   ],
   "source": [
    "print(read_file(\"example.txt\")) "
   ]
  },
  {
   "cell_type": "code",
   "execution_count": null,
   "id": "efb65fc5-434c-4de4-b03c-6685eb16e25d",
   "metadata": {},
   "outputs": [],
   "source": [
    " # File not found"
   ]
  },
  {
   "cell_type": "code",
   "execution_count": 4,
   "id": "a95e2d21-94ba-4afe-a65b-aab027ec8dd0",
   "metadata": {},
   "outputs": [
    {
     "name": "stdout",
     "output_type": "stream",
     "text": [
      "Error: File 'nonexistent.txt' not found.\n"
     ]
    }
   ],
   "source": [
    "print(read_file(\"nonexistent.txt\"))"
   ]
  },
  {
   "cell_type": "code",
   "execution_count": null,
   "id": "2bda22c1-1309-4406-a626-fecfb91542ba",
   "metadata": {},
   "outputs": [],
   "source": []
  }
 ],
 "metadata": {
  "kernelspec": {
   "display_name": "Python 3 (ipykernel)",
   "language": "python",
   "name": "python3"
  },
  "language_info": {
   "codemirror_mode": {
    "name": "ipython",
    "version": 3
   },
   "file_extension": ".py",
   "mimetype": "text/x-python",
   "name": "python",
   "nbconvert_exporter": "python",
   "pygments_lexer": "ipython3",
   "version": "3.12.7"
  }
 },
 "nbformat": 4,
 "nbformat_minor": 5
}
