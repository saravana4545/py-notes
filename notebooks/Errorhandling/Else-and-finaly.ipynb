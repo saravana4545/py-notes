{
 "cells": [
  {
   "cell_type": "code",
   "execution_count": null,
   "id": "aa8d0d7c-ca97-45f7-9988-76057b407cc2",
   "metadata": {},
   "outputs": [],
   "source": [
    "#Using else and finally in Methods"
   ]
  },
  {
   "cell_type": "code",
   "execution_count": 1,
   "id": "3577a827-0409-4996-92f6-ecf3ac7c6daa",
   "metadata": {},
   "outputs": [],
   "source": [
    "def process_number(number):\n",
    "    try:\n",
    "        result = 100 / number\n",
    "    except ZeroDivisionError:\n",
    "        return \"Error: Cannot divide by zero.\"\n",
    "    except TypeError:\n",
    "        return \"Error: Input must be a number.\"\n",
    "    else:\n",
    "        return f\"Result: {result}\" \n",
    "    finally:\n",
    "        print(\"Method execution completed.\") "
   ]
  },
  {
   "cell_type": "code",
   "execution_count": 2,
   "id": "ca6f9454-e429-40b3-ab55-497191e313d3",
   "metadata": {},
   "outputs": [],
   "source": [
    "# else Block: Executes if no exception occurs."
   ]
  },
  {
   "cell_type": "code",
   "execution_count": null,
   "id": "e0bc2f54-ab33-433d-bb50-13efdd3f166d",
   "metadata": {},
   "outputs": [],
   "source": [
    "# finally Block: Runs regardless of whether an exception occurred. Ideal for cleanup tasks."
   ]
  },
  {
   "cell_type": "code",
   "execution_count": null,
   "id": "850a3dfd-2c16-4a5b-9c5d-5cccceadc5eb",
   "metadata": {},
   "outputs": [],
   "source": [
    "# Valid input"
   ]
  },
  {
   "cell_type": "code",
   "execution_count": 3,
   "id": "22478f5a-c6e5-4edd-a56c-26d6ecd7bb0e",
   "metadata": {},
   "outputs": [
    {
     "name": "stdout",
     "output_type": "stream",
     "text": [
      "Method execution completed.\n",
      "Result: 20.0\n"
     ]
    }
   ],
   "source": [
    "print(process_number(5)) "
   ]
  },
  {
   "cell_type": "code",
   "execution_count": null,
   "id": "0ecda392-4c68-4c35-a7e8-9329b6b8b162",
   "metadata": {},
   "outputs": [],
   "source": [
    " # Division by zero"
   ]
  },
  {
   "cell_type": "code",
   "execution_count": 4,
   "id": "96abf872-27d8-48ac-8266-14fb49208eca",
   "metadata": {},
   "outputs": [
    {
     "name": "stdout",
     "output_type": "stream",
     "text": [
      "Method execution completed.\n",
      "Error: Cannot divide by zero.\n"
     ]
    }
   ],
   "source": [
    "print(process_number(0)) "
   ]
  },
  {
   "cell_type": "code",
   "execution_count": null,
   "id": "42340753-70ce-41c7-95b5-03a4980ebb19",
   "metadata": {},
   "outputs": [],
   "source": [
    "# Invalid input"
   ]
  },
  {
   "cell_type": "code",
   "execution_count": 5,
   "id": "9638640a-139b-479b-8351-07353c524905",
   "metadata": {},
   "outputs": [
    {
     "name": "stdout",
     "output_type": "stream",
     "text": [
      "Method execution completed.\n",
      "Error: Input must be a number.\n"
     ]
    }
   ],
   "source": [
    "print(process_number(\"a\")) "
   ]
  },
  {
   "cell_type": "code",
   "execution_count": null,
   "id": "33c44071-a333-423c-9d3d-179584bd789a",
   "metadata": {},
   "outputs": [],
   "source": []
  }
 ],
 "metadata": {
  "kernelspec": {
   "display_name": "Python 3 (ipykernel)",
   "language": "python",
   "name": "python3"
  },
  "language_info": {
   "codemirror_mode": {
    "name": "ipython",
    "version": 3
   },
   "file_extension": ".py",
   "mimetype": "text/x-python",
   "name": "python",
   "nbconvert_exporter": "python",
   "pygments_lexer": "ipython3",
   "version": "3.12.7"
  }
 },
 "nbformat": 4,
 "nbformat_minor": 5
}
