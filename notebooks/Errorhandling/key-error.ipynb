{
 "cells": [
  {
   "cell_type": "code",
   "execution_count": 6,
   "id": "1afb1a93-bdc2-467f-bbbe-0062ccfea8db",
   "metadata": {},
   "outputs": [],
   "source": [
    "#Handling Dictionary Lookups"
   ]
  },
  {
   "cell_type": "code",
   "execution_count": null,
   "id": "797e7058-9882-44a2-af60-8e485590f35d",
   "metadata": {},
   "outputs": [],
   "source": []
  },
  {
   "cell_type": "code",
   "execution_count": 7,
   "id": "9d0da690-3173-4087-906b-f04efb115530",
   "metadata": {},
   "outputs": [],
   "source": [
    "def get_value(dictionary, key):\n",
    "    try:\n",
    "        return dictionary[key]\n",
    "    except KeyError:\n",
    "        return f\"Error: The key '{key}' does not exist.\""
   ]
  },
  {
   "cell_type": "code",
   "execution_count": 8,
   "id": "edae1deb-c7ef-4736-8525-586f2df1994e",
   "metadata": {},
   "outputs": [],
   "source": [
    "# Example Usage"
   ]
  },
  {
   "cell_type": "code",
   "execution_count": 9,
   "id": "748b97ac-f72d-4c77-af70-b1bdccf3e8a4",
   "metadata": {},
   "outputs": [],
   "source": [
    "data = {\"name\": \"Saravana\", \"age\": 25}"
   ]
  },
  {
   "cell_type": "code",
   "execution_count": null,
   "id": "c999bc42-7904-4799-8fad-cf138e9589ce",
   "metadata": {},
   "outputs": [],
   "source": []
  },
  {
   "cell_type": "code",
   "execution_count": 10,
   "id": "b8e53139-85a6-43aa-aaaa-40d9590c47b7",
   "metadata": {},
   "outputs": [],
   "source": [
    "# Key exists"
   ]
  },
  {
   "cell_type": "code",
   "execution_count": 11,
   "id": "d22fddea-70a9-4bcb-ab4c-9cf767d2bc85",
   "metadata": {},
   "outputs": [
    {
     "name": "stdout",
     "output_type": "stream",
     "text": [
      "Saravana\n"
     ]
    }
   ],
   "source": [
    "print(get_value(data, \"name\")) "
   ]
  },
  {
   "cell_type": "code",
   "execution_count": 12,
   "id": "28e13cdf-e966-481e-afbd-87041cfaf3f6",
   "metadata": {},
   "outputs": [],
   "source": [
    "# Key does not exist"
   ]
  },
  {
   "cell_type": "code",
   "execution_count": 13,
   "id": "2fcaab3c-802d-4b75-b13a-2619086a8006",
   "metadata": {},
   "outputs": [
    {
     "name": "stdout",
     "output_type": "stream",
     "text": [
      "Error: The key 'email' does not exist.\n"
     ]
    }
   ],
   "source": [
    "print(get_value(data, \"email\"))"
   ]
  },
  {
   "cell_type": "code",
   "execution_count": null,
   "id": "c95282aa-d9a8-4e1e-a359-96d5261c9f3f",
   "metadata": {},
   "outputs": [],
   "source": []
  }
 ],
 "metadata": {
  "kernelspec": {
   "display_name": "Python 3 (ipykernel)",
   "language": "python",
   "name": "python3"
  },
  "language_info": {
   "codemirror_mode": {
    "name": "ipython",
    "version": 3
   },
   "file_extension": ".py",
   "mimetype": "text/x-python",
   "name": "python",
   "nbconvert_exporter": "python",
   "pygments_lexer": "ipython3",
   "version": "3.12.7"
  }
 },
 "nbformat": 4,
 "nbformat_minor": 5
}
