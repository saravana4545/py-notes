{
 "cells": [
  {
   "cell_type": "code",
   "execution_count": 6,
   "id": "ef2c02f0-f5c4-4f03-8959-37d77008fe19",
   "metadata": {},
   "outputs": [],
   "source": [
    "#Handling Errors in a Method"
   ]
  },
  {
   "cell_type": "code",
   "execution_count": null,
   "id": "8c6eca4b-c405-44a1-8761-c12cd1b18033",
   "metadata": {},
   "outputs": [],
   "source": []
  },
  {
   "cell_type": "code",
   "execution_count": 7,
   "id": "b319da25-bb1b-423d-8aa7-b8c96347fc5e",
   "metadata": {},
   "outputs": [],
   "source": [
    "def divide_numbers(numerator, denominator):\n",
    "    try:\n",
    "        result = numerator / denominator\n",
    "        return result\n",
    "    except ZeroDivisionError:\n",
    "        return \"Error: Cannot divide by zero.\"\n",
    "    except TypeError:\n",
    "        return \"Error: Both numerator and denominator must be numbers.\""
   ]
  },
  {
   "cell_type": "code",
   "execution_count": 8,
   "id": "c342c5be-7042-4cc4-a979-8628a6b9ba54",
   "metadata": {},
   "outputs": [],
   "source": [
    "# Example Usage"
   ]
  },
  {
   "cell_type": "code",
   "execution_count": null,
   "id": "da2da9d9-ad93-461b-880d-939f9ffb63e9",
   "metadata": {},
   "outputs": [],
   "source": []
  },
  {
   "cell_type": "code",
   "execution_count": 9,
   "id": "fc202b8c-0b0b-4b3e-bf68-e8c7e6f8445d",
   "metadata": {},
   "outputs": [],
   "source": [
    "# Valid"
   ]
  },
  {
   "cell_type": "code",
   "execution_count": 10,
   "id": "0d6ee97d-6179-4111-b4dc-6adc9d1a4f38",
   "metadata": {},
   "outputs": [
    {
     "name": "stdout",
     "output_type": "stream",
     "text": [
      "5.0\n"
     ]
    }
   ],
   "source": [
    "print(divide_numbers(10, 2)) "
   ]
  },
  {
   "cell_type": "code",
   "execution_count": 11,
   "id": "91c57bb5-38c0-4b5c-832b-2f6984ee3784",
   "metadata": {},
   "outputs": [],
   "source": [
    "# Division by zero"
   ]
  },
  {
   "cell_type": "code",
   "execution_count": 12,
   "id": "750568b1-6a5c-417b-a13f-9086e0f80baa",
   "metadata": {},
   "outputs": [
    {
     "name": "stdout",
     "output_type": "stream",
     "text": [
      "Error: Cannot divide by zero.\n"
     ]
    }
   ],
   "source": [
    "print(divide_numbers(10, 0)) "
   ]
  },
  {
   "cell_type": "code",
   "execution_count": 13,
   "id": "9b0d168f-b548-436f-8c24-5d7ac4db04d7",
   "metadata": {},
   "outputs": [],
   "source": [
    "# Invalid type"
   ]
  },
  {
   "cell_type": "code",
   "execution_count": 14,
   "id": "c69b518a-bc45-40d0-8238-bdc2db6c6637",
   "metadata": {},
   "outputs": [
    {
     "name": "stdout",
     "output_type": "stream",
     "text": [
      "Error: Both numerator and denominator must be numbers.\n"
     ]
    }
   ],
   "source": [
    "print(divide_numbers(10, \"a\")) "
   ]
  },
  {
   "cell_type": "code",
   "execution_count": null,
   "id": "22ebe981-64e0-496c-a679-33106e2fc53d",
   "metadata": {},
   "outputs": [],
   "source": []
  }
 ],
 "metadata": {
  "kernelspec": {
   "display_name": "Python 3 (ipykernel)",
   "language": "python",
   "name": "python3"
  },
  "language_info": {
   "codemirror_mode": {
    "name": "ipython",
    "version": 3
   },
   "file_extension": ".py",
   "mimetype": "text/x-python",
   "name": "python",
   "nbconvert_exporter": "python",
   "pygments_lexer": "ipython3",
   "version": "3.12.7"
  }
 },
 "nbformat": 4,
 "nbformat_minor": 5
}
