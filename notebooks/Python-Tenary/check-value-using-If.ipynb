{
 "cells": [
  {
   "cell_type": "code",
   "execution_count": 1,
   "id": "75d97cad-8a27-4f30-9b95-2cce0bb33081",
   "metadata": {},
   "outputs": [],
   "source": [
    "# Created at 25-01-2025"
   ]
  },
  {
   "cell_type": "code",
   "execution_count": 3,
   "id": "08468661-5d74-46d7-b42c-87db0bc32a27",
   "metadata": {},
   "outputs": [],
   "source": [
    "# https://www.scientecheasy.com/2022/10/ternary-operator-in-python.html/"
   ]
  },
  {
   "cell_type": "code",
   "execution_count": 4,
   "id": "f61081bb-7168-4155-a439-fb42465d2cab",
   "metadata": {},
   "outputs": [],
   "source": [
    "# Ternary Operators"
   ]
  },
  {
   "cell_type": "code",
   "execution_count": 8,
   "id": "1b7c58af-def5-4618-a533-a990d059eb30",
   "metadata": {},
   "outputs": [],
   "source": [
    "# syndax - value_if_true if condition else value_if_false."
   ]
  },
  {
   "cell_type": "code",
   "execution_count": 9,
   "id": "1499161d-7a62-43c7-9bfe-af7cdc9e59fc",
   "metadata": {},
   "outputs": [],
   "source": [
    "# Example 1: Check if a number is even or odd"
   ]
  },
  {
   "cell_type": "code",
   "execution_count": 13,
   "id": "4e92a35c-e190-4eb0-955b-5b0cd2012c50",
   "metadata": {},
   "outputs": [],
   "source": [
    "number = 10"
   ]
  },
  {
   "cell_type": "code",
   "execution_count": 14,
   "id": "8104df17-a98c-4efc-8f06-d63a6887e1d5",
   "metadata": {},
   "outputs": [],
   "source": [
    "result = \"Even\" if number % 2 == 0 else \"Odd\""
   ]
  },
  {
   "cell_type": "code",
   "execution_count": 15,
   "id": "c1cdb305-aaf4-4136-a577-c9889d8c6ab0",
   "metadata": {},
   "outputs": [
    {
     "name": "stdout",
     "output_type": "stream",
     "text": [
      "Even\n"
     ]
    }
   ],
   "source": [
    "print(result)"
   ]
  },
  {
   "cell_type": "code",
   "execution_count": 11,
   "id": "6f950f12-2023-44ee-bc94-d99963efa739",
   "metadata": {},
   "outputs": [],
   "source": [
    "# Example 2: Find the maximum of two numbers"
   ]
  },
  {
   "cell_type": "code",
   "execution_count": 16,
   "id": "73bdd207-8d9e-419f-b8c7-f732ee65d044",
   "metadata": {},
   "outputs": [],
   "source": [
    "a, b = 5, 8"
   ]
  },
  {
   "cell_type": "code",
   "execution_count": 17,
   "id": "4a06a582-f2f0-4709-b029-5c2514bb2eaa",
   "metadata": {},
   "outputs": [],
   "source": [
    "maximum = a if a > b else b"
   ]
  },
  {
   "cell_type": "code",
   "execution_count": 18,
   "id": "320a4cf9-541a-47e3-b718-c54af9ee5d13",
   "metadata": {},
   "outputs": [
    {
     "name": "stdout",
     "output_type": "stream",
     "text": [
      "8\n"
     ]
    }
   ],
   "source": [
    "print(maximum)"
   ]
  },
  {
   "cell_type": "code",
   "execution_count": null,
   "id": "2573c67b-92ff-40da-bbc3-6413550f127f",
   "metadata": {},
   "outputs": [],
   "source": []
  },
  {
   "cell_type": "code",
   "execution_count": 19,
   "id": "ec808671-a0c9-4bac-a9fe-1850e1db26e9",
   "metadata": {},
   "outputs": [],
   "source": [
    "x, y, z = 10, 20, 5"
   ]
  },
  {
   "cell_type": "code",
   "execution_count": 20,
   "id": "4f333972-2336-4d3c-a857-c3327a2c203c",
   "metadata": {},
   "outputs": [],
   "source": [
    "smallest = x if x < y and x < z else y if y < z else z"
   ]
  },
  {
   "cell_type": "code",
   "execution_count": 21,
   "id": "9790e1d9-112d-4e49-8658-b7c71526638b",
   "metadata": {},
   "outputs": [
    {
     "name": "stdout",
     "output_type": "stream",
     "text": [
      "5\n"
     ]
    }
   ],
   "source": [
    "print(smallest)"
   ]
  },
  {
   "cell_type": "code",
   "execution_count": null,
   "id": "b2f07131-beac-4cf7-adcd-8c16744fa86e",
   "metadata": {},
   "outputs": [],
   "source": []
  }
 ],
 "metadata": {
  "kernelspec": {
   "display_name": "Python 3 (ipykernel)",
   "language": "python",
   "name": "python3"
  },
  "language_info": {
   "codemirror_mode": {
    "name": "ipython",
    "version": 3
   },
   "file_extension": ".py",
   "mimetype": "text/x-python",
   "name": "python",
   "nbconvert_exporter": "python",
   "pygments_lexer": "ipython3",
   "version": "3.12.7"
  }
 },
 "nbformat": 4,
 "nbformat_minor": 5
}
