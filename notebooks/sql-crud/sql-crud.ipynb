{
 "cells": [
  {
   "cell_type": "code",
   "execution_count": null,
   "id": "809b5825-96d3-407c-a1ab-ec6059b69732",
   "metadata": {},
   "outputs": [],
   "source": [
    "#import neccessary libraries"
   ]
  },
  {
   "cell_type": "code",
   "execution_count": 2,
   "id": "111cb905-2067-4ded-b06a-cdfce304142b",
   "metadata": {},
   "outputs": [],
   "source": [
    "import sqlite3"
   ]
  },
  {
   "cell_type": "code",
   "execution_count": 3,
   "id": "3c35d489-7b6c-4d15-8db0-65b731d25e76",
   "metadata": {},
   "outputs": [],
   "source": [
    "# Establish database connection"
   ]
  },
  {
   "cell_type": "code",
   "execution_count": 4,
   "id": "2e710a5c-c35d-4cd8-a04f-6ceeb50ce28f",
   "metadata": {},
   "outputs": [],
   "source": [
    "def connect():\n",
    "    return sqlite3.connect(\"example.db\")"
   ]
  },
  {
   "cell_type": "code",
   "execution_count": 5,
   "id": "8196f281-e953-494b-b19c-f8fe6573d29b",
   "metadata": {},
   "outputs": [],
   "source": [
    "# Create Table (Run this once)"
   ]
  },
  {
   "cell_type": "code",
   "execution_count": 6,
   "id": "17d65fbe-20b6-4498-b012-bfd23bd0c0d3",
   "metadata": {},
   "outputs": [],
   "source": [
    "def create_table():\n",
    "    with connect() as conn:\n",
    "        cursor = conn.cursor()\n",
    "        cursor.execute(\"\"\"\n",
    "            CREATE TABLE IF NOT EXISTS users (\n",
    "                id INTEGER PRIMARY KEY AUTOINCREMENT,\n",
    "                name TEXT NOT NULL,\n",
    "                age INTEGER NOT NULL,\n",
    "                email TEXT UNIQUE NOT NULL\n",
    "            )\n",
    "        \"\"\")\n",
    "        conn.commit()"
   ]
  },
  {
   "cell_type": "code",
   "execution_count": 7,
   "id": "470119e5-73e5-4bde-a227-e3f95f934d0c",
   "metadata": {},
   "outputs": [],
   "source": [
    "# CREATE"
   ]
  },
  {
   "cell_type": "code",
   "execution_count": 8,
   "id": "76c32b6a-0421-4419-acc6-6d3333fa2bf2",
   "metadata": {},
   "outputs": [],
   "source": [
    "def create_user(name, age, email):\n",
    "    with connect() as conn:\n",
    "        cursor = conn.cursor()\n",
    "        cursor.execute(\"INSERT INTO users (name, age, email) VALUES (?, ?, ?)\", (name, age, email))\n",
    "        conn.commit()\n",
    "        print(\"User added successfully!\")"
   ]
  },
  {
   "cell_type": "code",
   "execution_count": 9,
   "id": "9ccea694-a700-479c-9787-94d617c49d91",
   "metadata": {},
   "outputs": [],
   "source": [
    "# READ"
   ]
  },
  {
   "cell_type": "code",
   "execution_count": 10,
   "id": "c236866c-25dd-44f5-ae71-ee11a0b352d8",
   "metadata": {},
   "outputs": [],
   "source": [
    "def get_users():\n",
    "    with connect() as conn:\n",
    "        cursor = conn.cursor()\n",
    "        cursor.execute(\"SELECT * FROM users\")\n",
    "        rows = cursor.fetchall()\n",
    "        for row in rows:\n",
    "            print(row)"
   ]
  },
  {
   "cell_type": "code",
   "execution_count": 11,
   "id": "878b591b-33e6-42e8-9471-14f526970ba2",
   "metadata": {},
   "outputs": [],
   "source": [
    "# UPDATE"
   ]
  },
  {
   "cell_type": "code",
   "execution_count": 12,
   "id": "801d8196-0c11-460d-ac6e-f4f5eec1d697",
   "metadata": {},
   "outputs": [],
   "source": [
    "def update_user(user_id, name=None, age=None, email=None):\n",
    "    with connect() as conn:\n",
    "        cursor = conn.cursor()\n",
    "        updates = []\n",
    "        if name:\n",
    "            updates.append(f\"name = '{name}'\")\n",
    "        if age:\n",
    "            updates.append(f\"age = {age}\")\n",
    "        if email:\n",
    "            updates.append(f\"email = '{email}'\")\n",
    "        if updates:\n",
    "            query = f\"UPDATE users SET {', '.join(updates)} WHERE id = ?\"\n",
    "            cursor.execute(query, (user_id,))\n",
    "            conn.commit()\n",
    "            print(\"User updated successfully!\")"
   ]
  },
  {
   "cell_type": "code",
   "execution_count": 13,
   "id": "f2b013b6-9408-42c1-b5bd-f5e657a7d2e4",
   "metadata": {},
   "outputs": [],
   "source": [
    "# DELETE"
   ]
  },
  {
   "cell_type": "code",
   "execution_count": 14,
   "id": "560ad603-1766-4064-9553-d894a5c25695",
   "metadata": {},
   "outputs": [],
   "source": [
    "def delete_user(user_id):\n",
    "    with connect() as conn:\n",
    "        cursor = conn.cursor()\n",
    "        cursor.execute(\"DELETE FROM users WHERE id = ?\", (user_id,))\n",
    "        conn.commit()\n",
    "        print(\"User deleted successfully!\")\n"
   ]
  },
  {
   "cell_type": "code",
   "execution_count": 15,
   "id": "70e65e66-82f9-42c3-8d7c-855d7e033724",
   "metadata": {},
   "outputs": [],
   "source": [
    "# Example Usage"
   ]
  },
  {
   "cell_type": "code",
   "execution_count": 16,
   "id": "995d10d1-5df2-4ca1-a8cc-b656e93b6c64",
   "metadata": {},
   "outputs": [
    {
     "name": "stdout",
     "output_type": "stream",
     "text": [
      "User added successfully!\n",
      "User added successfully!\n"
     ]
    }
   ],
   "source": [
    "if __name__ == \"__main__\":\n",
    "    create_table()\n",
    "    \n",
    "    # CREATE\n",
    "    create_user(\"Alice\", 25, \"alice@example.com\")\n",
    "    create_user(\"Bob\", 30, \"bob@example.com\")\n",
    "    "
   ]
  },
  {
   "cell_type": "code",
   "execution_count": 17,
   "id": "03a0982a-e1a4-4bd9-b66b-d5a72d16275b",
   "metadata": {},
   "outputs": [],
   "source": [
    "# READ"
   ]
  },
  {
   "cell_type": "code",
   "execution_count": 18,
   "id": "17388ddb-8d95-4c1c-959f-4dd280ea891b",
   "metadata": {},
   "outputs": [
    {
     "name": "stdout",
     "output_type": "stream",
     "text": [
      "\n",
      "All Users:\n",
      "(1, 'Alice', 25, 'alice@example.com')\n",
      "(2, 'Bob', 30, 'bob@example.com')\n"
     ]
    }
   ],
   "source": [
    "    print(\"\\nAll Users:\")\n",
    "    get_users()\n",
    "    \n",
    "  "
   ]
  },
  {
   "cell_type": "code",
   "execution_count": 19,
   "id": "fac8247b-6cf9-4a32-bd63-c3427bf7d4e5",
   "metadata": {},
   "outputs": [],
   "source": [
    "  # UPDATE"
   ]
  },
  {
   "cell_type": "code",
   "execution_count": 20,
   "id": "c277a7c5-37e5-4311-8cbb-a367b35dcf27",
   "metadata": {},
   "outputs": [
    {
     "name": "stdout",
     "output_type": "stream",
     "text": [
      "\n",
      "Updating Bob's age:\n",
      "User updated successfully!\n",
      "(1, 'Alice', 25, 'alice@example.com')\n",
      "(2, 'Bob', 35, 'bob@example.com')\n"
     ]
    }
   ],
   "source": [
    "\n",
    "    print(\"\\nUpdating Bob's age:\")\n",
    "    update_user(2, age=35)\n",
    "    get_users()\n",
    "    \n"
   ]
  },
  {
   "cell_type": "code",
   "execution_count": 21,
   "id": "fe900b7e-1f89-41cf-a373-8b60eeab583f",
   "metadata": {},
   "outputs": [],
   "source": [
    " # DELETE"
   ]
  },
  {
   "cell_type": "code",
   "execution_count": 22,
   "id": "802daf7f-7e6d-49d1-a524-5d945f9ad402",
   "metadata": {},
   "outputs": [
    {
     "name": "stdout",
     "output_type": "stream",
     "text": [
      "\n",
      "Deleting Alice:\n",
      "User deleted successfully!\n",
      "(2, 'Bob', 35, 'bob@example.com')\n"
     ]
    }
   ],
   "source": [
    "   \n",
    "    print(\"\\nDeleting Alice:\")\n",
    "    delete_user(1)\n",
    "    get_users()"
   ]
  },
  {
   "cell_type": "code",
   "execution_count": null,
   "id": "7475d4c6-bdea-446d-a02b-4b416c05da6a",
   "metadata": {},
   "outputs": [],
   "source": []
  },
  {
   "cell_type": "code",
   "execution_count": null,
   "id": "81917746-2661-4acd-bfe3-e188a46cbcf4",
   "metadata": {},
   "outputs": [],
   "source": []
  },
  {
   "cell_type": "code",
   "execution_count": null,
   "id": "0d0980ca-261a-4a2d-9c54-b80b7cd13555",
   "metadata": {},
   "outputs": [],
   "source": []
  }
 ],
 "metadata": {
  "kernelspec": {
   "display_name": "Python 3 (ipykernel)",
   "language": "python",
   "name": "python3"
  },
  "language_info": {
   "codemirror_mode": {
    "name": "ipython",
    "version": 3
   },
   "file_extension": ".py",
   "mimetype": "text/x-python",
   "name": "python",
   "nbconvert_exporter": "python",
   "pygments_lexer": "ipython3",
   "version": "3.12.7"
  }
 },
 "nbformat": 4,
 "nbformat_minor": 5
}
