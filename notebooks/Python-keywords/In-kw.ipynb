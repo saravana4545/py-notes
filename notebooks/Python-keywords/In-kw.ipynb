{
 "cells": [
  {
   "cell_type": "code",
   "execution_count": null,
   "id": "fd168756-5b23-4df9-ae97-efc2be4170d2",
   "metadata": {},
   "outputs": [],
   "source": [
    "#Created at 09-01-2025"
   ]
  },
  {
   "cell_type": "code",
   "execution_count": null,
   "id": "9cd25fa6-6c0b-4511-9004-9a1f0c6aa58a",
   "metadata": {},
   "outputs": [],
   "source": [
    "# https://www.scientecheasy.com/2022/09/reserved-keywords-in-python.html/"
   ]
  },
  {
   "cell_type": "code",
   "execution_count": 1,
   "id": "fdcbdf28-bd97-48c7-bd1d-55f01986f79d",
   "metadata": {},
   "outputs": [],
   "source": [
    "num = [10, 20, 30, 40, 50]"
   ]
  },
  {
   "cell_type": "code",
   "execution_count": 2,
   "id": "452a0ca1-1355-4704-9c9a-4d52fdb1de2b",
   "metadata": {},
   "outputs": [
    {
     "name": "stdout",
     "output_type": "stream",
     "text": [
      "True\n"
     ]
    }
   ],
   "source": [
    "print(50 in num)"
   ]
  },
  {
   "cell_type": "code",
   "execution_count": 3,
   "id": "7db44c5e-7f49-4ae0-8520-5368a188f220",
   "metadata": {},
   "outputs": [
    {
     "name": "stdout",
     "output_type": "stream",
     "text": [
      "False\n"
     ]
    }
   ],
   "source": [
    "print(15 in num)"
   ]
  },
  {
   "cell_type": "code",
   "execution_count": null,
   "id": "1394d8dc-8397-4f70-97ba-a4e61c46b0f2",
   "metadata": {},
   "outputs": [],
   "source": []
  }
 ],
 "metadata": {
  "kernelspec": {
   "display_name": "Python 3 (ipykernel)",
   "language": "python",
   "name": "python3"
  },
  "language_info": {
   "codemirror_mode": {
    "name": "ipython",
    "version": 3
   },
   "file_extension": ".py",
   "mimetype": "text/x-python",
   "name": "python",
   "nbconvert_exporter": "python",
   "pygments_lexer": "ipython3",
   "version": "3.12.7"
  }
 },
 "nbformat": 4,
 "nbformat_minor": 5
}
