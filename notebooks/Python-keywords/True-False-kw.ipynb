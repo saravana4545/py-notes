{
 "cells": [
  {
   "cell_type": "code",
   "execution_count": null,
   "id": "af5a077d-399f-41e6-ac7b-d08cd392ea3f",
   "metadata": {},
   "outputs": [],
   "source": [
    "#Created at 09-01-2025"
   ]
  },
  {
   "cell_type": "code",
   "execution_count": null,
   "id": "ed0618c2-1fc2-4266-902b-4a496751f0d2",
   "metadata": {},
   "outputs": [],
   "source": [
    "# https://www.scientecheasy.com/2022/09/reserved-keywords-in-python.html/"
   ]
  },
  {
   "cell_type": "code",
   "execution_count": 4,
   "id": "ab57907a-72e1-4240-b618-7cb1a47716ec",
   "metadata": {},
   "outputs": [],
   "source": [
    "num1 = 5"
   ]
  },
  {
   "cell_type": "code",
   "execution_count": 5,
   "id": "b7cc2af3-beb3-4c12-8930-0d1ff4d9cd27",
   "metadata": {},
   "outputs": [],
   "source": [
    "num2 = 10"
   ]
  },
  {
   "cell_type": "code",
   "execution_count": 8,
   "id": "ff18f5bf-be79-469e-8ea1-84e02b2c142a",
   "metadata": {},
   "outputs": [],
   "source": [
    "result = num1 < num2"
   ]
  },
  {
   "cell_type": "code",
   "execution_count": 9,
   "id": "8ae3295f-e55a-476e-a7d3-917682c388f1",
   "metadata": {},
   "outputs": [
    {
     "name": "stdout",
     "output_type": "stream",
     "text": [
      "True\n"
     ]
    }
   ],
   "source": [
    "print (result)"
   ]
  },
  {
   "cell_type": "code",
   "execution_count": null,
   "id": "56a68515-9c01-4e59-8866-f9c7264ddbcc",
   "metadata": {},
   "outputs": [],
   "source": []
  }
 ],
 "metadata": {
  "kernelspec": {
   "display_name": "Python 3 (ipykernel)",
   "language": "python",
   "name": "python3"
  },
  "language_info": {
   "codemirror_mode": {
    "name": "ipython",
    "version": 3
   },
   "file_extension": ".py",
   "mimetype": "text/x-python",
   "name": "python",
   "nbconvert_exporter": "python",
   "pygments_lexer": "ipython3",
   "version": "3.12.7"
  }
 },
 "nbformat": 4,
 "nbformat_minor": 5
}
