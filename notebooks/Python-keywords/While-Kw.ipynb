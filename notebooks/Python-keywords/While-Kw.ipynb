{
 "cells": [
  {
   "cell_type": "code",
   "execution_count": null,
   "id": "474956a9-33a7-4c7f-aa91-ed819858ab53",
   "metadata": {},
   "outputs": [],
   "source": [
    "# Created at 09-01-2025"
   ]
  },
  {
   "cell_type": "code",
   "execution_count": null,
   "id": "32cb13d6-4af1-430d-8ccc-ee9ba8142caa",
   "metadata": {},
   "outputs": [],
   "source": [
    "# https://www.scientecheasy.com/2022/09/reserved-keywords-in-python.html/"
   ]
  },
  {
   "cell_type": "code",
   "execution_count": 4,
   "id": "72c0ba3a-d954-4524-bfaf-bd9e1f88b986",
   "metadata": {},
   "outputs": [],
   "source": [
    "count = 0"
   ]
  },
  {
   "cell_type": "code",
   "execution_count": 5,
   "id": "b8b719e4-6ead-4874-bf80-33c25976f91c",
   "metadata": {},
   "outputs": [
    {
     "name": "stdout",
     "output_type": "stream",
     "text": [
      "The current count is:  0\n",
      "The current count is:  1\n",
      "The current count is:  2\n",
      "While loop ended!\n"
     ]
    }
   ],
   "source": [
    "while(count < 3):\n",
    "    print(\"The current count is: \", count)\n",
    "    count = count + 1\n",
    "print(\"While loop ended!\")"
   ]
  },
  {
   "cell_type": "code",
   "execution_count": null,
   "id": "7c9f6268-1a48-4cbb-be5a-6192acfd25a5",
   "metadata": {},
   "outputs": [],
   "source": []
  }
 ],
 "metadata": {
  "kernelspec": {
   "display_name": "Python 3 (ipykernel)",
   "language": "python",
   "name": "python3"
  },
  "language_info": {
   "codemirror_mode": {
    "name": "ipython",
    "version": 3
   },
   "file_extension": ".py",
   "mimetype": "text/x-python",
   "name": "python",
   "nbconvert_exporter": "python",
   "pygments_lexer": "ipython3",
   "version": "3.12.7"
  }
 },
 "nbformat": 4,
 "nbformat_minor": 5
}
