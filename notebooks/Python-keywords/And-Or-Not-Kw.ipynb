{
 "cells": [
  {
   "cell_type": "code",
   "execution_count": null,
   "id": "a8b92fb0-7fb5-4581-be4c-3b15f4dde4d3",
   "metadata": {},
   "outputs": [],
   "source": [
    "#Created at 09-01-2025"
   ]
  },
  {
   "cell_type": "code",
   "execution_count": null,
   "id": "dc2cfcf6-0dc6-4ecf-b13c-cb05c445f5fb",
   "metadata": {},
   "outputs": [],
   "source": [
    "# https://www.scientecheasy.com/2022/09/reserved-keywords-in-python.html/"
   ]
  },
  {
   "cell_type": "code",
   "execution_count": 62,
   "id": "8c6510be-a1d0-44d6-8a2e-8c113f4a5a36",
   "metadata": {},
   "outputs": [],
   "source": [
    "a = True"
   ]
  },
  {
   "cell_type": "code",
   "execution_count": 63,
   "id": "6265cd80-b312-4b45-b688-991708c2f40f",
   "metadata": {},
   "outputs": [],
   "source": [
    "b = True"
   ]
  },
  {
   "cell_type": "code",
   "execution_count": 64,
   "id": "b24f9d31-06d0-4904-9ad6-fb438f005746",
   "metadata": {},
   "outputs": [],
   "source": [
    "c = False"
   ]
  },
  {
   "cell_type": "code",
   "execution_count": 65,
   "id": "b1ca43b3-d5dc-4960-8edc-987b5fd6b063",
   "metadata": {},
   "outputs": [
    {
     "name": "stdout",
     "output_type": "stream",
     "text": [
      "True\n"
     ]
    }
   ],
   "source": [
    "if a and b:\n",
    "    print(True or False)"
   ]
  },
  {
   "cell_type": "code",
   "execution_count": 66,
   "id": "1878edf4-c741-4aff-a35f-8a17e9feb7ff",
   "metadata": {},
   "outputs": [
    {
     "name": "stdout",
     "output_type": "stream",
     "text": [
      "True\n"
     ]
    }
   ],
   "source": [
    "if b or c:\n",
    "    print(True or False)"
   ]
  },
  {
   "cell_type": "code",
   "execution_count": 67,
   "id": "2a31064b-97fe-4c47-9cd6-3ddb1a49d0ee",
   "metadata": {},
   "outputs": [
    {
     "name": "stdout",
     "output_type": "stream",
     "text": [
      "c is False\n"
     ]
    }
   ],
   "source": [
    "if not c:\n",
    "    print(\"c is False\")"
   ]
  },
  {
   "cell_type": "code",
   "execution_count": null,
   "id": "8c0fd31e-c645-4a36-8508-a5c89b967843",
   "metadata": {},
   "outputs": [],
   "source": []
  },
  {
   "cell_type": "code",
   "execution_count": null,
   "id": "2b1291d6-12c0-4f30-9102-08bd7eb52f64",
   "metadata": {},
   "outputs": [],
   "source": []
  }
 ],
 "metadata": {
  "kernelspec": {
   "display_name": "Python 3 (ipykernel)",
   "language": "python",
   "name": "python3"
  },
  "language_info": {
   "codemirror_mode": {
    "name": "ipython",
    "version": 3
   },
   "file_extension": ".py",
   "mimetype": "text/x-python",
   "name": "python",
   "nbconvert_exporter": "python",
   "pygments_lexer": "ipython3",
   "version": "3.12.7"
  }
 },
 "nbformat": 4,
 "nbformat_minor": 5
}
