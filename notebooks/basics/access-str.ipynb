{
 "cells": [
  {
   "cell_type": "code",
   "execution_count": 8,
   "id": "66221e68-8407-482e-bc97-230f1222f6c3",
   "metadata": {},
   "outputs": [],
   "source": [
    "my_str=\"HELLO\""
   ]
  },
  {
   "cell_type": "code",
   "execution_count": 9,
   "id": "28d1edb0-f6d1-457a-b4e5-84508b2acdba",
   "metadata": {},
   "outputs": [
    {
     "data": {
      "text/plain": [
       "'HELLO'"
      ]
     },
     "execution_count": 9,
     "metadata": {},
     "output_type": "execute_result"
    }
   ],
   "source": [
    "my_str[0:5]"
   ]
  },
  {
   "cell_type": "code",
   "execution_count": 10,
   "id": "659d3854-1600-4459-b4ea-f41b9f55f7dd",
   "metadata": {},
   "outputs": [],
   "source": [
    "word=\"PYTHON\""
   ]
  },
  {
   "cell_type": "code",
   "execution_count": 11,
   "id": "c2d6b674-ed4d-4cc2-aa18-e80d085ae3c7",
   "metadata": {},
   "outputs": [],
   "source": [
    "connect=my_str + word"
   ]
  },
  {
   "cell_type": "code",
   "execution_count": 12,
   "id": "ec426f06-2a3c-40da-9ea9-3c00fecd77ba",
   "metadata": {},
   "outputs": [
    {
     "data": {
      "text/plain": [
       "'HELLOPYTHON'"
      ]
     },
     "execution_count": 12,
     "metadata": {},
     "output_type": "execute_result"
    }
   ],
   "source": [
    "connect"
   ]
  },
  {
   "cell_type": "code",
   "execution_count": null,
   "id": "ef2107c4-f9ad-4016-ab2f-36e26b941e02",
   "metadata": {},
   "outputs": [],
   "source": []
  }
 ],
 "metadata": {
  "kernelspec": {
   "display_name": "Python 3 (ipykernel)",
   "language": "python",
   "name": "python3"
  },
  "language_info": {
   "codemirror_mode": {
    "name": "ipython",
    "version": 3
   },
   "file_extension": ".py",
   "mimetype": "text/x-python",
   "name": "python",
   "nbconvert_exporter": "python",
   "pygments_lexer": "ipython3",
   "version": "3.12.7"
  }
 },
 "nbformat": 4,
 "nbformat_minor": 5
}
