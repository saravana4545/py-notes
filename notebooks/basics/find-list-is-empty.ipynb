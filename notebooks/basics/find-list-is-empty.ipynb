{
 "cells": [
  {
   "cell_type": "code",
   "execution_count": 1,
   "id": "b9e29051-23c2-453e-8eff-6614917e97ee",
   "metadata": {},
   "outputs": [],
   "source": [
    "def is_list_empty(lst):\n",
    "    \"\"\"\n",
    "    Check if a list is empty.\n",
    "\n",
    "    Parameters:\n",
    "    lst (list): A list to be checked.\n",
    "\n",
    "    Returns:\n",
    "    bool: True if the list is empty, False otherwise.\n",
    "    \"\"\"\n",
    "    # Your code here\n",
    "    if lst:\n",
    "        return False\n",
    "\n",
    "    return True"
   ]
  },
  {
   "cell_type": "code",
   "execution_count": 2,
   "id": "2335fb25-7a9f-4e9d-b2d7-2400e0a1aae3",
   "metadata": {},
   "outputs": [],
   "source": [
    "# Sample test cases"
   ]
  },
  {
   "cell_type": "code",
   "execution_count": 3,
   "id": "2d53357e-12c8-4b22-8738-34338bf5fe91",
   "metadata": {},
   "outputs": [
    {
     "name": "stdout",
     "output_type": "stream",
     "text": [
      "True\n"
     ]
    }
   ],
   "source": [
    "print(is_list_empty([]))  # True"
   ]
  },
  {
   "cell_type": "code",
   "execution_count": 4,
   "id": "102d0940-a919-447c-8b98-00784aeb50ed",
   "metadata": {},
   "outputs": [
    {
     "name": "stdout",
     "output_type": "stream",
     "text": [
      "False\n"
     ]
    }
   ],
   "source": [
    "print(is_list_empty([1, 2, 3]))  # False"
   ]
  },
  {
   "cell_type": "code",
   "execution_count": null,
   "id": "063f2b10-2c32-49e8-91b2-a2f737dbb811",
   "metadata": {},
   "outputs": [],
   "source": []
  }
 ],
 "metadata": {
  "kernelspec": {
   "display_name": "Python 3 (ipykernel)",
   "language": "python",
   "name": "python3"
  },
  "language_info": {
   "codemirror_mode": {
    "name": "ipython",
    "version": 3
   },
   "file_extension": ".py",
   "mimetype": "text/x-python",
   "name": "python",
   "nbconvert_exporter": "python",
   "pygments_lexer": "ipython3",
   "version": "3.12.7"
  }
 },
 "nbformat": 4,
 "nbformat_minor": 5
}
