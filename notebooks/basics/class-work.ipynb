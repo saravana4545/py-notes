{
 "cells": [
  {
   "cell_type": "code",
   "execution_count": 1,
   "id": "0cdc0384-5148-425a-afa9-c47a8fbfb718",
   "metadata": {},
   "outputs": [],
   "source": [
    "class Person:  \n",
    "    \"\"\"\n",
    "    revisit the Person class to validate argument\n",
    "    \"\"\"\n",
    "    def __init__(self, name, job, pay):\n",
    "        self.job  = job\n",
    "        self.pay  = pay\n",
    "                                          # arg 0 is the self instance here\n",
    "                                          # giveRaise = rangetest(..)(giveRaise)\n",
    "    def giveRaise(self, percent):\n",
    "        self.pay = int(self.pay * (1 + percent))"
   ]
  },
  {
   "cell_type": "code",
   "execution_count": 2,
   "id": "b566dc65-d90b-454b-8be0-1a74e1fa2d9a",
   "metadata": {},
   "outputs": [],
   "source": [
    "sue = Person('Sue Jones', 'dev', 100000)"
   ]
  },
  {
   "cell_type": "code",
   "execution_count": 3,
   "id": "24fd320a-748c-4880-9134-bc261ce2df3a",
   "metadata": {},
   "outputs": [
    {
     "data": {
      "text/plain": [
       "<__main__.Person at 0x7fcaddf177d0>"
      ]
     },
     "execution_count": 3,
     "metadata": {},
     "output_type": "execute_result"
    }
   ],
   "source": [
    "sue"
   ]
  },
  {
   "cell_type": "code",
   "execution_count": 4,
   "id": "5d463e26-4df0-494f-be80-5c41499db0ea",
   "metadata": {},
   "outputs": [
    {
     "data": {
      "text/plain": [
       "100000"
      ]
     },
     "execution_count": 4,
     "metadata": {},
     "output_type": "execute_result"
    }
   ],
   "source": [
    "sue.pay"
   ]
  },
  {
   "cell_type": "code",
   "execution_count": null,
   "id": "b505692f-26ba-4e89-b056-94c888ac3bcc",
   "metadata": {},
   "outputs": [],
   "source": []
  }
 ],
 "metadata": {
  "kernelspec": {
   "display_name": "Python 3 (ipykernel)",
   "language": "python",
   "name": "python3"
  },
  "language_info": {
   "codemirror_mode": {
    "name": "ipython",
    "version": 3
   },
   "file_extension": ".py",
   "mimetype": "text/x-python",
   "name": "python",
   "nbconvert_exporter": "python",
   "pygments_lexer": "ipython3",
   "version": "3.12.7"
  }
 },
 "nbformat": 4,
 "nbformat_minor": 5
}
