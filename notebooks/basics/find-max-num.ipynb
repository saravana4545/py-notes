{
 "cells": [
  {
   "cell_type": "code",
   "execution_count": 2,
   "id": "1c6a70f1-3483-42bb-b003-69b96a31203a",
   "metadata": {},
   "outputs": [],
   "source": [
    "def find_max_number(nums):\n",
    "    \"\"\"\n",
    "    This function finds the maximum number in a list.\n",
    "\n",
    "    Args:\n",
    "    nums (list): A list of numbers.\n",
    "\n",
    "    Returns:\n",
    "    int: The maximum number in the list.\n",
    "    \"\"\"\n",
    "\n",
    "    max_num = max(nums)\n",
    "    return max_num"
   ]
  },
  {
   "cell_type": "code",
   "execution_count": null,
   "id": "fd98a022-82cf-4105-8871-801fa24be0eb",
   "metadata": {},
   "outputs": [],
   "source": [
    "# Sample test cases"
   ]
  },
  {
   "cell_type": "code",
   "execution_count": 3,
   "id": "b5c96bf7-5eae-445f-8d46-d060743bf4a0",
   "metadata": {},
   "outputs": [
    {
     "name": "stdout",
     "output_type": "stream",
     "text": [
      "5\n"
     ]
    }
   ],
   "source": [
    "print(find_max_number([1, 2, 3, 4, 5])) # Expected output: 5"
   ]
  },
  {
   "cell_type": "code",
   "execution_count": 5,
   "id": "f0e1bc7b-1ed5-4c48-9fb6-e9cdbbdca774",
   "metadata": {},
   "outputs": [
    {
     "name": "stdout",
     "output_type": "stream",
     "text": [
      "-1\n"
     ]
    }
   ],
   "source": [
    "print(find_max_number([-1, -2, -3, -4, -5])) # Expected output: -1"
   ]
  },
  {
   "cell_type": "code",
   "execution_count": 6,
   "id": "3079dfd1-3458-4d14-b79d-d3f728f620d1",
   "metadata": {},
   "outputs": [
    {
     "name": "stdout",
     "output_type": "stream",
     "text": [
      "9\n"
     ]
    }
   ],
   "source": [
    "print(find_max_number([5, 3, 9, 2, 7])) # Expected output: 9"
   ]
  },
  {
   "cell_type": "code",
   "execution_count": null,
   "id": "2c363091-f60c-4e75-9dcd-5e764402315e",
   "metadata": {},
   "outputs": [],
   "source": []
  }
 ],
 "metadata": {
  "kernelspec": {
   "display_name": "Python 3 (ipykernel)",
   "language": "python",
   "name": "python3"
  },
  "language_info": {
   "codemirror_mode": {
    "name": "ipython",
    "version": 3
   },
   "file_extension": ".py",
   "mimetype": "text/x-python",
   "name": "python",
   "nbconvert_exporter": "python",
   "pygments_lexer": "ipython3",
   "version": "3.12.7"
  }
 },
 "nbformat": 4,
 "nbformat_minor": 5
}
