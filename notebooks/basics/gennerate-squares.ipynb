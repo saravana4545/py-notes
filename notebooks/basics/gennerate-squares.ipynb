{
 "cells": [
  {
   "cell_type": "code",
   "execution_count": 18,
   "id": "d7904b95-c1de-4001-9d8e-f0d0d91f8ff6",
   "metadata": {},
   "outputs": [],
   "source": [
    "def generate_squares(n):\n",
    "    \"\"\"\n",
    "    Generate a list of squares of numbers from 1 to n.\n",
    "\n",
    "    Parameters:\n",
    "    n (int): The upper limit of the range.\n",
    "\n",
    "    Returns:\n",
    "    list: A list of squares of numbers from 1 to n.\n",
    "    \"\"\"\n",
    "    \n",
    "    squares = [n ** 2 for n in range(1, n+1)]\n",
    "    return squares"
   ]
  },
  {
   "cell_type": "code",
   "execution_count": 19,
   "id": "26a91623-3f5a-480c-bd23-bf5096e691bd",
   "metadata": {},
   "outputs": [],
   "source": [
    "# Sample test cases"
   ]
  },
  {
   "cell_type": "code",
   "execution_count": 20,
   "id": "4ea6f37f-b4e0-477f-9264-68542c98d528",
   "metadata": {},
   "outputs": [
    {
     "name": "stdout",
     "output_type": "stream",
     "text": [
      "[1, 4, 9, 16, 25]\n"
     ]
    }
   ],
   "source": [
    "print(generate_squares(5))# Expected output: [1, 4, 9,16,25]"
   ]
  },
  {
   "cell_type": "code",
   "execution_count": 21,
   "id": "a3c3322e-ba6e-4789-8307-66fe2c87652c",
   "metadata": {},
   "outputs": [
    {
     "name": "stdout",
     "output_type": "stream",
     "text": [
      "[1, 4, 9]\n"
     ]
    }
   ],
   "source": [
    "print(generate_squares(3))"
   ]
  },
  {
   "cell_type": "code",
   "execution_count": null,
   "id": "54ba85f5-c9ef-4216-ac85-6d6bcca23464",
   "metadata": {},
   "outputs": [],
   "source": []
  }
 ],
 "metadata": {
  "kernelspec": {
   "display_name": "Python 3 (ipykernel)",
   "language": "python",
   "name": "python3"
  },
  "language_info": {
   "codemirror_mode": {
    "name": "ipython",
    "version": 3
   },
   "file_extension": ".py",
   "mimetype": "text/x-python",
   "name": "python",
   "nbconvert_exporter": "python",
   "pygments_lexer": "ipython3",
   "version": "3.12.7"
  }
 },
 "nbformat": 4,
 "nbformat_minor": 5
}
