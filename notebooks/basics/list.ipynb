{
 "cells": [
  {
   "cell_type": "code",
   "execution_count": null,
   "id": "525c803c-44e5-436a-bac2-b1a7ba6d5bf1",
   "metadata": {},
   "outputs": [],
   "source": [
    "#create a variable a put some values inside"
   ]
  },
  {
   "cell_type": "code",
   "execution_count": 1,
   "id": "c2d28d59-5d42-41a1-a246-cd3d59a3c2ee",
   "metadata": {},
   "outputs": [],
   "source": [
    "list = [1,2,3,4]"
   ]
  },
  {
   "cell_type": "code",
   "execution_count": null,
   "id": "c098e0fd-f33e-4ea9-846a-5b1b0d4d7d81",
   "metadata": {},
   "outputs": [],
   "source": [
    "#get the particular values by calling the variable name"
   ]
  },
  {
   "cell_type": "code",
   "execution_count": 3,
   "id": "e3771ef8-e213-459e-9081-7536fcef4768",
   "metadata": {},
   "outputs": [],
   "source": [
    "get = list[3]"
   ]
  },
  {
   "cell_type": "code",
   "execution_count": null,
   "id": "0464b473-a6dd-4cc2-9a85-3e52f728785e",
   "metadata": {},
   "outputs": [],
   "source": [
    "#call the variable and get the output"
   ]
  },
  {
   "cell_type": "code",
   "execution_count": 4,
   "id": "b85dc09f-e013-4a04-b7ad-35e5a19cfc41",
   "metadata": {},
   "outputs": [
    {
     "data": {
      "text/plain": [
       "4"
      ]
     },
     "execution_count": 4,
     "metadata": {},
     "output_type": "execute_result"
    }
   ],
   "source": [
    "get"
   ]
  },
  {
   "cell_type": "code",
   "execution_count": null,
   "id": "267a2402-bdc6-476b-9f1a-b196b854f0fd",
   "metadata": {},
   "outputs": [],
   "source": []
  }
 ],
 "metadata": {
  "kernelspec": {
   "display_name": "Python 3 (ipykernel)",
   "language": "python",
   "name": "python3"
  },
  "language_info": {
   "codemirror_mode": {
    "name": "ipython",
    "version": 3
   },
   "file_extension": ".py",
   "mimetype": "text/x-python",
   "name": "python",
   "nbconvert_exporter": "python",
   "pygments_lexer": "ipython3",
   "version": "3.12.7"
  }
 },
 "nbformat": 4,
 "nbformat_minor": 5
}
