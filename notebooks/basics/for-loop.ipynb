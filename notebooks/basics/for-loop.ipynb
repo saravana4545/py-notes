{
 "cells": [
  {
   "cell_type": "code",
   "execution_count": null,
   "id": "c133207f-8092-4b53-946f-1a507ce71e7b",
   "metadata": {},
   "outputs": [],
   "source": [
    "#create a variable put some values inside."
   ]
  },
  {
   "cell_type": "code",
   "execution_count": 3,
   "id": "4c25b35e-c73b-42fd-ad72-8e72efacfb89",
   "metadata": {},
   "outputs": [],
   "source": [
    "fruits = [\"apple\", \"banana\", \"cherry\"]"
   ]
  },
  {
   "cell_type": "code",
   "execution_count": null,
   "id": "9916dfac-54f4-4cb9-a908-898184d25938",
   "metadata": {},
   "outputs": [],
   "source": [
    "#In for loop the output comes line by line"
   ]
  },
  {
   "cell_type": "code",
   "execution_count": 4,
   "id": "21fba9d5-13a9-4637-8bbf-7fc2370bc993",
   "metadata": {},
   "outputs": [
    {
     "name": "stdout",
     "output_type": "stream",
     "text": [
      "apple\n",
      "banana\n",
      "cherry\n"
     ]
    }
   ],
   "source": [
    "for fruit in fruits:\n",
    "    print(fruit)"
   ]
  },
  {
   "cell_type": "code",
   "execution_count": null,
   "id": "1c267f6e-2905-4028-81bb-130c9888b69c",
   "metadata": {},
   "outputs": [],
   "source": []
  }
 ],
 "metadata": {
  "kernelspec": {
   "display_name": "Python 3 (ipykernel)",
   "language": "python",
   "name": "python3"
  },
  "language_info": {
   "codemirror_mode": {
    "name": "ipython",
    "version": 3
   },
   "file_extension": ".py",
   "mimetype": "text/x-python",
   "name": "python",
   "nbconvert_exporter": "python",
   "pygments_lexer": "ipython3",
   "version": "3.12.7"
  }
 },
 "nbformat": 4,
 "nbformat_minor": 5
}
