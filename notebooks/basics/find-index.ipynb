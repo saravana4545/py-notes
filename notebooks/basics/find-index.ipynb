{
 "cells": [
  {
   "cell_type": "code",
   "execution_count": 9,
   "id": "8083a1f3-ccd5-4520-b40d-8dab059fadd9",
   "metadata": {},
   "outputs": [],
   "source": [
    "def find_index(item, lst):\n",
    "    \"\"\"\n",
    "    This function finds the index of an item in a list.\n",
    "\n",
    "    Parameters:\n",
    "    item (any): The item to find in the list.\n",
    "    lst (list): The list to search for the item.\n",
    "\n",
    "    Returns:\n",
    "    int: The index of the item in the list, or -1 if the item is not found.\n",
    "    \"\"\"\n",
    "    try:\n",
    "        list_index = lst.index(item)\n",
    "        return list_index\n",
    "    except:\n",
    "        return \"-1\""
   ]
  },
  {
   "cell_type": "code",
   "execution_count": 10,
   "id": "9c74e681-dd93-40c1-9276-00325c1063fa",
   "metadata": {},
   "outputs": [],
   "source": [
    "# Sample test cases"
   ]
  },
  {
   "cell_type": "code",
   "execution_count": 11,
   "id": "e3572071-b1db-4dbf-a2e4-cd0dc334a9b9",
   "metadata": {},
   "outputs": [
    {
     "name": "stdout",
     "output_type": "stream",
     "text": [
      "2\n"
     ]
    }
   ],
   "source": [
    "print(find_index(3, [1, 2, 3, 4, 5]))  # Expected output: 2"
   ]
  },
  {
   "cell_type": "code",
   "execution_count": 12,
   "id": "ebb353d1-142e-4a8f-b4d0-abd651371c6c",
   "metadata": {},
   "outputs": [
    {
     "name": "stdout",
     "output_type": "stream",
     "text": [
      "0\n"
     ]
    }
   ],
   "source": [
    "print(find_index('a', ['a', 'b', 'c']))  # Expected output: 0"
   ]
  },
  {
   "cell_type": "code",
   "execution_count": 13,
   "id": "0fee8ade-2fba-4304-b962-d1d8367757d8",
   "metadata": {},
   "outputs": [
    {
     "name": "stdout",
     "output_type": "stream",
     "text": [
      "-1\n"
     ]
    }
   ],
   "source": [
    "print(find_index(6, [1, 2, 3, 4, 5]))  # Expected output: -1"
   ]
  },
  {
   "cell_type": "code",
   "execution_count": null,
   "id": "71b7817d-3355-45d0-9ec6-2d6ef03ddd0f",
   "metadata": {},
   "outputs": [],
   "source": []
  }
 ],
 "metadata": {
  "kernelspec": {
   "display_name": "Python 3 (ipykernel)",
   "language": "python",
   "name": "python3"
  },
  "language_info": {
   "codemirror_mode": {
    "name": "ipython",
    "version": 3
   },
   "file_extension": ".py",
   "mimetype": "text/x-python",
   "name": "python",
   "nbconvert_exporter": "python",
   "pygments_lexer": "ipython3",
   "version": "3.12.7"
  }
 },
 "nbformat": 4,
 "nbformat_minor": 5
}
