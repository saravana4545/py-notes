{
 "cells": [
  {
   "cell_type": "code",
   "execution_count": 2,
   "id": "923f2e60-cca1-40a8-8f4d-e57f01813d06",
   "metadata": {},
   "outputs": [],
   "source": [
    "a = 10\n",
    "b = 5"
   ]
  },
  {
   "cell_type": "code",
   "execution_count": 3,
   "id": "dcd895d1-be6f-4851-90a3-4f80cc52f7cd",
   "metadata": {},
   "outputs": [
    {
     "name": "stdout",
     "output_type": "stream",
     "text": [
      "Sum: 15\n"
     ]
    }
   ],
   "source": [
    "print(\"Sum:\", a + b)"
   ]
  },
  {
   "cell_type": "code",
   "execution_count": 4,
   "id": "4d0dda00-c07f-4ea0-ac16-96e6138a48d3",
   "metadata": {},
   "outputs": [
    {
     "name": "stdout",
     "output_type": "stream",
     "text": [
      "Difference: 5\n"
     ]
    }
   ],
   "source": [
    "print(\"Difference:\", a - b)"
   ]
  },
  {
   "cell_type": "code",
   "execution_count": 5,
   "id": "276be051-52ea-450c-bc2b-55433f0ce7a5",
   "metadata": {},
   "outputs": [
    {
     "name": "stdout",
     "output_type": "stream",
     "text": [
      "Product: 50\n"
     ]
    }
   ],
   "source": [
    "print(\"Product:\", a * b)"
   ]
  },
  {
   "cell_type": "code",
   "execution_count": 6,
   "id": "ccf50821-7cd8-4643-a4e0-42e05837dc7b",
   "metadata": {},
   "outputs": [
    {
     "name": "stdout",
     "output_type": "stream",
     "text": [
      "Division: 2.0\n"
     ]
    }
   ],
   "source": [
    "print(\"Division:\", a / b)"
   ]
  },
  {
   "cell_type": "code",
   "execution_count": null,
   "id": "c6088c15-410c-4b47-862f-69656d3086f5",
   "metadata": {},
   "outputs": [],
   "source": []
  }
 ],
 "metadata": {
  "kernelspec": {
   "display_name": "Python 3 (ipykernel)",
   "language": "python",
   "name": "python3"
  },
  "language_info": {
   "codemirror_mode": {
    "name": "ipython",
    "version": 3
   },
   "file_extension": ".py",
   "mimetype": "text/x-python",
   "name": "python",
   "nbconvert_exporter": "python",
   "pygments_lexer": "ipython3",
   "version": "3.12.7"
  }
 },
 "nbformat": 4,
 "nbformat_minor": 5
}
