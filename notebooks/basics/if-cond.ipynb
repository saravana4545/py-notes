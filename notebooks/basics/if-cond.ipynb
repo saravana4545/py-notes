{
 "cells": [
  {
   "cell_type": "code",
   "execution_count": null,
   "id": "b1972d34-d36b-4e0d-92ac-d91240326f37",
   "metadata": {},
   "outputs": [],
   "source": [
    "#create a variable and put some value"
   ]
  },
  {
   "cell_type": "code",
   "execution_count": 5,
   "id": "561a4e13-4967-447b-8b10-276a5fd33147",
   "metadata": {},
   "outputs": [],
   "source": [
    "x = 10"
   ]
  },
  {
   "cell_type": "code",
   "execution_count": null,
   "id": "9ad195d4-ee64-4ba5-bfec-579f1bcf9eb1",
   "metadata": {},
   "outputs": [],
   "source": [
    "#using if condition the value greater or less"
   ]
  },
  {
   "cell_type": "code",
   "execution_count": 9,
   "id": "ec8468cb-99b2-4666-94e6-e702afcab379",
   "metadata": {},
   "outputs": [
    {
     "name": "stdout",
     "output_type": "stream",
     "text": [
      "x is greater than 5\n"
     ]
    }
   ],
   "source": [
    "if x > 5:\n",
    "    print(\"x is greater than 5\")\n",
    "else:\n",
    "    print(\"x is 5 or less\")"
   ]
  }
 ],
 "metadata": {
  "kernelspec": {
   "display_name": "Python 3 (ipykernel)",
   "language": "python",
   "name": "python3"
  },
  "language_info": {
   "codemirror_mode": {
    "name": "ipython",
    "version": 3
   },
   "file_extension": ".py",
   "mimetype": "text/x-python",
   "name": "python",
   "nbconvert_exporter": "python",
   "pygments_lexer": "ipython3",
   "version": "3.12.7"
  }
 },
 "nbformat": 4,
 "nbformat_minor": 5
}
