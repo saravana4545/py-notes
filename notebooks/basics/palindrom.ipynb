{
 "cells": [
  {
   "cell_type": "code",
   "execution_count": 1,
   "id": "66fc796d-0b4b-4af3-8cd9-b3b2136df351",
   "metadata": {},
   "outputs": [],
   "source": [
    "def is_palindrome(string):\n",
    "    string = string.lower().replace(\" \", \"\")\n",
    "    return string == string[::-1]"
   ]
  },
  {
   "cell_type": "code",
   "execution_count": 8,
   "id": "313a1397-5f8f-4772-b236-8cdf34a838bf",
   "metadata": {},
   "outputs": [
    {
     "name": "stdin",
     "output_type": "stream",
     "text": [
      "Enter a string:  madam\n"
     ]
    },
    {
     "name": "stdout",
     "output_type": "stream",
     "text": [
      "\"madam\" is a palindrome.\n"
     ]
    }
   ],
   "source": [
    "text = input(\"Enter a string: \")\n",
    "if is_palindrome(text):\n",
    "    print(f'\"{text}\" is a palindrome.')\n",
    "else:\n",
    "    print(f'\"{text}\" is not a palindrome.')"
   ]
  },
  {
   "cell_type": "code",
   "execution_count": null,
   "id": "0ad5d114-b78d-4237-94bd-b5e2a428bd48",
   "metadata": {},
   "outputs": [],
   "source": []
  }
 ],
 "metadata": {
  "kernelspec": {
   "display_name": "Python 3 (ipykernel)",
   "language": "python",
   "name": "python3"
  },
  "language_info": {
   "codemirror_mode": {
    "name": "ipython",
    "version": 3
   },
   "file_extension": ".py",
   "mimetype": "text/x-python",
   "name": "python",
   "nbconvert_exporter": "python",
   "pygments_lexer": "ipython3",
   "version": "3.12.7"
  }
 },
 "nbformat": 4,
 "nbformat_minor": 5
}
