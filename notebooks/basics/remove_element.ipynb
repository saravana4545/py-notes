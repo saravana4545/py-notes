{
 "cells": [
  {
   "cell_type": "code",
   "execution_count": 3,
   "id": "c65ff3a6-bb7e-4bac-aaa8-25bb7ea89b9a",
   "metadata": {},
   "outputs": [],
   "source": [
    "def remove_element(lst, value):\n",
    "    \"\"\"\n",
    "    Write a function to remove an element from a list by its value.\n",
    "    \n",
    "    Parameters:\n",
    "    lst (list): The list from which the element needs to be removed.\n",
    "    value: The value of the element to be removed.\n",
    "    \n",
    "    Returns:\n",
    "    list: The updated list after removing the element.\n",
    "    \"\"\"\n",
    "    lst.remove(value)\n",
    "    return lst"
   ]
  },
  {
   "cell_type": "code",
   "execution_count": 4,
   "id": "691e2536-cc35-4ac2-b81a-625f71092540",
   "metadata": {},
   "outputs": [],
   "source": [
    "# Sample test cases"
   ]
  },
  {
   "cell_type": "code",
   "execution_count": 5,
   "id": "ef30d2b1-2cc2-4394-8af7-ff62b6fb5c32",
   "metadata": {},
   "outputs": [
    {
     "name": "stdout",
     "output_type": "stream",
     "text": [
      "[1, 2, 4, 5]\n"
     ]
    }
   ],
   "source": [
    "print(remove_element([1, 2, 3, 4, 5], 3)) # Expected output: [1, 2, 4, 5]"
   ]
  },
  {
   "cell_type": "code",
   "execution_count": 6,
   "id": "83761bfa-b5a0-4604-ab87-68e0bae4a545",
   "metadata": {},
   "outputs": [
    {
     "name": "stdout",
     "output_type": "stream",
     "text": [
      "['a', 'c', 'd', 'e']\n"
     ]
    }
   ],
   "source": [
    "print(remove_element(['a', 'b', 'c', 'd', 'e'], 'b')) # Expected output: ['a', 'c', 'd', 'e']"
   ]
  },
  {
   "cell_type": "code",
   "execution_count": null,
   "id": "654eae71-28c0-43d4-9a37-7e482a79c77b",
   "metadata": {},
   "outputs": [],
   "source": []
  }
 ],
 "metadata": {
  "kernelspec": {
   "display_name": "Python 3 (ipykernel)",
   "language": "python",
   "name": "python3"
  },
  "language_info": {
   "codemirror_mode": {
    "name": "ipython",
    "version": 3
   },
   "file_extension": ".py",
   "mimetype": "text/x-python",
   "name": "python",
   "nbconvert_exporter": "python",
   "pygments_lexer": "ipython3",
   "version": "3.12.7"
  }
 },
 "nbformat": 4,
 "nbformat_minor": 5
}
