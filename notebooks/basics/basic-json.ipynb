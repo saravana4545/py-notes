{
 "cells": [
  {
   "cell_type": "code",
   "execution_count": 1,
   "id": "e8907257-ca37-4076-8c86-d7d54cff1994",
   "metadata": {},
   "outputs": [],
   "source": [
    "import json"
   ]
  },
  {
   "cell_type": "code",
   "execution_count": 2,
   "id": "d022e4bf-8056-469e-8536-4e2893d6438f",
   "metadata": {},
   "outputs": [],
   "source": [
    "class City:\n",
    "    def toJSON(self):\n",
    "        return json.dumps(self, default=lambda o: o.__dict__, sort_keys=True, indent=4)"
   ]
  },
  {
   "cell_type": "code",
   "execution_count": 3,
   "id": "025bc25f-5156-467a-ba19-5fedf233d1d0",
   "metadata": {},
   "outputs": [
    {
     "name": "stdout",
     "output_type": "stream",
     "text": [
      "{\n",
      "    \"id\": 1,\n",
      "    \"name\": \"Onur\"\n",
      "}\n"
     ]
    }
   ],
   "source": [
    "me = City()\n",
    "me.name = \"Onur\"\n",
    "me.id = 1\n",
    "\n",
    "print(me.toJSON()) "
   ]
  },
  {
   "cell_type": "code",
   "execution_count": null,
   "id": "df2452f4-da91-4e15-a553-74f8f8cc3e09",
   "metadata": {},
   "outputs": [],
   "source": []
  }
 ],
 "metadata": {
  "kernelspec": {
   "display_name": "Python 3 (ipykernel)",
   "language": "python",
   "name": "python3"
  },
  "language_info": {
   "codemirror_mode": {
    "name": "ipython",
    "version": 3
   },
   "file_extension": ".py",
   "mimetype": "text/x-python",
   "name": "python",
   "nbconvert_exporter": "python",
   "pygments_lexer": "ipython3",
   "version": "3.12.7"
  }
 },
 "nbformat": 4,
 "nbformat_minor": 5
}
