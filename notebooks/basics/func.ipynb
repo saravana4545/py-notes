{
 "cells": [
  {
   "cell_type": "code",
   "execution_count": 1,
   "id": "33c77fa1-d03c-488d-91fc-36aa5638a5f5",
   "metadata": {},
   "outputs": [],
   "source": [
    "def greet(name):\n",
    "    print(\"Hello,\", name)"
   ]
  },
  {
   "cell_type": "code",
   "execution_count": 2,
   "id": "995d0d7e-0e6f-498c-b6a1-2d7975b9b444",
   "metadata": {},
   "outputs": [
    {
     "name": "stdout",
     "output_type": "stream",
     "text": [
      "Hello, Alice\n"
     ]
    }
   ],
   "source": [
    "greet(\"Alice\")"
   ]
  },
  {
   "cell_type": "code",
   "execution_count": 3,
   "id": "4a52f600-4c18-484f-a355-5ef0b6c9adbd",
   "metadata": {},
   "outputs": [
    {
     "name": "stdout",
     "output_type": "stream",
     "text": [
      "Hello, Bob\n"
     ]
    }
   ],
   "source": [
    "greet(\"Bob\")"
   ]
  },
  {
   "cell_type": "code",
   "execution_count": null,
   "id": "3bfc5e23-ee39-4459-bbee-f2b539a1a5e0",
   "metadata": {},
   "outputs": [],
   "source": []
  }
 ],
 "metadata": {
  "kernelspec": {
   "display_name": "Python 3 (ipykernel)",
   "language": "python",
   "name": "python3"
  },
  "language_info": {
   "codemirror_mode": {
    "name": "ipython",
    "version": 3
   },
   "file_extension": ".py",
   "mimetype": "text/x-python",
   "name": "python",
   "nbconvert_exporter": "python",
   "pygments_lexer": "ipython3",
   "version": "3.12.7"
  }
 },
 "nbformat": 4,
 "nbformat_minor": 5
}
