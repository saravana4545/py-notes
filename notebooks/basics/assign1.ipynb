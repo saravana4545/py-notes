{
 "cells": [
  {
   "cell_type": "code",
   "execution_count": 3,
   "id": "76cc0de5-23f4-462f-9b03-460e19ff26cf",
   "metadata": {},
   "outputs": [
    {
     "name": "stdin",
     "output_type": "stream",
     "text": [
      "ENTER THE NUMBER: 22\n"
     ]
    },
    {
     "name": "stdout",
     "output_type": "stream",
     "text": [
      "It's a even number...\n"
     ]
    }
   ],
   "source": [
    "number = int(input(\"ENTER THE NUMBER:\"))\n",
    "if number%2:\n",
    "    print(\"It's a odd number...\")\n",
    "else:\n",
    "    print(\"It's a even number...\")"
   ]
  },
  {
   "cell_type": "code",
   "execution_count": null,
   "id": "3d37c503-3747-4204-8749-1244a5dc101e",
   "metadata": {},
   "outputs": [],
   "source": []
  }
 ],
 "metadata": {
  "kernelspec": {
   "display_name": "Python 3 (ipykernel)",
   "language": "python",
   "name": "python3"
  },
  "language_info": {
   "codemirror_mode": {
    "name": "ipython",
    "version": 3
   },
   "file_extension": ".py",
   "mimetype": "text/x-python",
   "name": "python",
   "nbconvert_exporter": "python",
   "pygments_lexer": "ipython3",
   "version": "3.12.7"
  }
 },
 "nbformat": 4,
 "nbformat_minor": 5
}
