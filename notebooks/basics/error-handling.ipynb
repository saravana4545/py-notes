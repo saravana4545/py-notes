{
 "cells": [
  {
   "cell_type": "code",
   "execution_count": 6,
   "id": "c08f4752-e97d-4fa8-a9fc-7c88e531904d",
   "metadata": {},
   "outputs": [
    {
     "name": "stdin",
     "output_type": "stream",
     "text": [
      "Enter a number:  saro\n"
     ]
    },
    {
     "name": "stdout",
     "output_type": "stream",
     "text": [
      "That's not a valid number!\n"
     ]
    }
   ],
   "source": [
    "try:\n",
    "    x = int(input(\"Enter a number: \"))\n",
    "    print(\"You entered:\", x)\n",
    "except ValueError:\n",
    "    print(\"That's not a valid number!\")"
   ]
  },
  {
   "cell_type": "code",
   "execution_count": null,
   "id": "8a7922af-3e3d-409c-a03d-ec4a12d10614",
   "metadata": {},
   "outputs": [],
   "source": []
  }
 ],
 "metadata": {
  "kernelspec": {
   "display_name": "Python 3 (ipykernel)",
   "language": "python",
   "name": "python3"
  },
  "language_info": {
   "codemirror_mode": {
    "name": "ipython",
    "version": 3
   },
   "file_extension": ".py",
   "mimetype": "text/x-python",
   "name": "python",
   "nbconvert_exporter": "python",
   "pygments_lexer": "ipython3",
   "version": "3.12.7"
  }
 },
 "nbformat": 4,
 "nbformat_minor": 5
}
