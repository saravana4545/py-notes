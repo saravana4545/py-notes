{
 "cells": [
  {
   "cell_type": "code",
   "execution_count": 1,
   "id": "a1fb5a89-e607-4dd1-ae51-9e513eb274ae",
   "metadata": {},
   "outputs": [],
   "source": [
    "# ArithmeticError"
   ]
  },
  {
   "cell_type": "code",
   "execution_count": 29,
   "id": "6cb234c6-92f2-4922-bb59-b9f2f06ada66",
   "metadata": {},
   "outputs": [],
   "source": [
    "def my_function(x,y):\n",
    "    try:\n",
    "        result = x ** y\n",
    "        return result\n",
    "    except OverflowError as e:\n",
    "        print(f\"OverflowError occurred: {e}\")"
   ]
  },
  {
   "cell_type": "code",
   "execution_count": 33,
   "id": "0a4e8ab7-db0a-467b-ab72-632980712703",
   "metadata": {},
   "outputs": [
    {
     "name": "stdout",
     "output_type": "stream",
     "text": [
      "100000000000000000000000000000000000000000000000000000000000000000000000000000000000000000000000000000000000000000000000000000000000000000000000000000000000000000000000000000000000000000000000000000000\n"
     ]
    }
   ],
   "source": [
    "print(my_function(100,100))"
   ]
  },
  {
   "cell_type": "code",
   "execution_count": null,
   "id": "393c75ff-ce59-4fb3-b157-c67310d1331a",
   "metadata": {},
   "outputs": [],
   "source": []
  }
 ],
 "metadata": {
  "kernelspec": {
   "display_name": "Python 3 (ipykernel)",
   "language": "python",
   "name": "python3"
  },
  "language_info": {
   "codemirror_mode": {
    "name": "ipython",
    "version": 3
   },
   "file_extension": ".py",
   "mimetype": "text/x-python",
   "name": "python",
   "nbconvert_exporter": "python",
   "pygments_lexer": "ipython3",
   "version": "3.12.7"
  }
 },
 "nbformat": 4,
 "nbformat_minor": 5
}
