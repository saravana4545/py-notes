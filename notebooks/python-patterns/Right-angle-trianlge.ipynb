{
 "cells": [
  {
   "cell_type": "code",
   "execution_count": null,
   "id": "8c079d05-7402-4107-bd24-36d49f2dd8c0",
   "metadata": {},
   "outputs": [],
   "source": [
    "#Right-Angled Triangle Pattern."
   ]
  },
  {
   "cell_type": "code",
   "execution_count": 11,
   "id": "3e981814-bd85-4ffc-a57c-55d12bd25f49",
   "metadata": {},
   "outputs": [],
   "source": [
    "def triangle():\n",
    "    rows = 5\n",
    "    for i in range(1, rows + 1):\n",
    "        print(\"*\" * i)"
   ]
  },
  {
   "cell_type": "code",
   "execution_count": 12,
   "id": "fccb6de3-1db8-4039-91aa-d11418da2cee",
   "metadata": {},
   "outputs": [
    {
     "name": "stdout",
     "output_type": "stream",
     "text": [
      "*\n",
      "**\n",
      "***\n",
      "****\n",
      "*****\n"
     ]
    }
   ],
   "source": [
    "triangle()"
   ]
  },
  {
   "cell_type": "code",
   "execution_count": null,
   "id": "11b4352b-a0c8-4dee-add4-1533d346a22e",
   "metadata": {},
   "outputs": [],
   "source": []
  }
 ],
 "metadata": {
  "kernelspec": {
   "display_name": "Python 3 (ipykernel)",
   "language": "python",
   "name": "python3"
  },
  "language_info": {
   "codemirror_mode": {
    "name": "ipython",
    "version": 3
   },
   "file_extension": ".py",
   "mimetype": "text/x-python",
   "name": "python",
   "nbconvert_exporter": "python",
   "pygments_lexer": "ipython3",
   "version": "3.12.7"
  }
 },
 "nbformat": 4,
 "nbformat_minor": 5
}
