{
 "cells": [
  {
   "cell_type": "code",
   "execution_count": null,
   "id": "7a3990b4-ec62-4a68-8f8a-e80b7e8d56ae",
   "metadata": {},
   "outputs": [],
   "source": [
    "#Inverted Right-Angled Triangle"
   ]
  },
  {
   "cell_type": "code",
   "execution_count": 10,
   "id": "c6ead2e2-a5e1-4324-a34d-214273d63570",
   "metadata": {},
   "outputs": [],
   "source": [
    "def inverted_triangle():\n",
    "    rows = 5\n",
    "    for i in range(rows, 0, -1):\n",
    "        print(\"*\" * i)"
   ]
  },
  {
   "cell_type": "code",
   "execution_count": 11,
   "id": "70cd789a-b13a-4c40-bfbb-e8fadbfd4a99",
   "metadata": {},
   "outputs": [
    {
     "name": "stdout",
     "output_type": "stream",
     "text": [
      "*****\n",
      "****\n",
      "***\n",
      "**\n",
      "*\n"
     ]
    }
   ],
   "source": [
    "inverted_triangle()"
   ]
  },
  {
   "cell_type": "code",
   "execution_count": null,
   "id": "e96e4429-84a5-4588-ac4a-d17cc9a9e416",
   "metadata": {},
   "outputs": [],
   "source": []
  }
 ],
 "metadata": {
  "kernelspec": {
   "display_name": "Python 3 (ipykernel)",
   "language": "python",
   "name": "python3"
  },
  "language_info": {
   "codemirror_mode": {
    "name": "ipython",
    "version": 3
   },
   "file_extension": ".py",
   "mimetype": "text/x-python",
   "name": "python",
   "nbconvert_exporter": "python",
   "pygments_lexer": "ipython3",
   "version": "3.12.7"
  }
 },
 "nbformat": 4,
 "nbformat_minor": 5
}
