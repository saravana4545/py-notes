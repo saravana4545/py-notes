{
 "cells": [
  {
   "cell_type": "code",
   "execution_count": null,
   "id": "6c869a7d-3980-4483-b2c7-2e41480d9889",
   "metadata": {},
   "outputs": [],
   "source": [
    "# create diaamond pattern"
   ]
  },
  {
   "cell_type": "code",
   "execution_count": 3,
   "id": "15c2c68d-1a2a-4254-a71a-81ce591f49a6",
   "metadata": {},
   "outputs": [],
   "source": [
    "def diamond_shape():\n",
    "    rows = 5\n",
    "    for i in range(1, rows + 1):\n",
    "        print(\" \" * (rows - i) + \"* \" * i)\n",
    "    for i in range(rows - 1, 0, -1):\n",
    "        print(\" \" * (rows - i) + \"* \" * i)"
   ]
  },
  {
   "cell_type": "code",
   "execution_count": 4,
   "id": "06ff080e-9a48-4e4a-9846-d755e8b0f7b7",
   "metadata": {},
   "outputs": [
    {
     "name": "stdout",
     "output_type": "stream",
     "text": [
      "    * \n",
      "   * * \n",
      "  * * * \n",
      " * * * * \n",
      "* * * * * \n",
      " * * * * \n",
      "  * * * \n",
      "   * * \n",
      "    * \n"
     ]
    }
   ],
   "source": [
    "diamond_shape()"
   ]
  },
  {
   "cell_type": "code",
   "execution_count": null,
   "id": "0004bfe5-1875-4f7f-9b7f-255de25635db",
   "metadata": {},
   "outputs": [],
   "source": []
  }
 ],
 "metadata": {
  "kernelspec": {
   "display_name": "Python 3 (ipykernel)",
   "language": "python",
   "name": "python3"
  },
  "language_info": {
   "codemirror_mode": {
    "name": "ipython",
    "version": 3
   },
   "file_extension": ".py",
   "mimetype": "text/x-python",
   "name": "python",
   "nbconvert_exporter": "python",
   "pygments_lexer": "ipython3",
   "version": "3.12.7"
  }
 },
 "nbformat": 4,
 "nbformat_minor": 5
}
