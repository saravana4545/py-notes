{
 "cells": [
  {
   "cell_type": "code",
   "execution_count": null,
   "id": "7bab063a-1e54-4046-af94-52ea417ecf82",
   "metadata": {},
   "outputs": [],
   "source": [
    "# Floyd’s Triangle"
   ]
  },
  {
   "cell_type": "code",
   "execution_count": 2,
   "id": "8d7f16fd-6062-4328-9941-90bad49878b1",
   "metadata": {},
   "outputs": [],
   "source": [
    "def nums():\n",
    "    rows = 5\n",
    "    num = 1\n",
    "    for i in range(1, rows + 1):\n",
    "        for j in range(1, i + 1):\n",
    "            print(num, end=\" \")\n",
    "            num += 1\n",
    "        print()"
   ]
  },
  {
   "cell_type": "code",
   "execution_count": 3,
   "id": "e29e54e8-20fe-44e1-b03a-803d8dd0ce53",
   "metadata": {},
   "outputs": [
    {
     "name": "stdout",
     "output_type": "stream",
     "text": [
      "1 \n",
      "2 3 \n",
      "4 5 6 \n",
      "7 8 9 10 \n",
      "11 12 13 14 15 \n"
     ]
    }
   ],
   "source": [
    "nums()"
   ]
  },
  {
   "cell_type": "code",
   "execution_count": null,
   "id": "aa9e49f3-f71d-42fd-b996-a7b4eac94393",
   "metadata": {},
   "outputs": [],
   "source": []
  }
 ],
 "metadata": {
  "kernelspec": {
   "display_name": "Python 3 (ipykernel)",
   "language": "python",
   "name": "python3"
  },
  "language_info": {
   "codemirror_mode": {
    "name": "ipython",
    "version": 3
   },
   "file_extension": ".py",
   "mimetype": "text/x-python",
   "name": "python",
   "nbconvert_exporter": "python",
   "pygments_lexer": "ipython3",
   "version": "3.12.7"
  }
 },
 "nbformat": 4,
 "nbformat_minor": 5
}
