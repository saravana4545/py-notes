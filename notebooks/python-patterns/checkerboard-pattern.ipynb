{
 "cells": [
  {
   "cell_type": "code",
   "execution_count": null,
   "id": "5316d936-71b7-4394-b28b-0a375ad3bbca",
   "metadata": {},
   "outputs": [],
   "source": [
    "# checkerboard pattern"
   ]
  },
  {
   "cell_type": "code",
   "execution_count": 5,
   "id": "f45ab5cf-c88b-48d6-8ba1-f044b40e2f4d",
   "metadata": {},
   "outputs": [],
   "source": [
    "def checkerboard():\n",
    "    rows = 5\n",
    "    for i in range(1, rows + 1):\n",
    "        for j in range(1, rows + 1):\n",
    "            if (i + j) % 2 == 0:\n",
    "                print(\"1\", end=\" \")\n",
    "            else:\n",
    "                print(\"0\", end=\" \")\n",
    "        print()"
   ]
  },
  {
   "cell_type": "code",
   "execution_count": 6,
   "id": "36ace4d3-20ea-4689-acb0-291ae1a91869",
   "metadata": {},
   "outputs": [
    {
     "name": "stdout",
     "output_type": "stream",
     "text": [
      "1 0 1 0 1 \n",
      "0 1 0 1 0 \n",
      "1 0 1 0 1 \n",
      "0 1 0 1 0 \n",
      "1 0 1 0 1 \n"
     ]
    }
   ],
   "source": [
    "checkerboard()"
   ]
  },
  {
   "cell_type": "code",
   "execution_count": null,
   "id": "9e9f3f02-a137-4f0d-95c7-15ad2bc113b4",
   "metadata": {},
   "outputs": [],
   "source": []
  }
 ],
 "metadata": {
  "kernelspec": {
   "display_name": "Python 3 (ipykernel)",
   "language": "python",
   "name": "python3"
  },
  "language_info": {
   "codemirror_mode": {
    "name": "ipython",
    "version": 3
   },
   "file_extension": ".py",
   "mimetype": "text/x-python",
   "name": "python",
   "nbconvert_exporter": "python",
   "pygments_lexer": "ipython3",
   "version": "3.12.7"
  }
 },
 "nbformat": 4,
 "nbformat_minor": 5
}
