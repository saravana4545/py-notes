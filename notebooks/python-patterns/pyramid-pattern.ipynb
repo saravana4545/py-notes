{
 "cells": [
  {
   "cell_type": "code",
   "execution_count": null,
   "id": "9366c37e-a467-43be-8b8c-b11392383ae4",
   "metadata": {},
   "outputs": [],
   "source": [
    "# create pyramid pattern"
   ]
  },
  {
   "cell_type": "code",
   "execution_count": 12,
   "id": "dcdf5a93-176c-4197-a66f-8c08a94bee56",
   "metadata": {},
   "outputs": [],
   "source": [
    "def pyramid():\n",
    "    rows = 5\n",
    "    for i in range(1, rows + 1):\n",
    "        print(\" \" * (rows - i) + \"* \" * i)"
   ]
  },
  {
   "cell_type": "code",
   "execution_count": 13,
   "id": "8a2827a3-7c49-4c02-91f6-434ee1e4e1e6",
   "metadata": {},
   "outputs": [
    {
     "name": "stdout",
     "output_type": "stream",
     "text": [
      "    * \n",
      "   * * \n",
      "  * * * \n",
      " * * * * \n",
      "* * * * * \n"
     ]
    }
   ],
   "source": [
    "pyramid()"
   ]
  },
  {
   "cell_type": "code",
   "execution_count": null,
   "id": "8e73c785-c4ec-4fbf-aae5-203fd67a81b7",
   "metadata": {},
   "outputs": [],
   "source": []
  }
 ],
 "metadata": {
  "kernelspec": {
   "display_name": "Python 3 (ipykernel)",
   "language": "python",
   "name": "python3"
  },
  "language_info": {
   "codemirror_mode": {
    "name": "ipython",
    "version": 3
   },
   "file_extension": ".py",
   "mimetype": "text/x-python",
   "name": "python",
   "nbconvert_exporter": "python",
   "pygments_lexer": "ipython3",
   "version": "3.12.7"
  }
 },
 "nbformat": 4,
 "nbformat_minor": 5
}
