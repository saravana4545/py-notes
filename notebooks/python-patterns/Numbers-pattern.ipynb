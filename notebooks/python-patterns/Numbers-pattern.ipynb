{
 "cells": [
  {
   "cell_type": "code",
   "execution_count": null,
   "id": "257740d0-cfb6-4830-9505-4b2b65f2223c",
   "metadata": {},
   "outputs": [],
   "source": [
    "# 6. Number Pattern"
   ]
  },
  {
   "cell_type": "code",
   "execution_count": 5,
   "id": "9ac0ba19-7c4b-4337-89cd-6eb69f91e22a",
   "metadata": {},
   "outputs": [],
   "source": [
    "def num_pattern():\n",
    "    rows = 5\n",
    "    for i in range(1, rows + 1):\n",
    "        print(\" \".join(str(j) for j in range(1, i + 1)))"
   ]
  },
  {
   "cell_type": "code",
   "execution_count": 6,
   "id": "8a3816b2-df2a-4cc7-b763-5882add227cf",
   "metadata": {},
   "outputs": [
    {
     "name": "stdout",
     "output_type": "stream",
     "text": [
      "1\n",
      "1 2\n",
      "1 2 3\n",
      "1 2 3 4\n",
      "1 2 3 4 5\n"
     ]
    }
   ],
   "source": [
    "num_pattern()"
   ]
  },
  {
   "cell_type": "code",
   "execution_count": null,
   "id": "63a42940-5f84-46d9-b529-0eaaf72f1ab7",
   "metadata": {},
   "outputs": [],
   "source": []
  }
 ],
 "metadata": {
  "kernelspec": {
   "display_name": "Python 3 (ipykernel)",
   "language": "python",
   "name": "python3"
  },
  "language_info": {
   "codemirror_mode": {
    "name": "ipython",
    "version": 3
   },
   "file_extension": ".py",
   "mimetype": "text/x-python",
   "name": "python",
   "nbconvert_exporter": "python",
   "pygments_lexer": "ipython3",
   "version": "3.12.7"
  }
 },
 "nbformat": 4,
 "nbformat_minor": 5
}
