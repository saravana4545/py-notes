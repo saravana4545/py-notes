{
 "cells": [
  {
   "cell_type": "code",
   "execution_count": null,
   "id": "da21886c-d526-4044-919c-5015033835c4",
   "metadata": {},
   "outputs": [],
   "source": [
    "#create a method called gcd()"
   ]
  },
  {
   "cell_type": "code",
   "execution_count": 29,
   "id": "c3fafbab-5b50-489f-b0aa-aff92182f6ca",
   "metadata": {},
   "outputs": [],
   "source": [
    "def gcd(a, b):\n",
    "    if b == 0:  \n",
    "        return a\n",
    "    else:\n",
    "        return gcd(b, a % b)"
   ]
  },
  {
   "cell_type": "code",
   "execution_count": null,
   "id": "f213fd82-c540-4a70-8f8f-9a6a253886dc",
   "metadata": {},
   "outputs": [],
   "source": [
    "#put the values for a and b by calling the method"
   ]
  },
  {
   "cell_type": "code",
   "execution_count": 30,
   "id": "1ca0847c-bc99-45df-a164-2950dde7725a",
   "metadata": {},
   "outputs": [
    {
     "name": "stdout",
     "output_type": "stream",
     "text": [
      "1\n"
     ]
    }
   ],
   "source": [
    "print(gcd(17, 23))"
   ]
  },
  {
   "cell_type": "code",
   "execution_count": null,
   "id": "8d72322c-52c2-4680-9e6e-7dce9929bbb2",
   "metadata": {},
   "outputs": [],
   "source": []
  }
 ],
 "metadata": {
  "kernelspec": {
   "display_name": "Python 3 (ipykernel)",
   "language": "python",
   "name": "python3"
  },
  "language_info": {
   "codemirror_mode": {
    "name": "ipython",
    "version": 3
   },
   "file_extension": ".py",
   "mimetype": "text/x-python",
   "name": "python",
   "nbconvert_exporter": "python",
   "pygments_lexer": "ipython3",
   "version": "3.12.7"
  }
 },
 "nbformat": 4,
 "nbformat_minor": 5
}
