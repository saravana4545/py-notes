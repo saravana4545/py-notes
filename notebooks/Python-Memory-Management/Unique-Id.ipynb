{
 "cells": [
  {
   "cell_type": "code",
   "execution_count": 1,
   "id": "68c177cc-a250-4bac-ad2c-d6704121c09b",
   "metadata": {},
   "outputs": [],
   "source": [
    "# Created at 20-01-2025"
   ]
  },
  {
   "cell_type": "code",
   "execution_count": 2,
   "id": "3f469d55-9b86-4faa-a4f2-cd93b2ca79e1",
   "metadata": {},
   "outputs": [],
   "source": [
    "# https://www.scientecheasy.com/2022/09/memory-management-in-python.html/"
   ]
  },
  {
   "cell_type": "code",
   "execution_count": 3,
   "id": "7623386d-27f3-4137-b458-d9ce12e3b004",
   "metadata": {},
   "outputs": [],
   "source": [
    "# Python Memory Management Example."
   ]
  },
  {
   "cell_type": "code",
   "execution_count": 4,
   "id": "0085f5c9-c6b1-41cd-a6d7-2fd422818d35",
   "metadata": {},
   "outputs": [],
   "source": [
    "num1 = 10"
   ]
  },
  {
   "cell_type": "code",
   "execution_count": 5,
   "id": "bf8ecdbe-0981-42fd-9524-b78d0d9cd9b2",
   "metadata": {},
   "outputs": [],
   "source": [
    "num2 = 20"
   ]
  },
  {
   "cell_type": "code",
   "execution_count": 6,
   "id": "ace7ceb1-441d-4bed-9c1b-d472e18110c6",
   "metadata": {},
   "outputs": [
    {
     "name": "stdout",
     "output_type": "stream",
     "text": [
      "9767048\n"
     ]
    }
   ],
   "source": [
    "print(id(n))"
   ]
  },
  {
   "cell_type": "code",
   "execution_count": 7,
   "id": "dc94e4bf-76d0-43c9-b48b-d5f08d98e2b5",
   "metadata": {},
   "outputs": [
    {
     "name": "stdout",
     "output_type": "stream",
     "text": [
      "9767368\n"
     ]
    }
   ],
   "source": [
    "print(id(num))"
   ]
  },
  {
   "cell_type": "code",
   "execution_count": null,
   "id": "fd149463-125a-43d6-8b81-0965f6f6dfb8",
   "metadata": {},
   "outputs": [],
   "source": []
  }
 ],
 "metadata": {
  "kernelspec": {
   "display_name": "Python 3 (ipykernel)",
   "language": "python",
   "name": "python3"
  },
  "language_info": {
   "codemirror_mode": {
    "name": "ipython",
    "version": 3
   },
   "file_extension": ".py",
   "mimetype": "text/x-python",
   "name": "python",
   "nbconvert_exporter": "python",
   "pygments_lexer": "ipython3",
   "version": "3.12.7"
  }
 },
 "nbformat": 4,
 "nbformat_minor": 5
}
