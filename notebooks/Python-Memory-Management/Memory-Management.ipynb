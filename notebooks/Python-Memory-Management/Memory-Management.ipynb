{
 "cells": [
  {
   "cell_type": "code",
   "execution_count": 1,
   "id": "f240c6be-49ea-4069-839b-7f59207e8aa1",
   "metadata": {},
   "outputs": [],
   "source": [
    "# Created at 20-01-2025"
   ]
  },
  {
   "cell_type": "code",
   "execution_count": 2,
   "id": "0308a082-6ea1-4735-94ce-4726c6b70dfa",
   "metadata": {},
   "outputs": [],
   "source": [
    "# https://www.scientecheasy.com/2022/09/memory-management-in-python.html/"
   ]
  },
  {
   "cell_type": "code",
   "execution_count": 3,
   "id": "c7d7deed-3f29-4f76-8d98-7c28f5346865",
   "metadata": {},
   "outputs": [],
   "source": [
    "# Stack and Heap"
   ]
  },
  {
   "cell_type": "code",
   "execution_count": 4,
   "id": "ddf96897-e25b-4452-bc17-dfb48ed49839",
   "metadata": {},
   "outputs": [],
   "source": [
    "def add_numbers(a, b):\n",
    "    result = a + b \n",
    "    return result"
   ]
  },
  {
   "cell_type": "code",
   "execution_count": 6,
   "id": "9ebe3ede-4146-416f-bff7-312ffa43436a",
   "metadata": {},
   "outputs": [
    {
     "name": "stdout",
     "output_type": "stream",
     "text": [
      "35\n"
     ]
    }
   ],
   "source": [
    "a, b = (10, 25)\n",
    "final_result = add_numbers(a, b)\n",
    "print(final_result)"
   ]
  },
  {
   "cell_type": "code",
   "execution_count": null,
   "id": "2498047c-759c-425e-92e8-cd8a449e82db",
   "metadata": {},
   "outputs": [],
   "source": []
  }
 ],
 "metadata": {
  "kernelspec": {
   "display_name": "Python 3 (ipykernel)",
   "language": "python",
   "name": "python3"
  },
  "language_info": {
   "codemirror_mode": {
    "name": "ipython",
    "version": 3
   },
   "file_extension": ".py",
   "mimetype": "text/x-python",
   "name": "python",
   "nbconvert_exporter": "python",
   "pygments_lexer": "ipython3",
   "version": "3.12.7"
  }
 },
 "nbformat": 4,
 "nbformat_minor": 5
}
