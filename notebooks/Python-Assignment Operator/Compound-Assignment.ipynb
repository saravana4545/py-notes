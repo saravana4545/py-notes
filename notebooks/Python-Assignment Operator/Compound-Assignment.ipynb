{
 "cells": [
  {
   "cell_type": "code",
   "execution_count": 1,
   "id": "a4904cda-e0aa-4af7-b0dd-0aea8cf0df4b",
   "metadata": {},
   "outputs": [],
   "source": [
    "# Created at 21-01-2025"
   ]
  },
  {
   "cell_type": "code",
   "execution_count": 2,
   "id": "82f3b2c2-2982-42f0-a555-3d7bf7863659",
   "metadata": {},
   "outputs": [],
   "source": [
    "# https://www.scientecheasy.com/2022/10/assignment-operators-in-python.html/"
   ]
  },
  {
   "cell_type": "code",
   "execution_count": 9,
   "id": "63959112-6935-47a6-bbb3-17c9bba760ca",
   "metadata": {},
   "outputs": [],
   "source": [
    "# Compound assignment"
   ]
  },
  {
   "cell_type": "code",
   "execution_count": null,
   "id": "45751eae-b043-4d2a-8403-bf909e7ca2d1",
   "metadata": {},
   "outputs": [],
   "source": [
    "# Add and Assignment Operator (+=)"
   ]
  },
  {
   "cell_type": "code",
   "execution_count": 4,
   "id": "89e12b79-1081-43c0-8907-ef9dce6d0cc0",
   "metadata": {},
   "outputs": [],
   "source": [
    "num1 = 25"
   ]
  },
  {
   "cell_type": "code",
   "execution_count": 5,
   "id": "85d59acd-8426-4dc8-8b26-6ef3d99d648b",
   "metadata": {},
   "outputs": [],
   "source": [
    "num2 = 12"
   ]
  },
  {
   "cell_type": "code",
   "execution_count": 6,
   "id": "e2c41b1c-266c-462b-838d-eedffdc1fcec",
   "metadata": {},
   "outputs": [],
   "source": [
    "num1 += num2"
   ]
  },
  {
   "cell_type": "code",
   "execution_count": 7,
   "id": "9e6ec65b-3398-4491-bd79-bfffc45a2b45",
   "metadata": {},
   "outputs": [
    {
     "name": "stdout",
     "output_type": "stream",
     "text": [
      "37\n"
     ]
    }
   ],
   "source": [
    "print(num1)"
   ]
  },
  {
   "cell_type": "code",
   "execution_count": null,
   "id": "858a94e2-fd85-426a-bd9b-eaf0c257fc4d",
   "metadata": {},
   "outputs": [],
   "source": []
  },
  {
   "cell_type": "code",
   "execution_count": 10,
   "id": "e16921d7-cbae-462f-88c9-e6456c54b115",
   "metadata": {},
   "outputs": [],
   "source": [
    "# Subtract and Assignment Operator (-=)"
   ]
  },
  {
   "cell_type": "code",
   "execution_count": 11,
   "id": "38cff1ca-93f0-4afb-9150-024889d451c2",
   "metadata": {},
   "outputs": [],
   "source": [
    "num1 = 10"
   ]
  },
  {
   "cell_type": "code",
   "execution_count": 12,
   "id": "895caaca-ac99-457c-abe9-1999b75a991b",
   "metadata": {},
   "outputs": [],
   "source": [
    "num2 = 5"
   ]
  },
  {
   "cell_type": "code",
   "execution_count": 13,
   "id": "5cc540f2-c380-45dc-b221-fee0508526c9",
   "metadata": {},
   "outputs": [],
   "source": [
    "num1 -= num2"
   ]
  },
  {
   "cell_type": "code",
   "execution_count": 14,
   "id": "4e1ff87c-9fca-499c-935c-9384f8370bfe",
   "metadata": {},
   "outputs": [
    {
     "name": "stdout",
     "output_type": "stream",
     "text": [
      "5\n"
     ]
    }
   ],
   "source": [
    "print(num1)"
   ]
  },
  {
   "cell_type": "code",
   "execution_count": null,
   "id": "4813f52f-5f8e-462c-8084-e8a487251e38",
   "metadata": {},
   "outputs": [],
   "source": []
  },
  {
   "cell_type": "code",
   "execution_count": 15,
   "id": "98800f05-33d8-4a15-9c1a-6797b1df9369",
   "metadata": {},
   "outputs": [],
   "source": [
    "# Multiply and Assignment operator (*=)"
   ]
  },
  {
   "cell_type": "code",
   "execution_count": 22,
   "id": "36552970-3d40-49d3-b85b-fc62d2ce27e6",
   "metadata": {},
   "outputs": [],
   "source": [
    "x = 2"
   ]
  },
  {
   "cell_type": "code",
   "execution_count": 23,
   "id": "69e60318-da45-4d17-bf1b-21b94a50b9ba",
   "metadata": {},
   "outputs": [],
   "source": [
    "y = 5"
   ]
  },
  {
   "cell_type": "code",
   "execution_count": 24,
   "id": "800ee95a-05b3-4e2a-a03a-b6ce3e78a179",
   "metadata": {},
   "outputs": [],
   "source": [
    "z = 3"
   ]
  },
  {
   "cell_type": "code",
   "execution_count": 25,
   "id": "10ee7d8b-533b-44cd-a813-b9ee32be8045",
   "metadata": {},
   "outputs": [],
   "source": [
    "x *= y"
   ]
  },
  {
   "cell_type": "code",
   "execution_count": 26,
   "id": "f1603c48-04e4-4a80-b13f-f10f848fd7af",
   "metadata": {},
   "outputs": [
    {
     "name": "stdout",
     "output_type": "stream",
     "text": [
      "10\n"
     ]
    }
   ],
   "source": [
    "print(x)"
   ]
  },
  {
   "cell_type": "code",
   "execution_count": 27,
   "id": "171c6d19-1aad-4414-9110-2aa1fe5e0fb7",
   "metadata": {},
   "outputs": [],
   "source": [
    "z *= x * y"
   ]
  },
  {
   "cell_type": "code",
   "execution_count": 28,
   "id": "6783c0c4-f2a1-4ae0-8832-d46bb46b30fc",
   "metadata": {},
   "outputs": [
    {
     "name": "stdout",
     "output_type": "stream",
     "text": [
      "150\n"
     ]
    }
   ],
   "source": [
    "print(z)"
   ]
  },
  {
   "cell_type": "code",
   "execution_count": null,
   "id": "ef6d5a9b-d1bc-4494-834b-2a023a9f9991",
   "metadata": {},
   "outputs": [],
   "source": []
  }
 ],
 "metadata": {
  "kernelspec": {
   "display_name": "Python 3 (ipykernel)",
   "language": "python",
   "name": "python3"
  },
  "language_info": {
   "codemirror_mode": {
    "name": "ipython",
    "version": 3
   },
   "file_extension": ".py",
   "mimetype": "text/x-python",
   "name": "python",
   "nbconvert_exporter": "python",
   "pygments_lexer": "ipython3",
   "version": "3.12.7"
  }
 },
 "nbformat": 4,
 "nbformat_minor": 5
}
