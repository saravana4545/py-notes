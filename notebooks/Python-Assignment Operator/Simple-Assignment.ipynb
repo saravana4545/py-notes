{
 "cells": [
  {
   "cell_type": "code",
   "execution_count": 1,
   "id": "c0143406-23ba-4799-8f53-0805bae13d2d",
   "metadata": {},
   "outputs": [],
   "source": [
    "# Created at 21-01-2025"
   ]
  },
  {
   "cell_type": "code",
   "execution_count": 2,
   "id": "842c06ae-bc93-4435-b941-15e708223e5f",
   "metadata": {},
   "outputs": [],
   "source": [
    "# https://www.scientecheasy.com/2022/10/assignment-operators-in-python.html/"
   ]
  },
  {
   "cell_type": "code",
   "execution_count": 3,
   "id": "12b820fd-4b0e-4dbb-924c-8ee812e5864d",
   "metadata": {},
   "outputs": [],
   "source": [
    "# Simple assignment"
   ]
  },
  {
   "cell_type": "code",
   "execution_count": 4,
   "id": "cf3ec6be-c5ba-4d09-a633-31831e2a9c7d",
   "metadata": {},
   "outputs": [],
   "source": [
    "num1 = 10"
   ]
  },
  {
   "cell_type": "code",
   "execution_count": 5,
   "id": "f224d0e3-39c4-4ef4-a1e0-7989337e53e0",
   "metadata": {},
   "outputs": [],
   "source": [
    "num2 = 15"
   ]
  },
  {
   "cell_type": "code",
   "execution_count": 6,
   "id": "879dd60b-0b4f-41ff-9df6-390deb58d17b",
   "metadata": {},
   "outputs": [],
   "source": [
    "result = num1 + 45 + num2"
   ]
  },
  {
   "cell_type": "code",
   "execution_count": 7,
   "id": "a87e8158-48d0-4e4b-9a9c-1f3494c6c4cf",
   "metadata": {},
   "outputs": [
    {
     "name": "stdout",
     "output_type": "stream",
     "text": [
      "70\n"
     ]
    }
   ],
   "source": [
    "print(result)"
   ]
  },
  {
   "cell_type": "code",
   "execution_count": null,
   "id": "ea1d42c3-2449-4690-be3d-2379075f8202",
   "metadata": {},
   "outputs": [],
   "source": []
  },
  {
   "cell_type": "code",
   "execution_count": null,
   "id": "92a3c83d-3bca-428c-a6d5-08f0927dd20b",
   "metadata": {},
   "outputs": [],
   "source": []
  }
 ],
 "metadata": {
  "kernelspec": {
   "display_name": "Python 3 (ipykernel)",
   "language": "python",
   "name": "python3"
  },
  "language_info": {
   "codemirror_mode": {
    "name": "ipython",
    "version": 3
   },
   "file_extension": ".py",
   "mimetype": "text/x-python",
   "name": "python",
   "nbconvert_exporter": "python",
   "pygments_lexer": "ipython3",
   "version": "3.12.7"
  }
 },
 "nbformat": 4,
 "nbformat_minor": 5
}
