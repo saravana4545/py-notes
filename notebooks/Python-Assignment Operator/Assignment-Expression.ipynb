{
 "cells": [
  {
   "cell_type": "code",
   "execution_count": 1,
   "id": "2fa94284-aced-47b5-b62d-b5c7fcc23cfe",
   "metadata": {},
   "outputs": [],
   "source": [
    "# Created at 21-01-2025"
   ]
  },
  {
   "cell_type": "code",
   "execution_count": 2,
   "id": "ddaba8d5-d7f0-4e5a-bcc5-0888c04deca1",
   "metadata": {},
   "outputs": [],
   "source": [
    "# https://www.scientecheasy.com/2022/10/assignment-operators-in-python.html/"
   ]
  },
  {
   "cell_type": "code",
   "execution_count": 13,
   "id": "e61d589a-846e-4ba8-96e5-835a95c42ac8",
   "metadata": {},
   "outputs": [],
   "source": [
    "# Assignment Expression"
   ]
  },
  {
   "cell_type": "code",
   "execution_count": 14,
   "id": "f7f96af3-44c8-44df-b5dc-89ceed3ed2b8",
   "metadata": {},
   "outputs": [],
   "source": [
    "x, y, z = 24, 18, 45"
   ]
  },
  {
   "cell_type": "code",
   "execution_count": 15,
   "id": "9e4a56fd-3eec-442b-ae16-d8af3418ae09",
   "metadata": {},
   "outputs": [],
   "source": [
    "x /= 2\n",
    "y %= 5\n",
    "z //= 3"
   ]
  },
  {
   "cell_type": "code",
   "execution_count": 16,
   "id": "2c8343c8-8f5c-47cf-8151-235e89f957c5",
   "metadata": {},
   "outputs": [],
   "source": [
    "a = x + y\n",
    "b = z - a\n",
    "c = a * b"
   ]
  },
  {
   "cell_type": "code",
   "execution_count": 17,
   "id": "15f7851c-b0db-4ad0-a503-9b8bd121a252",
   "metadata": {},
   "outputs": [
    {
     "name": "stdout",
     "output_type": "stream",
     "text": [
      "Value of x: 12.0\n"
     ]
    }
   ],
   "source": [
    "print(\"Value of x:\", x)"
   ]
  },
  {
   "cell_type": "code",
   "execution_count": 18,
   "id": "ad5623c5-f0d1-4cb8-a7b1-e34ccde84763",
   "metadata": {},
   "outputs": [
    {
     "name": "stdout",
     "output_type": "stream",
     "text": [
      "Value of y: 3\n"
     ]
    }
   ],
   "source": [
    "print(\"Value of y:\", y)"
   ]
  },
  {
   "cell_type": "code",
   "execution_count": 19,
   "id": "3e682178-d44e-4d09-958e-712a1378db76",
   "metadata": {},
   "outputs": [
    {
     "name": "stdout",
     "output_type": "stream",
     "text": [
      "Value of z: 15\n"
     ]
    }
   ],
   "source": [
    "print(\"Value of z:\", z)"
   ]
  },
  {
   "cell_type": "code",
   "execution_count": 20,
   "id": "81205903-7d89-4b11-af59-4fee26a0d056",
   "metadata": {},
   "outputs": [
    {
     "name": "stdout",
     "output_type": "stream",
     "text": [
      "Value of a: 15.0\n"
     ]
    }
   ],
   "source": [
    "print(\"Value of a:\", a)"
   ]
  },
  {
   "cell_type": "code",
   "execution_count": 21,
   "id": "1a78cd29-24f2-4222-af5f-e88d6ae0853f",
   "metadata": {},
   "outputs": [
    {
     "name": "stdout",
     "output_type": "stream",
     "text": [
      "Value of b: 0.0\n"
     ]
    }
   ],
   "source": [
    "print(\"Value of b:\", b)"
   ]
  },
  {
   "cell_type": "code",
   "execution_count": 22,
   "id": "11dd5105-b4c1-4bea-afde-4ab1255ad71d",
   "metadata": {},
   "outputs": [
    {
     "name": "stdout",
     "output_type": "stream",
     "text": [
      "Value of c: 0.0\n"
     ]
    }
   ],
   "source": [
    "print(\"Value of c:\", c)"
   ]
  },
  {
   "cell_type": "code",
   "execution_count": null,
   "id": "60e033d7-6ee0-41c5-9a83-b1c11120a0b9",
   "metadata": {},
   "outputs": [],
   "source": []
  }
 ],
 "metadata": {
  "kernelspec": {
   "display_name": "Python 3 (ipykernel)",
   "language": "python",
   "name": "python3"
  },
  "language_info": {
   "codemirror_mode": {
    "name": "ipython",
    "version": 3
   },
   "file_extension": ".py",
   "mimetype": "text/x-python",
   "name": "python",
   "nbconvert_exporter": "python",
   "pygments_lexer": "ipython3",
   "version": "3.12.7"
  }
 },
 "nbformat": 4,
 "nbformat_minor": 5
}
