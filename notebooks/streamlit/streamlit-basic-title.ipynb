{
 "cells": [
  {
   "cell_type": "code",
   "execution_count": 3,
   "id": "4284a655-ecf7-47a3-9dc3-bc87746c1ea6",
   "metadata": {},
   "outputs": [],
   "source": [
    "import streamlit as st\n",
    "import pandas as pd\n",
    "import numpy as np"
   ]
  },
  {
   "cell_type": "code",
   "execution_count": 4,
   "id": "f130282b-8a78-4520-8f82-6cc8c3f0a726",
   "metadata": {},
   "outputs": [],
   "source": [
    "# To create Title of the app"
   ]
  },
  {
   "cell_type": "code",
   "execution_count": 5,
   "id": "f89d07f3-0cf8-40ce-93e7-fec62c7a53e3",
   "metadata": {},
   "outputs": [
    {
     "name": "stderr",
     "output_type": "stream",
     "text": [
      "2025-01-08 20:43:57.370 Thread 'MainThread': missing ScriptRunContext! This warning can be ignored when running in bare mode.\n",
      "2025-01-08 20:43:57.372 Thread 'MainThread': missing ScriptRunContext! This warning can be ignored when running in bare mode.\n"
     ]
    },
    {
     "data": {
      "text/plain": [
       "DeltaGenerator()"
      ]
     },
     "execution_count": 5,
     "metadata": {},
     "output_type": "execute_result"
    }
   ],
   "source": [
    "st.title(\"Simple Streamlit App\")"
   ]
  },
  {
   "cell_type": "code",
   "execution_count": 6,
   "id": "fc85a4ab-4013-41a6-8495-9d0e0564ce91",
   "metadata": {},
   "outputs": [],
   "source": [
    "# To create Adding a markdown"
   ]
  },
  {
   "cell_type": "code",
   "execution_count": 7,
   "id": "53c274af-c395-4ff5-85d3-fe5bd0afbda9",
   "metadata": {},
   "outputs": [
    {
     "name": "stderr",
     "output_type": "stream",
     "text": [
      "2025-01-08 20:43:58.192 Thread 'MainThread': missing ScriptRunContext! This warning can be ignored when running in bare mode.\n",
      "2025-01-08 20:43:58.194 Thread 'MainThread': missing ScriptRunContext! This warning can be ignored when running in bare mode.\n"
     ]
    },
    {
     "data": {
      "text/plain": [
       "DeltaGenerator()"
      ]
     },
     "execution_count": 7,
     "metadata": {},
     "output_type": "execute_result"
    }
   ],
   "source": [
    "st.markdown(\"### Welcome to this Streamlit POC!\")"
   ]
  },
  {
   "cell_type": "code",
   "execution_count": 8,
   "id": "6d65307c-c995-45aa-841a-0829a6bdd5e8",
   "metadata": {},
   "outputs": [],
   "source": [
    "# Displaying some data"
   ]
  },
  {
   "cell_type": "code",
   "execution_count": 9,
   "id": "4a94d353-2fed-4d5b-9d51-fc99aa7c7866",
   "metadata": {},
   "outputs": [
    {
     "name": "stderr",
     "output_type": "stream",
     "text": [
      "2025-01-08 20:43:58.818 Thread 'MainThread': missing ScriptRunContext! This warning can be ignored when running in bare mode.\n",
      "2025-01-08 20:43:58.820 Thread 'MainThread': missing ScriptRunContext! This warning can be ignored when running in bare mode.\n",
      "2025-01-08 20:43:58.821 Thread 'MainThread': missing ScriptRunContext! This warning can be ignored when running in bare mode.\n",
      "2025-01-08 20:43:58.822 Thread 'MainThread': missing ScriptRunContext! This warning can be ignored when running in bare mode.\n"
     ]
    }
   ],
   "source": [
    "st.write(\"Here's a random dataset:\")"
   ]
  },
  {
   "cell_type": "code",
   "execution_count": 10,
   "id": "8127710b-df0c-471b-9d5e-7d70eff36892",
   "metadata": {},
   "outputs": [],
   "source": [
    "# Generating a random dataframe"
   ]
  },
  {
   "cell_type": "code",
   "execution_count": 11,
   "id": "ef0da68c-3cc3-4c04-acda-7a9ef06c4777",
   "metadata": {},
   "outputs": [
    {
     "name": "stderr",
     "output_type": "stream",
     "text": [
      "2025-01-08 20:43:59.359 Thread 'MainThread': missing ScriptRunContext! This warning can be ignored when running in bare mode.\n",
      "2025-01-08 20:43:59.360 Thread 'MainThread': missing ScriptRunContext! This warning can be ignored when running in bare mode.\n"
     ]
    }
   ],
   "source": [
    "data = pd.DataFrame(\n",
    "    np.random.randn(10, 5),\n",
    "    columns=('col %d' % i for i in range(5))\n",
    ")\n",
    "\n",
    "st.write(data)"
   ]
  },
  {
   "cell_type": "code",
   "execution_count": 12,
   "id": "c31f9c41-197e-42ca-9437-f46da53fd813",
   "metadata": {},
   "outputs": [],
   "source": [
    "# Adding a button widget"
   ]
  },
  {
   "cell_type": "code",
   "execution_count": 13,
   "id": "06ed25fb-1097-40ed-ac7c-3f5838056973",
   "metadata": {},
   "outputs": [
    {
     "name": "stderr",
     "output_type": "stream",
     "text": [
      "2025-01-08 20:44:00.050 Thread 'MainThread': missing ScriptRunContext! This warning can be ignored when running in bare mode.\n",
      "2025-01-08 20:44:00.051 Thread 'MainThread': missing ScriptRunContext! This warning can be ignored when running in bare mode.\n",
      "2025-01-08 20:44:00.052 Thread 'MainThread': missing ScriptRunContext! This warning can be ignored when running in bare mode.\n",
      "2025-01-08 20:44:00.054 Thread 'MainThread': missing ScriptRunContext! This warning can be ignored when running in bare mode.\n",
      "2025-01-08 20:44:00.054 Thread 'MainThread': missing ScriptRunContext! This warning can be ignored when running in bare mode.\n"
     ]
    }
   ],
   "source": [
    "if st.button(\"Generate new data\"):\n",
    "    data = pd.DataFrame(\n",
    "        np.random.randn(10, 5),\n",
    "        columns=('col %d' % i for i in range(5))\n",
    "    )\n",
    "    st.write(data)"
   ]
  },
  {
   "cell_type": "code",
   "execution_count": 14,
   "id": "62410eab-f9d5-4d38-b468-8f73c3bf883d",
   "metadata": {},
   "outputs": [],
   "source": [
    "# Adding a slider widget"
   ]
  },
  {
   "cell_type": "code",
   "execution_count": 15,
   "id": "8cf3621f-8a51-4159-ba8f-5fdf9a86144e",
   "metadata": {},
   "outputs": [
    {
     "name": "stderr",
     "output_type": "stream",
     "text": [
      "2025-01-08 20:44:00.963 Thread 'MainThread': missing ScriptRunContext! This warning can be ignored when running in bare mode.\n",
      "2025-01-08 20:44:00.965 Thread 'MainThread': missing ScriptRunContext! This warning can be ignored when running in bare mode.\n",
      "2025-01-08 20:44:00.966 Thread 'MainThread': missing ScriptRunContext! This warning can be ignored when running in bare mode.\n",
      "2025-01-08 20:44:00.967 Thread 'MainThread': missing ScriptRunContext! This warning can be ignored when running in bare mode.\n",
      "2025-01-08 20:44:00.968 Thread 'MainThread': missing ScriptRunContext! This warning can be ignored when running in bare mode.\n",
      "2025-01-08 20:44:00.968 Thread 'MainThread': missing ScriptRunContext! This warning can be ignored when running in bare mode.\n",
      "2025-01-08 20:44:00.969 Thread 'MainThread': missing ScriptRunContext! This warning can be ignored when running in bare mode.\n",
      "2025-01-08 20:44:00.970 Thread 'MainThread': missing ScriptRunContext! This warning can be ignored when running in bare mode.\n",
      "2025-01-08 20:44:00.970 Thread 'MainThread': missing ScriptRunContext! This warning can be ignored when running in bare mode.\n",
      "2025-01-08 20:44:00.971 Thread 'MainThread': missing ScriptRunContext! This warning can be ignored when running in bare mode.\n",
      "2025-01-08 20:44:00.972 Thread 'MainThread': missing ScriptRunContext! This warning can be ignored when running in bare mode.\n",
      "2025-01-08 20:44:00.973 Thread 'MainThread': missing ScriptRunContext! This warning can be ignored when running in bare mode.\n",
      "2025-01-08 20:44:00.973 Thread 'MainThread': missing ScriptRunContext! This warning can be ignored when running in bare mode.\n"
     ]
    }
   ],
   "source": [
    "st.write(\"Select a number with the slider:\")\n",
    "number = st.slider(\"Pick a number\", 0, 100, 50)\n",
    "\n",
    "st.write(f\"The number you selected is {number}\")"
   ]
  },
  {
   "cell_type": "code",
   "execution_count": null,
   "id": "d7fa6a5b-0750-48b9-886b-596afbbe12a3",
   "metadata": {},
   "outputs": [],
   "source": []
  }
 ],
 "metadata": {
  "kernelspec": {
   "display_name": "Python 3 (ipykernel)",
   "language": "python",
   "name": "python3"
  },
  "language_info": {
   "codemirror_mode": {
    "name": "ipython",
    "version": 3
   },
   "file_extension": ".py",
   "mimetype": "text/x-python",
   "name": "python",
   "nbconvert_exporter": "python",
   "pygments_lexer": "ipython3",
   "version": "3.12.7"
  }
 },
 "nbformat": 4,
 "nbformat_minor": 5
}
