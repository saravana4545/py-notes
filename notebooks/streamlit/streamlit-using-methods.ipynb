{
 "cells": [
  {
   "cell_type": "code",
   "execution_count": 7,
   "id": "88ea401d-04f3-4e34-9edf-c06b99b16d0f",
   "metadata": {},
   "outputs": [],
   "source": [
    "import streamlit as st\n",
    "import numpy as np\n",
    "import pandas as pd"
   ]
  },
  {
   "cell_type": "code",
   "execution_count": 8,
   "id": "9bfd5db8-c1dd-4fb4-b94c-7e51e1fe0c73",
   "metadata": {},
   "outputs": [],
   "source": [
    "def text_input_example():\n",
    "    st.title(\"Text Input Example\")\n",
    "    user_input = st.text_input(\"Enter your name\")\n",
    "    if user_input:\n",
    "        st.write(f\"Hello, {user_input}!\")"
   ]
  },
  {
   "cell_type": "code",
   "execution_count": 9,
   "id": "2029f941-0161-4d30-8c43-b07302dd0814",
   "metadata": {},
   "outputs": [],
   "source": [
    "def checkbox_example():\n",
    "    if st.checkbox(\"Show/Hide Text\"):\n",
    "        st.write(\"This is a hidden text revealed by the checkbox!\")"
   ]
  },
  {
   "cell_type": "code",
   "execution_count": 10,
   "id": "908a9056-a34f-4de2-840d-882678e8a4d5",
   "metadata": {},
   "outputs": [],
   "source": [
    "def radio_button_example():\n",
    "    choice = st.radio(\"Choose your favorite language:\", (\"Python\", \"Java\", \"C++\"))\n",
    "    if choice:\n",
    "        st.write(f\"You selected: {choice}\")"
   ]
  },
  {
   "cell_type": "code",
   "execution_count": 11,
   "id": "0772892c-950b-4ad1-99a9-b454fb39a54c",
   "metadata": {},
   "outputs": [],
   "source": [
    "def slider_example():   \n",
    "    age = st.sidebar.slider(\"Select your age\", 0, 100, 25)\n",
    "    st.write(f\"Your age is {age}\")"
   ]
  },
  {
   "cell_type": "code",
   "execution_count": 12,
   "id": "6c97b3bf-24bc-4fe4-8dbb-0f6c6937773c",
   "metadata": {},
   "outputs": [],
   "source": [
    "def line_chart_example():\n",
    "    chart_data = pd.DataFrame(np.random.randn(20, 3), columns=['A', 'B', 'C'])\n",
    "    st.line_chart(chart_data)"
   ]
  },
  {
   "cell_type": "code",
   "execution_count": 13,
   "id": "e9294800-d808-467d-85b8-be905f61c7e0",
   "metadata": {},
   "outputs": [],
   "source": [
    "def selectbox_example():\n",
    "    option = st.selectbox(\"Select your favorite fruit:\", [\"Apple\", \"Banana\", \"Cherry\"])\n",
    "    st.write(f\"You selected: {option}\")"
   ]
  },
  {
   "cell_type": "code",
   "execution_count": 14,
   "id": "d6e530e7-bc9f-4655-90cb-58c24f434bc9",
   "metadata": {},
   "outputs": [],
   "source": [
    "# Call all the functions"
   ]
  },
  {
   "cell_type": "code",
   "execution_count": 15,
   "id": "e32bd46b-d1b1-43ec-b247-4a09e6fbeaaf",
   "metadata": {
    "editable": true,
    "slideshow": {
     "slide_type": ""
    },
    "tags": []
   },
   "outputs": [
    {
     "name": "stderr",
     "output_type": "stream",
     "text": [
      "2025-01-08 22:15:50.408 WARNING streamlit.runtime.scriptrunner_utils.script_run_context: Thread 'MainThread': missing ScriptRunContext! This warning can be ignored when running in bare mode.\n",
      "2025-01-08 22:15:50.523 \n",
      "  \u001b[33m\u001b[1mWarning:\u001b[0m to view this Streamlit app on a browser, run it with the following\n",
      "  command:\n",
      "\n",
      "    streamlit run /home/saravanakumar/miniconda3/envs/py12/lib/python3.12/site-packages/ipykernel_launcher.py [ARGUMENTS]\n",
      "2025-01-08 22:15:50.524 Thread 'MainThread': missing ScriptRunContext! This warning can be ignored when running in bare mode.\n",
      "2025-01-08 22:15:50.525 Thread 'MainThread': missing ScriptRunContext! This warning can be ignored when running in bare mode.\n",
      "2025-01-08 22:15:50.526 Thread 'MainThread': missing ScriptRunContext! This warning can be ignored when running in bare mode.\n",
      "2025-01-08 22:15:50.527 Thread 'MainThread': missing ScriptRunContext! This warning can be ignored when running in bare mode.\n",
      "2025-01-08 22:15:50.527 Thread 'MainThread': missing ScriptRunContext! This warning can be ignored when running in bare mode.\n",
      "2025-01-08 22:15:50.528 Session state does not function when running a script without `streamlit run`\n",
      "2025-01-08 22:15:50.529 Thread 'MainThread': missing ScriptRunContext! This warning can be ignored when running in bare mode.\n",
      "2025-01-08 22:15:50.530 Thread 'MainThread': missing ScriptRunContext! This warning can be ignored when running in bare mode.\n",
      "2025-01-08 22:15:50.531 Thread 'MainThread': missing ScriptRunContext! This warning can be ignored when running in bare mode.\n",
      "2025-01-08 22:15:50.532 Thread 'MainThread': missing ScriptRunContext! This warning can be ignored when running in bare mode.\n",
      "2025-01-08 22:15:50.533 Thread 'MainThread': missing ScriptRunContext! This warning can be ignored when running in bare mode.\n",
      "2025-01-08 22:15:50.534 Thread 'MainThread': missing ScriptRunContext! This warning can be ignored when running in bare mode.\n",
      "2025-01-08 22:15:50.536 Thread 'MainThread': missing ScriptRunContext! This warning can be ignored when running in bare mode.\n",
      "2025-01-08 22:15:50.537 Thread 'MainThread': missing ScriptRunContext! This warning can be ignored when running in bare mode.\n",
      "2025-01-08 22:15:50.538 Thread 'MainThread': missing ScriptRunContext! This warning can be ignored when running in bare mode.\n",
      "2025-01-08 22:15:50.539 Thread 'MainThread': missing ScriptRunContext! This warning can be ignored when running in bare mode.\n",
      "2025-01-08 22:15:50.540 Thread 'MainThread': missing ScriptRunContext! This warning can be ignored when running in bare mode.\n",
      "2025-01-08 22:15:50.541 Thread 'MainThread': missing ScriptRunContext! This warning can be ignored when running in bare mode.\n",
      "2025-01-08 22:15:50.542 Thread 'MainThread': missing ScriptRunContext! This warning can be ignored when running in bare mode.\n",
      "2025-01-08 22:15:50.543 Thread 'MainThread': missing ScriptRunContext! This warning can be ignored when running in bare mode.\n",
      "2025-01-08 22:15:50.544 Thread 'MainThread': missing ScriptRunContext! This warning can be ignored when running in bare mode.\n",
      "2025-01-08 22:15:50.544 Thread 'MainThread': missing ScriptRunContext! This warning can be ignored when running in bare mode.\n",
      "2025-01-08 22:15:50.545 Thread 'MainThread': missing ScriptRunContext! This warning can be ignored when running in bare mode.\n",
      "2025-01-08 22:15:50.546 Thread 'MainThread': missing ScriptRunContext! This warning can be ignored when running in bare mode.\n",
      "2025-01-08 22:15:50.547 Thread 'MainThread': missing ScriptRunContext! This warning can be ignored when running in bare mode.\n",
      "2025-01-08 22:15:50.550 Thread 'MainThread': missing ScriptRunContext! This warning can be ignored when running in bare mode.\n",
      "2025-01-08 22:15:50.551 Thread 'MainThread': missing ScriptRunContext! This warning can be ignored when running in bare mode.\n",
      "2025-01-08 22:15:50.551 Thread 'MainThread': missing ScriptRunContext! This warning can be ignored when running in bare mode.\n",
      "2025-01-08 22:15:50.552 Thread 'MainThread': missing ScriptRunContext! This warning can be ignored when running in bare mode.\n",
      "2025-01-08 22:15:50.552 Thread 'MainThread': missing ScriptRunContext! This warning can be ignored when running in bare mode.\n",
      "2025-01-08 22:15:50.553 Thread 'MainThread': missing ScriptRunContext! This warning can be ignored when running in bare mode.\n",
      "2025-01-08 22:15:50.553 Thread 'MainThread': missing ScriptRunContext! This warning can be ignored when running in bare mode.\n",
      "2025-01-08 22:15:50.887 Thread 'MainThread': missing ScriptRunContext! This warning can be ignored when running in bare mode.\n",
      "2025-01-08 22:15:50.888 Thread 'MainThread': missing ScriptRunContext! This warning can be ignored when running in bare mode.\n",
      "2025-01-08 22:15:50.889 Thread 'MainThread': missing ScriptRunContext! This warning can be ignored when running in bare mode.\n",
      "2025-01-08 22:15:50.889 Thread 'MainThread': missing ScriptRunContext! This warning can be ignored when running in bare mode.\n",
      "2025-01-08 22:15:50.890 Thread 'MainThread': missing ScriptRunContext! This warning can be ignored when running in bare mode.\n",
      "2025-01-08 22:15:50.890 Thread 'MainThread': missing ScriptRunContext! This warning can be ignored when running in bare mode.\n",
      "2025-01-08 22:15:50.891 Thread 'MainThread': missing ScriptRunContext! This warning can be ignored when running in bare mode.\n",
      "2025-01-08 22:15:50.892 Thread 'MainThread': missing ScriptRunContext! This warning can be ignored when running in bare mode.\n",
      "2025-01-08 22:15:50.892 Thread 'MainThread': missing ScriptRunContext! This warning can be ignored when running in bare mode.\n",
      "2025-01-08 22:15:50.893 Thread 'MainThread': missing ScriptRunContext! This warning can be ignored when running in bare mode.\n",
      "2025-01-08 22:15:50.893 Thread 'MainThread': missing ScriptRunContext! This warning can be ignored when running in bare mode.\n",
      "2025-01-08 22:15:50.894 Thread 'MainThread': missing ScriptRunContext! This warning can be ignored when running in bare mode.\n"
     ]
    }
   ],
   "source": [
    "text_input_example()\n",
    "checkbox_example()\n",
    "radio_button_example()\n",
    "slider_example()\n",
    "line_chart_example()\n",
    "selectbox_example()"
   ]
  },
  {
   "cell_type": "code",
   "execution_count": null,
   "id": "45fc3f37-93a0-4491-9b8b-cd85c666696d",
   "metadata": {},
   "outputs": [],
   "source": []
  }
 ],
 "metadata": {
  "kernelspec": {
   "display_name": "Python 3 (ipykernel)",
   "language": "python",
   "name": "python3"
  },
  "language_info": {
   "codemirror_mode": {
    "name": "ipython",
    "version": 3
   },
   "file_extension": ".py",
   "mimetype": "text/x-python",
   "name": "python",
   "nbconvert_exporter": "python",
   "pygments_lexer": "ipython3",
   "version": "3.12.7"
  }
 },
 "nbformat": 4,
 "nbformat_minor": 5
}
