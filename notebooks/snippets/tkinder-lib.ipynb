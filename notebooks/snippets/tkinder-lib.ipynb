{
 "cells": [
  {
   "cell_type": "code",
   "execution_count": 21,
   "id": "199fe6ac-f4a8-4c4d-bca8-998afdfd8e79",
   "metadata": {},
   "outputs": [],
   "source": [
    "import tkinter as tk"
   ]
  },
  {
   "cell_type": "code",
   "execution_count": 22,
   "id": "d6c92966-4e9c-4c49-b8cb-dbde94a99086",
   "metadata": {},
   "outputs": [],
   "source": [
    "def greet():\n",
    "    label.config(text=f\"Hello, {entry.get()}!\")"
   ]
  },
  {
   "cell_type": "code",
   "execution_count": 23,
   "id": "f6d66a1a-5e9c-42ba-8283-f3c20f4a9641",
   "metadata": {},
   "outputs": [
    {
     "data": {
      "text/plain": [
       "''"
      ]
     },
     "execution_count": 23,
     "metadata": {},
     "output_type": "execute_result"
    }
   ],
   "source": [
    "# Create GUI\n",
    "root = tk.Tk()\n",
    "root.title(\"Simple GUI\")"
   ]
  },
  {
   "cell_type": "code",
   "execution_count": 24,
   "id": "9a56e2d2-d66c-41ca-8722-6a9f6475ef8e",
   "metadata": {},
   "outputs": [],
   "source": [
    "label = tk.Label(root, text=\"Enter your name:\")\n",
    "label.pack()"
   ]
  },
  {
   "cell_type": "code",
   "execution_count": 25,
   "id": "2f8e397c-fc1e-4766-aa09-e63afee04aaf",
   "metadata": {},
   "outputs": [],
   "source": [
    "entry = tk.Entry(root)\n",
    "entry.pack()"
   ]
  },
  {
   "cell_type": "code",
   "execution_count": 26,
   "id": "13a5b5b5-2c8c-44bc-9fdb-2aec3c5c2368",
   "metadata": {},
   "outputs": [],
   "source": [
    "button = tk.Button(root, text=\"Greet\", command=greet)\n",
    "button.pack()\n",
    "\n",
    "root.mainloop()"
   ]
  },
  {
   "cell_type": "code",
   "execution_count": null,
   "id": "f8bc24be-c222-4d13-a7af-c54fccb9a872",
   "metadata": {},
   "outputs": [],
   "source": []
  }
 ],
 "metadata": {
  "kernelspec": {
   "display_name": "Python 3 (ipykernel)",
   "language": "python",
   "name": "python3"
  },
  "language_info": {
   "codemirror_mode": {
    "name": "ipython",
    "version": 3
   },
   "file_extension": ".py",
   "mimetype": "text/x-python",
   "name": "python",
   "nbconvert_exporter": "python",
   "pygments_lexer": "ipython3",
   "version": "3.12.7"
  }
 },
 "nbformat": 4,
 "nbformat_minor": 5
}
