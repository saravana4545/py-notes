{
 "cells": [
  {
   "cell_type": "code",
   "execution_count": 1,
   "id": "7185d268-f4b7-4ef8-bab8-dd11035a80de",
   "metadata": {},
   "outputs": [],
   "source": [
    "#10. Form Data Extraction\n",
    "#Extract all form elements (<form>, <input>, <button>) from a webpage."
   ]
  },
  {
   "cell_type": "code",
   "execution_count": 5,
   "id": "423b2767-cf9a-4640-b5a9-4190623c5f95",
   "metadata": {},
   "outputs": [],
   "source": [
    "from bs4 import BeautifulSoup"
   ]
  },
  {
   "cell_type": "code",
   "execution_count": 6,
   "id": "84b57a34-6f86-44eb-9e5b-7c8ef64d348d",
   "metadata": {},
   "outputs": [],
   "source": [
    "html_content = \"\"\"\n",
    "<html>\n",
    "    <body>\n",
    "        <form action=\"/submit\" method=\"post\">\n",
    "            <label for=\"username\">Username:</label>\n",
    "            <input type=\"text\" id=\"username\" name=\"username\">\n",
    "            \n",
    "            <label for=\"password\">Password:</label>\n",
    "            <input type=\"password\" id=\"password\" name=\"password\">\n",
    "            \n",
    "            <input type=\"hidden\" name=\"csrf_token\" value=\"123456\">\n",
    "            \n",
    "            <button type=\"submit\">Login</button>\n",
    "        </form>\n",
    "    </body>\n",
    "</html>\n",
    "\"\"\""
   ]
  },
  {
   "cell_type": "code",
   "execution_count": 7,
   "id": "74e98ead-f551-48e6-a4f0-b74e90c127dc",
   "metadata": {},
   "outputs": [],
   "source": [
    "soup = BeautifulSoup(html_content, 'html.parser')"
   ]
  },
  {
   "cell_type": "code",
   "execution_count": 8,
   "id": "dab325da-5f3d-4b65-a7d0-0bec4ee3daac",
   "metadata": {},
   "outputs": [
    {
     "name": "stdout",
     "output_type": "stream",
     "text": [
      "Form Details:\n",
      "Action: /submit\n",
      "Method: post\n"
     ]
    }
   ],
   "source": [
    "form = soup.find('form')\n",
    "print(\"Form Details:\")\n",
    "print(f\"Action: {form.get('action')}\")\n",
    "print(f\"Method: {form.get('method')}\")"
   ]
  },
  {
   "cell_type": "code",
   "execution_count": 11,
   "id": "e1c1b762-f52e-41a8-ae9d-ef3e94dd8514",
   "metadata": {},
   "outputs": [
    {
     "name": "stdout",
     "output_type": "stream",
     "text": [
      "\n",
      "Input Fields:\n",
      "Name: username, Type: text, id: username, value: None\n",
      "Name: password, Type: password, id: password, value: None\n",
      "Name: csrf_token, Type: hidden, id: None, value: 123456\n"
     ]
    }
   ],
   "source": [
    "inputs = form.find_all('input')\n",
    "print(\"\\nInput Fields:\")\n",
    "for input_tag in inputs:\n",
    "    print(f\"Name: {input_tag.get('name')}, Type: {input_tag.get('type')}, id: {input_tag.get('id')}, value: {input_tag.get('value')}\")"
   ]
  },
  {
   "cell_type": "code",
   "execution_count": 12,
   "id": "2467127d-3e63-4ed3-ba5c-e79e2cb2cda9",
   "metadata": {},
   "outputs": [
    {
     "name": "stdout",
     "output_type": "stream",
     "text": [
      "\n",
      "Buttons:\n",
      "Type: submit, Text: Login\n"
     ]
    }
   ],
   "source": [
    "buttons = form.find_all('button')\n",
    "print(\"\\nButtons:\")\n",
    "for button in buttons:\n",
    "    print(f\"Type: {button.get('type')}, Text: {button.text}\")"
   ]
  },
  {
   "cell_type": "code",
   "execution_count": null,
   "id": "59c76758-bfd3-4d77-a8e3-c9b4368ee542",
   "metadata": {},
   "outputs": [],
   "source": []
  }
 ],
 "metadata": {
  "kernelspec": {
   "display_name": "Python 3 (ipykernel)",
   "language": "python",
   "name": "python3"
  },
  "language_info": {
   "codemirror_mode": {
    "name": "ipython",
    "version": 3
   },
   "file_extension": ".py",
   "mimetype": "text/x-python",
   "name": "python",
   "nbconvert_exporter": "python",
   "pygments_lexer": "ipython3",
   "version": "3.12.7"
  }
 },
 "nbformat": 4,
 "nbformat_minor": 5
}
