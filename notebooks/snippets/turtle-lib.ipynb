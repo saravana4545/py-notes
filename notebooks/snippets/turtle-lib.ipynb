{
 "cells": [
  {
   "cell_type": "code",
   "execution_count": null,
   "id": "45bd3dcd-94bb-4828-b053-235bbf1c967c",
   "metadata": {},
   "outputs": [],
   "source": [
    "#import neccessery libraries"
   ]
  },
  {
   "cell_type": "code",
   "execution_count": 9,
   "id": "79e18034-c729-4028-8d8d-3f347c6a811f",
   "metadata": {},
   "outputs": [],
   "source": [
    "import turtle"
   ]
  },
  {
   "cell_type": "code",
   "execution_count": null,
   "id": "0fe7a72a-644c-4a8c-bcb5-57584c50d325",
   "metadata": {},
   "outputs": [],
   "source": [
    "#create a method called home()"
   ]
  },
  {
   "cell_type": "code",
   "execution_count": 10,
   "id": "e7a1f35b-b837-4083-8cf5-8cfdf5b6c378",
   "metadata": {},
   "outputs": [],
   "source": [
    "def home():\n",
    "    screen = turtle.Screen()\n",
    "    t      = turtle.Turtle()\n",
    "    for _ in range(4):\n",
    "        t.forward(100)\n",
    "        t.right(90)\n",
    "    turtle.done()\n",
    "    return turtle"
   ]
  },
  {
   "cell_type": "code",
   "execution_count": null,
   "id": "c51d6ee2-034f-4207-8ff4-3afbe347dd1a",
   "metadata": {},
   "outputs": [],
   "source": [
    "#call the method using print"
   ]
  },
  {
   "cell_type": "code",
   "execution_count": 11,
   "id": "daa8b4b6-d39a-4fee-97bc-a5de11b46fd1",
   "metadata": {},
   "outputs": [
    {
     "name": "stdout",
     "output_type": "stream",
     "text": [
      "<module 'turtle' from '/home/saravanakumar/miniconda3/envs/py12/lib/python3.12/turtle.py'>\n"
     ]
    }
   ],
   "source": [
    "print(home())"
   ]
  },
  {
   "cell_type": "code",
   "execution_count": null,
   "id": "11caf899-34c2-42e1-b626-4638c3a42da7",
   "metadata": {},
   "outputs": [],
   "source": []
  }
 ],
 "metadata": {
  "kernelspec": {
   "display_name": "Python 3 (ipykernel)",
   "language": "python",
   "name": "python3"
  },
  "language_info": {
   "codemirror_mode": {
    "name": "ipython",
    "version": 3
   },
   "file_extension": ".py",
   "mimetype": "text/x-python",
   "name": "python",
   "nbconvert_exporter": "python",
   "pygments_lexer": "ipython3",
   "version": "3.12.7"
  }
 },
 "nbformat": 4,
 "nbformat_minor": 5
}
