{
 "cells": [
  {
   "cell_type": "code",
   "execution_count": 9,
   "id": "083aa7d1-94a9-44ac-8598-6a6cbb26ab43",
   "metadata": {},
   "outputs": [],
   "source": [
    "from faker import Faker"
   ]
  },
  {
   "cell_type": "code",
   "execution_count": 10,
   "id": "e0256802-f059-40e3-ac71-8e3247b4815b",
   "metadata": {},
   "outputs": [],
   "source": [
    "fake = Faker()"
   ]
  },
  {
   "cell_type": "code",
   "execution_count": 17,
   "id": "03fc2e1d-d04f-4565-8039-1e59f7e26212",
   "metadata": {},
   "outputs": [],
   "source": [
    "def fake_details():\n",
    "    list = {\n",
    "        \"name\"    : fake.name(),\n",
    "        \"address\" : fake.address(),\n",
    "        \"emali\"   : fake.email()\n",
    "    }\n",
    "    return list"
   ]
  },
  {
   "cell_type": "code",
   "execution_count": 18,
   "id": "63d7c7e2-0a3b-4d03-a423-a4efd5ef82ea",
   "metadata": {},
   "outputs": [],
   "source": [
    "def startpy():\n",
    "    print(fake_details())"
   ]
  },
  {
   "cell_type": "code",
   "execution_count": 19,
   "id": "e536dfc7-f675-419c-86ed-2fedf7ca972f",
   "metadata": {},
   "outputs": [
    {
     "name": "stdout",
     "output_type": "stream",
     "text": [
      "{'name': 'Rebecca Soto', 'address': '24033 Matthew Canyon\\nKaitlinmouth, MI 26633', 'emali': 'gordondiana@example.com'}\n"
     ]
    }
   ],
   "source": [
    "if __name__ == '__main__':\n",
    "    startpy()"
   ]
  },
  {
   "cell_type": "code",
   "execution_count": null,
   "id": "18c48ca8-9084-4c6b-b08c-1f4af7bcdeee",
   "metadata": {},
   "outputs": [],
   "source": []
  }
 ],
 "metadata": {
  "kernelspec": {
   "display_name": "Python 3 (ipykernel)",
   "language": "python",
   "name": "python3"
  },
  "language_info": {
   "codemirror_mode": {
    "name": "ipython",
    "version": 3
   },
   "file_extension": ".py",
   "mimetype": "text/x-python",
   "name": "python",
   "nbconvert_exporter": "python",
   "pygments_lexer": "ipython3",
   "version": "3.12.7"
  }
 },
 "nbformat": 4,
 "nbformat_minor": 5
}
