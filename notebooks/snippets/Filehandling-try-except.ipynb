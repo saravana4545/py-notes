{
 "cells": [
  {
   "cell_type": "code",
   "execution_count": null,
   "id": "fbf2662e-cd3d-4bbe-acc4-fa7a19af600f",
   "metadata": {},
   "outputs": [],
   "source": [
    "#File Handling with Error Management"
   ]
  },
  {
   "cell_type": "code",
   "execution_count": 6,
   "id": "99c4ea32-6191-4f33-ac45-0a479561b666",
   "metadata": {},
   "outputs": [],
   "source": [
    "#A common scenario with try-except is managing file operations."
   ]
  },
  {
   "cell_type": "code",
   "execution_count": 7,
   "id": "7f09a0a4-0898-4329-88e1-598fe4119745",
   "metadata": {},
   "outputs": [
    {
     "name": "stdout",
     "output_type": "stream",
     "text": [
      "File does not exist. Please check the file name.\n",
      "File operation complete.\n"
     ]
    }
   ],
   "source": [
    "try:\n",
    "    with open(\"nonexistent_file.txt\", \"r\") as file:\n",
    "        content = file.read()\n",
    "        print(content)\n",
    "except FileNotFoundError:\n",
    "    print(\"File does not exist. Please check the file name.\")\n",
    "except PermissionError:\n",
    "    print(\"You don't have permission to read this file.\")\n",
    "except Exception as e:\n",
    "    print(f\"An unexpected error occurred: {e}\")\n",
    "\n",
    "finally:\n",
    "    print(\"File operation complete.\")"
   ]
  },
  {
   "cell_type": "code",
   "execution_count": null,
   "id": "5d4dc386-4a14-4732-be66-b70665dbc6b8",
   "metadata": {},
   "outputs": [],
   "source": []
  },
  {
   "cell_type": "code",
   "execution_count": null,
   "id": "307a5ecc-7805-49d6-b318-beccde2bbd56",
   "metadata": {},
   "outputs": [],
   "source": []
  }
 ],
 "metadata": {
  "kernelspec": {
   "display_name": "Python 3 (ipykernel)",
   "language": "python",
   "name": "python3"
  },
  "language_info": {
   "codemirror_mode": {
    "name": "ipython",
    "version": 3
   },
   "file_extension": ".py",
   "mimetype": "text/x-python",
   "name": "python",
   "nbconvert_exporter": "python",
   "pygments_lexer": "ipython3",
   "version": "3.12.7"
  }
 },
 "nbformat": 4,
 "nbformat_minor": 5
}
