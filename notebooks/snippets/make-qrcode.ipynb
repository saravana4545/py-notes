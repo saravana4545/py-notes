{
 "cells": [
  {
   "cell_type": "code",
   "execution_count": 15,
   "id": "43a7cbf6-0985-4487-a2ca-baf32f32b785",
   "metadata": {},
   "outputs": [],
   "source": [
    "import qrcode"
   ]
  },
  {
   "cell_type": "code",
   "execution_count": 16,
   "id": "b237b3c1-c356-48ef-851f-4ec621ac4330",
   "metadata": {},
   "outputs": [],
   "source": [
    "def make_qrcode():\n",
    "    qr = qrcode.QRCode(\n",
    "        version=1,\n",
    "        error_correction=qrcode.constants.ERROR_CORRECT_L,\n",
    "        box_size=10,\n",
    "        border=4\n",
    "    )\n",
    "    qr.add_data(\"https://github.com/saravana4545/\")\n",
    "    qr.make(fit=True)\n",
    "    img = qr.make_image(fill_color=\"black\", back_color=\"white\")\n",
    "    img.save(\"qrcode.png\")\n",
    "\n",
    "    return img"
   ]
  },
  {
   "cell_type": "code",
   "execution_count": 17,
   "id": "20d55024-ffd8-4310-9c3f-a011c6ce92ee",
   "metadata": {},
   "outputs": [
    {
     "name": "stdout",
     "output_type": "stream",
     "text": [
      "<qrcode.image.pil.PilImage object at 0x7f603616ad80>\n"
     ]
    }
   ],
   "source": [
    "  print(make_qrcode())"
   ]
  },
  {
   "cell_type": "code",
   "execution_count": null,
   "id": "a0cc10eb-3b5e-418e-a9ef-2b5554e48dac",
   "metadata": {},
   "outputs": [],
   "source": [
    "    "
   ]
  },
  {
   "cell_type": "code",
   "execution_count": null,
   "id": "9b879114-89c5-4ca9-be1a-28d7ec56d4d4",
   "metadata": {},
   "outputs": [],
   "source": []
  }
 ],
 "metadata": {
  "kernelspec": {
   "display_name": "Python 3 (ipykernel)",
   "language": "python",
   "name": "python3"
  },
  "language_info": {
   "codemirror_mode": {
    "name": "ipython",
    "version": 3
   },
   "file_extension": ".py",
   "mimetype": "text/x-python",
   "name": "python",
   "nbconvert_exporter": "python",
   "pygments_lexer": "ipython3",
   "version": "3.12.7"
  }
 },
 "nbformat": 4,
 "nbformat_minor": 5
}
