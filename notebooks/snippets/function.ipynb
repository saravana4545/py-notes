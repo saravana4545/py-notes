{
 "cells": [
  {
   "cell_type": "code",
   "execution_count": 5,
   "id": "7007d03b-d8fe-4eea-b0a0-42ac462b6627",
   "metadata": {},
   "outputs": [
    {
     "name": "stdout",
     "output_type": "stream",
     "text": [
      "test\n"
     ]
    }
   ],
   "source": [
    "linkedin_found = False\n",
    "\n",
    "def function(Var1, Var2): \n",
    "    if Var2 == 0 and Var1 > 0:\n",
    "        print(\"Result One\")\n",
    "    elif Var2 == 1 and Var1 > 0:\n",
    "        print(\"Result Two\")\n",
    "    elif Var1 < 1:\n",
    "        print(\"Result Three\")\n",
    "    return Var1 - 1\n",
    "\n",
    "def add(): \n",
    "    if True:\n",
    "        global linkedin_found\n",
    "        linkedin_found = True        \n",
    "        \n",
    "def subtract(): \n",
    "    if linkedin_found:\n",
    "        print(\"test\")\n",
    "    else:\n",
    "        print(\"test1\")       \n",
    "\n",
    "\n",
    "#function(linkedin_found, 1)\n",
    "add()\n",
    "subtract()"
   ]
  },
  {
   "cell_type": "code",
   "execution_count": null,
   "id": "6bcfaf4f-e0bf-4b45-aa49-6e09079b20c5",
   "metadata": {},
   "outputs": [],
   "source": []
  }
 ],
 "metadata": {
  "kernelspec": {
   "display_name": "Python 3 (ipykernel)",
   "language": "python",
   "name": "python3"
  },
  "language_info": {
   "codemirror_mode": {
    "name": "ipython",
    "version": 3
   },
   "file_extension": ".py",
   "mimetype": "text/x-python",
   "name": "python",
   "nbconvert_exporter": "python",
   "pygments_lexer": "ipython3",
   "version": "3.12.7"
  }
 },
 "nbformat": 4,
 "nbformat_minor": 5
}
