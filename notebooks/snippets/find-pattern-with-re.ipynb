{
 "cells": [
  {
   "cell_type": "code",
   "execution_count": 16,
   "id": "127791eb-16c6-4d3f-a921-c9fc10d04198",
   "metadata": {},
   "outputs": [],
   "source": [
    "import re"
   ]
  },
  {
   "cell_type": "code",
   "execution_count": 17,
   "id": "2aa17ed5-1ba2-454c-8845-2388e74595bd",
   "metadata": {},
   "outputs": [],
   "source": [
    "text = \"Email me at example@gmail.com or support@example.org.\""
   ]
  },
  {
   "cell_type": "code",
   "execution_count": 18,
   "id": "6bf7a956-1f9f-446a-85cd-c555b94c44a4",
   "metadata": {},
   "outputs": [],
   "source": [
    "pattern = r\"[a-zA-Z0-9._%+-]+@[a-zA-Z0-9.-]+\\.[a-zA-Z]{2,}\""
   ]
  },
  {
   "cell_type": "code",
   "execution_count": 19,
   "id": "f3d1e8d1-f4b9-428b-af14-e4df546a7590",
   "metadata": {},
   "outputs": [],
   "source": [
    "matches = re.findall(pattern, text)"
   ]
  },
  {
   "cell_type": "code",
   "execution_count": 20,
   "id": "3d811003-72d0-4868-a9ac-f72dd413ecc0",
   "metadata": {},
   "outputs": [
    {
     "name": "stdout",
     "output_type": "stream",
     "text": [
      "Found email: example@gmail.com\n",
      "Found email: support@example.org\n"
     ]
    }
   ],
   "source": [
    "for match in matches:\n",
    "    print(\"Found email:\", match)"
   ]
  },
  {
   "cell_type": "code",
   "execution_count": null,
   "id": "0c5553e6-5ef5-4ec3-a653-d9a3c4580ca1",
   "metadata": {},
   "outputs": [],
   "source": []
  }
 ],
 "metadata": {
  "kernelspec": {
   "display_name": "Python 3 (ipykernel)",
   "language": "python",
   "name": "python3"
  },
  "language_info": {
   "codemirror_mode": {
    "name": "ipython",
    "version": 3
   },
   "file_extension": ".py",
   "mimetype": "text/x-python",
   "name": "python",
   "nbconvert_exporter": "python",
   "pygments_lexer": "ipython3",
   "version": "3.12.7"
  }
 },
 "nbformat": 4,
 "nbformat_minor": 5
}
