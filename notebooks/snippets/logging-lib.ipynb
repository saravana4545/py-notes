{
 "cells": [
  {
   "cell_type": "code",
   "execution_count": null,
   "id": "beefa466-dde0-47d5-83ce-5e2bff5eb883",
   "metadata": {},
   "outputs": [],
   "source": [
    "#import neccessery libraries"
   ]
  },
  {
   "cell_type": "code",
   "execution_count": 1,
   "id": "ec1d141c-99bf-4edd-9b37-195677370330",
   "metadata": {},
   "outputs": [],
   "source": [
    "import logging"
   ]
  },
  {
   "cell_type": "code",
   "execution_count": null,
   "id": "f2023f72-7bf7-4578-84d5-3f588e589550",
   "metadata": {},
   "outputs": [],
   "source": [
    "#This Configures logging level, format, and output details for messages."
   ]
  },
  {
   "cell_type": "code",
   "execution_count": 2,
   "id": "f737a023-2eea-4cd7-9a2f-5a7c908c6085",
   "metadata": {},
   "outputs": [],
   "source": [
    "logging.basicConfig(level=logging.DEBUG, format='%(asctime)s - %(levelname)s - %(message)s')"
   ]
  },
  {
   "cell_type": "code",
   "execution_count": null,
   "id": "c2a3e8a8-8646-4d57-94e1-0122c507205d",
   "metadata": {},
   "outputs": [],
   "source": [
    "#It's doing lots of alert messages"
   ]
  },
  {
   "cell_type": "code",
   "execution_count": 3,
   "id": "340dea52-2170-492d-96e3-f9bd92afc5e1",
   "metadata": {},
   "outputs": [
    {
     "name": "stderr",
     "output_type": "stream",
     "text": [
      "2024-11-23 07:35:25,460 - DEBUG - This is a debug message\n",
      "2024-11-23 07:35:25,462 - INFO - This is an info message\n",
      "2024-11-23 07:35:25,464 - WARNING - This is a warning message\n",
      "2024-11-23 07:35:25,465 - ERROR - This is an error message\n",
      "2024-11-23 07:35:25,466 - CRITICAL - This is a critical message\n"
     ]
    }
   ],
   "source": [
    "logging.debug(\"This is a debug message\")\n",
    "logging.info(\"This is an info message\")\n",
    "logging.warning(\"This is a warning message\")\n",
    "logging.error(\"This is an error message\")\n",
    "logging.critical(\"This is a critical message\")"
   ]
  },
  {
   "cell_type": "code",
   "execution_count": null,
   "id": "5a513368-7b63-446f-94f3-f489a1a013e4",
   "metadata": {},
   "outputs": [],
   "source": []
  }
 ],
 "metadata": {
  "kernelspec": {
   "display_name": "Python 3 (ipykernel)",
   "language": "python",
   "name": "python3"
  },
  "language_info": {
   "codemirror_mode": {
    "name": "ipython",
    "version": 3
   },
   "file_extension": ".py",
   "mimetype": "text/x-python",
   "name": "python",
   "nbconvert_exporter": "python",
   "pygments_lexer": "ipython3",
   "version": "3.12.7"
  }
 },
 "nbformat": 4,
 "nbformat_minor": 5
}
