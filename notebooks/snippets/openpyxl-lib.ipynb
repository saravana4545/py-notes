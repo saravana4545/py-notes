{
 "cells": [
  {
   "cell_type": "code",
   "execution_count": 1,
   "id": "c3ba117d-85f7-4896-8446-9fe90c5cc9fd",
   "metadata": {},
   "outputs": [],
   "source": [
    "from openpyxl import Workbook"
   ]
  },
  {
   "cell_type": "code",
   "execution_count": 2,
   "id": "b10e3d3d-c5cf-4e25-9a87-8098f6b12533",
   "metadata": {},
   "outputs": [],
   "source": [
    "# Create a workbook and add data\n",
    "workbook    = Workbook()\n",
    "sheet       = workbook.active\n",
    "sheet.title = \"Sample Sheet\""
   ]
  },
  {
   "cell_type": "code",
   "execution_count": 3,
   "id": "29b3a429-45b3-480f-8fdb-791d5139eec9",
   "metadata": {},
   "outputs": [],
   "source": [
    "sheet.append([\"Name\", \"Age\", \"City\"])\n",
    "sheet.append([\"Alice\", 25, \"New York\"])\n",
    "sheet.append([\"Bob\", 30, \"Los Angeles\"])"
   ]
  },
  {
   "cell_type": "code",
   "execution_count": 4,
   "id": "42d2e8c0-8729-4576-81eb-54cff38c42e7",
   "metadata": {},
   "outputs": [],
   "source": [
    "workbook.save(\"sample.xlsx\")"
   ]
  },
  {
   "cell_type": "code",
   "execution_count": 5,
   "id": "9a555c21-0d45-4f09-84c9-1107dbb7e370",
   "metadata": {},
   "outputs": [
    {
     "name": "stdout",
     "output_type": "stream",
     "text": [
      "Excel file created!\n"
     ]
    }
   ],
   "source": [
    "print(\"Excel file created!\")"
   ]
  },
  {
   "cell_type": "code",
   "execution_count": null,
   "id": "de2e8860-24f6-40ca-a95b-11fa92914fc2",
   "metadata": {},
   "outputs": [],
   "source": []
  },
  {
   "cell_type": "code",
   "execution_count": null,
   "id": "9893b671-f60f-4a3f-8b9a-c8820fbcf3e3",
   "metadata": {},
   "outputs": [],
   "source": []
  }
 ],
 "metadata": {
  "kernelspec": {
   "display_name": "Python 3 (ipykernel)",
   "language": "python",
   "name": "python3"
  },
  "language_info": {
   "codemirror_mode": {
    "name": "ipython",
    "version": 3
   },
   "file_extension": ".py",
   "mimetype": "text/x-python",
   "name": "python",
   "nbconvert_exporter": "python",
   "pygments_lexer": "ipython3",
   "version": "3.12.7"
  }
 },
 "nbformat": 4,
 "nbformat_minor": 5
}
