{
 "cells": [
  {
   "cell_type": "code",
   "execution_count": null,
   "id": "f8353464-9307-4082-a033-3ab8ee4cecf5",
   "metadata": {},
   "outputs": [],
   "source": [
    "#import re module"
   ]
  },
  {
   "cell_type": "code",
   "execution_count": 3,
   "id": "37a80fc2-fda9-4ce0-86e3-dc0c4023a8a4",
   "metadata": {},
   "outputs": [],
   "source": [
    "import re"
   ]
  },
  {
   "cell_type": "code",
   "execution_count": 4,
   "id": "d7ed4922-a76e-43f7-a551-642bb9e34ff9",
   "metadata": {},
   "outputs": [],
   "source": [
    "#Using Parentheses () for Capturing Groups"
   ]
  },
  {
   "cell_type": "code",
   "execution_count": 5,
   "id": "a229d503-69ee-4c19-a480-2d83594fd839",
   "metadata": {},
   "outputs": [],
   "source": [
    "text = \"My phone number is 123-456-7890.\""
   ]
  },
  {
   "cell_type": "code",
   "execution_count": 6,
   "id": "e06e1e09-3d35-4ce3-a9b6-c3e503e4cdd4",
   "metadata": {},
   "outputs": [],
   "source": [
    "# Extract the area code and number"
   ]
  },
  {
   "cell_type": "code",
   "execution_count": 7,
   "id": "d0651fcf-ae2e-4daf-84df-aa7e6e300eb9",
   "metadata": {},
   "outputs": [],
   "source": [
    "match = re.search(r'(\\d{3})-(\\d{3})-(\\d{4})', text)"
   ]
  },
  {
   "cell_type": "code",
   "execution_count": 8,
   "id": "71e505be-a90c-41a6-a74e-59627d17448a",
   "metadata": {},
   "outputs": [
    {
     "name": "stdout",
     "output_type": "stream",
     "text": [
      "Full Match: 123-456-7890\n",
      "Area Code: 123\n",
      "First 3 Digits: 456\n",
      "Last 4 Digits: 7890\n"
     ]
    }
   ],
   "source": [
    "if match:\n",
    "    print(\"Full Match:\", match.group())  # Output: 123-456-7890\n",
    "    print(\"Area Code:\", match.group(1))  # Output: 123\n",
    "    print(\"First 3 Digits:\", match.group(2))  # Output: 456\n",
    "    print(\"Last 4 Digits:\", match.group(3))  # Output: 7890"
   ]
  },
  {
   "cell_type": "code",
   "execution_count": null,
   "id": "9ab820ea-19b8-472a-8b19-95869e30c8b6",
   "metadata": {},
   "outputs": [],
   "source": []
  }
 ],
 "metadata": {
  "kernelspec": {
   "display_name": "Python 3 (ipykernel)",
   "language": "python",
   "name": "python3"
  },
  "language_info": {
   "codemirror_mode": {
    "name": "ipython",
    "version": 3
   },
   "file_extension": ".py",
   "mimetype": "text/x-python",
   "name": "python",
   "nbconvert_exporter": "python",
   "pygments_lexer": "ipython3",
   "version": "3.12.7"
  }
 },
 "nbformat": 4,
 "nbformat_minor": 5
}
