{
 "cells": [
  {
   "cell_type": "code",
   "execution_count": 29,
   "id": "45f4e7de-9c4a-4ecd-976c-89bc908d2666",
   "metadata": {},
   "outputs": [],
   "source": [
    "import pandas as pd"
   ]
  },
  {
   "cell_type": "code",
   "execution_count": 30,
   "id": "a3f9d2d2-d852-48ed-8b08-539343351fab",
   "metadata": {},
   "outputs": [],
   "source": [
    "#from openpyxl import pd"
   ]
  },
  {
   "cell_type": "code",
   "execution_count": 31,
   "id": "9c7c2185-5241-4fa6-83a1-42309ef53f64",
   "metadata": {},
   "outputs": [],
   "source": [
    "def create_df(filename):\n",
    "    data = {\n",
    "        'name':['andal','saravana','santhosh','sandy'],\n",
    "        'age':[25,26,27,28],\n",
    "        'city':['chennai','madurai','coimbatore','salem']\n",
    "    }\n",
    "    df = pd.DataFrame(data)\n",
    "    df.to_excel(\n",
    "        filename,\n",
    "        index=False\n",
    "    )"
   ]
  },
  {
   "cell_type": "code",
   "execution_count": 32,
   "id": "7d004a45-fa57-4191-a1c1-c76d595ba0fa",
   "metadata": {},
   "outputs": [],
   "source": [
    "def read_excel(file_name):\n",
    "    df = pd.read_excel(file_name)\n",
    "    return df"
   ]
  },
  {
   "cell_type": "code",
   "execution_count": 33,
   "id": "f4d5c363-435c-4350-ad2f-8006e579901c",
   "metadata": {},
   "outputs": [],
   "source": [
    "def update_df(file_name):\n",
    "    #read dataframe\n",
    "    df = pd.read_excel(file_name)\n",
    "    df.loc[df['name']=='jerin','age'] = 21\n",
    "    df.to_excel(\n",
    "        file_name,\n",
    "        index=False\n",
    "    )\n",
    "    return df"
   ]
  },
  {
   "cell_type": "code",
   "execution_count": 34,
   "id": "45a55516-bb85-4dfc-b4cd-595605524958",
   "metadata": {},
   "outputs": [],
   "source": [
    "def delete_data_from_excel(file_name):\n",
    "    df = pd.read_excel(file_name)\n",
    "    dfs = df[df[\"name\"]!= 'sanjay']\n",
    "    dfs.to_excel(\n",
    "        file_name,\n",
    "        index=False\n",
    "    )\n",
    "    return dfs"
   ]
  },
  {
   "cell_type": "code",
   "execution_count": 35,
   "id": "70aa52d5-0a90-44fb-b6d3-12659a9cef0f",
   "metadata": {},
   "outputs": [],
   "source": [
    "def startpy():\n",
    "    print(create_df('example.xlsx'))\n",
    "    print(read_excel('example.xlsx'))\n",
    "    print(update_df('example.xlsx'))\n",
    "    print(delete_data_from_excel('example.xlsx'))"
   ]
  },
  {
   "cell_type": "code",
   "execution_count": 36,
   "id": "23f194ef-338f-44a1-accb-e262bf4a620a",
   "metadata": {},
   "outputs": [
    {
     "name": "stdout",
     "output_type": "stream",
     "text": [
      "None\n",
      "       name  age        city\n",
      "0     andal   25     chennai\n",
      "1  saravana   26     madurai\n",
      "2  santhosh   27  coimbatore\n",
      "3     sandy   28       salem\n",
      "       name  age        city\n",
      "0     andal   25     chennai\n",
      "1  saravana   26     madurai\n",
      "2  santhosh   27  coimbatore\n",
      "3     sandy   28       salem\n",
      "       name  age        city\n",
      "0     andal   25     chennai\n",
      "1  saravana   26     madurai\n",
      "2  santhosh   27  coimbatore\n",
      "3     sandy   28       salem\n"
     ]
    }
   ],
   "source": [
    "if __name__ == '__main__':\n",
    "    startpy()"
   ]
  },
  {
   "cell_type": "code",
   "execution_count": null,
   "id": "11b611ee-95e2-4e6c-929e-fbba9463f708",
   "metadata": {},
   "outputs": [],
   "source": []
  }
 ],
 "metadata": {
  "kernelspec": {
   "display_name": "Python 3 (ipykernel)",
   "language": "python",
   "name": "python3"
  },
  "language_info": {
   "codemirror_mode": {
    "name": "ipython",
    "version": 3
   },
   "file_extension": ".py",
   "mimetype": "text/x-python",
   "name": "python",
   "nbconvert_exporter": "python",
   "pygments_lexer": "ipython3",
   "version": "3.12.7"
  }
 },
 "nbformat": 4,
 "nbformat_minor": 5
}
