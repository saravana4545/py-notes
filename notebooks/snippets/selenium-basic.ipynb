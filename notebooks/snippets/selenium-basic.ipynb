{
 "cells": [
  {
   "cell_type": "code",
   "execution_count": 1,
   "id": "5c07b97c-d0db-4028-9980-461d59b1ed12",
   "metadata": {},
   "outputs": [],
   "source": [
    "#Import neccessary libraries"
   ]
  },
  {
   "cell_type": "code",
   "execution_count": 2,
   "id": "5c32f9d0-94c3-4797-b815-23aeb5633918",
   "metadata": {},
   "outputs": [
    {
     "name": "stdout",
     "output_type": "stream",
     "text": [
      "Requirement already satisfied: selenium in /home/saravanakumar/miniconda3/envs/py12/lib/python3.12/site-packages (4.27.1)\n",
      "Requirement already satisfied: urllib3<3,>=1.26 in /home/saravanakumar/miniconda3/envs/py12/lib/python3.12/site-packages (from urllib3[socks]<3,>=1.26->selenium) (2.2.3)\n",
      "Requirement already satisfied: trio~=0.17 in /home/saravanakumar/miniconda3/envs/py12/lib/python3.12/site-packages (from selenium) (0.27.0)\n",
      "Requirement already satisfied: trio-websocket~=0.9 in /home/saravanakumar/miniconda3/envs/py12/lib/python3.12/site-packages (from selenium) (0.11.1)\n",
      "Requirement already satisfied: certifi>=2021.10.8 in /home/saravanakumar/miniconda3/envs/py12/lib/python3.12/site-packages (from selenium) (2024.8.30)\n",
      "Requirement already satisfied: typing_extensions~=4.9 in /home/saravanakumar/miniconda3/envs/py12/lib/python3.12/site-packages (from selenium) (4.12.2)\n",
      "Requirement already satisfied: websocket-client~=1.8 in /home/saravanakumar/miniconda3/envs/py12/lib/python3.12/site-packages (from selenium) (1.8.0)\n",
      "Requirement already satisfied: attrs>=23.2.0 in /home/saravanakumar/miniconda3/envs/py12/lib/python3.12/site-packages (from trio~=0.17->selenium) (24.2.0)\n",
      "Requirement already satisfied: sortedcontainers in /home/saravanakumar/miniconda3/envs/py12/lib/python3.12/site-packages (from trio~=0.17->selenium) (2.4.0)\n",
      "Requirement already satisfied: idna in /home/saravanakumar/miniconda3/envs/py12/lib/python3.12/site-packages (from trio~=0.17->selenium) (3.10)\n",
      "Requirement already satisfied: outcome in /home/saravanakumar/miniconda3/envs/py12/lib/python3.12/site-packages (from trio~=0.17->selenium) (1.3.0.post0)\n",
      "Requirement already satisfied: sniffio>=1.3.0 in /home/saravanakumar/miniconda3/envs/py12/lib/python3.12/site-packages (from trio~=0.17->selenium) (1.3.1)\n",
      "Requirement already satisfied: wsproto>=0.14 in /home/saravanakumar/miniconda3/envs/py12/lib/python3.12/site-packages (from trio-websocket~=0.9->selenium) (1.2.0)\n",
      "Requirement already satisfied: pysocks!=1.5.7,<2.0,>=1.5.6 in /home/saravanakumar/miniconda3/envs/py12/lib/python3.12/site-packages (from urllib3[socks]<3,>=1.26->selenium) (1.7.1)\n",
      "Requirement already satisfied: h11<1,>=0.9.0 in /home/saravanakumar/miniconda3/envs/py12/lib/python3.12/site-packages (from wsproto>=0.14->trio-websocket~=0.9->selenium) (0.14.0)\n"
     ]
    }
   ],
   "source": [
    "!pip install selenium"
   ]
  },
  {
   "cell_type": "code",
   "execution_count": 43,
   "id": "1eae474d-79fe-4382-b9e8-30513efd0fa7",
   "metadata": {},
   "outputs": [],
   "source": [
    "from selenium import webdriver"
   ]
  },
  {
   "cell_type": "code",
   "execution_count": 44,
   "id": "2e5e8406-5134-4c21-848f-1f1fcd1396bf",
   "metadata": {},
   "outputs": [],
   "source": [
    "# Set up the driver (e.g., ChromeDriver)"
   ]
  },
  {
   "cell_type": "code",
   "execution_count": 45,
   "id": "171d1e9e-5e80-490e-a6fa-68a42f04b750",
   "metadata": {},
   "outputs": [],
   "source": [
    "driver = webdriver.Firefox()"
   ]
  },
  {
   "cell_type": "code",
   "execution_count": 46,
   "id": "6b0290dc-7f08-4998-80d9-e40c3a3dfabc",
   "metadata": {},
   "outputs": [],
   "source": [
    "# Open a webpage"
   ]
  },
  {
   "cell_type": "code",
   "execution_count": 47,
   "id": "3353370c-5b18-4e3d-a10a-e145609f03ad",
   "metadata": {},
   "outputs": [],
   "source": [
    "driver.get(\"https://www.youtube.com\")"
   ]
  },
  {
   "cell_type": "code",
   "execution_count": 48,
   "id": "f9d407bd-9f6d-4746-a5ec-54ffc5b6184b",
   "metadata": {},
   "outputs": [],
   "source": [
    "# Print the title of the webpage"
   ]
  },
  {
   "cell_type": "code",
   "execution_count": 49,
   "id": "060bcbb9-0c77-46e5-acbd-cf82fbaeb6c3",
   "metadata": {},
   "outputs": [
    {
     "name": "stdout",
     "output_type": "stream",
     "text": [
      "Page title: YouTube\n"
     ]
    }
   ],
   "source": [
    "print(\"Page title:\", driver.title)"
   ]
  },
  {
   "cell_type": "code",
   "execution_count": 50,
   "id": "c3ecc81b-1e4d-4c4f-aa1d-524988cd3546",
   "metadata": {},
   "outputs": [],
   "source": [
    "# Close the browser"
   ]
  },
  {
   "cell_type": "code",
   "execution_count": 51,
   "id": "2f44c488-52f4-42a4-9763-0c63bc9a7b82",
   "metadata": {},
   "outputs": [],
   "source": [
    "driver.quit()"
   ]
  },
  {
   "cell_type": "code",
   "execution_count": null,
   "id": "d898ce1e-aaa9-4875-8e3b-78486b5d57aa",
   "metadata": {},
   "outputs": [],
   "source": []
  },
  {
   "cell_type": "code",
   "execution_count": null,
   "id": "f2a8cf8c-ad92-43a5-b594-c7de1839f992",
   "metadata": {},
   "outputs": [],
   "source": []
  }
 ],
 "metadata": {
  "kernelspec": {
   "display_name": "Python 3 (ipykernel)",
   "language": "python",
   "name": "python3"
  },
  "language_info": {
   "codemirror_mode": {
    "name": "ipython",
    "version": 3
   },
   "file_extension": ".py",
   "mimetype": "text/x-python",
   "name": "python",
   "nbconvert_exporter": "python",
   "pygments_lexer": "ipython3",
   "version": "3.12.7"
  }
 },
 "nbformat": 4,
 "nbformat_minor": 5
}
