{
 "cells": [
  {
   "cell_type": "code",
   "execution_count": null,
   "id": "9ee5a79e-a394-4a10-b15d-854d4a90cb22",
   "metadata": {},
   "outputs": [],
   "source": [
    "#Import neccessary libraries"
   ]
  },
  {
   "cell_type": "code",
   "execution_count": null,
   "id": "f5c4fa75-b5b6-41df-9387-a9cd13c69508",
   "metadata": {},
   "outputs": [],
   "source": [
    "from selenium import webdriver\n",
    "from selenium.webdriver.common.by import By"
   ]
  },
  {
   "cell_type": "code",
   "execution_count": null,
   "id": "ddcc4156-40ea-49de-b44c-995bbaafdfd8",
   "metadata": {},
   "outputs": [],
   "source": [
    "# Set up the driver (e.g., ChromeDriver)"
   ]
  },
  {
   "cell_type": "code",
   "execution_count": null,
   "id": "9939ed3b-e62a-46fd-aa32-e610ed26047d",
   "metadata": {},
   "outputs": [],
   "source": [
    "driver = webdriver.Chrome()\n",
    "driver.get(\"https://www.youtube.com\")"
   ]
  },
  {
   "cell_type": "code",
   "execution_count": null,
   "id": "300e40d1-c15e-4300-b56b-c558e166056d",
   "metadata": {},
   "outputs": [],
   "source": [
    "# Extract text"
   ]
  },
  {
   "cell_type": "code",
   "execution_count": null,
   "id": "c6068617-705e-4a08-8d08-54219d7f6b5c",
   "metadata": {},
   "outputs": [],
   "source": [
    "heading = driver.find_element(By.TAG_NAME, \"h1\").text\n",
    "print(\"Heading:\", heading)"
   ]
  },
  {
   "cell_type": "code",
   "execution_count": null,
   "id": "e96bc6c4-7d02-4f7c-a486-56e6c2ec72ff",
   "metadata": {},
   "outputs": [],
   "source": [
    "# Extract attribute value"
   ]
  },
  {
   "cell_type": "code",
   "execution_count": null,
   "id": "5dd64aee-a81c-4e56-9c21-ec9e40bf3007",
   "metadata": {},
   "outputs": [],
   "source": [
    "link = driver.find_element(By.TAG_NAME, \"a\")\n",
    "href = link.get_attribute(\"href\")\n",
    "print(\"Link URL:\", href)"
   ]
  },
  {
   "cell_type": "code",
   "execution_count": null,
   "id": "9f324c6a-fcf8-4502-b82f-f6451bb4118f",
   "metadata": {},
   "outputs": [],
   "source": [
    "#Quit from the entire browser"
   ]
  },
  {
   "cell_type": "code",
   "execution_count": null,
   "id": "b4c8de13-a259-44df-815b-93fd4198e4cb",
   "metadata": {},
   "outputs": [],
   "source": [
    "driver.quit()"
   ]
  }
 ],
 "metadata": {
  "kernelspec": {
   "display_name": "Python 3 (ipykernel)",
   "language": "python",
   "name": "python3"
  },
  "language_info": {
   "codemirror_mode": {
    "name": "ipython",
    "version": 3
   },
   "file_extension": ".py",
   "mimetype": "text/x-python",
   "name": "python",
   "nbconvert_exporter": "python",
   "pygments_lexer": "ipython3",
   "version": "3.12.7"
  }
 },
 "nbformat": 4,
 "nbformat_minor": 5
}
