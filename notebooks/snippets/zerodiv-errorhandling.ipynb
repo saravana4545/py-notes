{
 "cells": [
  {
   "cell_type": "code",
   "execution_count": 1,
   "id": "fe4535cd-9d37-434c-80d4-37e0998cb4bd",
   "metadata": {},
   "outputs": [],
   "source": [
    "# ZeroDivisionError exception"
   ]
  },
  {
   "cell_type": "code",
   "execution_count": 2,
   "id": "6873e30e-6f7c-4970-942a-181ee9a61c9d",
   "metadata": {},
   "outputs": [],
   "source": [
    "def number(x,y):\n",
    "    try:\n",
    "        divide = x / y\n",
    "        print(f'Result: {divide}')\n",
    "    except ZeroDivisionError:\n",
    "        print(\"Numbers can't divisible by zero\")"
   ]
  },
  {
   "cell_type": "code",
   "execution_count": 3,
   "id": "c439c955-040c-4a55-870b-8aafda91f7a5",
   "metadata": {},
   "outputs": [
    {
     "name": "stdout",
     "output_type": "stream",
     "text": [
      "Numbers can't divisible by zero\n"
     ]
    }
   ],
   "source": [
    "number(10,0)"
   ]
  },
  {
   "cell_type": "code",
   "execution_count": null,
   "id": "89ff3cfa-586c-468c-845a-5471b76379ed",
   "metadata": {},
   "outputs": [],
   "source": []
  }
 ],
 "metadata": {
  "kernelspec": {
   "display_name": "Python 3 (ipykernel)",
   "language": "python",
   "name": "python3"
  },
  "language_info": {
   "codemirror_mode": {
    "name": "ipython",
    "version": 3
   },
   "file_extension": ".py",
   "mimetype": "text/x-python",
   "name": "python",
   "nbconvert_exporter": "python",
   "pygments_lexer": "ipython3",
   "version": "3.12.7"
  }
 },
 "nbformat": 4,
 "nbformat_minor": 5
}
