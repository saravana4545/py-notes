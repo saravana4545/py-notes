{
 "cells": [
  {
   "cell_type": "code",
   "execution_count": 1,
   "id": "dee5021b-cee9-4451-9cf2-3b4dca19ba3c",
   "metadata": {},
   "outputs": [],
   "source": [
    "import yaml"
   ]
  },
  {
   "cell_type": "code",
   "execution_count": 2,
   "id": "6f8f3c5f-a207-4047-a8b2-e6a921791871",
   "metadata": {},
   "outputs": [
    {
     "name": "stdout",
     "output_type": "stream",
     "text": [
      "{'name': 'Alice', 'age': 25, 'skills': ['Python', 'Machine Learning']}\n"
     ]
    }
   ],
   "source": [
    "# Read YAML\n",
    "yaml_data = \"\"\"\n",
    "name: Alice\n",
    "age: 25\n",
    "skills:\n",
    "  - Python\n",
    "  - Machine Learning\n",
    "\"\"\"\n",
    "data = yaml.safe_load(yaml_data)\n",
    "print(data)\n",
    "\n",
    "# Write YAML\n",
    "with open(\"output.yaml\", \"w\") as file:\n",
    "    yaml.dump(data, file)\n"
   ]
  },
  {
   "cell_type": "code",
   "execution_count": null,
   "id": "febf3454-7181-4f13-a894-6481597fb21d",
   "metadata": {},
   "outputs": [],
   "source": []
  }
 ],
 "metadata": {
  "kernelspec": {
   "display_name": "Python 3 (ipykernel)",
   "language": "python",
   "name": "python3"
  },
  "language_info": {
   "codemirror_mode": {
    "name": "ipython",
    "version": 3
   },
   "file_extension": ".py",
   "mimetype": "text/x-python",
   "name": "python",
   "nbconvert_exporter": "python",
   "pygments_lexer": "ipython3",
   "version": "3.12.7"
  }
 },
 "nbformat": 4,
 "nbformat_minor": 5
}
