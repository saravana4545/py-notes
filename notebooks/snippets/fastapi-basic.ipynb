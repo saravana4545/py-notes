{
 "cells": [
  {
   "cell_type": "code",
   "execution_count": null,
   "id": "a2402298-c276-431c-b58c-06460ad80b20",
   "metadata": {},
   "outputs": [],
   "source": [
    "from fastapi import FastAPI"
   ]
  },
  {
   "cell_type": "code",
   "execution_count": null,
   "id": "bcd1ab7a-f8e8-4d80-8577-065b8dd82f79",
   "metadata": {},
   "outputs": [],
   "source": [
    "import nest_asyncio"
   ]
  },
  {
   "cell_type": "code",
   "execution_count": null,
   "id": "b47787e7-4c73-4c95-b287-24f60005b288",
   "metadata": {},
   "outputs": [],
   "source": [
    "from uvicorn import Config, Server"
   ]
  },
  {
   "cell_type": "code",
   "execution_count": null,
   "id": "e1b7d5c3-af18-4948-a710-65365f8a5ed6",
   "metadata": {},
   "outputs": [],
   "source": [
    "nest_asyncio.apply()"
   ]
  },
  {
   "cell_type": "code",
   "execution_count": null,
   "id": "82effae7-050d-442d-a61c-835444f2c845",
   "metadata": {},
   "outputs": [],
   "source": [
    "app = FastAPI()"
   ]
  },
  {
   "cell_type": "code",
   "execution_count": null,
   "id": "d9bf6789-711f-4b1f-83b9-237c05e1fa28",
   "metadata": {},
   "outputs": [],
   "source": [
    "@app.get(\"/\")\n",
    "def read_root():\n",
    "    return {\"message\": \"Hello from FastAPI in JupyterLab!\"}\n",
    "\n",
    "\n",
    "# Run FastAPI server\n",
    "config = Config(\n",
    "    app      =app,\n",
    "    host     =\"127.0.0.1\",\n",
    "    port     =8000,\n",
    "    log_level=\"info\"\n",
    ")\n",
    "\n",
    "server = Server(config)\n",
    "\n",
    "server.run()"
   ]
  },
  {
   "cell_type": "code",
   "execution_count": null,
   "id": "a9cba1bf-7d9c-4e0b-8eca-0b4f2d216f80",
   "metadata": {},
   "outputs": [],
   "source": []
  },
  {
   "cell_type": "code",
   "execution_count": null,
   "id": "6bbf0fb3-0bca-4c00-8020-f5a6dffaec09",
   "metadata": {},
   "outputs": [],
   "source": []
  }
 ],
 "metadata": {
  "kernelspec": {
   "display_name": "Python 3 (ipykernel)",
   "language": "python",
   "name": "python3"
  },
  "language_info": {
   "codemirror_mode": {
    "name": "ipython",
    "version": 3
   },
   "file_extension": ".py",
   "mimetype": "text/x-python",
   "name": "python",
   "nbconvert_exporter": "python",
   "pygments_lexer": "ipython3",
   "version": "3.12.7"
  }
 },
 "nbformat": 4,
 "nbformat_minor": 5
}
