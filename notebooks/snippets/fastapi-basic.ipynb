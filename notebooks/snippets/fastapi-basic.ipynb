{
 "cells": [
  {
   "cell_type": "code",
   "execution_count": null,
   "id": "12d5eb4a-27db-4cc1-a797-c673336e2169",
   "metadata": {},
   "outputs": [],
   "source": [
    "#import all neccessary libraries"
   ]
  },
  {
   "cell_type": "code",
   "execution_count": 2,
   "id": "a2402298-c276-431c-b58c-06460ad80b20",
   "metadata": {},
   "outputs": [],
   "source": [
    "from fastapi import FastAPI"
   ]
  },
  {
   "cell_type": "code",
   "execution_count": 3,
   "id": "bcd1ab7a-f8e8-4d80-8577-065b8dd82f79",
   "metadata": {},
   "outputs": [],
   "source": [
    "import nest_asyncio"
   ]
  },
  {
   "cell_type": "code",
   "execution_count": 4,
   "id": "b47787e7-4c73-4c95-b287-24f60005b288",
   "metadata": {},
   "outputs": [],
   "source": [
    "from uvicorn import Config, Server"
   ]
  },
  {
   "cell_type": "code",
   "execution_count": 5,
   "id": "e1b7d5c3-af18-4948-a710-65365f8a5ed6",
   "metadata": {},
   "outputs": [],
   "source": [
    "nest_asyncio.apply()"
   ]
  },
  {
   "cell_type": "code",
   "execution_count": 6,
   "id": "bf9690fc-589d-4a89-a895-88bc0153eddc",
   "metadata": {},
   "outputs": [],
   "source": [
    "#connect the FastAPI"
   ]
  },
  {
   "cell_type": "code",
   "execution_count": 7,
   "id": "82effae7-050d-442d-a61c-835444f2c845",
   "metadata": {},
   "outputs": [],
   "source": [
    "app = FastAPI()"
   ]
  },
  {
   "cell_type": "code",
   "execution_count": 8,
   "id": "a396ddc2-2214-4400-9fd0-f1b58f428691",
   "metadata": {},
   "outputs": [],
   "source": [
    "#create a route for get method"
   ]
  },
  {
   "cell_type": "code",
   "execution_count": 9,
   "id": "d9bf6789-711f-4b1f-83b9-237c05e1fa28",
   "metadata": {},
   "outputs": [],
   "source": [
    "@app.get(\"/\")\n",
    "def read_root():\n",
    "    return {\"message\": \"Hello from FastAPI in JupyterLab!\"}"
   ]
  },
  {
   "cell_type": "code",
   "execution_count": 10,
   "id": "a9cba1bf-7d9c-4e0b-8eca-0b4f2d216f80",
   "metadata": {},
   "outputs": [],
   "source": [
    "# Run FastAPI server"
   ]
  },
  {
   "cell_type": "code",
   "execution_count": null,
   "id": "6bbf0fb3-0bca-4c00-8020-f5a6dffaec09",
   "metadata": {},
   "outputs": [
    {
     "name": "stderr",
     "output_type": "stream",
     "text": [
      "INFO:     Started server process [3939]\n",
      "INFO:     Waiting for application startup.\n",
      "INFO:     Application startup complete.\n",
      "INFO:     Uvicorn running on http://127.0.0.1:8000 (Press CTRL+C to quit)\n"
     ]
    }
   ],
   "source": [
    "config = Config(\n",
    "    app      =app,\n",
    "    host     =\"127.0.0.1\",\n",
    "    port     =8000,\n",
    "    log_level=\"info\"\n",
    ")\n",
    "\n",
    "server = Server(config)\n",
    "\n",
    "server.run()"
   ]
  },
  {
   "cell_type": "code",
   "execution_count": null,
   "id": "71272bb0-8edc-4450-816f-0b56b7c5a19b",
   "metadata": {},
   "outputs": [],
   "source": []
  }
 ],
 "metadata": {
  "kernelspec": {
   "display_name": "Python 3 (ipykernel)",
   "language": "python",
   "name": "python3"
  },
  "language_info": {
   "codemirror_mode": {
    "name": "ipython",
    "version": 3
   },
   "file_extension": ".py",
   "mimetype": "text/x-python",
   "name": "python",
   "nbconvert_exporter": "python",
   "pygments_lexer": "ipython3",
   "version": "3.12.7"
  }
 },
 "nbformat": 4,
 "nbformat_minor": 5
}
