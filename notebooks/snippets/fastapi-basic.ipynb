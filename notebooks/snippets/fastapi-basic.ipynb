{
 "cells": [
  {
   "cell_type": "code",
   "execution_count": 29,
   "id": "2d1463c4-4fbd-4b2b-99b8-31b491e918de",
   "metadata": {},
   "outputs": [],
   "source": [
    "from fastapi import FastAPI"
   ]
  },
  {
   "cell_type": "code",
   "execution_count": 30,
   "id": "d06a6906-6ffd-42c3-a87e-b03d8dfc71c3",
   "metadata": {},
   "outputs": [],
   "source": [
    "from fastapi.responses import HTMLResponse"
   ]
  },
  {
   "cell_type": "code",
   "execution_count": 31,
   "id": "ab6b2d98-caa7-454b-94be-689debee88c0",
   "metadata": {},
   "outputs": [],
   "source": [
    "import nest_asyncio"
   ]
  },
  {
   "cell_type": "code",
   "execution_count": 32,
   "id": "759c8c34-a02b-4a4e-8cb2-a40f15de64ad",
   "metadata": {},
   "outputs": [],
   "source": [
    "from uvicorn import Config, Server"
   ]
  },
  {
   "cell_type": "code",
   "execution_count": 33,
   "id": "15afde68-5963-45b8-a5be-c4a072ccf67d",
   "metadata": {},
   "outputs": [],
   "source": [
    "nest_asyncio.apply()"
   ]
  },
  {
   "cell_type": "code",
   "execution_count": 34,
   "id": "f3d34ba1-b20c-47f2-b1ea-8300aa058ba0",
   "metadata": {},
   "outputs": [],
   "source": [
    "app = FastAPI()"
   ]
  },
  {
   "cell_type": "code",
   "execution_count": null,
   "id": "aa7fd8db-0028-40bf-89a9-fa14efc6a93a",
   "metadata": {},
   "outputs": [
    {
     "name": "stderr",
     "output_type": "stream",
     "text": [
      "INFO:     Started server process [11011]\n",
      "INFO:     Waiting for application startup.\n",
      "INFO:     Application startup complete.\n",
      "INFO:     Uvicorn running on http://127.0.0.1:8000 (Press CTRL+C to quit)\n"
     ]
    },
    {
     "name": "stdout",
     "output_type": "stream",
     "text": [
      "INFO:     127.0.0.1:46628 - \"GET /doc HTTP/1.1\" 404 Not Found\n",
      "INFO:     127.0.0.1:46628 - \"GET /favicon.ico HTTP/1.1\" 404 Not Found\n",
      "INFO:     127.0.0.1:39180 - \"GET /docs HTTP/1.1\" 200 OK\n",
      "INFO:     127.0.0.1:43084 - \"GET /openapi.json HTTP/1.1\" 200 OK\n",
      "INFO:     127.0.0.1:43094 - \"GET / HTTP/1.1\" 200 OK\n"
     ]
    }
   ],
   "source": [
    "@app.get(\"/\", response_class=HTMLResponse)\n",
    "def read_root():\n",
    "    return \"<h1>Welcome to FastAPI in JupyterLab!</h1>\"\n",
    "\n",
    "# Run the server\n",
    "config = Config(\n",
    "    app      =app,\n",
    "    host     =\"127.0.0.1\",\n",
    "    port     =8000,\n",
    "    log_level=\"info\"\n",
    ")\n",
    "server = Server(config)\n",
    "server.run()"
   ]
  },
  {
   "cell_type": "code",
   "execution_count": null,
   "id": "0a74c5de-8e46-435e-8ad4-ff75d78a42b1",
   "metadata": {},
   "outputs": [],
   "source": []
  }
 ],
 "metadata": {
  "kernelspec": {
   "display_name": "Python 3 (ipykernel)",
   "language": "python",
   "name": "python3"
  },
  "language_info": {
   "codemirror_mode": {
    "name": "ipython",
    "version": 3
   },
   "file_extension": ".py",
   "mimetype": "text/x-python",
   "name": "python",
   "nbconvert_exporter": "python",
   "pygments_lexer": "ipython3",
   "version": "3.12.7"
  }
 },
 "nbformat": 4,
 "nbformat_minor": 5
}
