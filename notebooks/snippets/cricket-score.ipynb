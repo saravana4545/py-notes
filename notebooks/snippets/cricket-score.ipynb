{
 "cells": [
  {
   "cell_type": "code",
   "execution_count": 1,
   "id": "10fae3be-0f41-424f-ad6c-f751c0ddf22c",
   "metadata": {},
   "outputs": [],
   "source": [
    "import time\n",
    "from random import randint"
   ]
  },
  {
   "cell_type": "code",
   "execution_count": 2,
   "id": "0ff940f6-f9c2-4a71-aa02-d9cf3728e21f",
   "metadata": {},
   "outputs": [],
   "source": [
    "def get_ball_in_words(ball):\n",
    "    if(ball == 1):\n",
    "        return 'first'\n",
    "    elif(ball == 2):\n",
    "        return 'second'\n",
    "    elif(ball == 3):\n",
    "        return 'third'\n",
    "    elif(ball == 4):\n",
    "        return 'fourth'\n",
    "    elif(ball == 5):\n",
    "        return 'fifth'\n",
    "    elif(ball == 6):\n",
    "        return 'last' "
   ]
  },
  {
   "cell_type": "code",
   "execution_count": 5,
   "id": "5934c35f-a4aa-4ee4-8297-2ed89b420c81",
   "metadata": {},
   "outputs": [],
   "source": [
    "def play_over(bowler = 'STARC', batsman = 'ROHIT'):\n",
    "    \n",
    "    for i in range(6):       \n",
    "        ball = i + 1\n",
    "             \n",
    "        time.sleep(randint(1, 4))\n",
    "        print(bowler+' bowling '+get_ball_in_words(ball)+' ball : ')\n",
    "        \n",
    "        run  = randint(0, 6)\n",
    "        print(batsman+' hits '+str(run))"
   ]
  },
  {
   "cell_type": "code",
   "execution_count": 6,
   "id": "5a97ed06-dd4d-43b2-b50c-984221f078c3",
   "metadata": {},
   "outputs": [
    {
     "name": "stdout",
     "output_type": "stream",
     "text": [
      "STARC bowling first ball : \n",
      "ROHIT hits 1\n",
      "STARC bowling second ball : \n",
      "ROHIT hits 6\n",
      "STARC bowling third ball : \n",
      "ROHIT hits 3\n",
      "STARC bowling fourth ball : \n",
      "ROHIT hits 4\n",
      "STARC bowling fifth ball : \n",
      "ROHIT hits 2\n",
      "STARC bowling last ball : \n",
      "ROHIT hits 1\n"
     ]
    }
   ],
   "source": [
    "play_over()s"
   ]
  },
  {
   "cell_type": "code",
   "execution_count": null,
   "id": "e343efaf-1d02-4a44-8e6d-ad89069ec5b4",
   "metadata": {},
   "outputs": [],
   "source": []
  }
 ],
 "metadata": {
  "kernelspec": {
   "display_name": "Python 3 (ipykernel)",
   "language": "python",
   "name": "python3"
  },
  "language_info": {
   "codemirror_mode": {
    "name": "ipython",
    "version": 3
   },
   "file_extension": ".py",
   "mimetype": "text/x-python",
   "name": "python",
   "nbconvert_exporter": "python",
   "pygments_lexer": "ipython3",
   "version": "3.12.7"
  }
 },
 "nbformat": 4,
 "nbformat_minor": 5
}
