{
 "cells": [
  {
   "cell_type": "code",
   "execution_count": 2,
   "id": "e98616b7-8968-418e-8f8b-b9f77238e9fb",
   "metadata": {},
   "outputs": [],
   "source": [
    "#import neccessery libraries"
   ]
  },
  {
   "cell_type": "code",
   "execution_count": 55,
   "id": "ccd6a3e0-80f9-41d2-b6d3-fe120784547f",
   "metadata": {},
   "outputs": [],
   "source": [
    "import requests\n",
    "from bs4 import BeautifulSoup"
   ]
  },
  {
   "cell_type": "code",
   "execution_count": 56,
   "id": "3d2e7e46-5778-408e-8e0c-e1b290e00651",
   "metadata": {},
   "outputs": [],
   "source": [
    "# URL of the webpage to scrape"
   ]
  },
  {
   "cell_type": "code",
   "execution_count": 57,
   "id": "0276c7bf-804c-4201-8474-e2bd567662f6",
   "metadata": {},
   "outputs": [],
   "source": [
    "url = \"https://books.toscrape.com/catalogue/sapiens-a-brief-history-of-humankind_996/index.html\""
   ]
  },
  {
   "cell_type": "code",
   "execution_count": 58,
   "id": "4ec5ceb3-b39a-49a6-b569-dba9ceaf185f",
   "metadata": {},
   "outputs": [],
   "source": [
    "# Fetch the HTML content of the webpage"
   ]
  },
  {
   "cell_type": "code",
   "execution_count": 59,
   "id": "798acbf6-c3e5-475e-bbe2-0fdc7b187891",
   "metadata": {},
   "outputs": [],
   "source": [
    "response = requests.get(url)"
   ]
  },
  {
   "cell_type": "code",
   "execution_count": 60,
   "id": "e3eddd34-31d2-4523-ad08-5a765b66b842",
   "metadata": {},
   "outputs": [],
   "source": [
    "# Check if the request was successful"
   ]
  },
  {
   "cell_type": "code",
   "execution_count": 61,
   "id": "5d1d1542-fb5b-4b21-89cf-ae6f16c39080",
   "metadata": {},
   "outputs": [],
   "source": [
    "if response.status_code == 200:\n",
    "    soup = BeautifulSoup(response.text, 'html.parser')"
   ]
  },
  {
   "cell_type": "code",
   "execution_count": 62,
   "id": "dabd9137-cf57-401b-99c2-56bc1e90c269",
   "metadata": {},
   "outputs": [],
   "source": [
    "# Extract book details"
   ]
  },
  {
   "cell_type": "code",
   "execution_count": 63,
   "id": "13bafd45-a487-435d-bb69-fadfc5382ca9",
   "metadata": {},
   "outputs": [
    {
     "name": "stdout",
     "output_type": "stream",
     "text": [
      "Title: Sharp Objects\n",
      "Price: Â£47.82\n",
      "Link: https://books.toscrape.com/catalogue/../sharp-objects_997/index.html\n",
      "----------------------------------------\n",
      "Title: Soumission\n",
      "Price: Â£50.10\n",
      "Link: https://books.toscrape.com/catalogue/../soumission_998/index.html\n",
      "----------------------------------------\n",
      "Title: Tipping the Velvet\n",
      "Price: Â£53.74\n",
      "Link: https://books.toscrape.com/catalogue/../tipping-the-velvet_999/index.html\n",
      "----------------------------------------\n",
      "Title: A Light in the Attic\n",
      "Price: Â£51.77\n",
      "Link: https://books.toscrape.com/catalogue/../a-light-in-the-attic_1000/index.html\n",
      "----------------------------------------\n"
     ]
    }
   ],
   "source": [
    "    books = soup.find_all('article', class_='product_pod')\n",
    "    for book in books:\n",
    "        # Extract book title\n",
    "        title = book.h3.a['title']\n",
    "        \n",
    "        # Extract book price\n",
    "        price = book.find('p', class_='price_color').text\n",
    "        \n",
    "        # Extract book link (relative URL)\n",
    "        link = book.h3.a['href']\n",
    "        full_link = f\"https://books.toscrape.com/catalogue/{link}\"\n",
    "        \n",
    "        print(f\"Title: {title}\")\n",
    "        print(f\"Price: {price}\")\n",
    "        print(f\"Link: {full_link}\")\n",
    "        print(\"-\" * 40)\n"
   ]
  },
  {
   "cell_type": "code",
   "execution_count": 64,
   "id": "8e37e97f-3ca0-4471-b210-08c175e9cf77",
   "metadata": {},
   "outputs": [],
   "source": [
    "#check when the request was fail else will be run"
   ]
  },
  {
   "cell_type": "code",
   "execution_count": null,
   "id": "a317bb9f-3ac3-4c82-83fe-81c2e109b63b",
   "metadata": {},
   "outputs": [],
   "source": [
    "else:\n",
    "    print(f\"Failed to retrieve the webpage. Status code: {response.status_code}\")"
   ]
  },
  {
   "cell_type": "code",
   "execution_count": null,
   "id": "a1bac52c-a6de-413e-b423-6e353c686a7f",
   "metadata": {},
   "outputs": [],
   "source": []
  }
 ],
 "metadata": {
  "kernelspec": {
   "display_name": "Python 3 (ipykernel)",
   "language": "python",
   "name": "python3"
  },
  "language_info": {
   "codemirror_mode": {
    "name": "ipython",
    "version": 3
   },
   "file_extension": ".py",
   "mimetype": "text/x-python",
   "name": "python",
   "nbconvert_exporter": "python",
   "pygments_lexer": "ipython3",
   "version": "3.12.7"
  }
 },
 "nbformat": 4,
 "nbformat_minor": 5
}
