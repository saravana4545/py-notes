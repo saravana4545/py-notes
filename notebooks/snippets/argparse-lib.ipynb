{
 "cells": [
  {
   "cell_type": "code",
   "execution_count": 15,
   "id": "e5840a3e-35e5-4bf4-a3e7-78affa9ba6de",
   "metadata": {},
   "outputs": [],
   "source": [
    "import argparse"
   ]
  },
  {
   "cell_type": "code",
   "execution_count": 16,
   "id": "50632342-520c-4920-9307-4bb8941cc6c0",
   "metadata": {},
   "outputs": [],
   "source": [
    "import sys"
   ]
  },
  {
   "cell_type": "code",
   "execution_count": 17,
   "id": "6bed51a6-2d59-47e8-bd6b-030fa088b197",
   "metadata": {},
   "outputs": [],
   "source": [
    "def main():\n",
    "    \n",
    "    parser = argparse.ArgumentParser(description='SoundScrape. Scrape an artist from SoundCloud.\\n')\n",
    "    parser.add_argument('artist_url', metavar='U', type=str, nargs='*',\n",
    "                        help='An artist\\'s SoundCloud username or URL')\n",
    "    parser.add_argument('-n', '--num-tracks', type=int, default=sys.maxsize,\n",
    "                        help='The number of tracks to download')\n",
    "    parser.add_argument('-g', '--group', action='store_true',\n",
    "                        help='Use if downloading tracks from a SoundCloud group')\n",
    "    \n",
    "    parser.add_argument('-abc', '--abc', type=int, \n",
    "                        help='The number of tracks to download')\n",
    "    \n",
    "    args = parser.parse_args()\n",
    "    \n",
    "    print('args')\n",
    "    print(args)\n",
    "\n",
    "    vargs = vars(args)\n",
    "    print('vargs')    \n",
    "    print(vargs)\n",
    "    print(type(vargs))"
   ]
  },
  {
   "cell_type": "code",
   "execution_count": 18,
   "id": "43f9aa06-f945-4466-8495-cbc5a9a19f87",
   "metadata": {},
   "outputs": [
    {
     "name": "stderr",
     "output_type": "stream",
     "text": [
      "usage: ipykernel_launcher.py [-h] [-n NUM_TRACKS] [-g] [-abc ABC] [U ...]\n",
      "ipykernel_launcher.py: error: unrecognized arguments: -f\n"
     ]
    },
    {
     "ename": "SystemExit",
     "evalue": "2",
     "output_type": "error",
     "traceback": [
      "An exception has occurred, use %tb to see the full traceback.\n",
      "\u001b[0;31mSystemExit\u001b[0m\u001b[0;31m:\u001b[0m 2\n"
     ]
    }
   ],
   "source": [
    "if __name__ == '__main__':\n",
    "    main()"
   ]
  },
  {
   "cell_type": "markdown",
   "id": "d774f232-3804-4dcd-bdea-86562fc0db2e",
   "metadata": {},
   "source": []
  }
 ],
 "metadata": {
  "kernelspec": {
   "display_name": "Python 3 (ipykernel)",
   "language": "python",
   "name": "python3"
  },
  "language_info": {
   "codemirror_mode": {
    "name": "ipython",
    "version": 3
   },
   "file_extension": ".py",
   "mimetype": "text/x-python",
   "name": "python",
   "nbconvert_exporter": "python",
   "pygments_lexer": "ipython3",
   "version": "3.12.7"
  }
 },
 "nbformat": 4,
 "nbformat_minor": 5
}
