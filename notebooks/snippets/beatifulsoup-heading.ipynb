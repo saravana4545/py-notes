{
 "cells": [
  {
   "cell_type": "code",
   "execution_count": 6,
   "id": "26cf7698-d126-4749-990b-9529ad7756fb",
   "metadata": {},
   "outputs": [],
   "source": [
    "#1.Webpage Title Extraction\n",
    "#Extract the title of a webpage from its HTML content."
   ]
  },
  {
   "cell_type": "code",
   "execution_count": 31,
   "id": "3e2a5c9b-2c73-4cef-addc-72de0c9e1f3a",
   "metadata": {},
   "outputs": [],
   "source": [
    "from bs4 import BeautifulSoup"
   ]
  },
  {
   "cell_type": "code",
   "execution_count": 32,
   "id": "22f78061-9801-4360-83a9-3ad25172b6f8",
   "metadata": {},
   "outputs": [],
   "source": [
    "import requests"
   ]
  },
  {
   "cell_type": "code",
   "execution_count": 33,
   "id": "a7fd963e-596c-431b-9919-af93153970f8",
   "metadata": {},
   "outputs": [],
   "source": [
    "url = \"https://books.toscrape.com/catalogue/a-light-in-the-attic_1000/index.html\""
   ]
  },
  {
   "cell_type": "code",
   "execution_count": 34,
   "id": "020028fb-b219-41c1-8824-b5a1636b9efe",
   "metadata": {},
   "outputs": [],
   "source": [
    "response = requests.get(url)"
   ]
  },
  {
   "cell_type": "code",
   "execution_count": 36,
   "id": "3e8b3b30-9d18-462d-b5e2-fc29c8abf1c7",
   "metadata": {},
   "outputs": [],
   "source": [
    "soup = BeautifulSoup(response.content, 'html.parser')"
   ]
  },
  {
   "cell_type": "code",
   "execution_count": 37,
   "id": "f4293f27-3bf2-4436-9362-3b811bdda69c",
   "metadata": {},
   "outputs": [
    {
     "name": "stdout",
     "output_type": "stream",
     "text": [
      "Title tag: A Light in the Attic\n"
     ]
    }
   ],
   "source": [
    "title = soup.find('h1').text\n",
    "print(\"Title tag:\", title )"
   ]
  },
  {
   "cell_type": "code",
   "execution_count": null,
   "id": "05442001-a6fb-4d67-8e82-68e00ca9483e",
   "metadata": {},
   "outputs": [],
   "source": []
  }
 ],
 "metadata": {
  "kernelspec": {
   "display_name": "Python 3 (ipykernel)",
   "language": "python",
   "name": "python3"
  },
  "language_info": {
   "codemirror_mode": {
    "name": "ipython",
    "version": 3
   },
   "file_extension": ".py",
   "mimetype": "text/x-python",
   "name": "python",
   "nbconvert_exporter": "python",
   "pygments_lexer": "ipython3",
   "version": "3.12.7"
  }
 },
 "nbformat": 4,
 "nbformat_minor": 5
}
