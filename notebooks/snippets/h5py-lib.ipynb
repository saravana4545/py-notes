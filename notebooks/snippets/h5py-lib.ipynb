{
 "cells": [
  {
   "cell_type": "code",
   "execution_count": 2,
   "id": "fa3af1c8-a00f-4f02-a7f2-baf01e4df97d",
   "metadata": {},
   "outputs": [],
   "source": [
    "import h5py"
   ]
  },
  {
   "cell_type": "code",
   "execution_count": 3,
   "id": "e3c5f646-6faa-45d6-a58a-e857a0bed315",
   "metadata": {},
   "outputs": [],
   "source": [
    "def startpy():\n",
    "    file    = h5py.File('dset.h5','w')\n",
    "    dataset = file.create_dataset(\n",
    "        \"dset\",\n",
    "        (4, 6),\n",
    "        h5py.h5t.STD_I32BE\n",
    "    )\n",
    "    print(\"Dataset dataspace is\", dataset.shape)\n",
    "    print(\"Dataset Numpy datatype is\", dataset.dtype)\n",
    "    print(\"Dataset name is\", dataset.name)\n",
    "    print(\"Dataset is a member of the group\", dataset.parent)\n",
    "    print(\"Dataset was created in the file\", dataset.file)\n",
    "\n",
    "    file.close()"
   ]
  },
  {
   "cell_type": "code",
   "execution_count": 4,
   "id": "7a2c92c0-3e68-423a-9ea7-fb639dc30876",
   "metadata": {},
   "outputs": [
    {
     "name": "stdout",
     "output_type": "stream",
     "text": [
      "Dataset dataspace is (4, 6)\n",
      "Dataset Numpy datatype is >i4\n",
      "Dataset name is /dset\n",
      "Dataset is a member of the group <HDF5 group \"/\" (1 members)>\n",
      "Dataset was created in the file <HDF5 file \"dset.h5\" (mode r+)>\n"
     ]
    }
   ],
   "source": [
    "if __name__ == '__main__':\n",
    "    startpy()"
   ]
  },
  {
   "cell_type": "code",
   "execution_count": null,
   "id": "8dd79c3f-f305-4661-adcc-7d6919c1144a",
   "metadata": {},
   "outputs": [],
   "source": []
  }
 ],
 "metadata": {
  "kernelspec": {
   "display_name": "Python 3 (ipykernel)",
   "language": "python",
   "name": "python3"
  },
  "language_info": {
   "codemirror_mode": {
    "name": "ipython",
    "version": 3
   },
   "file_extension": ".py",
   "mimetype": "text/x-python",
   "name": "python",
   "nbconvert_exporter": "python",
   "pygments_lexer": "ipython3",
   "version": "3.12.7"
  }
 },
 "nbformat": 4,
 "nbformat_minor": 5
}
