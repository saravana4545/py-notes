{
 "cells": [
  {
   "cell_type": "code",
   "execution_count": 35,
   "id": "8c60e20d-18d9-4fc5-b06c-4984203fe7ba",
   "metadata": {},
   "outputs": [],
   "source": [
    "import html"
   ]
  },
  {
   "cell_type": "code",
   "execution_count": 36,
   "id": "12b4b7f3-a024-4cc5-9153-aa51d6293b6e",
   "metadata": {},
   "outputs": [],
   "source": [
    "def convert_text(text):\n",
    "    output_text = html.unescape(text)\n",
    "    return output_text"
   ]
  },
  {
   "cell_type": "code",
   "execution_count": 37,
   "id": "c316c0c8-b656-4cfd-9d73-7b069aeacfc7",
   "metadata": {},
   "outputs": [],
   "source": [
    "def startpy():\n",
    "    text       = \"&lt;ul&gt;&lt;li&gt;one.&lt;/li&gt;&lt;li&gt;two.&lt;/li&gt;&lt;/ul&gt;\"\n",
    "    final_html = convert_text(text)\n",
    "    print(f'original_string :{text}\\nfinal_html:{final_html}')"
   ]
  },
  {
   "cell_type": "code",
   "execution_count": 38,
   "id": "b66cc7a8-4098-4dca-8e7a-26feec0a533a",
   "metadata": {},
   "outputs": [
    {
     "name": "stdout",
     "output_type": "stream",
     "text": [
      "original_string :&lt;ul&gt;&lt;li&gt;one.&lt;/li&gt;&lt;li&gt;two.&lt;/li&gt;&lt;/ul&gt;\n",
      "final_html:<ul><li>one.</li><li>two.</li></ul>\n"
     ]
    }
   ],
   "source": [
    "if __name__ == '__main__':\n",
    "    startpy()"
   ]
  },
  {
   "cell_type": "code",
   "execution_count": null,
   "id": "0bb25ec3-8879-445d-adb2-697ae3df88ec",
   "metadata": {},
   "outputs": [],
   "source": []
  }
 ],
 "metadata": {
  "kernelspec": {
   "display_name": "Python 3 (ipykernel)",
   "language": "python",
   "name": "python3"
  },
  "language_info": {
   "codemirror_mode": {
    "name": "ipython",
    "version": 3
   },
   "file_extension": ".py",
   "mimetype": "text/x-python",
   "name": "python",
   "nbconvert_exporter": "python",
   "pygments_lexer": "ipython3",
   "version": "3.12.7"
  }
 },
 "nbformat": 4,
 "nbformat_minor": 5
}
