{
 "cells": [
  {
   "cell_type": "code",
   "execution_count": 10,
   "id": "0bf3cbcd-987e-4045-ad7f-90b4b2e692ad",
   "metadata": {},
   "outputs": [],
   "source": [
    "from rich.console import Console"
   ]
  },
  {
   "cell_type": "code",
   "execution_count": 11,
   "id": "096d71b5-3994-4312-a966-f08ff29aa17a",
   "metadata": {},
   "outputs": [],
   "source": [
    "from rich.table import Table"
   ]
  },
  {
   "cell_type": "code",
   "execution_count": 12,
   "id": "c9234e49-b855-4525-964b-3fd27e2374f3",
   "metadata": {},
   "outputs": [],
   "source": [
    "console = Console()"
   ]
  },
  {
   "cell_type": "code",
   "execution_count": 13,
   "id": "63bb8d38-1e2c-49ef-a7fa-9af82139b7d6",
   "metadata": {},
   "outputs": [],
   "source": [
    "def create_table():\n",
    "    table = Table(title=\"Programming Languages\")\n",
    "    table.add_column(\"Language\", style=\"bold cyan\")\n",
    "    table.add_column(\"Creator\", style=\"green\")\n",
    "    table.add_column(\"Year\", justify=\"right\")\n",
    "\n",
    "    table.add_row(\"Python\", \"Guido van Rossum\", \"1991\")\n",
    "    table.add_row(\"JavaScript\", \"Brendan Eich\", \"1995\")\n",
    "    table.add_row(\"Go\", \"Robert Griesemer\", \"2009\")\n",
    "\n",
    "    console.print(table)"
   ]
  },
  {
   "cell_type": "code",
   "execution_count": 14,
   "id": "2fe8a4a6-5ee2-48d3-b743-5581ca72f6bc",
   "metadata": {},
   "outputs": [
    {
     "data": {
      "text/html": [
       "<pre style=\"white-space:pre;overflow-x:auto;line-height:normal;font-family:Menlo,'DejaVu Sans Mono',consolas,'Courier New',monospace\"><span style=\"font-style: italic\">         Programming Languages          </span>\n",
       "┏━━━━━━━━━━━━┳━━━━━━━━━━━━━━━━━━┳━━━━━━┓\n",
       "┃<span style=\"font-weight: bold\"> Language   </span>┃<span style=\"font-weight: bold\"> Creator          </span>┃<span style=\"font-weight: bold\"> Year </span>┃\n",
       "┡━━━━━━━━━━━━╇━━━━━━━━━━━━━━━━━━╇━━━━━━┩\n",
       "│<span style=\"color: #008080; text-decoration-color: #008080; font-weight: bold\"> Python     </span>│<span style=\"color: #008000; text-decoration-color: #008000\"> Guido van Rossum </span>│ 1991 │\n",
       "│<span style=\"color: #008080; text-decoration-color: #008080; font-weight: bold\"> JavaScript </span>│<span style=\"color: #008000; text-decoration-color: #008000\"> Brendan Eich     </span>│ 1995 │\n",
       "│<span style=\"color: #008080; text-decoration-color: #008080; font-weight: bold\"> Go         </span>│<span style=\"color: #008000; text-decoration-color: #008000\"> Robert Griesemer </span>│ 2009 │\n",
       "└────────────┴──────────────────┴──────┘\n",
       "</pre>\n"
      ],
      "text/plain": [
       "\u001b[3m         Programming Languages          \u001b[0m\n",
       "┏━━━━━━━━━━━━┳━━━━━━━━━━━━━━━━━━┳━━━━━━┓\n",
       "┃\u001b[1m \u001b[0m\u001b[1mLanguage  \u001b[0m\u001b[1m \u001b[0m┃\u001b[1m \u001b[0m\u001b[1mCreator         \u001b[0m\u001b[1m \u001b[0m┃\u001b[1m \u001b[0m\u001b[1mYear\u001b[0m\u001b[1m \u001b[0m┃\n",
       "┡━━━━━━━━━━━━╇━━━━━━━━━━━━━━━━━━╇━━━━━━┩\n",
       "│\u001b[1;36m \u001b[0m\u001b[1;36mPython    \u001b[0m\u001b[1;36m \u001b[0m│\u001b[32m \u001b[0m\u001b[32mGuido van Rossum\u001b[0m\u001b[32m \u001b[0m│ 1991 │\n",
       "│\u001b[1;36m \u001b[0m\u001b[1;36mJavaScript\u001b[0m\u001b[1;36m \u001b[0m│\u001b[32m \u001b[0m\u001b[32mBrendan Eich    \u001b[0m\u001b[32m \u001b[0m│ 1995 │\n",
       "│\u001b[1;36m \u001b[0m\u001b[1;36mGo        \u001b[0m\u001b[1;36m \u001b[0m│\u001b[32m \u001b[0m\u001b[32mRobert Griesemer\u001b[0m\u001b[32m \u001b[0m│ 2009 │\n",
       "└────────────┴──────────────────┴──────┘\n"
      ]
     },
     "metadata": {},
     "output_type": "display_data"
    },
    {
     "name": "stdout",
     "output_type": "stream",
     "text": [
      "None\n"
     ]
    }
   ],
   "source": [
    "print(create_table())"
   ]
  },
  {
   "cell_type": "code",
   "execution_count": null,
   "id": "2b80429f-80bf-40cd-92a1-1c0256cc2922",
   "metadata": {},
   "outputs": [],
   "source": []
  }
 ],
 "metadata": {
  "kernelspec": {
   "display_name": "Python 3 (ipykernel)",
   "language": "python",
   "name": "python3"
  },
  "language_info": {
   "codemirror_mode": {
    "name": "ipython",
    "version": 3
   },
   "file_extension": ".py",
   "mimetype": "text/x-python",
   "name": "python",
   "nbconvert_exporter": "python",
   "pygments_lexer": "ipython3",
   "version": "3.12.7"
  }
 },
 "nbformat": 4,
 "nbformat_minor": 5
}
