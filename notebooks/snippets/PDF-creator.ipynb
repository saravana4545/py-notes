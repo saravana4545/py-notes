{
 "cells": [
  {
   "cell_type": "code",
   "execution_count": 9,
   "id": "24eeb1ff-7454-4ac1-8915-bd22e8a10688",
   "metadata": {},
   "outputs": [],
   "source": [
    "from fpdf  import FPDF"
   ]
  },
  {
   "cell_type": "code",
   "execution_count": 10,
   "id": "e311c64a-8306-44eb-b33a-606c713645fc",
   "metadata": {},
   "outputs": [],
   "source": [
    "p = FPDF()"
   ]
  },
  {
   "cell_type": "code",
   "execution_count": 11,
   "id": "f574cdd4-b7af-4e1d-9930-323e9da3576a",
   "metadata": {},
   "outputs": [],
   "source": [
    "p.add_page()\n",
    "p.set_font(\"Arial\", size=12)\n",
    "p.cell(200,10,txt='USER INFORMATION', ln=True, align='c')\n",
    "\n",
    "p.ln(10)\n",
    "p.cell(200, 10, txt=\"Address:\", ln=True)\n",
    "p.cell(200, 10, txt=\"1234 Main Street\", ln=True)\n",
    "p.cell(200, 10, txt=\"Apt. 101\", ln=True)\n",
    "p.cell(200, 10, txt=\"perth,optus stadium, australia\", ln=True)\n",
    "\n",
    "p.ln(20)"
   ]
  },
  {
   "cell_type": "code",
   "execution_count": 12,
   "id": "2a8abeba-53d2-44cb-98a5-e5f65ce69609",
   "metadata": {},
   "outputs": [
    {
     "name": "stdout",
     "output_type": "stream",
     "text": [
      "pdf created\n"
     ]
    }
   ],
   "source": [
    "for i in range(2,6):\n",
    "    p.add_page()\n",
    "    p.cell(200,10, txt=f'This is page {i}.',ln=True)\n",
    "\n",
    "p.output('example.pdf')\n",
    "print(\"pdf created\")"
   ]
  },
  {
   "cell_type": "code",
   "execution_count": null,
   "id": "296fc6c4-fb5c-4119-b1d0-1bd022e51124",
   "metadata": {},
   "outputs": [],
   "source": []
  }
 ],
 "metadata": {
  "kernelspec": {
   "display_name": "Python 3 (ipykernel)",
   "language": "python",
   "name": "python3"
  },
  "language_info": {
   "codemirror_mode": {
    "name": "ipython",
    "version": 3
   },
   "file_extension": ".py",
   "mimetype": "text/x-python",
   "name": "python",
   "nbconvert_exporter": "python",
   "pygments_lexer": "ipython3",
   "version": "3.12.7"
  }
 },
 "nbformat": 4,
 "nbformat_minor": 5
}
