{
 "cells": [
  {
   "cell_type": "code",
   "execution_count": 8,
   "id": "78c7eeba-d533-41c8-a3c3-e09dc0bbd1de",
   "metadata": {},
   "outputs": [],
   "source": [
    "from datetime import datetime"
   ]
  },
  {
   "cell_type": "code",
   "execution_count": 9,
   "id": "55c22b91-ada2-43f0-b4dc-d917e95d85cb",
   "metadata": {},
   "outputs": [],
   "source": [
    "import pytz"
   ]
  },
  {
   "cell_type": "code",
   "execution_count": 10,
   "id": "75ef9930-4a44-47e6-8c40-f2e162ff59ac",
   "metadata": {},
   "outputs": [],
   "source": [
    "utc = pytz.utc\n",
    "local = pytz.timezone('Asia/kolkata')"
   ]
  },
  {
   "cell_type": "code",
   "execution_count": 11,
   "id": "1727e8ca-7505-451c-9187-4f72648973bb",
   "metadata": {},
   "outputs": [],
   "source": [
    "utc_time = datetime.now(utc)\n",
    "local_time = utc_time.astimezone(local)"
   ]
  },
  {
   "cell_type": "code",
   "execution_count": 12,
   "id": "bc1555ee-96f2-462f-b90b-48b06d04b11d",
   "metadata": {},
   "outputs": [
    {
     "name": "stdout",
     "output_type": "stream",
     "text": [
      "UTC Time: 2024-11-23 02:17:08\n",
      "Local Time (IST): 2024-11-23 07:47:08\n"
     ]
    }
   ],
   "source": [
    "print(\"UTC Time:\", utc_time.strftime('%Y-%m-%d %H:%M:%S'))\n",
    "print(\"Local Time (IST):\", local_time.strftime('%Y-%m-%d %H:%M:%S'))"
   ]
  },
  {
   "cell_type": "code",
   "execution_count": null,
   "id": "1559b73f-a078-4d80-a400-0dda5573eda0",
   "metadata": {},
   "outputs": [],
   "source": []
  }
 ],
 "metadata": {
  "kernelspec": {
   "display_name": "Python 3 (ipykernel)",
   "language": "python",
   "name": "python3"
  },
  "language_info": {
   "codemirror_mode": {
    "name": "ipython",
    "version": 3
   },
   "file_extension": ".py",
   "mimetype": "text/x-python",
   "name": "python",
   "nbconvert_exporter": "python",
   "pygments_lexer": "ipython3",
   "version": "3.12.7"
  }
 },
 "nbformat": 4,
 "nbformat_minor": 5
}
