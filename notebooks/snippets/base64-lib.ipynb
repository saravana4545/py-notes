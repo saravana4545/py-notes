{
 "cells": [
  {
   "cell_type": "code",
   "execution_count": 15,
   "id": "590a02e7-e8d8-4944-8072-03257990f8a1",
   "metadata": {},
   "outputs": [],
   "source": [
    "import base64"
   ]
  },
  {
   "cell_type": "code",
   "execution_count": 24,
   "id": "d3bd73c9-c4c0-4780-8a4d-a65f977738b4",
   "metadata": {},
   "outputs": [],
   "source": [
    "def encode_data(userid, email, expiry_date):\n",
    "    data = f\"{userid}|{email}|{expiry_date}\"\n",
    "    encoded_data = base64.urlsafe_b64encode(data.encode()).decode()\n",
    "    return encoded_data\n",
    "\n",
    "def decode_data(encoded_data):\n",
    "    decoded_data = base64.urlsafe_b64decode(encoded_data.encode()).decode()\n",
    "    userid, email, expiry_date = decoded_data.split('|')\n",
    "    return userid, email, expiry_date\n",
    "\n",
    "def startpy():\n",
    "    # Example Usage\n",
    "    encoded_value = encode_data('123', 'saravana4545@gmail.com', '2024-12-31')\n",
    "    print(f\"Encoded: {encoded_value}\")\n",
    "    # Example Usage\n",
    "    decoded_value = decode_data(encoded_value)\n",
    "    print(f\"Decoded: {decoded_value}\")"
   ]
  },
  {
   "cell_type": "code",
   "execution_count": 25,
   "id": "4ea7d2d0-ffab-48ad-a1c7-62eb6f97ddb4",
   "metadata": {},
   "outputs": [
    {
     "name": "stdout",
     "output_type": "stream",
     "text": [
      "Encoded: MTIzfHNhcmF2YW5hNDU0NUBnbWFpbC5jb218MjAyNC0xMi0zMQ==\n",
      "Decoded: ('123', 'saravana4545@gmail.com', '2024-12-31')\n"
     ]
    }
   ],
   "source": [
    "if __name__ == '__main__':\n",
    "    startpy()"
   ]
  },
  {
   "cell_type": "code",
   "execution_count": null,
   "id": "c3e6495b-c227-4a4f-a6bd-853ee6753fb0",
   "metadata": {},
   "outputs": [],
   "source": []
  }
 ],
 "metadata": {
  "kernelspec": {
   "display_name": "Python 3 (ipykernel)",
   "language": "python",
   "name": "python3"
  },
  "language_info": {
   "codemirror_mode": {
    "name": "ipython",
    "version": 3
   },
   "file_extension": ".py",
   "mimetype": "text/x-python",
   "name": "python",
   "nbconvert_exporter": "python",
   "pygments_lexer": "ipython3",
   "version": "3.12.7"
  }
 },
 "nbformat": 4,
 "nbformat_minor": 5
}
