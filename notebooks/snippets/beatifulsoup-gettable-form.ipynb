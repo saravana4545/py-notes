{
 "cells": [
  {
   "cell_type": "code",
   "execution_count": 7,
   "id": "e0c0151f-4aa7-45ad-8c7a-1f4d43d8307e",
   "metadata": {},
   "outputs": [],
   "source": [
    "from bs4 import BeautifulSoup"
   ]
  },
  {
   "cell_type": "code",
   "execution_count": 8,
   "id": "71878878-aded-49a0-b310-40680671b3b4",
   "metadata": {},
   "outputs": [],
   "source": [
    "import requests"
   ]
  },
  {
   "cell_type": "code",
   "execution_count": 9,
   "id": "109732aa-eaba-4a12-aed7-acb19f355e5f",
   "metadata": {},
   "outputs": [],
   "source": [
    "url = \"https://books.toscrape.com/catalogue/a-light-in-the-attic_1000/index.html\""
   ]
  },
  {
   "cell_type": "code",
   "execution_count": 10,
   "id": "44522a3c-bdac-4868-9c7f-5d06e621fc51",
   "metadata": {},
   "outputs": [],
   "source": [
    "response = requests.get(url)"
   ]
  },
  {
   "cell_type": "code",
   "execution_count": 11,
   "id": "38ce8ca1-ac60-4ac2-b812-7a1fbcaed2c8",
   "metadata": {},
   "outputs": [],
   "source": [
    "soup = BeautifulSoup(response.text, \"html.parser\")"
   ]
  },
  {
   "cell_type": "code",
   "execution_count": 12,
   "id": "ad9a6c95-6582-4b15-831c-031a10699143",
   "metadata": {},
   "outputs": [],
   "source": [
    "price_element = soup.select_one(\"#content_inner > article > table\")"
   ]
  },
  {
   "cell_type": "code",
   "execution_count": 13,
   "id": "c8553a14-0985-41b5-bdea-4fa017999bc5",
   "metadata": {},
   "outputs": [
    {
     "name": "stdout",
     "output_type": "stream",
     "text": [
      "Price: \n",
      "\n",
      "UPCa897fe39b1053632\n",
      "\n",
      "\n",
      "Product TypeBooks\n",
      "\n",
      "\n",
      "Price (excl. tax)Â£51.77\n",
      "\n",
      "\n",
      "Price (incl. tax)Â£51.77\n",
      "\n",
      "\n",
      "TaxÂ£0.00\n",
      "\n",
      "\n",
      "Availability\n",
      "In stock (22 available)\n",
      "\n",
      "\n",
      "Number of reviews\n",
      "0\n",
      "\n",
      "\n"
     ]
    }
   ],
   "source": [
    "if price_element:\n",
    "    print(\"Price:\", price_element.text)\n",
    "else:\n",
    "    print(\"Price not found\")"
   ]
  },
  {
   "cell_type": "code",
   "execution_count": null,
   "id": "4693505a-2bfd-4fb7-96d1-dc2e483011b6",
   "metadata": {},
   "outputs": [],
   "source": []
  }
 ],
 "metadata": {
  "kernelspec": {
   "display_name": "Python 3 (ipykernel)",
   "language": "python",
   "name": "python3"
  },
  "language_info": {
   "codemirror_mode": {
    "name": "ipython",
    "version": 3
   },
   "file_extension": ".py",
   "mimetype": "text/x-python",
   "name": "python",
   "nbconvert_exporter": "python",
   "pygments_lexer": "ipython3",
   "version": "3.12.7"
  }
 },
 "nbformat": 4,
 "nbformat_minor": 5
}
