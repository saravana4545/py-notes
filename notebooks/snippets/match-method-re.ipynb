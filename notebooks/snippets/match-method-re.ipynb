{
 "cells": [
  {
   "cell_type": "code",
   "execution_count": null,
   "id": "340e64bf-c0ad-451c-8878-0806f3cd3f75",
   "metadata": {},
   "outputs": [],
   "source": [
    "#import re module"
   ]
  },
  {
   "cell_type": "code",
   "execution_count": 16,
   "id": "273ac729-c978-43a6-b657-69262e892de0",
   "metadata": {},
   "outputs": [],
   "source": [
    "import re"
   ]
  },
  {
   "cell_type": "code",
   "execution_count": 17,
   "id": "3bc1d365-4c1c-4e01-81f1-85e2d4c98d50",
   "metadata": {},
   "outputs": [],
   "source": [
    "#create a variable and put some text"
   ]
  },
  {
   "cell_type": "code",
   "execution_count": 18,
   "id": "b16a2345-abe1-4ddb-b557-dae018733c80",
   "metadata": {},
   "outputs": [],
   "source": [
    "fruits = \"apple, banana; orange: grape\""
   ]
  },
  {
   "cell_type": "code",
   "execution_count": 19,
   "id": "ce2bfed2-5fec-4a7e-8f89-3bb5df1785da",
   "metadata": {},
   "outputs": [],
   "source": [
    "# Match if the string starts with 'Python'"
   ]
  },
  {
   "cell_type": "code",
   "execution_count": 20,
   "id": "50e7fab0-9886-4b62-9b88-a37a50e700a5",
   "metadata": {},
   "outputs": [],
   "source": [
    "match = re.match(r'apple', text)"
   ]
  },
  {
   "cell_type": "code",
   "execution_count": 21,
   "id": "47737c5a-0aa8-4deb-a19d-c95b9e324c35",
   "metadata": {},
   "outputs": [],
   "source": [
    "#check it's matched or not"
   ]
  },
  {
   "cell_type": "code",
   "execution_count": 22,
   "id": "191b93dd-b739-40b8-9457-508a6a4f4b99",
   "metadata": {},
   "outputs": [
    {
     "name": "stdout",
     "output_type": "stream",
     "text": [
      "Matched: apple\n"
     ]
    }
   ],
   "source": [
    "if match:\n",
    "    print(\"Matched:\", match.group())"
   ]
  },
  {
   "cell_type": "code",
   "execution_count": 23,
   "id": "93ab1a67-19e7-46a7-a05e-7e86afc2719f",
   "metadata": {},
   "outputs": [],
   "source": [
    "# Find '[;,:]' matches any of these characters using split()"
   ]
  },
  {
   "cell_type": "code",
   "execution_count": 24,
   "id": "a3288b2b-afc6-4811-8fd8-0a47863aeca6",
   "metadata": {},
   "outputs": [],
   "source": [
    "fruits = re.split(r'[;,:]', text)"
   ]
  },
  {
   "cell_type": "code",
   "execution_count": 25,
   "id": "e91f39d6-3fcb-4890-b2ea-fc4e25757d1f",
   "metadata": {},
   "outputs": [
    {
     "name": "stdout",
     "output_type": "stream",
     "text": [
      "Fruits: ['apple', ' banana', ' orange', ' grape']\n"
     ]
    }
   ],
   "source": [
    "print(\"Fruits:\", fruits)"
   ]
  },
  {
   "cell_type": "code",
   "execution_count": null,
   "id": "d3be12fc-0dea-432a-ad34-6f07d462859a",
   "metadata": {},
   "outputs": [],
   "source": []
  }
 ],
 "metadata": {
  "kernelspec": {
   "display_name": "Python 3 (ipykernel)",
   "language": "python",
   "name": "python3"
  },
  "language_info": {
   "codemirror_mode": {
    "name": "ipython",
    "version": 3
   },
   "file_extension": ".py",
   "mimetype": "text/x-python",
   "name": "python",
   "nbconvert_exporter": "python",
   "pygments_lexer": "ipython3",
   "version": "3.12.7"
  }
 },
 "nbformat": 4,
 "nbformat_minor": 5
}
