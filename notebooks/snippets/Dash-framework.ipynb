{
 "cells": [
  {
   "cell_type": "code",
   "execution_count": 7,
   "id": "0627fed7-feb7-4901-b181-fe9d4fb10cb0",
   "metadata": {},
   "outputs": [],
   "source": [
    "from dash import Dash, html"
   ]
  },
  {
   "cell_type": "code",
   "execution_count": 8,
   "id": "0738e155-ff64-4e60-9a9c-e46617c4dc37",
   "metadata": {},
   "outputs": [],
   "source": [
    "app = Dash(__name__)"
   ]
  },
  {
   "cell_type": "code",
   "execution_count": 9,
   "id": "d3fb6d45-4f06-46d3-a0db-1b9c464adc93",
   "metadata": {},
   "outputs": [],
   "source": [
    "def dash_frame():\n",
    "    app.layout = html.Div([\n",
    "        html.H1(\"Hello Dash!\"),\n",
    "        html.P(\"This is a simple dashboard.\")\n",
    "    ])\n",
    "    return app"
   ]
  },
  {
   "cell_type": "code",
   "execution_count": 10,
   "id": "4511a91c-3f17-4b72-bf62-5325877475d7",
   "metadata": {},
   "outputs": [
    {
     "name": "stdout",
     "output_type": "stream",
     "text": [
      "---------------------------------------------------------------------------\n",
      "NoLayoutException                         Traceback (most recent call last)\n",
      "NoLayoutException: The layout was `None` at the time that `run_server` was called.\n",
      "Make sure to set the `layout` attribute of your application\n",
      "before running the server.\n",
      "\n"
     ]
    },
    {
     "data": {
      "text/html": [
       "\n",
       "        <iframe\n",
       "            width=\"100%\"\n",
       "            height=\"650\"\n",
       "            src=\"http://127.0.0.1:8050/\"\n",
       "            frameborder=\"0\"\n",
       "            allowfullscreen\n",
       "            \n",
       "        ></iframe>\n",
       "        "
      ],
      "text/plain": [
       "<IPython.lib.display.IFrame at 0x7f48de8a8a70>"
      ]
     },
     "metadata": {},
     "output_type": "display_data"
    }
   ],
   "source": [
    "if __name__ == \"__main__\":\n",
    "    app.run_server(\n",
    "        debug=True\n",
    "    )"
   ]
  },
  {
   "cell_type": "code",
   "execution_count": null,
   "id": "166bb3a3-0ef5-48b4-b156-484e088879ec",
   "metadata": {},
   "outputs": [],
   "source": []
  }
 ],
 "metadata": {
  "kernelspec": {
   "display_name": "Python 3 (ipykernel)",
   "language": "python",
   "name": "python3"
  },
  "language_info": {
   "codemirror_mode": {
    "name": "ipython",
    "version": 3
   },
   "file_extension": ".py",
   "mimetype": "text/x-python",
   "name": "python",
   "nbconvert_exporter": "python",
   "pygments_lexer": "ipython3",
   "version": "3.12.7"
  }
 },
 "nbformat": 4,
 "nbformat_minor": 5
}
