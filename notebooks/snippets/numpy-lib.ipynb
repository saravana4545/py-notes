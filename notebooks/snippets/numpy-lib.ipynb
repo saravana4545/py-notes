{
 "cells": [
  {
   "cell_type": "code",
   "execution_count": 1,
   "id": "63e02e2e-9995-423a-9182-ae7f6d31b5e6",
   "metadata": {},
   "outputs": [],
   "source": [
    "import numpy as np;"
   ]
  },
  {
   "cell_type": "code",
   "execution_count": 5,
   "id": "4b215c61-2dc5-47ff-a4f6-83cc4c20761c",
   "metadata": {},
   "outputs": [],
   "source": [
    "import random"
   ]
  },
  {
   "cell_type": "code",
   "execution_count": 8,
   "id": "afa87215-82d0-4a32-afa6-267071d52926",
   "metadata": {},
   "outputs": [],
   "source": [
    "def coin_twist():\n",
    "    for num in range(1,20):\n",
    "        coin = random.randint(0, 3);\n",
    "        print(coin)\n",
    "        if(coin == 0):\n",
    "            return \"heads\"\n",
    "        else:\n",
    "            return \"tails\""
   ]
  },
  {
   "cell_type": "code",
   "execution_count": 9,
   "id": "914ca16d-91f9-4004-b215-0fd4ad7cff32",
   "metadata": {},
   "outputs": [
    {
     "name": "stdout",
     "output_type": "stream",
     "text": [
      "0\n",
      "heads\n"
     ]
    }
   ],
   "source": [
    "print(coin_twist())"
   ]
  },
  {
   "cell_type": "code",
   "execution_count": null,
   "id": "7bb81e13-31ae-4b1c-b527-a385b1f20f7a",
   "metadata": {},
   "outputs": [],
   "source": []
  }
 ],
 "metadata": {
  "kernelspec": {
   "display_name": "Python 3 (ipykernel)",
   "language": "python",
   "name": "python3"
  },
  "language_info": {
   "codemirror_mode": {
    "name": "ipython",
    "version": 3
   },
   "file_extension": ".py",
   "mimetype": "text/x-python",
   "name": "python",
   "nbconvert_exporter": "python",
   "pygments_lexer": "ipython3",
   "version": "3.12.7"
  }
 },
 "nbformat": 4,
 "nbformat_minor": 5
}
