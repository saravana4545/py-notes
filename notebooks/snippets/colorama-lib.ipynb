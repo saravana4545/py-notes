{
 "cells": [
  {
   "cell_type": "code",
   "execution_count": 4,
   "id": "863044be-da5a-43d6-8fbf-9ec4d150e404",
   "metadata": {},
   "outputs": [],
   "source": [
    "from colorama import Fore, Back, Style"
   ]
  },
  {
   "cell_type": "code",
   "execution_count": 5,
   "id": "fc30e6ab-a93d-41ae-b09a-2fb1274ab17f",
   "metadata": {},
   "outputs": [],
   "source": [
    "def colorful_message(text, foreground, background=None, style=None):\n",
    "    formatted_text = \"\"\n",
    "    if foreground:\n",
    "        formatted_text += foreground\n",
    "    if background:\n",
    "        formatted_text += background\n",
    "    if style:\n",
    "        formatted_text += style\n",
    "    formatted_text += text + Style.RESET_ALL\n",
    "    print(formatted_text)"
   ]
  },
  {
   "cell_type": "code",
   "execution_count": 10,
   "id": "a0d68b72-bbe8-4f51-92c3-1bdcf0d1d475",
   "metadata": {},
   "outputs": [
    {
     "name": "stdout",
     "output_type": "stream",
     "text": [
      "\u001b[30m\u001b[41m\u001b[1mWarning!\u001b[0m\n",
      "\u001b[36mInfo\u001b[0m\n",
      "\u001b[32m\u001b[1mSuccess!\u001b[0m\n"
     ]
    }
   ],
   "source": [
    "# Example usage\n",
    "colorful_message(\"Warning!\", Fore.BLACK, Back.RED, Style.BRIGHT)\n",
    "colorful_message(\"Info\", Fore.CYAN)\n",
    "colorful_message(\"Success!\", Fore.GREEN, Style.BRIGHT)"
   ]
  },
  {
   "cell_type": "code",
   "execution_count": null,
   "id": "ccc36be2-151d-4cb0-b93c-7805efa1b587",
   "metadata": {},
   "outputs": [],
   "source": []
  }
 ],
 "metadata": {
  "kernelspec": {
   "display_name": "Python 3 (ipykernel)",
   "language": "python",
   "name": "python3"
  },
  "language_info": {
   "codemirror_mode": {
    "name": "ipython",
    "version": 3
   },
   "file_extension": ".py",
   "mimetype": "text/x-python",
   "name": "python",
   "nbconvert_exporter": "python",
   "pygments_lexer": "ipython3",
   "version": "3.12.7"
  }
 },
 "nbformat": 4,
 "nbformat_minor": 5
}
