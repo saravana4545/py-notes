{
 "cells": [
  {
   "cell_type": "code",
   "execution_count": 2,
   "id": "6dba972b-20b8-4a3c-ae6f-4f8627d8198b",
   "metadata": {},
   "outputs": [
    {
     "name": "stdout",
     "output_type": "stream",
     "text": [
      "Requirement already satisfied: regex in /home/saravanakumar/miniconda3/envs/py12/lib/python3.12/site-packages (2024.11.6)\n"
     ]
    }
   ],
   "source": [
    "!pip install regex"
   ]
  },
  {
   "cell_type": "code",
   "execution_count": 6,
   "id": "82b67be2-77a6-4ba4-9d86-44fd300805d4",
   "metadata": {},
   "outputs": [],
   "source": [
    "#import neccessary libraries"
   ]
  },
  {
   "cell_type": "code",
   "execution_count": 7,
   "id": "fc7dba80-d1aa-47b1-bcee-6557ea768eb4",
   "metadata": {},
   "outputs": [],
   "source": [
    "import re"
   ]
  },
  {
   "cell_type": "code",
   "execution_count": 8,
   "id": "ef0ad46b-db84-47af-b46f-5e9f941f676b",
   "metadata": {},
   "outputs": [],
   "source": [
    "text = \"The price is $20.\""
   ]
  },
  {
   "cell_type": "code",
   "execution_count": 9,
   "id": "5eb8c942-daf5-485f-bd83-eecc40eadbda",
   "metadata": {},
   "outputs": [],
   "source": [
    "# Search for a dollar amount"
   ]
  },
  {
   "cell_type": "code",
   "execution_count": 10,
   "id": "3f0e7ce3-99f4-43bd-878c-4d2cb2f802d2",
   "metadata": {},
   "outputs": [],
   "source": [
    "match = re.search(r'\\$\\d+', text)"
   ]
  },
  {
   "cell_type": "code",
   "execution_count": 11,
   "id": "fa9ab3ea-3150-40c5-be33-0275439c042d",
   "metadata": {},
   "outputs": [],
   "source": [
    "# r'\\$' matches the dollar symbol, '\\d+' matches one or more digits"
   ]
  },
  {
   "cell_type": "code",
   "execution_count": 12,
   "id": "3efae0f7-f10a-46eb-9bb9-24605ccfdd09",
   "metadata": {},
   "outputs": [
    {
     "name": "stdout",
     "output_type": "stream",
     "text": [
      "Found: $20\n"
     ]
    }
   ],
   "source": [
    "if match:\n",
    "    print(\"Found:\", match.group())"
   ]
  },
  {
   "cell_type": "code",
   "execution_count": null,
   "id": "c0170c6e-83dc-4709-9112-f1a92425661e",
   "metadata": {},
   "outputs": [],
   "source": []
  },
  {
   "cell_type": "code",
   "execution_count": null,
   "id": "2041ca79-2f93-41f3-a6a2-f608a3989998",
   "metadata": {},
   "outputs": [],
   "source": []
  },
  {
   "cell_type": "code",
   "execution_count": null,
   "id": "9aad09e1-06bc-4a5e-8949-78fb6901249c",
   "metadata": {},
   "outputs": [],
   "source": []
  },
  {
   "cell_type": "code",
   "execution_count": null,
   "id": "08029aef-f748-40ea-9f00-e98a63b9b573",
   "metadata": {},
   "outputs": [],
   "source": []
  },
  {
   "cell_type": "code",
   "execution_count": null,
   "id": "5680c6ec-2a7c-46d8-b807-48e072821e61",
   "metadata": {},
   "outputs": [],
   "source": []
  },
  {
   "cell_type": "code",
   "execution_count": null,
   "id": "735c238f-8dae-4560-b429-82ce298d60bd",
   "metadata": {},
   "outputs": [],
   "source": []
  },
  {
   "cell_type": "code",
   "execution_count": null,
   "id": "efd45762-07fa-492d-8def-2409d1c8d151",
   "metadata": {},
   "outputs": [],
   "source": []
  }
 ],
 "metadata": {
  "kernelspec": {
   "display_name": "Python 3 (ipykernel)",
   "language": "python",
   "name": "python3"
  },
  "language_info": {
   "codemirror_mode": {
    "name": "ipython",
    "version": 3
   },
   "file_extension": ".py",
   "mimetype": "text/x-python",
   "name": "python",
   "nbconvert_exporter": "python",
   "pygments_lexer": "ipython3",
   "version": "3.12.7"
  }
 },
 "nbformat": 4,
 "nbformat_minor": 5
}
