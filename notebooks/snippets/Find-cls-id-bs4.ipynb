{
 "cells": [
  {
   "cell_type": "code",
   "execution_count": null,
   "id": "3bc3a5a2-d571-4776-84a8-81d1fc69ade4",
   "metadata": {},
   "outputs": [],
   "source": [
    "#8. Class and ID-Based Selection"
   ]
  },
  {
   "cell_type": "code",
   "execution_count": null,
   "id": "d2b69ee4-61a7-4aec-a902-d872dd7a535a",
   "metadata": {},
   "outputs": [],
   "source": [
    "#Extract content using specific classes or IDs from a webpage."
   ]
  },
  {
   "cell_type": "code",
   "execution_count": 1,
   "id": "0b734ff9-129e-4b58-a663-3494436b7f9d",
   "metadata": {},
   "outputs": [],
   "source": [
    "from bs4 import BeautifulSoup"
   ]
  },
  {
   "cell_type": "code",
   "execution_count": 2,
   "id": "2ad34cfd-0842-4001-8b05-4beeb943a40c",
   "metadata": {},
   "outputs": [],
   "source": [
    "# Example HTML content"
   ]
  },
  {
   "cell_type": "code",
   "execution_count": 3,
   "id": "4bb166b1-a0d2-43a4-aa50-22a201e8f71a",
   "metadata": {},
   "outputs": [],
   "source": [
    "html_content = \"\"\"\n",
    "<html>\n",
    "    <body>\n",
    "        <div id=\"main\">\n",
    "            <h1>Main Header</h1>\n",
    "            <p class=\"description\">This is the main content description.</p>\n",
    "        </div>\n",
    "        <div class=\"sidebar\">\n",
    "            <h2>Sidebar Header</h2>\n",
    "            <p class=\"description\">This is the sidebar description.</p>\n",
    "        </div>\n",
    "    </body>\n",
    "</html>\n",
    "\"\"\""
   ]
  },
  {
   "cell_type": "code",
   "execution_count": 4,
   "id": "28be236b-f50b-4152-90a0-dec782fafe1e",
   "metadata": {},
   "outputs": [],
   "source": [
    "#parse the html content"
   ]
  },
  {
   "cell_type": "code",
   "execution_count": 5,
   "id": "1becef6f-4dbc-4576-a7ed-d608e248aca0",
   "metadata": {},
   "outputs": [],
   "source": [
    "soup = BeautifulSoup(html_content, 'html.parser')"
   ]
  },
  {
   "cell_type": "code",
   "execution_count": 6,
   "id": "8c2c330d-7ea9-4e4e-822f-a9e483929000",
   "metadata": {},
   "outputs": [],
   "source": [
    "#find the id"
   ]
  },
  {
   "cell_type": "code",
   "execution_count": 7,
   "id": "ead80c16-c475-4c98-9b7f-52bf5a1daca9",
   "metadata": {},
   "outputs": [
    {
     "name": "stdout",
     "output_type": "stream",
     "text": [
      "Content in 'main':\n",
      "Main Header\n",
      "This is the main content description.\n"
     ]
    }
   ],
   "source": [
    "main_div = soup.find(id=\"main\")\n",
    "print(\"Content in 'main':\")\n",
    "print(main_div.text.strip())"
   ]
  },
  {
   "cell_type": "code",
   "execution_count": 8,
   "id": "8b1cc13e-308e-415f-9486-57e17148a668",
   "metadata": {},
   "outputs": [],
   "source": [
    "#find the class"
   ]
  },
  {
   "cell_type": "code",
   "execution_count": 9,
   "id": "dcc0944e-137a-4093-84b0-3773bea6ce37",
   "metadata": {},
   "outputs": [
    {
     "name": "stdout",
     "output_type": "stream",
     "text": [
      "\n",
      "Content in 'sidebar':\n",
      "Sidebar Header\n",
      "This is the sidebar description.\n"
     ]
    }
   ],
   "source": [
    "sidebar_div = soup.find('div', class_='sidebar')\n",
    "print(\"\\nContent in 'sidebar':\")\n",
    "print(sidebar_div.text.strip())"
   ]
  },
  {
   "cell_type": "code",
   "execution_count": 10,
   "id": "70dfed6a-1e9f-413e-9353-c0331da9b2be",
   "metadata": {},
   "outputs": [],
   "source": [
    "#find the descreiption"
   ]
  },
  {
   "cell_type": "code",
   "execution_count": 11,
   "id": "aef49176-6d00-4748-a89d-d92b045b304a",
   "metadata": {},
   "outputs": [
    {
     "name": "stdout",
     "output_type": "stream",
     "text": [
      "\n",
      "Descriptions:\n",
      "This is the main content description.\n",
      "This is the sidebar description.\n"
     ]
    }
   ],
   "source": [
    "description_paragraphs = soup.find_all('p', class_='description')\n",
    "print(\"\\nDescriptions:\")\n",
    "for para in description_paragraphs:\n",
    "    print(para.text)"
   ]
  },
  {
   "cell_type": "code",
   "execution_count": null,
   "id": "cbf5eb24-37c5-48a6-a3f4-7b94fa823679",
   "metadata": {},
   "outputs": [],
   "source": []
  },
  {
   "cell_type": "code",
   "execution_count": null,
   "id": "529dadc9-d28c-4e83-bf16-0aa0c0eaccc3",
   "metadata": {},
   "outputs": [],
   "source": []
  }
 ],
 "metadata": {
  "kernelspec": {
   "display_name": "Python 3 (ipykernel)",
   "language": "python",
   "name": "python3"
  },
  "language_info": {
   "codemirror_mode": {
    "name": "ipython",
    "version": 3
   },
   "file_extension": ".py",
   "mimetype": "text/x-python",
   "name": "python",
   "nbconvert_exporter": "python",
   "pygments_lexer": "ipython3",
   "version": "3.12.7"
  }
 },
 "nbformat": 4,
 "nbformat_minor": 5
}
