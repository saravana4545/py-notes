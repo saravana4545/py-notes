{
 "cells": [
  {
   "cell_type": "code",
   "execution_count": null,
   "id": "793a6d0f-7fa1-4abe-99ed-896ac3ae727c",
   "metadata": {},
   "outputs": [],
   "source": [
    "#import hashlib module"
   ]
  },
  {
   "cell_type": "code",
   "execution_count": 5,
   "id": "1ef1ace7-a969-4a76-ab3f-ef5b7ffcd27e",
   "metadata": {},
   "outputs": [],
   "source": [
    "import hashlib"
   ]
  },
  {
   "cell_type": "code",
   "execution_count": 6,
   "id": "68364069-9ba3-40b1-b5c0-32ebaa7b7372",
   "metadata": {},
   "outputs": [],
   "source": [
    "# Input string"
   ]
  },
  {
   "cell_type": "code",
   "execution_count": 7,
   "id": "9532aab9-980f-416c-8679-b7f1daa384dd",
   "metadata": {},
   "outputs": [],
   "source": [
    "data = \"Hello, World!\""
   ]
  },
  {
   "cell_type": "code",
   "execution_count": 8,
   "id": "0f86b376-5f85-435b-a3a5-3ca9372e2b88",
   "metadata": {},
   "outputs": [],
   "source": [
    "# Generate MD5 hash"
   ]
  },
  {
   "cell_type": "code",
   "execution_count": 9,
   "id": "b5730bf2-5791-4616-8241-8af1d1b980a8",
   "metadata": {},
   "outputs": [
    {
     "name": "stdout",
     "output_type": "stream",
     "text": [
      "MD5 Hash: 65a8e27d8879283831b664bd8b7f0ad4\n"
     ]
    }
   ],
   "source": [
    "md5_hash = hashlib.md5(data.encode()).hexdigest()\n",
    "print(\"MD5 Hash:\", md5_hash)"
   ]
  },
  {
   "cell_type": "code",
   "execution_count": 10,
   "id": "92421691-a591-4c91-be2f-7a5302e045e7",
   "metadata": {},
   "outputs": [],
   "source": [
    "# Generate SHA-1 hash"
   ]
  },
  {
   "cell_type": "code",
   "execution_count": 11,
   "id": "45bf2879-41f7-4721-b812-4ced4d61cd92",
   "metadata": {},
   "outputs": [
    {
     "name": "stdout",
     "output_type": "stream",
     "text": [
      "SHA-1 Hash: 0a0a9f2a6772942557ab5355d76af442f8f65e01\n"
     ]
    }
   ],
   "source": [
    "sha1_hash = hashlib.sha1(data.encode()).hexdigest()\n",
    "print(\"SHA-1 Hash:\", sha1_hash)"
   ]
  },
  {
   "cell_type": "code",
   "execution_count": 12,
   "id": "97f63350-ac45-42d3-b019-5ed60f08d21e",
   "metadata": {},
   "outputs": [],
   "source": [
    "# Generate SHA-256 hash"
   ]
  },
  {
   "cell_type": "code",
   "execution_count": 13,
   "id": "d806d7d4-fccb-42d0-bcac-6447c09c2351",
   "metadata": {},
   "outputs": [
    {
     "name": "stdout",
     "output_type": "stream",
     "text": [
      "SHA-256 Hash: dffd6021bb2bd5b0af676290809ec3a53191dd81c7f70a4b28688a362182986f\n"
     ]
    }
   ],
   "source": [
    "sha256_hash = hashlib.sha256(data.encode()).hexdigest()\n",
    "print(\"SHA-256 Hash:\", sha256_hash)"
   ]
  },
  {
   "cell_type": "code",
   "execution_count": null,
   "id": "a25e0238-3344-44eb-9ba6-a46d32dd331d",
   "metadata": {},
   "outputs": [],
   "source": []
  }
 ],
 "metadata": {
  "kernelspec": {
   "display_name": "Python 3 (ipykernel)",
   "language": "python",
   "name": "python3"
  },
  "language_info": {
   "codemirror_mode": {
    "name": "ipython",
    "version": 3
   },
   "file_extension": ".py",
   "mimetype": "text/x-python",
   "name": "python",
   "nbconvert_exporter": "python",
   "pygments_lexer": "ipython3",
   "version": "3.12.7"
  }
 },
 "nbformat": 4,
 "nbformat_minor": 5
}
