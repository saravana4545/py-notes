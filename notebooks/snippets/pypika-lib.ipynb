{
 "cells": [
  {
   "cell_type": "code",
   "execution_count": null,
   "id": "4c44b530-6006-48c6-a882-5c7e1db4f145",
   "metadata": {},
   "outputs": [],
   "source": [
    "#import neccessery libraries"
   ]
  },
  {
   "cell_type": "code",
   "execution_count": 27,
   "id": "4a3bb6e5-1b40-43d0-88f8-c74dff1a1fad",
   "metadata": {},
   "outputs": [],
   "source": [
    "from pypika import Query, Table"
   ]
  },
  {
   "cell_type": "code",
   "execution_count": null,
   "id": "8ea9b35c-b076-4732-8f59-1cb74ffcf4cc",
   "metadata": {},
   "outputs": [],
   "source": [
    "#This function generates a SQL-like SELECT query."
   ]
  },
  {
   "cell_type": "code",
   "execution_count": 39,
   "id": "bfaa0491-860a-41d0-b732-c23794f4ae70",
   "metadata": {},
   "outputs": [],
   "source": [
    "def create_table(users):\n",
    "    query = Query.from_(users).select(\"id\", \"name\", \"email\")\n",
    "    return query"
   ]
  },
  {
   "cell_type": "code",
   "execution_count": null,
   "id": "fb9895b7-fe6b-4329-b905-4d35e9ed9785",
   "metadata": {},
   "outputs": [],
   "source": [
    "#This function generates a SELECT query with a WHERE condition."
   ]
  },
  {
   "cell_type": "code",
   "execution_count": null,
   "id": "b9919674-c808-42cc-8ebe-50af91cbefe2",
   "metadata": {},
   "outputs": [],
   "source": [
    "def add_where_class(users):\n",
    "    query = Query.from_(users).select(\"id\", \"name\").where(users.name == \"SARAVANA\")\n",
    "    return query"
   ]
  },
  {
   "cell_type": "code",
   "execution_count": null,
   "id": "6723f3ac-69ec-4094-a54d-610e06b918a3",
   "metadata": {},
   "outputs": [],
   "source": [
    "#This function generates an INSERT query."
   ]
  },
  {
   "cell_type": "code",
   "execution_count": null,
   "id": "79ab9a21-2895-49e9-b5eb-73132d3e5364",
   "metadata": {},
   "outputs": [],
   "source": [
    "def insert_data(users):\n",
    "    query = Query.into(users).columns(\"id\", \"name\", \"email\").insert(1, \"SARAVANA\", \"saro@example.com\")\n",
    "    return query"
   ]
  },
  {
   "cell_type": "code",
   "execution_count": null,
   "id": "506c5063-6429-4cb8-9b83-3f948b6fd430",
   "metadata": {},
   "outputs": [],
   "source": [
    "#This function generates an UPDATE query."
   ]
  },
  {
   "cell_type": "code",
   "execution_count": null,
   "id": "0421d837-8575-4a28-998d-f2764ccbfb36",
   "metadata": {},
   "outputs": [],
   "source": [
    "def update_data(users):\n",
    "    query = Query.update(users).set(users.name, \"andal\").where(users.id == 1)\n",
    "    return query"
   ]
  },
  {
   "cell_type": "code",
   "execution_count": null,
   "id": "3bd87565-5331-4809-a0bd-812d421a6d58",
   "metadata": {},
   "outputs": [],
   "source": [
    "#This function generates a DELETE query."
   ]
  },
  {
   "cell_type": "code",
   "execution_count": null,
   "id": "92daea28-7ecb-4093-b8cd-8cdaa67ffc35",
   "metadata": {},
   "outputs": [],
   "source": [
    "def delete_data(users):\n",
    "    query = Query.from_(users).delete().where(users.name == \"SARAVANA\")\n",
    "    return query"
   ]
  },
  {
   "cell_type": "code",
   "execution_count": null,
   "id": "d0d1c07e-b9d0-48c4-8c43-60a746cf8ae8",
   "metadata": {},
   "outputs": [],
   "source": [
    "#create a method called startpy, where we can run the all above methods"
   ]
  },
  {
   "cell_type": "code",
   "execution_count": 40,
   "id": "0da3efc9-72af-4bf9-ab08-8deb846788da",
   "metadata": {},
   "outputs": [],
   "source": [
    "def startpy():\n",
    "    print(create_table(Table(\"users\")))\n",
    "    print(add_where_class(Table(\"users\")))\n",
    "    print(insert_data(Table(\"users\")))\n",
    "    print(update_data(Table(\"users\")))\n",
    "    print(delete_data(Table(\"users\")))"
   ]
  },
  {
   "cell_type": "code",
   "execution_count": null,
   "id": "ae29d935-61ff-4131-855a-671fb86e096a",
   "metadata": {},
   "outputs": [],
   "source": [
    "#This line checks if the script is being run directly or imported"
   ]
  },
  {
   "cell_type": "code",
   "execution_count": 41,
   "id": "d88b313b-9791-4cc2-b160-9e446ea56563",
   "metadata": {},
   "outputs": [
    {
     "name": "stdout",
     "output_type": "stream",
     "text": [
      "SELECT \"id\",\"name\",\"email\" FROM \"users\"\n",
      "SELECT \"id\",\"name\" FROM \"users\" WHERE \"name\"='SARAVANA'\n",
      "INSERT INTO \"users\" (\"id\",\"name\",\"email\") VALUES (1,'SARAVANA','saro@example.com')\n",
      "UPDATE \"users\" SET \"name\"='andal' WHERE \"id\"=1\n",
      "DELETE FROM \"users\" WHERE \"name\"='SARAVANA'\n"
     ]
    }
   ],
   "source": [
    "if __name__ == '__main__':\n",
    "    startpy()"
   ]
  },
  {
   "cell_type": "code",
   "execution_count": null,
   "id": "10c84b01-a713-4e1f-9815-76a29a183b76",
   "metadata": {},
   "outputs": [],
   "source": []
  }
 ],
 "metadata": {
  "kernelspec": {
   "display_name": "Python 3 (ipykernel)",
   "language": "python",
   "name": "python3"
  },
  "language_info": {
   "codemirror_mode": {
    "name": "ipython",
    "version": 3
   },
   "file_extension": ".py",
   "mimetype": "text/x-python",
   "name": "python",
   "nbconvert_exporter": "python",
   "pygments_lexer": "ipython3",
   "version": "3.12.7"
  }
 },
 "nbformat": 4,
 "nbformat_minor": 5
}
