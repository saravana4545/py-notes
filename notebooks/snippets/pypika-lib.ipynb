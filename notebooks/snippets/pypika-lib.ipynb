{
 "cells": [
  {
   "cell_type": "code",
   "execution_count": 27,
   "id": "4a3bb6e5-1b40-43d0-88f8-c74dff1a1fad",
   "metadata": {},
   "outputs": [],
   "source": [
    "from pypika import Query, Table"
   ]
  },
  {
   "cell_type": "code",
   "execution_count": 39,
   "id": "bfaa0491-860a-41d0-b732-c23794f4ae70",
   "metadata": {},
   "outputs": [],
   "source": [
    "def create_table(users):\n",
    "    query = Query.from_(users).select(\"id\", \"name\", \"email\")\n",
    "    return query\n",
    "def add_where_class(users):\n",
    "    query = Query.from_(users).select(\"id\", \"name\").where(users.name == \"SARAVANA\")\n",
    "    return query\n",
    "def insert_data(users):\n",
    "    query = Query.into(users).columns(\"id\", \"name\", \"email\").insert(1, \"SARAVANA\", \"saro@example.com\")\n",
    "    return query\n",
    "def update_data(users):\n",
    "    query = Query.update(users).set(users.name, \"andal\").where(users.id == 1)\n",
    "    return query\n",
    "def delete_data(users):\n",
    "    query = Query.from_(users).delete().where(users.name == \"SARAVANA\")\n",
    "    return query"
   ]
  },
  {
   "cell_type": "code",
   "execution_count": 40,
   "id": "0da3efc9-72af-4bf9-ab08-8deb846788da",
   "metadata": {},
   "outputs": [],
   "source": [
    "def startpy():\n",
    "    print(create_table(Table(\"users\")))\n",
    "    print(add_where_class(Table(\"users\")))\n",
    "    print(insert_data(Table(\"users\")))\n",
    "    print(update_data(Table(\"users\")))\n",
    "    print(delete_data(Table(\"users\")))"
   ]
  },
  {
   "cell_type": "code",
   "execution_count": 41,
   "id": "d88b313b-9791-4cc2-b160-9e446ea56563",
   "metadata": {},
   "outputs": [
    {
     "name": "stdout",
     "output_type": "stream",
     "text": [
      "SELECT \"id\",\"name\",\"email\" FROM \"users\"\n",
      "SELECT \"id\",\"name\" FROM \"users\" WHERE \"name\"='SARAVANA'\n",
      "INSERT INTO \"users\" (\"id\",\"name\",\"email\") VALUES (1,'SARAVANA','saro@example.com')\n",
      "UPDATE \"users\" SET \"name\"='andal' WHERE \"id\"=1\n",
      "DELETE FROM \"users\" WHERE \"name\"='SARAVANA'\n"
     ]
    }
   ],
   "source": [
    "if __name__ == '__main__':\n",
    "    startpy()"
   ]
  },
  {
   "cell_type": "code",
   "execution_count": null,
   "id": "10c84b01-a713-4e1f-9815-76a29a183b76",
   "metadata": {},
   "outputs": [],
   "source": []
  }
 ],
 "metadata": {
  "kernelspec": {
   "display_name": "Python 3 (ipykernel)",
   "language": "python",
   "name": "python3"
  },
  "language_info": {
   "codemirror_mode": {
    "name": "ipython",
    "version": 3
   },
   "file_extension": ".py",
   "mimetype": "text/x-python",
   "name": "python",
   "nbconvert_exporter": "python",
   "pygments_lexer": "ipython3",
   "version": "3.12.7"
  }
 },
 "nbformat": 4,
 "nbformat_minor": 5
}
