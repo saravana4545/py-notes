{
 "cells": [
  {
   "cell_type": "code",
   "execution_count": null,
   "id": "a35a6788-6209-48dc-9021-7aad5428ae52",
   "metadata": {},
   "outputs": [],
   "source": [
    "#import collections library"
   ]
  },
  {
   "cell_type": "code",
   "execution_count": null,
   "id": "6baea2c2-e839-4247-9c4c-6e3c3f111c1b",
   "metadata": {},
   "outputs": [],
   "source": [
    "# !pip install collections like this"
   ]
  },
  {
   "cell_type": "code",
   "execution_count": 1,
   "id": "3bdb3365-b4c5-492a-aa14-ecce10faed6c",
   "metadata": {},
   "outputs": [],
   "source": [
    "from collections import Counter, defaultdict, deque"
   ]
  },
  {
   "cell_type": "code",
   "execution_count": null,
   "id": "bdd1dfb1-7852-4f54-8150-db9e3f0bc547",
   "metadata": {},
   "outputs": [],
   "source": [
    "# Counter example"
   ]
  },
  {
   "cell_type": "code",
   "execution_count": 2,
   "id": "567e70d7-3850-404e-bdad-42f55e1a7624",
   "metadata": {},
   "outputs": [
    {
     "name": "stdout",
     "output_type": "stream",
     "text": [
      "Counts: Counter({'apple': 3, 'banana': 2, 'orange': 1})\n"
     ]
    }
   ],
   "source": [
    "data = ['apple', 'banana', 'apple', 'orange', 'banana', 'apple']\n",
    "counter = Counter(data)\n",
    "print(\"Counts:\", counter)"
   ]
  },
  {
   "cell_type": "code",
   "execution_count": null,
   "id": "f935ad42-ab48-407c-a841-499835c4247c",
   "metadata": {},
   "outputs": [],
   "source": [
    "# defaultdict example"
   ]
  },
  {
   "cell_type": "code",
   "execution_count": 3,
   "id": "f13b958a-9ffa-4aaf-bfca-b07e24f023fb",
   "metadata": {},
   "outputs": [
    {
     "name": "stdout",
     "output_type": "stream",
     "text": [
      "Scores: {'Alice': [90], 'Bob': [85]}\n"
     ]
    }
   ],
   "source": [
    "scores = defaultdict(list)\n",
    "scores['Alice'].append(90)\n",
    "scores['Bob'].append(85)\n",
    "print(\"Scores:\", dict(scores))"
   ]
  },
  {
   "cell_type": "code",
   "execution_count": null,
   "id": "5f7415db-f6e1-464c-a98f-e0608c68e387",
   "metadata": {},
   "outputs": [],
   "source": [
    "# deque example"
   ]
  },
  {
   "cell_type": "code",
   "execution_count": 4,
   "id": "3839088c-dc7c-4d03-bad4-fc6937a8084e",
   "metadata": {},
   "outputs": [
    {
     "name": "stdout",
     "output_type": "stream",
     "text": [
      "Deque: deque([2, 3, 4])\n"
     ]
    }
   ],
   "source": [
    "queue = deque([1, 2, 3])\n",
    "queue.append(4)\n",
    "queue.popleft()\n",
    "print(\"Deque:\", queue)"
   ]
  },
  {
   "cell_type": "code",
   "execution_count": null,
   "id": "948e0a98-bf8a-4a55-b04c-ab94111de8df",
   "metadata": {},
   "outputs": [],
   "source": []
  }
 ],
 "metadata": {
  "kernelspec": {
   "display_name": "Python 3 (ipykernel)",
   "language": "python",
   "name": "python3"
  },
  "language_info": {
   "codemirror_mode": {
    "name": "ipython",
    "version": 3
   },
   "file_extension": ".py",
   "mimetype": "text/x-python",
   "name": "python",
   "nbconvert_exporter": "python",
   "pygments_lexer": "ipython3",
   "version": "3.12.7"
  }
 },
 "nbformat": 4,
 "nbformat_minor": 5
}
