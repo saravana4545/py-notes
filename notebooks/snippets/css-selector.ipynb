{
 "cells": [
  {
   "cell_type": "code",
   "execution_count": 1,
   "id": "4b3e6703-06a0-4cdf-ac67-7d54a4f5a7b1",
   "metadata": {},
   "outputs": [],
   "source": [
    "#13. CSS Selector Usage\n",
    "#Use CSS selectors with select() to scrape specific elements."
   ]
  },
  {
   "cell_type": "code",
   "execution_count": 2,
   "id": "c58c8c75-4de1-4469-9fd8-09ceb77bb267",
   "metadata": {},
   "outputs": [],
   "source": [
    "from bs4 import BeautifulSoup"
   ]
  },
  {
   "cell_type": "code",
   "execution_count": 3,
   "id": "09462ad2-7834-46af-bdc0-1b5723d48216",
   "metadata": {},
   "outputs": [],
   "source": [
    "html_content = \"\"\"\n",
    "<html>\n",
    "<head>\n",
    "    <title>Sample Page</title>\n",
    "</head>\n",
    "<body>\n",
    "    <div class=\"content\">\n",
    "        <h1 class=\"title\">Welcome to Web Scraping</h1>\n",
    "        <p id=\"description\">This page demonstrates web scraping using CSS selectors.</p>\n",
    "        <ul class=\"items\">\n",
    "            <li class=\"item\">Item 1</li>\n",
    "            <li class=\"item\">Item 2</li>\n",
    "            <li class=\"item\">Item 3</li>\n",
    "        </ul>\n",
    "    </div>\n",
    "</body>\n",
    "</html>\n",
    "\"\"\""
   ]
  },
  {
   "cell_type": "code",
   "execution_count": 4,
   "id": "2a32731c-0b71-45ce-9dbe-4d3f88dc6088",
   "metadata": {},
   "outputs": [],
   "source": [
    "soup = BeautifulSoup(html_content, 'html.parser')"
   ]
  },
  {
   "cell_type": "code",
   "execution_count": 6,
   "id": "a8c98d28-741e-4eee-a165-58087112b42a",
   "metadata": {},
   "outputs": [],
   "source": [
    "title = soup.select('.title')[0].text\n",
    "description = soup.select('#description')[0].text\n",
    "items = [item.text for item in soup.select('.item')]"
   ]
  },
  {
   "cell_type": "code",
   "execution_count": 7,
   "id": "96e0a7a1-29b7-44f7-9760-120ee2fc0596",
   "metadata": {},
   "outputs": [
    {
     "name": "stdout",
     "output_type": "stream",
     "text": [
      "Title: Welcome to Web Scraping\n",
      "Description: This page demonstrates web scraping using CSS selectors.\n",
      "Items: ['Item 1', 'Item 2', 'Item 3']\n"
     ]
    }
   ],
   "source": [
    "print(f\"Title: {title}\")\n",
    "print(f\"Description: {description}\")\n",
    "print(f\"Items: {items}\")"
   ]
  },
  {
   "cell_type": "code",
   "execution_count": null,
   "id": "469d0ab6-f8cf-404b-93b7-46ea7773e5d3",
   "metadata": {},
   "outputs": [],
   "source": []
  }
 ],
 "metadata": {
  "kernelspec": {
   "display_name": "Python 3 (ipykernel)",
   "language": "python",
   "name": "python3"
  },
  "language_info": {
   "codemirror_mode": {
    "name": "ipython",
    "version": 3
   },
   "file_extension": ".py",
   "mimetype": "text/x-python",
   "name": "python",
   "nbconvert_exporter": "python",
   "pygments_lexer": "ipython3",
   "version": "3.12.7"
  }
 },
 "nbformat": 4,
 "nbformat_minor": 5
}
