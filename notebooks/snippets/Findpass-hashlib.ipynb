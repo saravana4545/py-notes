{
 "cells": [
  {
   "cell_type": "code",
   "execution_count": null,
   "id": "6fe4ba7c-7370-41cb-98b0-febccc1a43c3",
   "metadata": {},
   "outputs": [],
   "source": [
    "#Import neccessary module"
   ]
  },
  {
   "cell_type": "code",
   "execution_count": 16,
   "id": "41a6c0df-e45b-4a5a-8676-0a54a702e5dd",
   "metadata": {},
   "outputs": [],
   "source": [
    "import hashlib"
   ]
  },
  {
   "cell_type": "code",
   "execution_count": 17,
   "id": "b35ccb3f-2e59-4879-b8d1-548d34231fc5",
   "metadata": {},
   "outputs": [],
   "source": [
    "# Original password"
   ]
  },
  {
   "cell_type": "code",
   "execution_count": 18,
   "id": "1232ae44-4cec-458d-aa1e-4a4e83f95972",
   "metadata": {},
   "outputs": [],
   "source": [
    "password = \"Saro@2003\""
   ]
  },
  {
   "cell_type": "code",
   "execution_count": 19,
   "id": "0c5f87a8-c6ab-4f91-9131-512f101e3cb2",
   "metadata": {},
   "outputs": [],
   "source": [
    "# Hash the password"
   ]
  },
  {
   "cell_type": "code",
   "execution_count": 20,
   "id": "a48c5034-c48b-459b-8147-c5f0c697b955",
   "metadata": {},
   "outputs": [],
   "source": [
    "hashed_password = hashlib.sha256(password.encode()).hexdigest()"
   ]
  },
  {
   "cell_type": "code",
   "execution_count": 21,
   "id": "99372bce-3901-44f7-8fcd-70369ad30665",
   "metadata": {},
   "outputs": [],
   "source": [
    "# Simulate user input and hash it"
   ]
  },
  {
   "cell_type": "code",
   "execution_count": 22,
   "id": "e0001820-fb10-42cc-8e0e-e9a29b494d81",
   "metadata": {},
   "outputs": [],
   "source": [
    "user_input = \"Saro@2003\"\n",
    "hashed_input = hashlib.sha256(user_input.encode()).hexdigest()"
   ]
  },
  {
   "cell_type": "code",
   "execution_count": 23,
   "id": "0375ba8a-c2f7-41b3-8a7f-6c8b457c1806",
   "metadata": {},
   "outputs": [],
   "source": [
    "# Compare hashes"
   ]
  },
  {
   "cell_type": "code",
   "execution_count": 24,
   "id": "c22ff2a7-4428-48c1-ad13-e830b0f028ad",
   "metadata": {},
   "outputs": [
    {
     "name": "stdout",
     "output_type": "stream",
     "text": [
      "Password match!\n"
     ]
    }
   ],
   "source": [
    "if hashed_password == hashed_input:\n",
    "    print(\"Password match!\")\n",
    "else:\n",
    "    print(\"Incorrect password.\")"
   ]
  },
  {
   "cell_type": "code",
   "execution_count": null,
   "id": "b51f8602-8393-4454-8f00-d7574519bb46",
   "metadata": {},
   "outputs": [],
   "source": []
  }
 ],
 "metadata": {
  "kernelspec": {
   "display_name": "Python 3 (ipykernel)",
   "language": "python",
   "name": "python3"
  },
  "language_info": {
   "codemirror_mode": {
    "name": "ipython",
    "version": 3
   },
   "file_extension": ".py",
   "mimetype": "text/x-python",
   "name": "python",
   "nbconvert_exporter": "python",
   "pygments_lexer": "ipython3",
   "version": "3.12.7"
  }
 },
 "nbformat": 4,
 "nbformat_minor": 5
}
