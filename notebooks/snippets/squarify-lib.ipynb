{
 "cells": [
  {
   "cell_type": "code",
   "execution_count": 9,
   "id": "8843eb43-df1d-412d-9388-435069b0f815",
   "metadata": {},
   "outputs": [],
   "source": [
    "#import neccessery libraries"
   ]
  },
  {
   "cell_type": "code",
   "execution_count": 10,
   "id": "e65dbbc8-cfcf-4b79-b7df-7bf6489ebd88",
   "metadata": {},
   "outputs": [],
   "source": [
    "import squarify"
   ]
  },
  {
   "cell_type": "code",
   "execution_count": 11,
   "id": "6ae57d91-8be2-4f7c-8e66-27764f51b766",
   "metadata": {},
   "outputs": [],
   "source": [
    "# these values define the coordinate system for the returned rectangles\n",
    "# the values will range from x to x + width and y to y + height"
   ]
  },
  {
   "cell_type": "code",
   "execution_count": 12,
   "id": "647e64de-462a-4c4e-a14a-d23c2c18e007",
   "metadata": {},
   "outputs": [],
   "source": [
    "x = 0.\n",
    "y = 0.\n",
    "width  = 700.\n",
    "height = 433.\n",
    "\n",
    "values = [500, 433, 78, 25, 25, 7]"
   ]
  },
  {
   "cell_type": "code",
   "execution_count": 13,
   "id": "cc3336b0-3c77-4517-92a3-ce6e9a7c974c",
   "metadata": {},
   "outputs": [],
   "source": [
    "# values must be sorted descending (and positive, obviously)"
   ]
  },
  {
   "cell_type": "code",
   "execution_count": 14,
   "id": "a0bc5504-0977-42ad-80a8-6664e7696e9f",
   "metadata": {},
   "outputs": [],
   "source": [
    "values.sort(reverse=True)"
   ]
  },
  {
   "cell_type": "code",
   "execution_count": 15,
   "id": "33327718-f8ba-48e8-bcd6-d65ff92272fd",
   "metadata": {},
   "outputs": [],
   "source": [
    "# the sum of the values must equal the total area to be laid out"
   ]
  },
  {
   "cell_type": "code",
   "execution_count": 16,
   "id": "d8593e27-1b3f-4bbe-8dc6-991db5c716bd",
   "metadata": {},
   "outputs": [],
   "source": [
    "values = squarify.normalize_sizes(values, width, height)"
   ]
  },
  {
   "cell_type": "code",
   "execution_count": 17,
   "id": "3e97dea5-f245-46c4-8849-9564d973e951",
   "metadata": {},
   "outputs": [],
   "source": [
    "# returns a list of rectangles"
   ]
  },
  {
   "cell_type": "code",
   "execution_count": 18,
   "id": "b6b93ca9-7cd7-4337-aa82-d70c37db2fda",
   "metadata": {},
   "outputs": [],
   "source": [
    "rects = squarify.squarify(values, x, y, width, height)"
   ]
  },
  {
   "cell_type": "code",
   "execution_count": 19,
   "id": "982f58a3-25f1-4531-b80d-66d37c997482",
   "metadata": {},
   "outputs": [],
   "source": [
    "# padded rectangles will probably visualize better for certain cases"
   ]
  },
  {
   "cell_type": "code",
   "execution_count": 20,
   "id": "47fb530d-56e3-4e89-9395-2293ab1007d4",
   "metadata": {},
   "outputs": [],
   "source": [
    "padded_rects = squarify.padded_squarify(values, x, y, width, height)"
   ]
  },
  {
   "cell_type": "code",
   "execution_count": 21,
   "id": "af562905-f83c-4a08-86ea-984000d74685",
   "metadata": {},
   "outputs": [
    {
     "name": "stdout",
     "output_type": "stream",
     "text": [
      "[{'x': 1.0, 'y': 1.0, 'dx': 325.7153558052434, 'dy': 431.0}, {'x': 328.7153558052434, 'y': 1.0, 'dx': 370.2846441947566, 'dy': 328.0862676056338}, {'x': 328.7153558052434, 'y': 331.0862676056338, 'dx': 213.0977944236371, 'dy': 100.9137323943662}, {'x': 543.8131502288805, 'y': 331.0862676056338, 'dx': 66.94160077680677, 'dy': 100.9137323943662}, {'x': 612.7547510056874, 'y': 331.0862676056338, 'dx': 86.24524899431273, 'dy': 78.40135343309854}, {'x': 612.7547510056874, 'y': 411.4876210387323, 'dx': 86.2452489943124, 'dy': 20.51237896126767}]\n"
     ]
    }
   ],
   "source": [
    "print(padded_rects)"
   ]
  },
  {
   "cell_type": "code",
   "execution_count": null,
   "id": "78dedd09-6ed9-429d-aa68-447e775c6eb6",
   "metadata": {},
   "outputs": [],
   "source": []
  }
 ],
 "metadata": {
  "kernelspec": {
   "display_name": "Python 3 (ipykernel)",
   "language": "python",
   "name": "python3"
  },
  "language_info": {
   "codemirror_mode": {
    "name": "ipython",
    "version": 3
   },
   "file_extension": ".py",
   "mimetype": "text/x-python",
   "name": "python",
   "nbconvert_exporter": "python",
   "pygments_lexer": "ipython3",
   "version": "3.12.7"
  }
 },
 "nbformat": 4,
 "nbformat_minor": 5
}
