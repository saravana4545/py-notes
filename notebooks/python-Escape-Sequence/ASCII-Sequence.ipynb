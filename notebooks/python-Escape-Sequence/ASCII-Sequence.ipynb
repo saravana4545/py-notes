{
 "cells": [
  {
   "cell_type": "code",
   "execution_count": null,
   "id": "5971e237-a655-4a92-bc86-6cab7b0bf73e",
   "metadata": {},
   "outputs": [],
   "source": [
    "# Created at 09-01-2025"
   ]
  },
  {
   "cell_type": "code",
   "execution_count": null,
   "id": "b0e01b83-9453-4b38-9fbd-1312e59ffcac",
   "metadata": {},
   "outputs": [],
   "source": [
    "# referance - https://www.scientecheasy.com/2022/09/escape-sequence-in-python.html"
   ]
  },
  {
   "cell_type": "code",
   "execution_count": 1,
   "id": "c71b2f75-3ef1-43b5-b45c-14a33e2190ca",
   "metadata": {},
   "outputs": [],
   "source": [
    "# \\a ASCII bell - sequence."
   ]
  },
  {
   "cell_type": "code",
   "execution_count": 3,
   "id": "28a9fe00-b322-4216-8588-1327c5ac48d0",
   "metadata": {},
   "outputs": [],
   "source": [
    "sequence = \"Good Morning \\a Welcome To Python World\""
   ]
  },
  {
   "cell_type": "code",
   "execution_count": 4,
   "id": "506d2fc8-f6ab-4390-85ab-c71cc99d374a",
   "metadata": {},
   "outputs": [
    {
     "name": "stdout",
     "output_type": "stream",
     "text": [
      "Good Morning \u0007 Welcome To Python World\n"
     ]
    }
   ],
   "source": [
    "print(sequence)"
   ]
  },
  {
   "cell_type": "code",
   "execution_count": 5,
   "id": "55a97ef2-a981-4a61-a2d0-debe08ec85b4",
   "metadata": {},
   "outputs": [],
   "source": [
    "# \\v ASCII backspace - sequence."
   ]
  },
  {
   "cell_type": "code",
   "execution_count": 13,
   "id": "9c832a89-7746-412d-93ea-e5ee85adc8be",
   "metadata": {},
   "outputs": [],
   "source": [
    "seq = \"Good Morning \\v Welcome To Python World\""
   ]
  },
  {
   "cell_type": "code",
   "execution_count": 14,
   "id": "69d028d9-b17a-48e2-b2ce-75639fb8a80d",
   "metadata": {},
   "outputs": [
    {
     "name": "stdout",
     "output_type": "stream",
     "text": [
      "Good Morning \u000b",
      " Welcome To Python World\n"
     ]
    }
   ],
   "source": [
    "print(seq)"
   ]
  },
  {
   "cell_type": "code",
   "execution_count": null,
   "id": "8894827b-e796-45c8-9845-0c7331883f50",
   "metadata": {},
   "outputs": [],
   "source": []
  }
 ],
 "metadata": {
  "kernelspec": {
   "display_name": "Python 3 (ipykernel)",
   "language": "python",
   "name": "python3"
  },
  "language_info": {
   "codemirror_mode": {
    "name": "ipython",
    "version": 3
   },
   "file_extension": ".py",
   "mimetype": "text/x-python",
   "name": "python",
   "nbconvert_exporter": "python",
   "pygments_lexer": "ipython3",
   "version": "3.12.7"
  }
 },
 "nbformat": 4,
 "nbformat_minor": 5
}
