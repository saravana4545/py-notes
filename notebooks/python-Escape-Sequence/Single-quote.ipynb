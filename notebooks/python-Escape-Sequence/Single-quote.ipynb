{
 "cells": [
  {
   "cell_type": "code",
   "execution_count": null,
   "id": "95914ff0-17cd-41c9-bdc8-44614f15da2e",
   "metadata": {},
   "outputs": [],
   "source": [
    "# Create at 09-01-2025"
   ]
  },
  {
   "cell_type": "code",
   "execution_count": null,
   "id": "6a806642-7c6d-41a7-9df6-a5c837c813ea",
   "metadata": {},
   "outputs": [],
   "source": [
    "# referance - https://www.scientecheasy.com/2022/09/escape-sequence-in-python.html"
   ]
  },
  {
   "cell_type": "code",
   "execution_count": 1,
   "id": "ff0882a2-8358-4b02-919e-4e305c328fab",
   "metadata": {},
   "outputs": [],
   "source": [
    "# \\': Used for printing the text string with a single quotation mark."
   ]
  },
  {
   "cell_type": "code",
   "execution_count": 9,
   "id": "e1d52965-2eaa-4f90-a974-f3133d885e93",
   "metadata": {},
   "outputs": [],
   "source": [
    "sentence = 'Good Morning \\'Python World\\''"
   ]
  },
  {
   "cell_type": "code",
   "execution_count": 10,
   "id": "72027751-29a3-4c16-9941-50e26c66be04",
   "metadata": {},
   "outputs": [
    {
     "name": "stdout",
     "output_type": "stream",
     "text": [
      "Good Morning 'Python World'\n"
     ]
    }
   ],
   "source": [
    "print(sentence)"
   ]
  },
  {
   "cell_type": "code",
   "execution_count": null,
   "id": "230acc64-98dc-46fd-a551-c62a06fa1956",
   "metadata": {},
   "outputs": [],
   "source": []
  },
  {
   "cell_type": "code",
   "execution_count": 11,
   "id": "c5ceac2f-11b6-4abf-b7a9-cffac1c8828e",
   "metadata": {},
   "outputs": [],
   "source": [
    "# \\\": Used for printing the text string with double quotation marks."
   ]
  },
  {
   "cell_type": "code",
   "execution_count": 12,
   "id": "12204414-adae-4c63-85d7-85547367f7cc",
   "metadata": {},
   "outputs": [],
   "source": [
    "double_quote = \"Welcome to \\\"Python world\\\"\""
   ]
  },
  {
   "cell_type": "code",
   "execution_count": 13,
   "id": "51d00489-d8bc-4ed6-aa7b-da38f41d5098",
   "metadata": {},
   "outputs": [
    {
     "name": "stdout",
     "output_type": "stream",
     "text": [
      "Welcome to \"Python world\"\n"
     ]
    }
   ],
   "source": [
    "print(double_quote)"
   ]
  },
  {
   "cell_type": "code",
   "execution_count": null,
   "id": "78260866-1590-4190-bffa-f63951f49dea",
   "metadata": {},
   "outputs": [],
   "source": []
  }
 ],
 "metadata": {
  "kernelspec": {
   "display_name": "Python 3 (ipykernel)",
   "language": "python",
   "name": "python3"
  },
  "language_info": {
   "codemirror_mode": {
    "name": "ipython",
    "version": 3
   },
   "file_extension": ".py",
   "mimetype": "text/x-python",
   "name": "python",
   "nbconvert_exporter": "python",
   "pygments_lexer": "ipython3",
   "version": "3.12.7"
  }
 },
 "nbformat": 4,
 "nbformat_minor": 5
}
