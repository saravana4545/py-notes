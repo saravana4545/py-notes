{
 "cells": [
  {
   "cell_type": "code",
   "execution_count": null,
   "id": "3eeb5ad1-88f6-4e02-8373-6e54dc363d5e",
   "metadata": {},
   "outputs": [],
   "source": [
    "# created at 09.01.2025"
   ]
  },
  {
   "cell_type": "code",
   "execution_count": 1,
   "id": "ee01cf23-c392-4823-a291-31e2de5fcc33",
   "metadata": {},
   "outputs": [],
   "source": [
    "# \\t: It gives a tab between two words."
   ]
  },
  {
   "cell_type": "code",
   "execution_count": 5,
   "id": "f996cbd3-d867-4f0d-9bdd-2aae750d7f15",
   "metadata": {},
   "outputs": [],
   "source": [
    "tab = \"Welcome to\\tPython world\""
   ]
  },
  {
   "cell_type": "code",
   "execution_count": 6,
   "id": "705fea04-e42a-4026-88d0-e1c3ec564102",
   "metadata": {},
   "outputs": [
    {
     "name": "stdout",
     "output_type": "stream",
     "text": [
      "Welcome to\tPython world\n"
     ]
    }
   ],
   "source": [
    "print(tab)"
   ]
  },
  {
   "cell_type": "code",
   "execution_count": null,
   "id": "db54697d-8ceb-4f7a-a6e4-ba870ad6a49b",
   "metadata": {},
   "outputs": [],
   "source": []
  }
 ],
 "metadata": {
  "kernelspec": {
   "display_name": "Python 3 (ipykernel)",
   "language": "python",
   "name": "python3"
  },
  "language_info": {
   "codemirror_mode": {
    "name": "ipython",
    "version": 3
   },
   "file_extension": ".py",
   "mimetype": "text/x-python",
   "name": "python",
   "nbconvert_exporter": "python",
   "pygments_lexer": "ipython3",
   "version": "3.12.7"
  }
 },
 "nbformat": 4,
 "nbformat_minor": 5
}
