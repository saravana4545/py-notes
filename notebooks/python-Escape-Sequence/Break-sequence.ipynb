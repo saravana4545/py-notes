{
 "cells": [
  {
   "cell_type": "code",
   "execution_count": null,
   "id": "47728a46-c45b-4b97-8419-dd2c5bac8cde",
   "metadata": {},
   "outputs": [],
   "source": [
    "# Created at 09-01-2025"
   ]
  },
  {
   "cell_type": "code",
   "execution_count": 1,
   "id": "cb0cca98-7259-4ed6-b708-b297f5cf025d",
   "metadata": {},
   "outputs": [],
   "source": [
    "# \\n: This escape sequence breaks the statement line into two lines."
   ]
  },
  {
   "cell_type": "code",
   "execution_count": 3,
   "id": "fba49057-0d13-43ad-aa4b-d8c8e28c108f",
   "metadata": {},
   "outputs": [],
   "source": [
    "break_line = \"Good Morning \\nPython World\""
   ]
  },
  {
   "cell_type": "code",
   "execution_count": 4,
   "id": "a78971bd-b3d7-4721-8b01-8be3c8c98d1d",
   "metadata": {},
   "outputs": [
    {
     "name": "stdout",
     "output_type": "stream",
     "text": [
      "Good Morning \n",
      "Python World\n"
     ]
    }
   ],
   "source": [
    "print(break_line)"
   ]
  },
  {
   "cell_type": "code",
   "execution_count": null,
   "id": "d06386c7-dff9-4d0d-bb6a-62261a99c88c",
   "metadata": {},
   "outputs": [],
   "source": []
  }
 ],
 "metadata": {
  "kernelspec": {
   "display_name": "Python 3 (ipykernel)",
   "language": "python",
   "name": "python3"
  },
  "language_info": {
   "codemirror_mode": {
    "name": "ipython",
    "version": 3
   },
   "file_extension": ".py",
   "mimetype": "text/x-python",
   "name": "python",
   "nbconvert_exporter": "python",
   "pygments_lexer": "ipython3",
   "version": "3.12.7"
  }
 },
 "nbformat": 4,
 "nbformat_minor": 5
}
