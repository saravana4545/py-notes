{
 "cells": [
  {
   "cell_type": "code",
   "execution_count": 1,
   "id": "0fb9face-ce9d-4b40-9733-2ecf5f273aa5",
   "metadata": {},
   "outputs": [],
   "source": [
    "# Created at 25-01-2025"
   ]
  },
  {
   "cell_type": "code",
   "execution_count": 2,
   "id": "67c6ecc1-42b2-4f05-b7b5-789982939a0b",
   "metadata": {},
   "outputs": [],
   "source": [
    "# https://www.scientecheasy.com/2022/10/bitwise-operators-in-python.html/"
   ]
  },
  {
   "cell_type": "code",
   "execution_count": 3,
   "id": "cbdc3f73-3271-4d11-bedc-eab947bf9524",
   "metadata": {},
   "outputs": [],
   "source": [
    "# Bitwise Left Shift (<<)"
   ]
  },
  {
   "cell_type": "code",
   "execution_count": 4,
   "id": "4efbce62-d33e-4041-87db-efcf586eff6d",
   "metadata": {},
   "outputs": [],
   "source": [
    "a = 5  # Binary: 0101"
   ]
  },
  {
   "cell_type": "code",
   "execution_count": 5,
   "id": "385daa96-fd2a-4e6f-af8b-a239157118e2",
   "metadata": {},
   "outputs": [],
   "source": [
    "result = a << 1  # Binary: 1010 (5 * 2)"
   ]
  },
  {
   "cell_type": "code",
   "execution_count": 6,
   "id": "dbee5845-1010-49e3-8ae7-618207155e51",
   "metadata": {},
   "outputs": [
    {
     "name": "stdout",
     "output_type": "stream",
     "text": [
      "10\n"
     ]
    }
   ],
   "source": [
    "print(result)"
   ]
  },
  {
   "cell_type": "code",
   "execution_count": null,
   "id": "96b87a15-01d6-48fd-8fff-2c6d84af5d12",
   "metadata": {},
   "outputs": [],
   "source": []
  },
  {
   "cell_type": "code",
   "execution_count": 7,
   "id": "3bfbae2f-f859-4647-8a01-c3f865879006",
   "metadata": {},
   "outputs": [],
   "source": [
    "# Bitwise Right Shift (>>)"
   ]
  },
  {
   "cell_type": "code",
   "execution_count": 8,
   "id": "bff27d1c-5f69-4e6e-8dcf-b9101c09e19e",
   "metadata": {},
   "outputs": [],
   "source": [
    "a = 5  # Binary: 0101"
   ]
  },
  {
   "cell_type": "code",
   "execution_count": 9,
   "id": "006d50ec-1985-47ba-866a-d0e1af154289",
   "metadata": {},
   "outputs": [],
   "source": [
    "result = a >> 1  # Binary: 0010 (5 // 2)"
   ]
  },
  {
   "cell_type": "code",
   "execution_count": 10,
   "id": "ee552418-1d41-40dd-90fb-3880e8cb117d",
   "metadata": {},
   "outputs": [
    {
     "name": "stdout",
     "output_type": "stream",
     "text": [
      "2\n"
     ]
    }
   ],
   "source": [
    "print(result)"
   ]
  },
  {
   "cell_type": "code",
   "execution_count": null,
   "id": "2f8e5cb0-22d3-4b7f-a6c5-49b09acd0c09",
   "metadata": {},
   "outputs": [],
   "source": []
  }
 ],
 "metadata": {
  "kernelspec": {
   "display_name": "Python 3 (ipykernel)",
   "language": "python",
   "name": "python3"
  },
  "language_info": {
   "codemirror_mode": {
    "name": "ipython",
    "version": 3
   },
   "file_extension": ".py",
   "mimetype": "text/x-python",
   "name": "python",
   "nbconvert_exporter": "python",
   "pygments_lexer": "ipython3",
   "version": "3.12.7"
  }
 },
 "nbformat": 4,
 "nbformat_minor": 5
}
