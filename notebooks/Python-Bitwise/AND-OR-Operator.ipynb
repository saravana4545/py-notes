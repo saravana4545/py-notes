{
 "cells": [
  {
   "cell_type": "code",
   "execution_count": 1,
   "id": "591a4127-b671-437b-8944-ff20cdd55959",
   "metadata": {},
   "outputs": [],
   "source": [
    "# Created at 25-01-2025"
   ]
  },
  {
   "cell_type": "code",
   "execution_count": 2,
   "id": "00ac5bb7-a05c-44ea-948c-89b2c82242f4",
   "metadata": {},
   "outputs": [],
   "source": [
    "# https://www.scientecheasy.com/2022/10/bitwise-operators-in-python.html/"
   ]
  },
  {
   "cell_type": "code",
   "execution_count": 3,
   "id": "24baf3a8-549a-45fe-9950-c02ed9ab3a3e",
   "metadata": {},
   "outputs": [],
   "source": [
    "# Bitwise AND operator (&)"
   ]
  },
  {
   "cell_type": "code",
   "execution_count": 4,
   "id": "f632a412-2e7f-4d37-8344-0db9c39a76e9",
   "metadata": {},
   "outputs": [],
   "source": [
    "a = 5\n",
    "b = 3 "
   ]
  },
  {
   "cell_type": "code",
   "execution_count": 5,
   "id": "8e613b89-cf15-49c4-8b5b-cb3215c04962",
   "metadata": {},
   "outputs": [],
   "source": [
    "result = a & b "
   ]
  },
  {
   "cell_type": "code",
   "execution_count": 6,
   "id": "2020f817-54f4-445a-9386-ac5dc0c74b67",
   "metadata": {},
   "outputs": [
    {
     "name": "stdout",
     "output_type": "stream",
     "text": [
      "1\n"
     ]
    }
   ],
   "source": [
    "print(result)"
   ]
  },
  {
   "cell_type": "code",
   "execution_count": null,
   "id": "e545f7c3-5a3c-4dc7-9f85-7781528c0c6d",
   "metadata": {},
   "outputs": [],
   "source": []
  },
  {
   "cell_type": "code",
   "execution_count": 7,
   "id": "6d611eab-fa48-43a7-bcc4-020168de994e",
   "metadata": {},
   "outputs": [],
   "source": [
    "# Bitwise OR (|)"
   ]
  },
  {
   "cell_type": "code",
   "execution_count": 8,
   "id": "f746f476-fbec-4e9e-86a1-da64b28f2ac6",
   "metadata": {},
   "outputs": [],
   "source": [
    "a = 5\n",
    "b = 3 "
   ]
  },
  {
   "cell_type": "code",
   "execution_count": 9,
   "id": "e79ab55b-cae6-4d53-9054-6d661270fd74",
   "metadata": {},
   "outputs": [],
   "source": [
    "result = a | b"
   ]
  },
  {
   "cell_type": "code",
   "execution_count": 10,
   "id": "85fdfcaf-293f-4143-89a2-fd307d5283e8",
   "metadata": {},
   "outputs": [
    {
     "name": "stdout",
     "output_type": "stream",
     "text": [
      "7\n"
     ]
    }
   ],
   "source": [
    "print(result)"
   ]
  },
  {
   "cell_type": "code",
   "execution_count": null,
   "id": "711f646b-5ccd-4ffc-b795-9d61fbb76331",
   "metadata": {},
   "outputs": [],
   "source": []
  }
 ],
 "metadata": {
  "kernelspec": {
   "display_name": "Python 3 (ipykernel)",
   "language": "python",
   "name": "python3"
  },
  "language_info": {
   "codemirror_mode": {
    "name": "ipython",
    "version": 3
   },
   "file_extension": ".py",
   "mimetype": "text/x-python",
   "name": "python",
   "nbconvert_exporter": "python",
   "pygments_lexer": "ipython3",
   "version": "3.12.7"
  }
 },
 "nbformat": 4,
 "nbformat_minor": 5
}
