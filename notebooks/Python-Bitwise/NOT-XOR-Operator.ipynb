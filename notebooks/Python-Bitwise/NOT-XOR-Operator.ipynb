{
 "cells": [
  {
   "cell_type": "code",
   "execution_count": 1,
   "id": "b8e55f41-682e-44af-8ce4-609c640117ad",
   "metadata": {},
   "outputs": [],
   "source": [
    "# created at 25-01-2025"
   ]
  },
  {
   "cell_type": "code",
   "execution_count": 2,
   "id": "6c173858-0bd4-423d-9453-d8ad21bc73c7",
   "metadata": {},
   "outputs": [],
   "source": [
    "# https://www.scientecheasy.com/2022/10/bitwise-operators-in-python.html/"
   ]
  },
  {
   "cell_type": "code",
   "execution_count": 4,
   "id": "ce5e441a-08bd-471e-b2cc-e464b925382c",
   "metadata": {},
   "outputs": [],
   "source": [
    "# Bitwise XOR (^)"
   ]
  },
  {
   "cell_type": "code",
   "execution_count": 5,
   "id": "b3fac21f-94e0-4408-961d-cb06d92930fc",
   "metadata": {},
   "outputs": [],
   "source": [
    "a = 5  # Binary: 0101\n",
    "b = 3  # Binary: 0011"
   ]
  },
  {
   "cell_type": "code",
   "execution_count": 6,
   "id": "72e8fb46-aa01-47c0-aed7-67caa65d4cfb",
   "metadata": {},
   "outputs": [],
   "source": [
    "result = a ^ b"
   ]
  },
  {
   "cell_type": "code",
   "execution_count": 7,
   "id": "c4a3f2b7-c269-45c0-89a3-23ca0b64d2a6",
   "metadata": {},
   "outputs": [
    {
     "name": "stdout",
     "output_type": "stream",
     "text": [
      "6\n"
     ]
    }
   ],
   "source": [
    "print(result)"
   ]
  },
  {
   "cell_type": "code",
   "execution_count": null,
   "id": "30ba9ff4-3506-408a-a38b-9bc5f66bc64a",
   "metadata": {},
   "outputs": [],
   "source": []
  },
  {
   "cell_type": "code",
   "execution_count": 8,
   "id": "82cf1244-a356-4f29-8648-c97ae016a3ad",
   "metadata": {},
   "outputs": [],
   "source": [
    "# Bitwise NOT (~)"
   ]
  },
  {
   "cell_type": "code",
   "execution_count": 9,
   "id": "e5a0644a-d356-464d-af7b-5dacf39242aa",
   "metadata": {},
   "outputs": [],
   "source": [
    "a = 5  # Binary: 0101"
   ]
  },
  {
   "cell_type": "code",
   "execution_count": 10,
   "id": "79261933-7fdc-4df3-a76c-998c89d7d7e1",
   "metadata": {},
   "outputs": [],
   "source": [
    "result = ~a  # Binary: -(0101 + 1) = -0110"
   ]
  },
  {
   "cell_type": "code",
   "execution_count": 11,
   "id": "7013d0b3-a2ed-46bf-b58c-2c57f485b735",
   "metadata": {},
   "outputs": [
    {
     "name": "stdout",
     "output_type": "stream",
     "text": [
      "-6\n"
     ]
    }
   ],
   "source": [
    "print(result)"
   ]
  },
  {
   "cell_type": "code",
   "execution_count": null,
   "id": "bed874f4-e1c5-4048-a37b-ea613a3ed1b2",
   "metadata": {},
   "outputs": [],
   "source": []
  }
 ],
 "metadata": {
  "kernelspec": {
   "display_name": "Python 3 (ipykernel)",
   "language": "python",
   "name": "python3"
  },
  "language_info": {
   "codemirror_mode": {
    "name": "ipython",
    "version": 3
   },
   "file_extension": ".py",
   "mimetype": "text/x-python",
   "name": "python",
   "nbconvert_exporter": "python",
   "pygments_lexer": "ipython3",
   "version": "3.12.7"
  }
 },
 "nbformat": 4,
 "nbformat_minor": 5
}
