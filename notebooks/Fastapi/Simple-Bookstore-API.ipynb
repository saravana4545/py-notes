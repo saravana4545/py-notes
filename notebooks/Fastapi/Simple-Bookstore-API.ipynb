{
 "cells": [
  {
   "cell_type": "code",
   "execution_count": null,
   "id": "287120d6-35f3-42f7-b0fe-222ad86a4cef",
   "metadata": {},
   "outputs": [],
   "source": [
    "#import neccesary libraries"
   ]
  },
  {
   "cell_type": "code",
   "execution_count": 51,
   "id": "a2c9439b-8458-4587-ab2f-d6fab1734de0",
   "metadata": {},
   "outputs": [],
   "source": [
    "from fastapi import FastAPI, HTTPException, Query, Path, Depends\n",
    "from pydantic import BaseModel\n",
    "from typing import List, Optional"
   ]
  },
  {
   "cell_type": "code",
   "execution_count": null,
   "id": "d5e22dad-5008-4725-a7d3-456264df4899",
   "metadata": {},
   "outputs": [],
   "source": []
  },
  {
   "cell_type": "code",
   "execution_count": 52,
   "id": "c391b8aa-2071-4118-999f-5a103504cf21",
   "metadata": {},
   "outputs": [],
   "source": [
    "app = FastAPI()"
   ]
  },
  {
   "cell_type": "code",
   "execution_count": null,
   "id": "d8fd41a8-db03-4915-958d-ff8bc2859e1b",
   "metadata": {},
   "outputs": [],
   "source": []
  },
  {
   "cell_type": "code",
   "execution_count": 53,
   "id": "cd1e61cf-534f-4c6f-b80a-3ca26560ea1e",
   "metadata": {},
   "outputs": [],
   "source": [
    "fake_db = []"
   ]
  },
  {
   "cell_type": "code",
   "execution_count": 54,
   "id": "04234cef-500e-44b5-8a8e-971eda091b82",
   "metadata": {},
   "outputs": [],
   "source": [
    "# Book Model"
   ]
  },
  {
   "cell_type": "code",
   "execution_count": 55,
   "id": "5adcafe4-f67a-4488-8318-c39d09801ea8",
   "metadata": {},
   "outputs": [],
   "source": [
    "class Book(BaseModel):\n",
    "    id: int\n",
    "    title: str\n",
    "    author: str\n",
    "    description: Optional[str] = None\n",
    "    rating: Optional[float] = None"
   ]
  },
  {
   "cell_type": "code",
   "execution_count": 56,
   "id": "486e8ae8-ef4b-482c-8700-df74e00e653a",
   "metadata": {},
   "outputs": [],
   "source": [
    "# Dependency: Simulating a database check"
   ]
  },
  {
   "cell_type": "code",
   "execution_count": 57,
   "id": "270fb1e0-756a-47ed-9491-7611b71031f5",
   "metadata": {},
   "outputs": [],
   "source": [
    "def get_db():\n",
    "    if not fake_db:\n",
    "        raise HTTPException(status_code=404, detail=\"No books found\")\n",
    "    return fake_db"
   ]
  },
  {
   "cell_type": "code",
   "execution_count": 58,
   "id": "aa8303b3-4097-4876-beb7-14e6a96d3e25",
   "metadata": {},
   "outputs": [],
   "source": [
    "# Route to list all books"
   ]
  },
  {
   "cell_type": "code",
   "execution_count": null,
   "id": "d9358681-21de-4cbc-b25f-25ea660040bc",
   "metadata": {},
   "outputs": [],
   "source": []
  },
  {
   "cell_type": "code",
   "execution_count": 59,
   "id": "d122de95-de52-4034-aa0d-0996279243b0",
   "metadata": {},
   "outputs": [],
   "source": [
    "@app.get(\"/books/\", response_model=List[Book])\n",
    "def list_books(db=Depends(get_db)):\n",
    "    return db"
   ]
  },
  {
   "cell_type": "code",
   "execution_count": 60,
   "id": "f8bb23a5-bc24-4fb2-a9c9-c7262e804e1a",
   "metadata": {},
   "outputs": [],
   "source": [
    "# Route to get a specific book by ID"
   ]
  },
  {
   "cell_type": "code",
   "execution_count": null,
   "id": "1bd45466-3644-43db-8c39-7ee84c35e960",
   "metadata": {},
   "outputs": [],
   "source": []
  },
  {
   "cell_type": "code",
   "execution_count": 61,
   "id": "113b3dde-3abe-489e-9cf5-7d9e63cc2a77",
   "metadata": {},
   "outputs": [],
   "source": [
    "@app.get(\"/books/{book_id}\", response_model=Book)\n",
    "def get_book(book_id: int = Path(..., description=\"ID of the book to retrieve\")):\n",
    "    for book in fake_db:\n",
    "        if book[\"id\"] == book_id:\n",
    "            return book\n",
    "    raise HTTPException(status_code=404, detail=\"Book not found\")"
   ]
  },
  {
   "cell_type": "code",
   "execution_count": 62,
   "id": "0662af3b-f35a-484d-a708-3e23ec8dd5d9",
   "metadata": {},
   "outputs": [],
   "source": [
    "# Route to search books by title or author"
   ]
  },
  {
   "cell_type": "code",
   "execution_count": null,
   "id": "30282326-1a4b-4228-927a-6f2847d2b9e8",
   "metadata": {},
   "outputs": [],
   "source": []
  },
  {
   "cell_type": "code",
   "execution_count": 63,
   "id": "a8bd3048-70dd-415f-97d8-26ca3bbbb40d",
   "metadata": {},
   "outputs": [],
   "source": [
    "@app.get(\"/books/search/\", response_model=List[Book])\n",
    "def search_books(\n",
    "    title: Optional[str] = Query(None, description=\"Search by book title\"),\n",
    "    author: Optional[str] = Query(None, description=\"Search by author name\"),\n",
    "    db=Depends(get_db),\n",
    "):\n",
    "    results = [book for book in db if (title and title.lower() in book[\"title\"].lower()) or\n",
    "               (author and author.lower() in book[\"author\"].lower())]\n",
    "    if not results:\n",
    "        raise HTTPException(status_code=404, detail=\"No matching books found\")\n",
    "    return results"
   ]
  },
  {
   "cell_type": "code",
   "execution_count": 64,
   "id": "eedb8dfe-5777-4b1d-b100-91f4d6d40b46",
   "metadata": {},
   "outputs": [],
   "source": [
    "# Route to add a new book"
   ]
  },
  {
   "cell_type": "code",
   "execution_count": null,
   "id": "d9f066ab-3882-435b-8acf-da778b35150e",
   "metadata": {},
   "outputs": [],
   "source": []
  },
  {
   "cell_type": "code",
   "execution_count": 65,
   "id": "95f4f410-2846-4649-bddb-663ee6ea1495",
   "metadata": {},
   "outputs": [],
   "source": [
    "@app.post(\"/books/\", response_model=Book, status_code=201)\n",
    "def add_book(book: Book):\n",
    "    # Check if book ID already exists\n",
    "    if any(existing_book[\"id\"] == book.id for existing_book in fake_db):\n",
    "        raise HTTPException(status_code=400, detail=\"Book with this ID already exists\")\n",
    "    fake_db.append(book.dict())\n",
    "    return book"
   ]
  },
  {
   "cell_type": "code",
   "execution_count": 66,
   "id": "ecda5aa3-743d-42ab-b73a-00ddadb33e8d",
   "metadata": {},
   "outputs": [],
   "source": [
    "# Route to update a book"
   ]
  },
  {
   "cell_type": "code",
   "execution_count": null,
   "id": "4d67c497-89d2-4980-a47b-8dae06ad499b",
   "metadata": {},
   "outputs": [],
   "source": []
  },
  {
   "cell_type": "code",
   "execution_count": 67,
   "id": "95f69dbe-7db4-42ad-a395-07dce0c60eed",
   "metadata": {},
   "outputs": [],
   "source": [
    "@app.put(\"/books/{book_id}\", response_model=Book)\n",
    "def update_book(book_id: int, updated_book: Book):\n",
    "    for idx, book in enumerate(fake_db):\n",
    "        if book[\"id\"] == book_id:\n",
    "            fake_db[idx] = updated_book.dict()\n",
    "            return updated_book\n",
    "    raise HTTPException(status_code=404, detail=\"Book not found\")"
   ]
  },
  {
   "cell_type": "code",
   "execution_count": 68,
   "id": "1cb346dd-5388-445d-b028-bbc886999f73",
   "metadata": {},
   "outputs": [],
   "source": [
    "# Route to delete a book"
   ]
  },
  {
   "cell_type": "code",
   "execution_count": null,
   "id": "9b923397-287a-4afc-ad06-ec67619b85f7",
   "metadata": {},
   "outputs": [],
   "source": []
  },
  {
   "cell_type": "code",
   "execution_count": 69,
   "id": "cb8d2fb9-e2ec-4860-aa38-b35af35a7c30",
   "metadata": {},
   "outputs": [],
   "source": [
    "@app.delete(\"/books/{book_id}\", status_code=204)\n",
    "def delete_book(book_id: int):\n",
    "    for book in fake_db:\n",
    "        if book[\"id\"] == book_id:\n",
    "            fake_db.remove(book)\n",
    "            return\n",
    "    raise HTTPException(status_code=404, detail=\"Book not found\")"
   ]
  },
  {
   "cell_type": "code",
   "execution_count": 70,
   "id": "89476954-5630-4dde-b4e1-2b8512e2c989",
   "metadata": {},
   "outputs": [],
   "source": [
    "# Sample Data Loader Route"
   ]
  },
  {
   "cell_type": "code",
   "execution_count": null,
   "id": "71b4d12b-659e-4547-ae53-4eb795447907",
   "metadata": {},
   "outputs": [],
   "source": []
  },
  {
   "cell_type": "code",
   "execution_count": 71,
   "id": "56a299fb-45f5-48d7-a609-8f0f0afe273b",
   "metadata": {},
   "outputs": [],
   "source": [
    "@app.post(\"/books/load_sample/\")\n",
    "def load_sample_books():\n",
    "    sample_books = [\n",
    "        {\"id\": 1, \"title\": \"1984\", \"author\": \"George Orwell\", \"description\": \"Dystopian novel\", \"rating\": 4.8},\n",
    "        {\"id\": 2, \"title\": \"To Kill a Mockingbird\", \"author\": \"Harper Lee\", \"description\": \"Classic novel\", \"rating\": 4.9},\n",
    "        {\"id\": 3, \"title\": \"The Great Gatsby\", \"author\": \"F. Scott Fitzgerald\", \"description\": \"1920s novel\", \"rating\": 4.7}\n",
    "    ]\n",
    "    fake_db.extend(sample_books)\n",
    "    return {\"message\": \"Sample books loaded successfully!\"}"
   ]
  },
  {
   "cell_type": "code",
   "execution_count": null,
   "id": "bee582df-9f7e-45f3-8be2-0c3e49db6ef4",
   "metadata": {},
   "outputs": [],
   "source": []
  },
  {
   "cell_type": "code",
   "execution_count": null,
   "id": "cb3e0be3-c49c-4a97-8a2b-caaa5be000b8",
   "metadata": {},
   "outputs": [],
   "source": []
  }
 ],
 "metadata": {
  "kernelspec": {
   "display_name": "Python 3 (ipykernel)",
   "language": "python",
   "name": "python3"
  },
  "language_info": {
   "codemirror_mode": {
    "name": "ipython",
    "version": 3
   },
   "file_extension": ".py",
   "mimetype": "text/x-python",
   "name": "python",
   "nbconvert_exporter": "python",
   "pygments_lexer": "ipython3",
   "version": "3.12.7"
  }
 },
 "nbformat": 4,
 "nbformat_minor": 5
}
