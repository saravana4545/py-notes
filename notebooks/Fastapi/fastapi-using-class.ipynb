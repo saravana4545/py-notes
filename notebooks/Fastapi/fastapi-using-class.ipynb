{
 "cells": [
  {
   "cell_type": "code",
   "execution_count": null,
   "id": "344b280f-91f3-4a2a-8db6-0554a4193c79",
   "metadata": {},
   "outputs": [],
   "source": [
    "#import neccessary libraries"
   ]
  },
  {
   "cell_type": "code",
   "execution_count": 1,
   "id": "3cb8573b-ee49-44b3-9ed4-65b60eee1c77",
   "metadata": {},
   "outputs": [],
   "source": [
    "from fastapi import FastAPI, HTTPException\n",
    "from pydantic import BaseModel\n",
    "from typing import List"
   ]
  },
  {
   "cell_type": "code",
   "execution_count": 2,
   "id": "db727185-7422-42eb-ab8d-9587464d0749",
   "metadata": {},
   "outputs": [],
   "source": [
    "app = FastAPI()"
   ]
  },
  {
   "cell_type": "code",
   "execution_count": null,
   "id": "a8696279-a767-4e27-a8c3-e83e4cc88648",
   "metadata": {},
   "outputs": [],
   "source": [
    "# Pydantic model for book data"
   ]
  },
  {
   "cell_type": "code",
   "execution_count": null,
   "id": "8b4292e7-7d1b-4442-aea1-020210a57ac8",
   "metadata": {},
   "outputs": [],
   "source": [
    "class Book(BaseModel):\n",
    "    id    : int\n",
    "    title : str\n",
    "    author: str"
   ]
  },
  {
   "cell_type": "code",
   "execution_count": null,
   "id": "4c410695-9650-4264-9e57-e731ee16d44e",
   "metadata": {},
   "outputs": [],
   "source": [
    "# BookStore class to manage books"
   ]
  },
  {
   "cell_type": "code",
   "execution_count": null,
   "id": "25b6b93f-d1b6-483f-91e7-3f7b26e37062",
   "metadata": {},
   "outputs": [],
   "source": [
    "class BookStore:\n",
    "    def __init__(self):\n",
    "        self.books = []  # Start with an empty list\n",
    "\n",
    "    def get_all_books(self):\n",
    "        return self.books\n",
    "\n",
    "    def get_book_by_id(self, book_id: int):\n",
    "        for book in self.books:\n",
    "            if book.id == book_id:\n",
    "                return book\n",
    "        return None\n",
    "\n",
    "    def add_book(self, book: Book):\n",
    "        if any(b.id == book.id for b in self.books):\n",
    "            raise HTTPException(status_code=400, detail=\"Book with this ID already exists\")\n",
    "        self.books.append(book)\n",
    "        return book\n"
   ]
  },
  {
   "cell_type": "code",
   "execution_count": null,
   "id": "8243290d-8d0e-4987-9ccf-73b6307c9c91",
   "metadata": {},
   "outputs": [],
   "source": [
    "# Create an instance of the class"
   ]
  },
  {
   "cell_type": "code",
   "execution_count": null,
   "id": "6319f1f1-4808-4c07-a79d-ab526a785f04",
   "metadata": {},
   "outputs": [],
   "source": [
    "book_store = BookStore()"
   ]
  },
  {
   "cell_type": "code",
   "execution_count": null,
   "id": "6c2063aa-6cd6-4079-8f6c-051b7ee9e40b",
   "metadata": {},
   "outputs": [],
   "source": [
    "# GET method to fetch all books"
   ]
  },
  {
   "cell_type": "code",
   "execution_count": null,
   "id": "2f516bea-20ba-4894-a2cf-6223082fd011",
   "metadata": {},
   "outputs": [],
   "source": [
    "@app.get(\"/books/\", response_model=List[Book])\n",
    "async def get_books():\n",
    "    return book_store.get_all_books()"
   ]
  },
  {
   "cell_type": "code",
   "execution_count": null,
   "id": "235e9aa0-db07-4e1e-a86c-68ace3558537",
   "metadata": {},
   "outputs": [],
   "source": [
    "# GET method to fetch a book by ID"
   ]
  },
  {
   "cell_type": "code",
   "execution_count": null,
   "id": "f28b7acb-5c03-4ea1-9471-bba46f980bbf",
   "metadata": {},
   "outputs": [],
   "source": [
    "@app.get(\"/books/{book_id}\", response_model=Book)\n",
    "async def get_book(book_id: int):\n",
    "    book = book_store.get_book_by_id(book_id)\n",
    "    if not book:\n",
    "        raise HTTPException(status_code=404, detail=\"Book not found\")\n",
    "    return book"
   ]
  },
  {
   "cell_type": "code",
   "execution_count": null,
   "id": "df8c8c62-e02a-4aca-8cc5-ec0a607fdae1",
   "metadata": {},
   "outputs": [],
   "source": [
    "# POST method to add a new book"
   ]
  },
  {
   "cell_type": "code",
   "execution_count": null,
   "id": "ddbb3e0f-26d8-4e24-a82e-9cf4a87c3e7b",
   "metadata": {},
   "outputs": [],
   "source": [
    "@app.post(\"/books/\", response_model=Book)\n",
    "async def add_book(book: Book):\n",
    "    return book_store.add_book(book)"
   ]
  }
 ],
 "metadata": {
  "kernelspec": {
   "display_name": "Python 3 (ipykernel)",
   "language": "python",
   "name": "python3"
  },
  "language_info": {
   "codemirror_mode": {
    "name": "ipython",
    "version": 3
   },
   "file_extension": ".py",
   "mimetype": "text/x-python",
   "name": "python",
   "nbconvert_exporter": "python",
   "pygments_lexer": "ipython3",
   "version": "3.12.7"
  }
 },
 "nbformat": 4,
 "nbformat_minor": 5
}
