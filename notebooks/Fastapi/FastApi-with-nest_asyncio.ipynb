{
 "cells": [
  {
   "cell_type": "code",
   "execution_count": null,
   "id": "77228596-d3e2-470b-bf49-ced10524a268",
   "metadata": {},
   "outputs": [],
   "source": [
    "# Import required modules"
   ]
  },
  {
   "cell_type": "code",
   "execution_count": null,
   "id": "360700c6-dc5c-43da-a26c-e0a4ad02477e",
   "metadata": {},
   "outputs": [],
   "source": [
    "from fastapi import FastAPI, HTTPException, Query, Path, Depends\n",
    "from pydantic import BaseModel\n",
    "from typing import List, Optional\n",
    "import nest_asyncio\n",
    "from uvicorn import Config, Server"
   ]
  },
  {
   "cell_type": "code",
   "execution_count": null,
   "id": "bfb5d656-ef4c-47fb-8adc-aa4ac603dd69",
   "metadata": {},
   "outputs": [],
   "source": [
    "# Enable nested event loops"
   ]
  },
  {
   "cell_type": "code",
   "execution_count": null,
   "id": "48e07fcd-0c42-4a6b-a683-ed662bbce988",
   "metadata": {},
   "outputs": [],
   "source": [
    "nest_asyncio.apply()"
   ]
  },
  {
   "cell_type": "code",
   "execution_count": null,
   "id": "817e1a09-6a0b-4147-9c06-7bd1d777db9b",
   "metadata": {},
   "outputs": [],
   "source": [
    "# Initialize FastAPI app"
   ]
  },
  {
   "cell_type": "code",
   "execution_count": null,
   "id": "ac996d05-64d8-4530-9751-f6f489359bea",
   "metadata": {},
   "outputs": [],
   "source": [
    "app = FastAPI()"
   ]
  },
  {
   "cell_type": "code",
   "execution_count": null,
   "id": "6ac73fc8-13ff-425f-b563-140f4cc75cd1",
   "metadata": {},
   "outputs": [],
   "source": [
    "# Simulated database"
   ]
  },
  {
   "cell_type": "code",
   "execution_count": null,
   "id": "81568f5b-297d-4c88-860b-554650de9da4",
   "metadata": {},
   "outputs": [],
   "source": [
    "fake_db = []"
   ]
  },
  {
   "cell_type": "code",
   "execution_count": null,
   "id": "dbe4477c-2c5f-4ca9-8a53-924969e77a64",
   "metadata": {},
   "outputs": [],
   "source": [
    "# Book Model"
   ]
  },
  {
   "cell_type": "code",
   "execution_count": null,
   "id": "bd75f1a1-c531-4201-b273-d46846f563e1",
   "metadata": {},
   "outputs": [],
   "source": [
    "class Book(BaseModel):\n",
    "    id: int\n",
    "    title: str\n",
    "    author: str\n",
    "    description: Optional[str] = None\n",
    "    rating: Optional[float] = None"
   ]
  },
  {
   "cell_type": "code",
   "execution_count": null,
   "id": "29b78760-e6b1-4caa-9fde-05ee2ef37461",
   "metadata": {},
   "outputs": [],
   "source": [
    "# Define routes"
   ]
  },
  {
   "cell_type": "code",
   "execution_count": null,
   "id": "7a61bd20-5e01-494a-bc1e-b221fa560a6c",
   "metadata": {},
   "outputs": [],
   "source": [
    "@app.get(\"/\")\n",
    "def read_root():\n",
    "    return {\"message\": \"Welcome to the FastAPI app running in JupyterLab!\"}"
   ]
  },
  {
   "cell_type": "code",
   "execution_count": null,
   "id": "d7865b66-22ca-4480-bab4-23dc01fd2f48",
   "metadata": {},
   "outputs": [],
   "source": [
    "@app.post(\"/books/\")\n",
    "def add_book(book: Book):\n",
    "    fake_db.append(book.dict())\n",
    "    return {\"message\": f\"Book '{book.title}' added successfully!\"}"
   ]
  },
  {
   "cell_type": "code",
   "execution_count": null,
   "id": "fb44ad61-52b0-4a1b-abcd-544d02996790",
   "metadata": {},
   "outputs": [],
   "source": [
    "# Start Uvicorn server inside Jupyter"
   ]
  },
  {
   "cell_type": "code",
   "execution_count": null,
   "id": "2416c080-f99a-40fe-becb-135e2a20650a",
   "metadata": {},
   "outputs": [],
   "source": [
    "config = Config(app=app, host=\"127.0.0.1\", port=8000, log_level=\"info\")\n",
    "server = Server(config)"
   ]
  },
  {
   "cell_type": "code",
   "execution_count": null,
   "id": "de62fd8e-cf39-4b8a-ac0e-b9a2af42c48d",
   "metadata": {},
   "outputs": [],
   "source": [
    "# Run the server"
   ]
  },
  {
   "cell_type": "code",
   "execution_count": null,
   "id": "e5f4f347-6fe9-41ec-8de2-faf7e2ce94bc",
   "metadata": {},
   "outputs": [],
   "source": [
    "server.run()"
   ]
  }
 ],
 "metadata": {
  "kernelspec": {
   "display_name": "Python 3 (ipykernel)",
   "language": "python",
   "name": "python3"
  },
  "language_info": {
   "codemirror_mode": {
    "name": "ipython",
    "version": 3
   },
   "file_extension": ".py",
   "mimetype": "text/x-python",
   "name": "python",
   "nbconvert_exporter": "python",
   "pygments_lexer": "ipython3",
   "version": "3.12.7"
  }
 },
 "nbformat": 4,
 "nbformat_minor": 5
}
