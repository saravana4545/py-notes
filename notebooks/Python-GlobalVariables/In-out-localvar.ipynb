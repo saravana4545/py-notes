{
 "cells": [
  {
   "cell_type": "code",
   "execution_count": 1,
   "id": "3b63d983-d28b-40a7-8bf5-74817d69ea77",
   "metadata": {},
   "outputs": [],
   "source": [
    "# Created at 20-01-2025"
   ]
  },
  {
   "cell_type": "code",
   "execution_count": 2,
   "id": "f5858208-da83-4afe-871f-00193cd7eb1b",
   "metadata": {},
   "outputs": [],
   "source": [
    "# https://www.scientecheasy.com/2022/09/global-and-local-variables-in-python.html/"
   ]
  },
  {
   "cell_type": "code",
   "execution_count": 3,
   "id": "bf9a84fa-6838-4859-ad94-8ebe328d57a1",
   "metadata": {},
   "outputs": [],
   "source": [
    "# create inside and outside local variable."
   ]
  },
  {
   "cell_type": "code",
   "execution_count": 4,
   "id": "66882bef-ba67-4abb-b4fa-45606148d5c7",
   "metadata": {},
   "outputs": [],
   "source": [
    "num = 30"
   ]
  },
  {
   "cell_type": "code",
   "execution_count": 5,
   "id": "10ac2278-a087-4c3d-82d7-cc689039de22",
   "metadata": {},
   "outputs": [],
   "source": [
    "def in_and_out():\n",
    "    num = 24\n",
    "    print(\"My lucky num is\", num)"
   ]
  },
  {
   "cell_type": "code",
   "execution_count": 6,
   "id": "356d3be8-f0e8-47cb-b0cf-e094753392c0",
   "metadata": {},
   "outputs": [
    {
     "name": "stdout",
     "output_type": "stream",
     "text": [
      "My lucky num is 24\n",
      "Outside variable num is 30\n"
     ]
    }
   ],
   "source": [
    "in_and_out()\n",
    "print(\"Outside variable num is\", num)"
   ]
  },
  {
   "cell_type": "code",
   "execution_count": null,
   "id": "11833cf6-570f-4ddf-8391-62ba82164888",
   "metadata": {},
   "outputs": [],
   "source": []
  },
  {
   "cell_type": "code",
   "execution_count": null,
   "id": "f369495b-ff0f-4690-8427-3f4f4fcf433c",
   "metadata": {},
   "outputs": [],
   "source": []
  }
 ],
 "metadata": {
  "kernelspec": {
   "display_name": "Python 3 (ipykernel)",
   "language": "python",
   "name": "python3"
  },
  "language_info": {
   "codemirror_mode": {
    "name": "ipython",
    "version": 3
   },
   "file_extension": ".py",
   "mimetype": "text/x-python",
   "name": "python",
   "nbconvert_exporter": "python",
   "pygments_lexer": "ipython3",
   "version": "3.12.7"
  }
 },
 "nbformat": 4,
 "nbformat_minor": 5
}
