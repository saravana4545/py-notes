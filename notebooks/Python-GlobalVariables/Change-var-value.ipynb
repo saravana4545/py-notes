{
 "cells": [
  {
   "cell_type": "code",
   "execution_count": 1,
   "id": "ee28f857-3c91-46c7-9594-92e2874a81d9",
   "metadata": {},
   "outputs": [],
   "source": [
    "# Created at 20-01-2025"
   ]
  },
  {
   "cell_type": "code",
   "execution_count": 2,
   "id": "8bd28fe1-2220-42d5-be55-7ffd906329d2",
   "metadata": {},
   "outputs": [],
   "source": [
    "# https://www.scientecheasy.com/2022/09/global-and-local-variables-in-python.html/"
   ]
  },
  {
   "cell_type": "code",
   "execution_count": 3,
   "id": "9dc1e378-db26-4152-8e8a-bdc2e11efd92",
   "metadata": {},
   "outputs": [],
   "source": [
    "# we need to write a global keyword before the variable name inside the function."
   ]
  },
  {
   "cell_type": "code",
   "execution_count": 4,
   "id": "9b99e396-2656-4325-b0ce-7961682848c4",
   "metadata": {},
   "outputs": [],
   "source": [
    "name = \"andal\""
   ]
  },
  {
   "cell_type": "code",
   "execution_count": 6,
   "id": "ab735e66-cf93-4f41-9632-3ddb8d32d8ad",
   "metadata": {},
   "outputs": [],
   "source": [
    "def change_value():\n",
    "    global name\n",
    "    name = \"andal priya\"\n",
    "    print(\"Full name is\", name)"
   ]
  },
  {
   "cell_type": "code",
   "execution_count": 10,
   "id": "78d2ec45-13fa-4dd4-b499-f9838a918301",
   "metadata": {},
   "outputs": [
    {
     "name": "stdout",
     "output_type": "stream",
     "text": [
      "Full name is andal priya\n",
      "The Modified name is andal priya\n"
     ]
    }
   ],
   "source": [
    "change_value()\n",
    "print(\"The Modified name is\", name)"
   ]
  },
  {
   "cell_type": "code",
   "execution_count": null,
   "id": "d1d3bea9-a529-4a1e-b701-ded46b78afbc",
   "metadata": {},
   "outputs": [],
   "source": []
  }
 ],
 "metadata": {
  "kernelspec": {
   "display_name": "Python 3 (ipykernel)",
   "language": "python",
   "name": "python3"
  },
  "language_info": {
   "codemirror_mode": {
    "name": "ipython",
    "version": 3
   },
   "file_extension": ".py",
   "mimetype": "text/x-python",
   "name": "python",
   "nbconvert_exporter": "python",
   "pygments_lexer": "ipython3",
   "version": "3.12.7"
  }
 },
 "nbformat": 4,
 "nbformat_minor": 5
}
