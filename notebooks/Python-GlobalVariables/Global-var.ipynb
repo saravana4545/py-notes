{
 "cells": [
  {
   "cell_type": "code",
   "execution_count": 1,
   "id": "d9f5bc61-b9f5-4583-b3c8-21b748d2cb15",
   "metadata": {},
   "outputs": [],
   "source": [
    "# Created at 20-01-2025"
   ]
  },
  {
   "cell_type": "code",
   "execution_count": 2,
   "id": "99082a99-ee7c-4fcf-aeb3-d2bf102f13c7",
   "metadata": {},
   "outputs": [],
   "source": [
    "# https://www.scientecheasy.com/2022/09/global-and-local-variables-in-python.html"
   ]
  },
  {
   "cell_type": "code",
   "execution_count": 3,
   "id": "47cc10da-964d-4df8-b98d-780b5666f0a4",
   "metadata": {},
   "outputs": [],
   "source": [
    "# Global variables"
   ]
  },
  {
   "cell_type": "code",
   "execution_count": 4,
   "id": "659879d5-ddcc-494b-a113-bd7bcd4ab90b",
   "metadata": {},
   "outputs": [],
   "source": [
    "name = \"Saravana\""
   ]
  },
  {
   "cell_type": "code",
   "execution_count": 6,
   "id": "6ec6d045-6f31-462c-9b51-97efd4a2c4c3",
   "metadata": {},
   "outputs": [],
   "source": [
    "def glo_var():\n",
    "    print(\"My name is\", name)"
   ]
  },
  {
   "cell_type": "code",
   "execution_count": 7,
   "id": "f44db628-f1e5-446f-b4a6-70738c745dc7",
   "metadata": {},
   "outputs": [
    {
     "name": "stdout",
     "output_type": "stream",
     "text": [
      "My name is Saravana\n"
     ]
    }
   ],
   "source": [
    "glo_var()"
   ]
  },
  {
   "cell_type": "code",
   "execution_count": null,
   "id": "bc20647d-9f83-440d-b77d-cbd01ae34795",
   "metadata": {},
   "outputs": [],
   "source": []
  },
  {
   "cell_type": "code",
   "execution_count": null,
   "id": "b4b7dcc2-26a3-404a-b253-b9e05f840261",
   "metadata": {},
   "outputs": [],
   "source": []
  }
 ],
 "metadata": {
  "kernelspec": {
   "display_name": "Python 3 (ipykernel)",
   "language": "python",
   "name": "python3"
  },
  "language_info": {
   "codemirror_mode": {
    "name": "ipython",
    "version": 3
   },
   "file_extension": ".py",
   "mimetype": "text/x-python",
   "name": "python",
   "nbconvert_exporter": "python",
   "pygments_lexer": "ipython3",
   "version": "3.12.7"
  }
 },
 "nbformat": 4,
 "nbformat_minor": 5
}
