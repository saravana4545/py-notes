{
 "cells": [
  {
   "cell_type": "code",
   "execution_count": 1,
   "id": "204e3d6c-53e2-4789-92c3-13a0c7afcc2b",
   "metadata": {},
   "outputs": [],
   "source": [
    "# Created at 20-01-2025"
   ]
  },
  {
   "cell_type": "code",
   "execution_count": 2,
   "id": "c44233e5-5b6a-4efe-a65c-37a3bc60b99a",
   "metadata": {},
   "outputs": [],
   "source": [
    "# https://www.scientecheasy.com/2022/09/global-and-local-variables-in-python.html/"
   ]
  },
  {
   "cell_type": "code",
   "execution_count": 3,
   "id": "9a1d321a-4465-49c9-98b9-8f7a343e795a",
   "metadata": {},
   "outputs": [],
   "source": [
    "# create a variable inside a function with the same name as the global variable."
   ]
  },
  {
   "cell_type": "code",
   "execution_count": 10,
   "id": "7ae5b9c7-df2d-4d33-9b9e-da0be1873879",
   "metadata": {},
   "outputs": [],
   "source": [
    "name = \"saravana\""
   ]
  },
  {
   "cell_type": "code",
   "execution_count": 13,
   "id": "3a773be3-9e33-4ed4-97ad-6455d7535fc8",
   "metadata": {},
   "outputs": [],
   "source": [
    "def same_var():\n",
    "    name = \"saravana\" + \"kumar\"\n",
    "    print(\"My full name is\", name)"
   ]
  },
  {
   "cell_type": "code",
   "execution_count": 17,
   "id": "3afbcff3-f875-4a02-b2b4-3a2766225da0",
   "metadata": {},
   "outputs": [
    {
     "name": "stdout",
     "output_type": "stream",
     "text": [
      "My full name is saravanakumar\n",
      "using global var outside - saravana\n"
     ]
    }
   ],
   "source": [
    "same_var()\n",
    "print(\"using global var outside\", '-', name)"
   ]
  },
  {
   "cell_type": "code",
   "execution_count": null,
   "id": "cfe4746f-2138-492e-b7d8-2554c825a123",
   "metadata": {},
   "outputs": [],
   "source": []
  }
 ],
 "metadata": {
  "kernelspec": {
   "display_name": "Python 3 (ipykernel)",
   "language": "python",
   "name": "python3"
  },
  "language_info": {
   "codemirror_mode": {
    "name": "ipython",
    "version": 3
   },
   "file_extension": ".py",
   "mimetype": "text/x-python",
   "name": "python",
   "nbconvert_exporter": "python",
   "pygments_lexer": "ipython3",
   "version": "3.12.7"
  }
 },
 "nbformat": 4,
 "nbformat_minor": 5
}
