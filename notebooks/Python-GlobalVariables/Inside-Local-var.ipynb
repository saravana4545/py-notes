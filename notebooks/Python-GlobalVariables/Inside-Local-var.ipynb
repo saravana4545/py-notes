{
 "cells": [
  {
   "cell_type": "code",
   "execution_count": 1,
   "id": "8a804630-e595-44fa-9611-1656af49584e",
   "metadata": {},
   "outputs": [],
   "source": [
    "# Created at 20-01-2025"
   ]
  },
  {
   "cell_type": "code",
   "execution_count": 2,
   "id": "908f70b5-04be-40b1-b829-967f309cecfd",
   "metadata": {},
   "outputs": [],
   "source": [
    "# https://www.scientecheasy.com/2022/09/global-and-local-variables-in-python.html/"
   ]
  },
  {
   "cell_type": "code",
   "execution_count": 3,
   "id": "5f1f48d2-ac93-4ece-9e13-c6d761dbcb12",
   "metadata": {},
   "outputs": [],
   "source": [
    "# Local Variable in Python,"
   ]
  },
  {
   "cell_type": "code",
   "execution_count": 4,
   "id": "e31ea174-26bb-4814-830a-0278956ce843",
   "metadata": {},
   "outputs": [],
   "source": [
    "# Create a local variable inside of the function."
   ]
  },
  {
   "cell_type": "code",
   "execution_count": 6,
   "id": "a994a7d3-3152-4643-abc9-3324a2e96c62",
   "metadata": {},
   "outputs": [],
   "source": [
    "def local_var():\n",
    "    num = 45\n",
    "    print(\"My favourite num is\", num)"
   ]
  },
  {
   "cell_type": "code",
   "execution_count": 7,
   "id": "aebd7d3d-4df6-4319-982c-1852d6841a28",
   "metadata": {},
   "outputs": [
    {
     "name": "stdout",
     "output_type": "stream",
     "text": [
      "My favourite num is 45\n"
     ]
    }
   ],
   "source": [
    "local_var()"
   ]
  },
  {
   "cell_type": "code",
   "execution_count": 8,
   "id": "3e6e54ec-10a9-4cad-9aab-9726dda90515",
   "metadata": {},
   "outputs": [
    {
     "ename": "NameError",
     "evalue": "name 'num' is not defined",
     "output_type": "error",
     "traceback": [
      "\u001b[0;31m---------------------------------------------------------------------------\u001b[0m",
      "\u001b[0;31mNameError\u001b[0m                                 Traceback (most recent call last)",
      "Cell \u001b[0;32mIn[8], line 1\u001b[0m\n\u001b[0;32m----> 1\u001b[0m \u001b[38;5;28mprint\u001b[39m(\u001b[43mnum\u001b[49m)\n",
      "\u001b[0;31mNameError\u001b[0m: name 'num' is not defined"
     ]
    }
   ],
   "source": [
    "print(num)"
   ]
  },
  {
   "cell_type": "code",
   "execution_count": null,
   "id": "5b55031c-d394-4634-a135-cb8e53d852e9",
   "metadata": {},
   "outputs": [],
   "source": []
  },
  {
   "cell_type": "code",
   "execution_count": null,
   "id": "55d0147d-1b20-4740-9243-1cfaecf881d6",
   "metadata": {},
   "outputs": [],
   "source": []
  }
 ],
 "metadata": {
  "kernelspec": {
   "display_name": "Python 3 (ipykernel)",
   "language": "python",
   "name": "python3"
  },
  "language_info": {
   "codemirror_mode": {
    "name": "ipython",
    "version": 3
   },
   "file_extension": ".py",
   "mimetype": "text/x-python",
   "name": "python",
   "nbconvert_exporter": "python",
   "pygments_lexer": "ipython3",
   "version": "3.12.7"
  }
 },
 "nbformat": 4,
 "nbformat_minor": 5
}
