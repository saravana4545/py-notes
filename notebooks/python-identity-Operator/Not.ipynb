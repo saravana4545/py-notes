{
 "cells": [
  {
   "cell_type": "code",
   "execution_count": 1,
   "id": "159aee00-a3c0-4178-a5cf-0f1766b58891",
   "metadata": {},
   "outputs": [],
   "source": [
    "# Created at 21-01-2025"
   ]
  },
  {
   "cell_type": "code",
   "execution_count": 2,
   "id": "5e1b9b66-1e4a-49e0-9a21-7bc35cee40c3",
   "metadata": {},
   "outputs": [],
   "source": [
    "# https://www.scientecheasy.com/2022/10/identity-operators-in-python.html/"
   ]
  },
  {
   "cell_type": "code",
   "execution_count": 3,
   "id": "d9e6d5df-9876-41a5-b854-23986534dd1b",
   "metadata": {},
   "outputs": [],
   "source": [
    "# Identity Is not operator (is not)."
   ]
  },
  {
   "cell_type": "code",
   "execution_count": 11,
   "id": "b577ea1b-9b69-4361-bed0-e9fa0a6e34d7",
   "metadata": {},
   "outputs": [],
   "source": [
    "def not_operator():\n",
    "    num1 = id(10)\n",
    "    num2 = id(10)\n",
    "    result = (num1, num2)\n",
    "    if num1 is not num2:\n",
    "        print(\"num1 & num2 have the same id-\",result)\n",
    "    else:\n",
    "        print(\"num1 & num2 is not same id.\", result)"
   ]
  },
  {
   "cell_type": "code",
   "execution_count": 12,
   "id": "5db67193-50fd-480f-b988-06b5e8515e16",
   "metadata": {},
   "outputs": [
    {
     "name": "stdout",
     "output_type": "stream",
     "text": [
      "num1 & num2 have the same id- (9767048, 9767048)\n"
     ]
    }
   ],
   "source": [
    "not_operator()"
   ]
  },
  {
   "cell_type": "code",
   "execution_count": null,
   "id": "ec1738fe-7913-4c24-b17a-a1279e1aae51",
   "metadata": {},
   "outputs": [],
   "source": []
  }
 ],
 "metadata": {
  "kernelspec": {
   "display_name": "Python 3 (ipykernel)",
   "language": "python",
   "name": "python3"
  },
  "language_info": {
   "codemirror_mode": {
    "name": "ipython",
    "version": 3
   },
   "file_extension": ".py",
   "mimetype": "text/x-python",
   "name": "python",
   "nbconvert_exporter": "python",
   "pygments_lexer": "ipython3",
   "version": "3.12.7"
  }
 },
 "nbformat": 4,
 "nbformat_minor": 5
}
