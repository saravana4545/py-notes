{
 "cells": [
  {
   "cell_type": "code",
   "execution_count": 1,
   "id": "0ad3b20f-ee74-4da2-84c0-d64dda6d04b2",
   "metadata": {},
   "outputs": [],
   "source": [
    "# created atb 21-01-2025"
   ]
  },
  {
   "cell_type": "code",
   "execution_count": 2,
   "id": "44f88389-e910-4991-814f-0a1772d24745",
   "metadata": {},
   "outputs": [],
   "source": [
    "# https://www.scientecheasy.com/2022/10/identity-operators-in-python.html/"
   ]
  },
  {
   "cell_type": "code",
   "execution_count": 3,
   "id": "40ee243a-5215-43b8-b282-f65be59d2c44",
   "metadata": {},
   "outputs": [],
   "source": [
    "# Identity operator"
   ]
  },
  {
   "cell_type": "code",
   "execution_count": 4,
   "id": "b6789888-af87-4e42-9b82-b8b08441908e",
   "metadata": {},
   "outputs": [],
   "source": [
    "# Identity Is operator (is)."
   ]
  },
  {
   "cell_type": "code",
   "execution_count": 5,
   "id": "d4995c96-a67c-46b0-a3f6-8460be0f24da",
   "metadata": {},
   "outputs": [],
   "source": [
    "def identity_operator(list1, list2):\n",
    "    if list1 is list2:\n",
    "        print(\"Both lists are same\")\n",
    "    else:\n",
    "        print(\"Both lists are not same\")"
   ]
  },
  {
   "cell_type": "code",
   "execution_count": 7,
   "id": "48826676-71a3-4aaa-aeaf-6a1965459851",
   "metadata": {},
   "outputs": [],
   "source": [
    "l1 = [1, 2, 3]\n",
    "l2 = [6, 4, 5]"
   ]
  },
  {
   "cell_type": "code",
   "execution_count": 8,
   "id": "e04d4b42-6261-4d03-9447-7715ed7a3b66",
   "metadata": {},
   "outputs": [
    {
     "name": "stdout",
     "output_type": "stream",
     "text": [
      "Both lists are not same\n"
     ]
    }
   ],
   "source": [
    "identity_operator(l1, l2)"
   ]
  },
  {
   "cell_type": "code",
   "execution_count": null,
   "id": "899cc934-62bb-427e-8b0e-3bdad4c858d2",
   "metadata": {},
   "outputs": [],
   "source": []
  }
 ],
 "metadata": {
  "kernelspec": {
   "display_name": "Python 3 (ipykernel)",
   "language": "python",
   "name": "python3"
  },
  "language_info": {
   "codemirror_mode": {
    "name": "ipython",
    "version": 3
   },
   "file_extension": ".py",
   "mimetype": "text/x-python",
   "name": "python",
   "nbconvert_exporter": "python",
   "pygments_lexer": "ipython3",
   "version": "3.12.7"
  }
 },
 "nbformat": 4,
 "nbformat_minor": 5
}
