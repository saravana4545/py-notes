{
 "cells": [
  {
   "cell_type": "code",
   "execution_count": null,
   "id": "5798fc16-2936-4692-9845-b73ba1cb97a5",
   "metadata": {},
   "outputs": [],
   "source": [
    "#Find max and min num in a list of numbers"
   ]
  },
  {
   "cell_type": "code",
   "execution_count": null,
   "id": "2739138a-d505-4b7a-bb9d-504cef2a814a",
   "metadata": {},
   "outputs": [],
   "source": [
    "#create a list"
   ]
  },
  {
   "cell_type": "code",
   "execution_count": 1,
   "id": "23d9f260-39c6-4bfb-9f5d-3d5172a8fdad",
   "metadata": {},
   "outputs": [],
   "source": [
    "list = [10,20,30,40,50,60]"
   ]
  },
  {
   "cell_type": "code",
   "execution_count": null,
   "id": "fdf24c4f-92bc-4a39-b3f7-b38b1523ed65",
   "metadata": {},
   "outputs": [],
   "source": [
    "#create a variable  called find_max_min"
   ]
  },
  {
   "cell_type": "code",
   "execution_count": 7,
   "id": "9ff22eb9-0e4b-4c3d-94c0-c08d88bc868b",
   "metadata": {},
   "outputs": [],
   "source": [
    "def find_max_min(numbers):\n",
    "    max_num = max(list)\n",
    "    min_num = min(list)\n",
    "    return max_num, min_num"
   ]
  },
  {
   "cell_type": "code",
   "execution_count": null,
   "id": "e874b30e-ff8d-47e3-8637-9fa2eccfbca0",
   "metadata": {},
   "outputs": [],
   "source": [
    "#call the method and put list as perameter"
   ]
  },
  {
   "cell_type": "code",
   "execution_count": 8,
   "id": "896af623-b0ef-4d2f-86ec-c70af13ca432",
   "metadata": {},
   "outputs": [
    {
     "data": {
      "text/plain": [
       "(60, 10)"
      ]
     },
     "execution_count": 8,
     "metadata": {},
     "output_type": "execute_result"
    }
   ],
   "source": [
    "find_max_min(list)"
   ]
  },
  {
   "cell_type": "code",
   "execution_count": null,
   "id": "5131aa22-735d-4b97-b0eb-1ee8a4dd4e3a",
   "metadata": {},
   "outputs": [],
   "source": []
  }
 ],
 "metadata": {
  "kernelspec": {
   "display_name": "Python 3 (ipykernel)",
   "language": "python",
   "name": "python3"
  },
  "language_info": {
   "codemirror_mode": {
    "name": "ipython",
    "version": 3
   },
   "file_extension": ".py",
   "mimetype": "text/x-python",
   "name": "python",
   "nbconvert_exporter": "python",
   "pygments_lexer": "ipython3",
   "version": "3.12.7"
  }
 },
 "nbformat": 4,
 "nbformat_minor": 5
}
