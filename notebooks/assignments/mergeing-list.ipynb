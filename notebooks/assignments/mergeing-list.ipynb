{
 "cells": [
  {
   "cell_type": "code",
   "execution_count": null,
   "id": "2a3e73b0-4109-466c-9e62-57e77d94d4ca",
   "metadata": {},
   "outputs": [],
   "source": [
    "# created at: 08-01-2025 "
   ]
  },
  {
   "cell_type": "code",
   "execution_count": null,
   "id": "c85eaeb6-473d-4c8f-a0a9-cbd910b729bd",
   "metadata": {},
   "outputs": [],
   "source": [
    "# merge two list using method."
   ]
  },
  {
   "cell_type": "code",
   "execution_count": 8,
   "id": "d92d2481-ef86-4426-a363-8beed552f718",
   "metadata": {},
   "outputs": [],
   "source": [
    "def get_merged_list(list1, list2):\n",
    "    non_duplicates = []\n",
    "    merged_list = list1 + list2\n",
    "    for x in merged_list:\n",
    "        if x not in non_duplicates:\n",
    "            non_duplicates.append(x)\n",
    "    return non_duplicates"
   ]
  },
  {
   "cell_type": "code",
   "execution_count": 9,
   "id": "c6226511-d349-42b5-aab6-9d012548fd48",
   "metadata": {},
   "outputs": [],
   "source": [
    "# create lists in method."
   ]
  },
  {
   "cell_type": "code",
   "execution_count": 14,
   "id": "a75c5aa9-257f-488a-b216-645c0b08cf5e",
   "metadata": {},
   "outputs": [],
   "source": [
    "def lists():\n",
    "    list1 = [\n",
    "        \"jupiter\",\n",
    "        \"prakash\",\n",
    "        \"ram\",\n",
    "        \"raju\",\n",
    "        \"bruno\",\n",
    "        2.3\n",
    "    ]\n",
    "    list2 = [\n",
    "        2.3,\n",
    "        \"jupiter\",\n",
    "        \"mars\",\n",
    "        \"mercury\",\n",
    "        \"venus\",\n",
    "        134340,\n",
    "        \"saturn\"\n",
    "    ]\n",
    "    combined_list = get_merged_list(list1, list2)   \n",
    "    print(combined_list)"
   ]
  },
  {
   "cell_type": "code",
   "execution_count": null,
   "id": "26f404a4-e106-4b76-9de1-26779c110350",
   "metadata": {},
   "outputs": [],
   "source": [
    "# call the method here..."
   ]
  },
  {
   "cell_type": "code",
   "execution_count": 15,
   "id": "adfbefb5-61dc-4571-8681-d480255aedc5",
   "metadata": {},
   "outputs": [
    {
     "name": "stdout",
     "output_type": "stream",
     "text": [
      "['jupiter', 'prakash', 'ram', 'raju', 'bruno', 2.3, 'mars', 'mercury', 'venus', 134340, 'saturn']\n"
     ]
    }
   ],
   "source": [
    "lists()"
   ]
  },
  {
   "cell_type": "code",
   "execution_count": null,
   "id": "0f3e75e0-b2d9-4436-a162-d80884f372e0",
   "metadata": {},
   "outputs": [],
   "source": []
  }
 ],
 "metadata": {
  "kernelspec": {
   "display_name": "Python 3 (ipykernel)",
   "language": "python",
   "name": "python3"
  },
  "language_info": {
   "codemirror_mode": {
    "name": "ipython",
    "version": 3
   },
   "file_extension": ".py",
   "mimetype": "text/x-python",
   "name": "python",
   "nbconvert_exporter": "python",
   "pygments_lexer": "ipython3",
   "version": "3.12.7"
  }
 },
 "nbformat": 4,
 "nbformat_minor": 5
}
