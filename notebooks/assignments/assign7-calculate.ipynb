{
 "cells": [
  {
   "cell_type": "code",
   "execution_count": 3,
   "id": "abd4db6d-8b12-4c72-b6cf-06706b9bc095",
   "metadata": {},
   "outputs": [],
   "source": [
    "#Calculates the sum of its digits.Prints the result."
   ]
  },
  {
   "cell_type": "code",
   "execution_count": null,
   "id": "0d316eff-ec2a-4286-8b4a-95e556968132",
   "metadata": {},
   "outputs": [],
   "source": [
    "#create method called sum_of_digits()"
   ]
  },
  {
   "cell_type": "code",
   "execution_count": 4,
   "id": "bcfff64f-aa79-4211-825b-1818c6685353",
   "metadata": {},
   "outputs": [],
   "source": [
    "def sum_of_digits(num):\n",
    "    digit_sum = 0\n",
    "    while num > 0:\n",
    "        digit_sum += num % 10\n",
    "        num //= 10\n",
    "    return digit_sum"
   ]
  },
  {
   "cell_type": "code",
   "execution_count": null,
   "id": "f4f23504-d5fb-4f60-90f8-cb7114f9a319",
   "metadata": {},
   "outputs": [],
   "source": [
    "#create a variable and put the value for num"
   ]
  },
  {
   "cell_type": "code",
   "execution_count": 5,
   "id": "8f9aebb3-3d36-4af3-98a0-e453f1be06f9",
   "metadata": {},
   "outputs": [
    {
     "name": "stdout",
     "output_type": "stream",
     "text": [
      "18\n"
     ]
    }
   ],
   "source": [
    "list = 4545\n",
    "print(sum_of_digits(list)) "
   ]
  },
  {
   "cell_type": "code",
   "execution_count": null,
   "id": "11e1e3a1-7db1-4817-a0b3-33b58c0c5fe4",
   "metadata": {},
   "outputs": [],
   "source": []
  }
 ],
 "metadata": {
  "kernelspec": {
   "display_name": "Python 3 (ipykernel)",
   "language": "python",
   "name": "python3"
  },
  "language_info": {
   "codemirror_mode": {
    "name": "ipython",
    "version": 3
   },
   "file_extension": ".py",
   "mimetype": "text/x-python",
   "name": "python",
   "nbconvert_exporter": "python",
   "pygments_lexer": "ipython3",
   "version": "3.12.7"
  }
 },
 "nbformat": 4,
 "nbformat_minor": 5
}
