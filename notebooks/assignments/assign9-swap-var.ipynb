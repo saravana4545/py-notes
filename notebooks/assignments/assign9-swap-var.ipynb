{
 "cells": [
  {
   "cell_type": "code",
   "execution_count": 1,
   "id": "ca120806-b96a-4c31-b3f6-3be022d568e2",
   "metadata": {},
   "outputs": [],
   "source": [
    "#Swaps their values without using a third variable.Prints the swapped values."
   ]
  },
  {
   "cell_type": "code",
   "execution_count": null,
   "id": "0abe3616-a5ac-4123-964d-f50b4245de26",
   "metadata": {},
   "outputs": [],
   "source": [
    "#create a method called swap()"
   ]
  },
  {
   "cell_type": "code",
   "execution_count": 13,
   "id": "1cf3241c-7491-4218-abba-b364829abe62",
   "metadata": {},
   "outputs": [],
   "source": [
    "def swap(a,b):\n",
    "    a = a+b\n",
    "    b = a-b\n",
    "    a = a-b\n",
    "    return f\"After swap a={a},b={b}\""
   ]
  },
  {
   "cell_type": "code",
   "execution_count": null,
   "id": "cb26d526-5fc4-46cb-911b-3e5d8d333f9d",
   "metadata": {},
   "outputs": [],
   "source": [
    "#call the method into the print func"
   ]
  },
  {
   "cell_type": "code",
   "execution_count": 14,
   "id": "92675a11-fa76-44a1-b066-9f763fc79246",
   "metadata": {},
   "outputs": [
    {
     "name": "stdout",
     "output_type": "stream",
     "text": [
      "After swap a=45,b=25\n"
     ]
    }
   ],
   "source": [
    "print(swap(25,45))"
   ]
  },
  {
   "cell_type": "code",
   "execution_count": null,
   "id": "ba6b46e8-9e4d-4ff6-9630-5a246546d3fa",
   "metadata": {},
   "outputs": [],
   "source": []
  }
 ],
 "metadata": {
  "kernelspec": {
   "display_name": "Python 3 (ipykernel)",
   "language": "python",
   "name": "python3"
  },
  "language_info": {
   "codemirror_mode": {
    "name": "ipython",
    "version": 3
   },
   "file_extension": ".py",
   "mimetype": "text/x-python",
   "name": "python",
   "nbconvert_exporter": "python",
   "pygments_lexer": "ipython3",
   "version": "3.12.7"
  }
 },
 "nbformat": 4,
 "nbformat_minor": 5
}
