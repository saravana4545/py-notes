{
 "cells": [
  {
   "cell_type": "code",
   "execution_count": 1,
   "id": "1e6dad51-dc1d-49d1-bbe4-1a51f6304415",
   "metadata": {},
   "outputs": [],
   "source": [
    "#Checks if the number is a prime number.\n",
    "#Prints \"Prime\" or \"Not Prime."
   ]
  },
  {
   "cell_type": "code",
   "execution_count": 2,
   "id": "40d63106-4a2e-4ea9-b0fe-581c6d85bbb4",
   "metadata": {},
   "outputs": [],
   "source": [
    "def check_prime(num):\n",
    "    if num % 2:\n",
    "        return f\"{num} It's not a prime number\"\n",
    "    else:\n",
    "        return f\"{num} It's a prime number\""
   ]
  },
  {
   "cell_type": "code",
   "execution_count": 3,
   "id": "7ec3a816-4120-4866-b89a-56ebb0d28701",
   "metadata": {},
   "outputs": [
    {
     "name": "stdout",
     "output_type": "stream",
     "text": [
      "1 It's not a prime number\n",
      "2 It's a prime number\n",
      "3 It's not a prime number\n",
      "4 It's a prime number\n",
      "5 It's not a prime number\n",
      "6 It's a prime number\n",
      "7 It's not a prime number\n",
      "8 It's a prime number\n",
      "9 It's not a prime number\n",
      "10 It's a prime number\n"
     ]
    }
   ],
   "source": [
    "for i in range(1,11):\n",
    "    print(check_prime(i))"
   ]
  },
  {
   "cell_type": "code",
   "execution_count": null,
   "id": "457dccd6-d256-4dea-aca1-ec9867a8cae6",
   "metadata": {},
   "outputs": [],
   "source": []
  }
 ],
 "metadata": {
  "kernelspec": {
   "display_name": "Python 3 (ipykernel)",
   "language": "python",
   "name": "python3"
  },
  "language_info": {
   "codemirror_mode": {
    "name": "ipython",
    "version": 3
   },
   "file_extension": ".py",
   "mimetype": "text/x-python",
   "name": "python",
   "nbconvert_exporter": "python",
   "pygments_lexer": "ipython3",
   "version": "3.12.7"
  }
 },
 "nbformat": 4,
 "nbformat_minor": 5
}
