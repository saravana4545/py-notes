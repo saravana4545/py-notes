{
 "cells": [
  {
   "cell_type": "code",
   "execution_count": null,
   "id": "b9c93893-62c9-4e9b-aaae-05c7e3bd91f3",
   "metadata": {},
   "outputs": [],
   "source": [
    "#import neccesary libraries"
   ]
  },
  {
   "cell_type": "code",
   "execution_count": 1,
   "id": "6c16061b-98e6-4c39-a97c-29f07156ef76",
   "metadata": {},
   "outputs": [],
   "source": [
    "import os\n",
    "from flask import Flask, render_template, request\n",
    "from pymongo import MongoClient\n",
    "from dotenv import load_dotenv\n",
    "import webcolors"
   ]
  },
  {
   "cell_type": "code",
   "execution_count": null,
   "id": "58c91bc1-7f2d-412c-bce8-2ca106d72349",
   "metadata": {},
   "outputs": [],
   "source": [
    "# Load environment variables"
   ]
  },
  {
   "cell_type": "code",
   "execution_count": 2,
   "id": "78297f59-9a8f-4924-98fa-515fe2cd1f19",
   "metadata": {},
   "outputs": [
    {
     "data": {
      "text/plain": [
       "False"
      ]
     },
     "execution_count": 2,
     "metadata": {},
     "output_type": "execute_result"
    }
   ],
   "source": [
    "load_dotenv()"
   ]
  },
  {
   "cell_type": "code",
   "execution_count": null,
   "id": "0cd8cd6e-3928-470e-8973-df73aa77f2de",
   "metadata": {},
   "outputs": [],
   "source": [
    "# Initialize Flask app"
   ]
  },
  {
   "cell_type": "code",
   "execution_count": null,
   "id": "71e88a64-17c5-420f-93de-7ed5afac0b52",
   "metadata": {},
   "outputs": [],
   "source": [
    "app = Flask(__name__)"
   ]
  },
  {
   "cell_type": "code",
   "execution_count": null,
   "id": "72398fe0-78a5-4e65-8499-a42d1eb80480",
   "metadata": {},
   "outputs": [],
   "source": []
  },
  {
   "cell_type": "code",
   "execution_count": null,
   "id": "dc3092ea-6f4f-4a95-a6b6-2e3e089700cd",
   "metadata": {},
   "outputs": [],
   "source": [
    "# Connect to MongoDB"
   ]
  },
  {
   "cell_type": "code",
   "execution_count": null,
   "id": "1eac5a49-bf4f-4ca7-8731-b37642588035",
   "metadata": {},
   "outputs": [],
   "source": [
    "client     = MongoClient(os.environ[\"MONGO_URL\"])\n",
    "db         = client['DB_NAME']\n",
    "collection = db['DB_COLLECTION']"
   ]
  },
  {
   "cell_type": "code",
   "execution_count": null,
   "id": "091a0279-8b9f-4966-9ca1-b9709d6f1b4a",
   "metadata": {},
   "outputs": [],
   "source": []
  },
  {
   "cell_type": "code",
   "execution_count": null,
   "id": "e1efba70-27a8-4c5f-acd5-2dfa13f523c3",
   "metadata": {},
   "outputs": [],
   "source": [
    "#create a method and route for get the color name and it's hexadecimal_code"
   ]
  },
  {
   "cell_type": "code",
   "execution_count": null,
   "id": "860b39d8-10a5-46de-aea9-f9c65ab4b975",
   "metadata": {},
   "outputs": [],
   "source": [
    "@app.route('/', methods=['POST', 'GET'])\n",
    "def home():\n",
    "    if request.method == \"POST\":\n",
    "        colour_name = request.values.get('colour_name')\n",
    "        \n",
    "        # Check if the color name is valid\n",
    "        try:\n",
    "            hex_value = webcolors.name_to_hex(colour_name)\n",
    "\n",
    "        except ValueError:\n",
    "            return render_template(\n",
    "                'index.html',\n",
    "                error=f\"'{colour_name}' is not a name of color.\"\n",
    "            )\n",
    "\n",
    "        # Check if the color already exists in the database\n",
    "        existing_color = collection.find_one({\"colour_name\": colour_name.lower()})\n",
    "        if existing_color:\n",
    "            return render_template(\n",
    "                'index.html',\n",
    "                color=existing_color\n",
    "            )\n",
    "\n",
    "        # Add new color to the database\n",
    "        color = {\n",
    "            'colour_name': colour_name.lower(),\n",
    "            'Hexa_code': hex_value\n",
    "        }\n",
    "        collection.insert_one(color)\n",
    "        return render_template('index.html', color=color)\n",
    "\n",
    "    return render_template('index.html')"
   ]
  },
  {
   "cell_type": "code",
   "execution_count": null,
   "id": "4b0d35c2-2c1d-4c1b-b01d-689f8c46f44b",
   "metadata": {},
   "outputs": [],
   "source": [
    "#This line checks if the script is being run directly or imported"
   ]
  },
  {
   "cell_type": "code",
   "execution_count": 3,
   "id": "a23d4dea-74c7-4661-901b-6977bc332e13",
   "metadata": {},
   "outputs": [
    {
     "ename": "NameError",
     "evalue": "name 'app' is not defined",
     "output_type": "error",
     "traceback": [
      "\u001b[0;31m---------------------------------------------------------------------------\u001b[0m",
      "\u001b[0;31mNameError\u001b[0m                                 Traceback (most recent call last)",
      "Cell \u001b[0;32mIn[3], line 2\u001b[0m\n\u001b[1;32m      1\u001b[0m \u001b[38;5;28;01mif\u001b[39;00m \u001b[38;5;18m__name__\u001b[39m \u001b[38;5;241m==\u001b[39m \u001b[38;5;124m'\u001b[39m\u001b[38;5;124m__main__\u001b[39m\u001b[38;5;124m'\u001b[39m:\n\u001b[0;32m----> 2\u001b[0m     \u001b[43mapp\u001b[49m\u001b[38;5;241m.\u001b[39mrun(\n\u001b[1;32m      3\u001b[0m         debug \u001b[38;5;241m=\u001b[39m \u001b[38;5;28;01mTrue\u001b[39;00m,\n\u001b[1;32m      4\u001b[0m         port  \u001b[38;5;241m=\u001b[39m \u001b[38;5;241m4545\u001b[39m\n\u001b[1;32m      5\u001b[0m     )\n",
      "\u001b[0;31mNameError\u001b[0m: name 'app' is not defined"
     ]
    }
   ],
   "source": [
    "if __name__ == '__main__':\n",
    "    app.run(\n",
    "        debug = True,\n",
    "        port  = 4545\n",
    "    )"
   ]
  },
  {
   "cell_type": "code",
   "execution_count": null,
   "id": "90368989-1e08-4085-b298-1786560a879b",
   "metadata": {},
   "outputs": [],
   "source": []
  },
  {
   "cell_type": "code",
   "execution_count": null,
   "id": "4fa1ca98-e8fb-4b16-92fa-9ced018885e9",
   "metadata": {},
   "outputs": [],
   "source": []
  }
 ],
 "metadata": {
  "kernelspec": {
   "display_name": "Python 3 (ipykernel)",
   "language": "python",
   "name": "python3"
  },
  "language_info": {
   "codemirror_mode": {
    "name": "ipython",
    "version": 3
   },
   "file_extension": ".py",
   "mimetype": "text/x-python",
   "name": "python",
   "nbconvert_exporter": "python",
   "pygments_lexer": "ipython3",
   "version": "3.12.7"
  }
 },
 "nbformat": 4,
 "nbformat_minor": 5
}
