{
 "cells": [
  {
   "cell_type": "code",
   "execution_count": null,
   "id": "df02847c-d65d-43a2-afb0-296607ba3aa8",
   "metadata": {},
   "outputs": [],
   "source": [
    "#Reverse the given list"
   ]
  },
  {
   "cell_type": "code",
   "execution_count": null,
   "id": "7f8bf15f-f117-4d1f-8ce0-b442148e5914",
   "metadata": {},
   "outputs": [],
   "source": [
    "#create a method called reverse()"
   ]
  },
  {
   "cell_type": "code",
   "execution_count": 2,
   "id": "12ad6f25-291d-4f6a-8be5-e5395c9208b6",
   "metadata": {},
   "outputs": [],
   "source": [
    "def reverse():\n",
    "    list = \"Hello World!\"\n",
    "    rev_str = list[::-1]\n",
    "    return rev_str"
   ]
  },
  {
   "cell_type": "code",
   "execution_count": null,
   "id": "e641f162-1e51-4b3c-b810-55db38789551",
   "metadata": {},
   "outputs": [],
   "source": [
    "#And call the method"
   ]
  },
  {
   "cell_type": "code",
   "execution_count": 3,
   "id": "49c8c130-4d75-4337-93a7-bbcd759716da",
   "metadata": {},
   "outputs": [
    {
     "data": {
      "text/plain": [
       "'!dlroW olleH'"
      ]
     },
     "execution_count": 3,
     "metadata": {},
     "output_type": "execute_result"
    }
   ],
   "source": [
    "reverse()"
   ]
  },
  {
   "cell_type": "code",
   "execution_count": null,
   "id": "b891749c-0081-4216-85c2-9531f6744a29",
   "metadata": {},
   "outputs": [],
   "source": []
  }
 ],
 "metadata": {
  "kernelspec": {
   "display_name": "Python 3 (ipykernel)",
   "language": "python",
   "name": "python3"
  },
  "language_info": {
   "codemirror_mode": {
    "name": "ipython",
    "version": 3
   },
   "file_extension": ".py",
   "mimetype": "text/x-python",
   "name": "python",
   "nbconvert_exporter": "python",
   "pygments_lexer": "ipython3",
   "version": "3.12.7"
  }
 },
 "nbformat": 4,
 "nbformat_minor": 5
}
