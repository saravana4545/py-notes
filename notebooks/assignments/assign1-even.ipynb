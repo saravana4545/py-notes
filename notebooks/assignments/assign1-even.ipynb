{
 "cells": [
  {
   "cell_type": "code",
   "execution_count": null,
   "id": "9f8e9e2e-88cc-470f-9cb4-01cf8f198477",
   "metadata": {},
   "outputs": [],
   "source": [
    "#find even or odd"
   ]
  },
  {
   "cell_type": "code",
   "execution_count": null,
   "id": "3a54e6d5-b086-4954-addd-9630b9d71d83",
   "metadata": {},
   "outputs": [],
   "source": [
    "#create a method called even_or_odd"
   ]
  },
  {
   "cell_type": "code",
   "execution_count": 18,
   "id": "76cc0de5-23f4-462f-9b03-460e19ff26cf",
   "metadata": {},
   "outputs": [],
   "source": [
    "def even_or_odd(num):\n",
    "    if num%2:\n",
    "        return f\"{num} It's a odd number...\"\n",
    "    else:\n",
    "        return f\"{num} It's a even number...\""
   ]
  },
  {
   "cell_type": "code",
   "execution_count": null,
   "id": "e93c9398-1ada-4eb7-b07a-51db4643e497",
   "metadata": {},
   "outputs": [],
   "source": [
    "#put tje range for it and print"
   ]
  },
  {
   "cell_type": "code",
   "execution_count": 19,
   "id": "3d37c503-3747-4204-8749-1244a5dc101e",
   "metadata": {},
   "outputs": [
    {
     "name": "stdout",
     "output_type": "stream",
     "text": [
      "0 It's a even number...\n",
      "1 It's a odd number...\n",
      "2 It's a even number...\n",
      "3 It's a odd number...\n",
      "4 It's a even number...\n",
      "5 It's a odd number...\n",
      "6 It's a even number...\n",
      "7 It's a odd number...\n",
      "8 It's a even number...\n",
      "9 It's a odd number...\n"
     ]
    }
   ],
   "source": [
    "for i in range(10):\n",
    "    print(even_or_odd(i))"
   ]
  },
  {
   "cell_type": "code",
   "execution_count": null,
   "id": "a659b261-1984-4d86-be96-51db23b4cfbe",
   "metadata": {},
   "outputs": [],
   "source": []
  }
 ],
 "metadata": {
  "kernelspec": {
   "display_name": "Python 3 (ipykernel)",
   "language": "python",
   "name": "python3"
  },
  "language_info": {
   "codemirror_mode": {
    "name": "ipython",
    "version": 3
   },
   "file_extension": ".py",
   "mimetype": "text/x-python",
   "name": "python",
   "nbconvert_exporter": "python",
   "pygments_lexer": "ipython3",
   "version": "3.12.7"
  }
 },
 "nbformat": 4,
 "nbformat_minor": 5
}
