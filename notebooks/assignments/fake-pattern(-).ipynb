{
 "cells": [
  {
   "cell_type": "code",
   "execution_count": 1,
   "id": "376f6e59-ada1-48da-8b0d-2ceae072f7f7",
   "metadata": {},
   "outputs": [],
   "source": [
    "from faker import Faker"
   ]
  },
  {
   "cell_type": "code",
   "execution_count": 2,
   "id": "6bac3bc6-44f0-4243-8b67-193f6e80fd30",
   "metadata": {},
   "outputs": [],
   "source": [
    "fake = Faker()"
   ]
  },
  {
   "cell_type": "code",
   "execution_count": 6,
   "id": "27f37724-962e-4c5b-bbff-ef7055c35020",
   "metadata": {},
   "outputs": [],
   "source": [
    "def address_pat():\n",
    "    fak_address = fake.address()\n",
    "    address = fak_address.replace(\" \", \"-\")\n",
    "    return address"
   ]
  },
  {
   "cell_type": "code",
   "execution_count": 7,
   "id": "19af7564-52ac-443a-9529-4c8ad9cab41f",
   "metadata": {},
   "outputs": [
    {
     "name": "stdout",
     "output_type": "stream",
     "text": [
      "881-Cynthia-Summit\n",
      "Port-Paulabury,-OR-66193\n",
      "34627-Thompson-Glen-Suite-767\n",
      "Hayleystad,-ND-50275\n"
     ]
    }
   ],
   "source": [
    "for _ in range(2):\n",
    "    print(address_pat())"
   ]
  },
  {
   "cell_type": "code",
   "execution_count": null,
   "id": "3b5bdfec-c1b9-491c-8238-33cd44194441",
   "metadata": {},
   "outputs": [],
   "source": []
  }
 ],
 "metadata": {
  "kernelspec": {
   "display_name": "Python 3 (ipykernel)",
   "language": "python",
   "name": "python3"
  },
  "language_info": {
   "codemirror_mode": {
    "name": "ipython",
    "version": 3
   },
   "file_extension": ".py",
   "mimetype": "text/x-python",
   "name": "python",
   "nbconvert_exporter": "python",
   "pygments_lexer": "ipython3",
   "version": "3.12.7"
  }
 },
 "nbformat": 4,
 "nbformat_minor": 5
}
