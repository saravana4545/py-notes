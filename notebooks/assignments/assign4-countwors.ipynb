{
 "cells": [
  {
   "cell_type": "code",
   "execution_count": null,
   "id": "60b18111-8436-4136-98b7-182238785d9e",
   "metadata": {},
   "outputs": [],
   "source": [
    "#count the words"
   ]
  },
  {
   "cell_type": "code",
   "execution_count": null,
   "id": "aa3910ce-f25f-4c2b-bcfd-639e299331e5",
   "metadata": {},
   "outputs": [],
   "source": [
    "#create a method called count_words"
   ]
  },
  {
   "cell_type": "code",
   "execution_count": 6,
   "id": "ba32712f-9159-4761-9288-dde2f61c2856",
   "metadata": {},
   "outputs": [],
   "source": [
    "def count_words(sentences):\n",
    "    words = sentences.split(\" \")\n",
    "    return len(words)"
   ]
  },
  {
   "cell_type": "code",
   "execution_count": null,
   "id": "0a3a8097-2470-4e67-bf55-4643490dc718",
   "metadata": {},
   "outputs": [],
   "source": [
    "#call the method and set perameter for sentences"
   ]
  },
  {
   "cell_type": "code",
   "execution_count": 7,
   "id": "2b34793f-3547-4007-8338-00313f06b905",
   "metadata": {},
   "outputs": [
    {
     "data": {
      "text/plain": [
       "4"
      ]
     },
     "execution_count": 7,
     "metadata": {},
     "output_type": "execute_result"
    }
   ],
   "source": [
    "count_words(\"My Name Is Saravana\")"
   ]
  },
  {
   "cell_type": "code",
   "execution_count": null,
   "id": "e6489bd9-e5d6-475c-b1ea-cf757a8671c3",
   "metadata": {},
   "outputs": [],
   "source": []
  }
 ],
 "metadata": {
  "kernelspec": {
   "display_name": "Python 3 (ipykernel)",
   "language": "python",
   "name": "python3"
  },
  "language_info": {
   "codemirror_mode": {
    "name": "ipython",
    "version": 3
   },
   "file_extension": ".py",
   "mimetype": "text/x-python",
   "name": "python",
   "nbconvert_exporter": "python",
   "pygments_lexer": "ipython3",
   "version": "3.12.7"
  }
 },
 "nbformat": 4,
 "nbformat_minor": 5
}
