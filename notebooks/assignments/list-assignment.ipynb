{
 "cells": [
  {
   "cell_type": "code",
   "execution_count": 25,
   "id": "33f1af0e-b4c4-4fc1-a186-8047a113a571",
   "metadata": {},
   "outputs": [],
   "source": [
    "# Input 5 integers\n",
    "numbers = []"
   ]
  },
  {
   "cell_type": "code",
   "execution_count": 26,
   "id": "767e3194-7d89-43a6-b485-8aaa985aedb0",
   "metadata": {},
   "outputs": [
    {
     "name": "stdin",
     "output_type": "stream",
     "text": [
      "Enter number 1:  45\n",
      "Enter number 2:  24\n",
      "Enter number 3:  52\n",
      "Enter number 4:  42\n",
      "Enter number 5:  10\n"
     ]
    }
   ],
   "source": [
    "for i in range(5):\n",
    "    num = int(input(f\"Enter number {i + 1}: \"))\n",
    "    numbers.append(num)"
   ]
  },
  {
   "cell_type": "code",
   "execution_count": 27,
   "id": "629e2718-b85b-4019-8484-5ddce5688841",
   "metadata": {},
   "outputs": [],
   "source": [
    "# Calculate sum and average"
   ]
  },
  {
   "cell_type": "code",
   "execution_count": 28,
   "id": "7e378d7d-dd02-4a46-9e67-ca8ae5928419",
   "metadata": {},
   "outputs": [],
   "source": [
    "total_sum = sum(numbers)\n",
    "average = total_sum / len(numbers)"
   ]
  },
  {
   "cell_type": "code",
   "execution_count": 29,
   "id": "bead23f1-01b9-4777-9c30-97f9df5bebcb",
   "metadata": {},
   "outputs": [],
   "source": [
    "# Display results"
   ]
  },
  {
   "cell_type": "code",
   "execution_count": 30,
   "id": "6d26cb11-8776-4f24-8d96-833a8aea080d",
   "metadata": {},
   "outputs": [
    {
     "name": "stdout",
     "output_type": "stream",
     "text": [
      "\n",
      "Numbers entered: [45, 24, 52, 42, 10]\n"
     ]
    }
   ],
   "source": [
    "print(\"\\nNumbers entered:\", numbers)"
   ]
  },
  {
   "cell_type": "code",
   "execution_count": 31,
   "id": "cdcb26d3-6efe-47c9-bf67-7f794b8c7c23",
   "metadata": {},
   "outputs": [
    {
     "name": "stdout",
     "output_type": "stream",
     "text": [
      "Sum: 173\n"
     ]
    }
   ],
   "source": [
    "print(\"Sum:\", total_sum)"
   ]
  },
  {
   "cell_type": "code",
   "execution_count": 32,
   "id": "09dfc5da-b3d9-4cb6-aa6d-2b1226c4b19c",
   "metadata": {},
   "outputs": [
    {
     "name": "stdout",
     "output_type": "stream",
     "text": [
      "Average: 34.6\n"
     ]
    }
   ],
   "source": [
    "print(\"Average:\", average)"
   ]
  },
  {
   "cell_type": "code",
   "execution_count": null,
   "id": "3885a123-c949-41ab-bbdb-96e6315f0e2c",
   "metadata": {},
   "outputs": [],
   "source": []
  }
 ],
 "metadata": {
  "kernelspec": {
   "display_name": "Python 3 (ipykernel)",
   "language": "python",
   "name": "python3"
  },
  "language_info": {
   "codemirror_mode": {
    "name": "ipython",
    "version": 3
   },
   "file_extension": ".py",
   "mimetype": "text/x-python",
   "name": "python",
   "nbconvert_exporter": "python",
   "pygments_lexer": "ipython3",
   "version": "3.12.7"
  }
 },
 "nbformat": 4,
 "nbformat_minor": 5
}
