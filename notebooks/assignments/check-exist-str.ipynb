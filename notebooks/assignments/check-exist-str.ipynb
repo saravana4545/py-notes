{
 "cells": [
  {
   "cell_type": "code",
   "execution_count": 1,
   "id": "6a331806-a5f3-420f-ac7e-6fdefff41278",
   "metadata": {},
   "outputs": [],
   "source": [
    "# Define the list"
   ]
  },
  {
   "cell_type": "code",
   "execution_count": 5,
   "id": "8fd357fb-b74d-4e5d-bbbc-4372dc1031ea",
   "metadata": {},
   "outputs": [],
   "source": [
    "my_list = [\"apple\", \"banana\", \"cherry\", \"date\", \"elderberry\"]"
   ]
  },
  {
   "cell_type": "code",
   "execution_count": 6,
   "id": "6ec68071-596a-4f28-b1bd-f9f4cd60f087",
   "metadata": {},
   "outputs": [],
   "source": [
    "# Input the string to search"
   ]
  },
  {
   "cell_type": "code",
   "execution_count": 7,
   "id": "d1246d32-43f4-4890-a5a4-1d50f68701fd",
   "metadata": {},
   "outputs": [],
   "source": [
    "search_string = \"banana\""
   ]
  },
  {
   "cell_type": "code",
   "execution_count": 8,
   "id": "23a38fef-68a2-474b-b3ff-5bf5611e5770",
   "metadata": {},
   "outputs": [],
   "source": [
    "# Check if the string exists in the list"
   ]
  },
  {
   "cell_type": "code",
   "execution_count": 9,
   "id": "a81a9cfd-d783-4f25-982e-c97ed9f9ce2c",
   "metadata": {},
   "outputs": [
    {
     "name": "stdout",
     "output_type": "stream",
     "text": [
      "'banana' exists in the list!\n"
     ]
    }
   ],
   "source": [
    "if search_string in my_list:\n",
    "    print(f\"'{search_string}' exists in the list!\")\n",
    "else:\n",
    "    print(f\"'{search_string}' does not exist in the list.\")"
   ]
  },
  {
   "cell_type": "code",
   "execution_count": null,
   "id": "69cfd684-e667-4b6c-bf3c-d77cd877e6f7",
   "metadata": {},
   "outputs": [],
   "source": []
  }
 ],
 "metadata": {
  "kernelspec": {
   "display_name": "Python 3 (ipykernel)",
   "language": "python",
   "name": "python3"
  },
  "language_info": {
   "codemirror_mode": {
    "name": "ipython",
    "version": 3
   },
   "file_extension": ".py",
   "mimetype": "text/x-python",
   "name": "python",
   "nbconvert_exporter": "python",
   "pygments_lexer": "ipython3",
   "version": "3.12.7"
  }
 },
 "nbformat": 4,
 "nbformat_minor": 5
}
