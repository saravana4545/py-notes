{
 "cells": [
  {
   "cell_type": "code",
   "execution_count": 1,
   "id": "a8f63f55-6184-4ae8-8d44-983820837eb8",
   "metadata": {},
   "outputs": [],
   "source": [
    "#Takes a number Checks if it is divisible by both 5 and 3.\n",
    "#Prints \"Divisible by both\" or \"Not divisible by both.\""
   ]
  },
  {
   "cell_type": "code",
   "execution_count": 16,
   "id": "55580c9e-e811-49f8-aab6-6ae34973aca5",
   "metadata": {},
   "outputs": [],
   "source": [
    "def check(num):\n",
    "    if (num%5==0 and num%3==0):\n",
    "        return (f\"{num} is divisible by both 5 and 3\")\n",
    "    return (f\"{num} is not divisible by both 5 and 3\")"
   ]
  },
  {
   "cell_type": "code",
   "execution_count": 18,
   "id": "a07351fe-c26a-4b36-975d-a86a7de4b702",
   "metadata": {},
   "outputs": [
    {
     "name": "stdout",
     "output_type": "stream",
     "text": [
      "10 is not divisible by both 5 and 3\n",
      "11 is not divisible by both 5 and 3\n",
      "12 is not divisible by both 5 and 3\n",
      "13 is not divisible by both 5 and 3\n",
      "14 is not divisible by both 5 and 3\n",
      "15 is divisible by both 5 and 3\n",
      "16 is not divisible by both 5 and 3\n",
      "17 is not divisible by both 5 and 3\n",
      "18 is not divisible by both 5 and 3\n",
      "19 is not divisible by both 5 and 3\n",
      "20 is not divisible by both 5 and 3\n",
      "21 is not divisible by both 5 and 3\n",
      "22 is not divisible by both 5 and 3\n",
      "23 is not divisible by both 5 and 3\n",
      "24 is not divisible by both 5 and 3\n",
      "25 is not divisible by both 5 and 3\n",
      "26 is not divisible by both 5 and 3\n",
      "27 is not divisible by both 5 and 3\n",
      "28 is not divisible by both 5 and 3\n",
      "29 is not divisible by both 5 and 3\n",
      "30 is divisible by both 5 and 3\n"
     ]
    }
   ],
   "source": [
    "for i in range(10,31):\n",
    "    print(check(i))"
   ]
  },
  {
   "cell_type": "code",
   "execution_count": null,
   "id": "8255f920-0449-4a70-8d68-8a5bbb4cb1a7",
   "metadata": {},
   "outputs": [],
   "source": []
  }
 ],
 "metadata": {
  "kernelspec": {
   "display_name": "Python 3 (ipykernel)",
   "language": "python",
   "name": "python3"
  },
  "language_info": {
   "codemirror_mode": {
    "name": "ipython",
    "version": 3
   },
   "file_extension": ".py",
   "mimetype": "text/x-python",
   "name": "python",
   "nbconvert_exporter": "python",
   "pygments_lexer": "ipython3",
   "version": "3.12.7"
  }
 },
 "nbformat": 4,
 "nbformat_minor": 5
}
