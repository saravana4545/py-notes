{
 "cells": [
  {
   "cell_type": "code",
   "execution_count": 1,
   "id": "5b75ce6a-0929-4056-aee7-2c3ffe69e13c",
   "metadata": {},
   "outputs": [],
   "source": [
    "#Finds and prints the smallest and largest numbers in the list."
   ]
  },
  {
   "cell_type": "code",
   "execution_count": null,
   "id": "1b9f2541-dfb0-4c4e-a157-6bf5c3ede0b1",
   "metadata": {},
   "outputs": [],
   "source": [
    "#create a method called large_and_small_nums()"
   ]
  },
  {
   "cell_type": "code",
   "execution_count": 4,
   "id": "0079b538-6bd5-46bc-aae1-9785ada51a98",
   "metadata": {},
   "outputs": [],
   "source": [
    "def large_and_small_nums(num):\n",
    "    max_num = max(num)\n",
    "    min_num = min(num)\n",
    "    return max_num, min_num"
   ]
  },
  {
   "cell_type": "code",
   "execution_count": null,
   "id": "a1659693-420b-4ab8-a4c1-92e75ad81c69",
   "metadata": {},
   "outputs": [],
   "source": [
    "#create a variable and put the value for num"
   ]
  },
  {
   "cell_type": "code",
   "execution_count": 7,
   "id": "c464e7eb-da98-499b-8e28-e23fdf31685a",
   "metadata": {},
   "outputs": [
    {
     "data": {
      "text/plain": [
       "(50, 10)"
      ]
     },
     "execution_count": 7,
     "metadata": {},
     "output_type": "execute_result"
    }
   ],
   "source": [
    "list = (10,25,45,50,24)\n",
    "large_and_small_nums(list)"
   ]
  },
  {
   "cell_type": "code",
   "execution_count": null,
   "id": "b078ec83-a4f5-48e1-b1c8-559caa9797aa",
   "metadata": {},
   "outputs": [],
   "source": []
  }
 ],
 "metadata": {
  "kernelspec": {
   "display_name": "Python 3 (ipykernel)",
   "language": "python",
   "name": "python3"
  },
  "language_info": {
   "codemirror_mode": {
    "name": "ipython",
    "version": 3
   },
   "file_extension": ".py",
   "mimetype": "text/x-python",
   "name": "python",
   "nbconvert_exporter": "python",
   "pygments_lexer": "ipython3",
   "version": "3.12.7"
  }
 },
 "nbformat": 4,
 "nbformat_minor": 5
}
