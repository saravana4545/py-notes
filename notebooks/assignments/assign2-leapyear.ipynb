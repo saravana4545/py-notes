{
 "cells": [
  {
   "cell_type": "code",
   "execution_count": 7,
   "id": "3e9acbca-dce4-458d-8c5d-aa56e8e2befb",
   "metadata": {},
   "outputs": [],
   "source": [
    "def leap_year(year):\n",
    "    if (year % 4 == 0 and year % 100 != 0):\n",
    "        return f\"{year} is a leap year.\"\n",
    "    else:\n",
    "        return f\"{year} is not a leap year.\""
   ]
  },
  {
   "cell_type": "code",
   "execution_count": 11,
   "id": "95f22966-0ae7-4807-b233-46837313352c",
   "metadata": {},
   "outputs": [
    {
     "name": "stdout",
     "output_type": "stream",
     "text": [
      "2020 is a leap year.\n",
      "2021 is not a leap year.\n",
      "2022 is not a leap year.\n",
      "2023 is not a leap year.\n",
      "2024 is a leap year.\n"
     ]
    }
   ],
   "source": [
    "for i in range (2020,2025):\n",
    "    print(leap_year(i))"
   ]
  },
  {
   "cell_type": "code",
   "execution_count": null,
   "id": "7a8b63e0-cf0c-459d-9ba6-0f3097fe2495",
   "metadata": {},
   "outputs": [],
   "source": []
  }
 ],
 "metadata": {
  "kernelspec": {
   "display_name": "Python 3 (ipykernel)",
   "language": "python",
   "name": "python3"
  },
  "language_info": {
   "codemirror_mode": {
    "name": "ipython",
    "version": 3
   },
   "file_extension": ".py",
   "mimetype": "text/x-python",
   "name": "python",
   "nbconvert_exporter": "python",
   "pygments_lexer": "ipython3",
   "version": "3.12.7"
  }
 },
 "nbformat": 4,
 "nbformat_minor": 5
}
