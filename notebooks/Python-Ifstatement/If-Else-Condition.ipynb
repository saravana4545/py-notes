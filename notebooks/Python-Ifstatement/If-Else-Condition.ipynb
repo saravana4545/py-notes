{
 "cells": [
  {
   "cell_type": "code",
   "execution_count": 1,
   "id": "ebe36a3a-9de3-428a-9885-6043b1bb0260",
   "metadata": {},
   "outputs": [],
   "source": [
    "# Created at 27-01-2025"
   ]
  },
  {
   "cell_type": "code",
   "execution_count": 2,
   "id": "5264ab39-0284-49aa-958e-2483428a31d7",
   "metadata": {},
   "outputs": [],
   "source": [
    "# https://www.scientecheasy.com/2022/10/if-else-in-python.html/"
   ]
  },
  {
   "cell_type": "code",
   "execution_count": 3,
   "id": "b1bf6e58-c678-4019-8b67-fbdd55c224c8",
   "metadata": {},
   "outputs": [],
   "source": [
    "# If Else Condition"
   ]
  },
  {
   "cell_type": "code",
   "execution_count": 4,
   "id": "5ee1b6ce-2ed6-4e7f-8a6c-624b51dd755c",
   "metadata": {},
   "outputs": [],
   "source": [
    "number = 10"
   ]
  },
  {
   "cell_type": "code",
   "execution_count": 5,
   "id": "058ea580-608a-46af-9b3c-5c27aa61a3b4",
   "metadata": {},
   "outputs": [
    {
     "name": "stdout",
     "output_type": "stream",
     "text": [
      "The number is positive.\n"
     ]
    }
   ],
   "source": [
    "if number > 0:\n",
    "    print(\"The number is positive.\")\n",
    "else:\n",
    "    print(\"The number is not positive.\")"
   ]
  },
  {
   "cell_type": "code",
   "execution_count": null,
   "id": "d4e4a5b8-9919-49d1-857d-6d1d33630f19",
   "metadata": {},
   "outputs": [],
   "source": []
  },
  {
   "cell_type": "code",
   "execution_count": 6,
   "id": "4b8a9979-98b3-4c27-b746-3575bdabb284",
   "metadata": {},
   "outputs": [],
   "source": [
    "# Example 2"
   ]
  },
  {
   "cell_type": "code",
   "execution_count": 8,
   "id": "c8615b61-cc0b-4d33-a020-67418abf35d2",
   "metadata": {},
   "outputs": [],
   "source": [
    "age = 22"
   ]
  },
  {
   "cell_type": "code",
   "execution_count": 9,
   "id": "4c56f329-1ecb-410b-bb17-108d3d8594b5",
   "metadata": {},
   "outputs": [
    {
     "name": "stdout",
     "output_type": "stream",
     "text": [
      "You are an adult...\n"
     ]
    }
   ],
   "source": [
    "if age > 18:\n",
    "    print(\"You are an adult...\")\n",
    "else:\n",
    "    print(\"You are child...\")"
   ]
  },
  {
   "cell_type": "code",
   "execution_count": null,
   "id": "c44535ac-3173-451f-810f-119ad93501b0",
   "metadata": {},
   "outputs": [],
   "source": []
  }
 ],
 "metadata": {
  "kernelspec": {
   "display_name": "Python 3 (ipykernel)",
   "language": "python",
   "name": "python3"
  },
  "language_info": {
   "codemirror_mode": {
    "name": "ipython",
    "version": 3
   },
   "file_extension": ".py",
   "mimetype": "text/x-python",
   "name": "python",
   "nbconvert_exporter": "python",
   "pygments_lexer": "ipython3",
   "version": "3.12.7"
  }
 },
 "nbformat": 4,
 "nbformat_minor": 5
}
