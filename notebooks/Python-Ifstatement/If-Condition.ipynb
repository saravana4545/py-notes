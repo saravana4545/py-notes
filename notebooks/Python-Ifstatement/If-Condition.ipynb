{
 "cells": [
  {
   "cell_type": "code",
   "execution_count": 1,
   "id": "40f86291-e51c-4df6-a99f-32d07b5f2b68",
   "metadata": {},
   "outputs": [],
   "source": [
    "# Created at 27-01-2025"
   ]
  },
  {
   "cell_type": "code",
   "execution_count": 2,
   "id": "56eb0040-2a72-4b9b-8f89-ce4fdaec2e34",
   "metadata": {},
   "outputs": [],
   "source": [
    "# https://www.scientecheasy.com/2022/10/if-statement-in-python.html/"
   ]
  },
  {
   "cell_type": "code",
   "execution_count": 3,
   "id": "9aa0f85e-c9c6-4c9a-a209-c18c52d67151",
   "metadata": {},
   "outputs": [],
   "source": [
    "# If Conditions"
   ]
  },
  {
   "cell_type": "code",
   "execution_count": 16,
   "id": "86b3170e-0201-44f1-9152-b871e74495cf",
   "metadata": {},
   "outputs": [],
   "source": [
    "age = 18"
   ]
  },
  {
   "cell_type": "code",
   "execution_count": 17,
   "id": "d8ca3c5f-5120-44e1-a604-55ae87f7e52e",
   "metadata": {},
   "outputs": [],
   "source": [
    "if age > 18:\n",
    "    print(\"You are an adult...\")"
   ]
  },
  {
   "cell_type": "code",
   "execution_count": 18,
   "id": "35198c31-e4d9-4feb-9b05-5455db881c15",
   "metadata": {},
   "outputs": [],
   "source": [
    "if age == 25:\n",
    "    print(\"You are an adult...\")"
   ]
  },
  {
   "cell_type": "code",
   "execution_count": 19,
   "id": "a1d98944-05b5-4be1-bf4b-a11b062719c9",
   "metadata": {},
   "outputs": [
    {
     "name": "stdout",
     "output_type": "stream",
     "text": [
      "You are child...\n"
     ]
    }
   ],
   "source": [
    "if age < 20:\n",
    "    print(\"You are child...\")"
   ]
  },
  {
   "cell_type": "code",
   "execution_count": null,
   "id": "35b829ac-242b-4705-846a-112daf534ba3",
   "metadata": {},
   "outputs": [],
   "source": []
  },
  {
   "cell_type": "code",
   "execution_count": 20,
   "id": "4af7ee2c-2b7c-49b6-a128-eef1b5c4731b",
   "metadata": {},
   "outputs": [],
   "source": [
    "# Example 2"
   ]
  },
  {
   "cell_type": "code",
   "execution_count": 21,
   "id": "1afdfc1f-1bdf-40b0-b17e-f4f69ba60ff9",
   "metadata": {},
   "outputs": [],
   "source": [
    "name = \"Saravana\""
   ]
  },
  {
   "cell_type": "code",
   "execution_count": 22,
   "id": "a754eb68-9e7f-450c-9692-1a55d54a0074",
   "metadata": {},
   "outputs": [
    {
     "name": "stdout",
     "output_type": "stream",
     "text": [
      "Your name contains the letter 'S'.\n"
     ]
    }
   ],
   "source": [
    "if \"S\" in name:\n",
    "    print(\"Your name contains the letter 'S'.\")"
   ]
  },
  {
   "cell_type": "code",
   "execution_count": null,
   "id": "27a1989d-25ef-4ab7-91ac-933486ec90df",
   "metadata": {},
   "outputs": [],
   "source": []
  }
 ],
 "metadata": {
  "kernelspec": {
   "display_name": "Python 3 (ipykernel)",
   "language": "python",
   "name": "python3"
  },
  "language_info": {
   "codemirror_mode": {
    "name": "ipython",
    "version": 3
   },
   "file_extension": ".py",
   "mimetype": "text/x-python",
   "name": "python",
   "nbconvert_exporter": "python",
   "pygments_lexer": "ipython3",
   "version": "3.12.7"
  }
 },
 "nbformat": 4,
 "nbformat_minor": 5
}
