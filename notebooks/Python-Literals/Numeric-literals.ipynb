{
 "cells": [
  {
   "cell_type": "code",
   "execution_count": null,
   "id": "ea0c988a-0909-450f-b9be-ea28c20ee300",
   "metadata": {},
   "outputs": [],
   "source": [
    "# Created at 10-01-2025"
   ]
  },
  {
   "cell_type": "code",
   "execution_count": null,
   "id": "ceccbce8-aba2-4615-9f16-4e7f1e58594c",
   "metadata": {},
   "outputs": [],
   "source": [
    "# https://www.scientecheasy.com/2022/09/literals-in-python.html"
   ]
  },
  {
   "cell_type": "code",
   "execution_count": 9,
   "id": "4bafea47-3379-4914-876c-705860506488",
   "metadata": {},
   "outputs": [],
   "source": [
    "# Integer literal"
   ]
  },
  {
   "cell_type": "code",
   "execution_count": 10,
   "id": "2100f332-1666-4d6e-8e3f-4fa94d303264",
   "metadata": {},
   "outputs": [],
   "source": [
    "integer_value = 42"
   ]
  },
  {
   "cell_type": "code",
   "execution_count": 11,
   "id": "1448cc6b-9ace-4c0c-988a-81c6783dbb84",
   "metadata": {},
   "outputs": [
    {
     "name": "stdout",
     "output_type": "stream",
     "text": [
      "Integer: 42\n"
     ]
    }
   ],
   "source": [
    "print(\"Integer:\", integer_value)"
   ]
  },
  {
   "cell_type": "code",
   "execution_count": 6,
   "id": "8f6da878-f92b-4e1d-a8ce-1e3b21cf1144",
   "metadata": {},
   "outputs": [],
   "source": [
    "# Float literal"
   ]
  },
  {
   "cell_type": "code",
   "execution_count": 7,
   "id": "648650ee-b275-4880-a1fd-5f686ee73426",
   "metadata": {},
   "outputs": [],
   "source": [
    "float_value = 3.14159"
   ]
  },
  {
   "cell_type": "code",
   "execution_count": 8,
   "id": "546ec7de-1c6c-4c13-a37b-7f044012ae6e",
   "metadata": {},
   "outputs": [
    {
     "name": "stdout",
     "output_type": "stream",
     "text": [
      "Float: 3.14159\n"
     ]
    }
   ],
   "source": [
    "print(\"Float:\", float_value)"
   ]
  },
  {
   "cell_type": "code",
   "execution_count": 3,
   "id": "b0687303-5379-4dd2-9a36-dc67656dfdfc",
   "metadata": {},
   "outputs": [],
   "source": [
    "# Complex number literal"
   ]
  },
  {
   "cell_type": "code",
   "execution_count": 4,
   "id": "3893e059-d5e8-42a4-a6d7-d26744356889",
   "metadata": {},
   "outputs": [],
   "source": [
    "complex_value = 4 + 3j"
   ]
  },
  {
   "cell_type": "code",
   "execution_count": 5,
   "id": "2e097321-7165-4570-892b-2d52dc993693",
   "metadata": {},
   "outputs": [
    {
     "name": "stdout",
     "output_type": "stream",
     "text": [
      "Complex: (4+3j)\n"
     ]
    }
   ],
   "source": [
    "print(\"Complex:\", complex_value)"
   ]
  },
  {
   "cell_type": "code",
   "execution_count": null,
   "id": "050bbf08-ea26-48d0-bb2f-f7370a5c91c7",
   "metadata": {},
   "outputs": [],
   "source": []
  }
 ],
 "metadata": {
  "kernelspec": {
   "display_name": "Python 3 (ipykernel)",
   "language": "python",
   "name": "python3"
  },
  "language_info": {
   "codemirror_mode": {
    "name": "ipython",
    "version": 3
   },
   "file_extension": ".py",
   "mimetype": "text/x-python",
   "name": "python",
   "nbconvert_exporter": "python",
   "pygments_lexer": "ipython3",
   "version": "3.12.7"
  }
 },
 "nbformat": 4,
 "nbformat_minor": 5
}
