{
 "cells": [
  {
   "cell_type": "code",
   "execution_count": null,
   "id": "8b692fb1-1b49-4f61-800f-65f0de1b370a",
   "metadata": {},
   "outputs": [],
   "source": [
    "# Created at 10-01-2025"
   ]
  },
  {
   "cell_type": "code",
   "execution_count": null,
   "id": "37fba4c5-c7cf-4914-9bbd-f5dab237ce04",
   "metadata": {},
   "outputs": [],
   "source": [
    "# Boolean Literals"
   ]
  },
  {
   "cell_type": "code",
   "execution_count": 1,
   "id": "317aefda-46ef-4c60-90fd-4b50f002369d",
   "metadata": {},
   "outputs": [],
   "source": [
    "is_happy = True"
   ]
  },
  {
   "cell_type": "code",
   "execution_count": 2,
   "id": "11c8639f-3e32-43b2-b471-4728107a3e0b",
   "metadata": {},
   "outputs": [],
   "source": [
    "is_sad = False"
   ]
  },
  {
   "cell_type": "code",
   "execution_count": 3,
   "id": "6de9236f-964f-4474-8d27-aecd8a23dbb4",
   "metadata": {},
   "outputs": [
    {
     "name": "stdout",
     "output_type": "stream",
     "text": [
      "Is Happy: True\n"
     ]
    }
   ],
   "source": [
    "print(\"Is Happy:\", is_happy)"
   ]
  },
  {
   "cell_type": "code",
   "execution_count": 4,
   "id": "ef3cd667-10b7-420d-920b-85499a61c49f",
   "metadata": {},
   "outputs": [
    {
     "name": "stdout",
     "output_type": "stream",
     "text": [
      "Is Sad: False\n"
     ]
    }
   ],
   "source": [
    "print(\"Is Sad:\", is_sad)"
   ]
  },
  {
   "cell_type": "code",
   "execution_count": null,
   "id": "b0756ed3-9483-4fd4-9b20-93b5ea4463ea",
   "metadata": {},
   "outputs": [],
   "source": []
  },
  {
   "cell_type": "code",
   "execution_count": 5,
   "id": "74636f37-1e63-42ea-bab3-b1733f9a85c1",
   "metadata": {},
   "outputs": [],
   "source": [
    "# Special Literal"
   ]
  },
  {
   "cell_type": "code",
   "execution_count": 7,
   "id": "6581b742-8323-487b-833e-68b4f57f3927",
   "metadata": {},
   "outputs": [],
   "source": [
    "# Assigning None"
   ]
  },
  {
   "cell_type": "code",
   "execution_count": 8,
   "id": "171df4c3-cd00-4e99-9ace-63f5c2e9b4ff",
   "metadata": {},
   "outputs": [],
   "source": [
    "data = None"
   ]
  },
  {
   "cell_type": "code",
   "execution_count": 9,
   "id": "378101ba-1066-44f9-82b4-7f8f66a2203a",
   "metadata": {},
   "outputs": [
    {
     "name": "stdout",
     "output_type": "stream",
     "text": [
      "Data: None\n"
     ]
    }
   ],
   "source": [
    "print(\"Data:\", data)"
   ]
  },
  {
   "cell_type": "code",
   "execution_count": null,
   "id": "46eba2fe-2815-443e-bfbf-b3860fef8da4",
   "metadata": {},
   "outputs": [],
   "source": []
  }
 ],
 "metadata": {
  "kernelspec": {
   "display_name": "Python 3 (ipykernel)",
   "language": "python",
   "name": "python3"
  },
  "language_info": {
   "codemirror_mode": {
    "name": "ipython",
    "version": 3
   },
   "file_extension": ".py",
   "mimetype": "text/x-python",
   "name": "python",
   "nbconvert_exporter": "python",
   "pygments_lexer": "ipython3",
   "version": "3.12.7"
  }
 },
 "nbformat": 4,
 "nbformat_minor": 5
}
