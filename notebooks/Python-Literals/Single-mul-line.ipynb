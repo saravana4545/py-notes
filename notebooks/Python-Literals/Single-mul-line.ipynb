{
 "cells": [
  {
   "cell_type": "code",
   "execution_count": 1,
   "id": "b3dd002f-1743-4b03-b7a1-c7e9b20a2898",
   "metadata": {},
   "outputs": [],
   "source": [
    "#created at 09-01-2025"
   ]
  },
  {
   "cell_type": "code",
   "execution_count": null,
   "id": "c5ad9c87-83ac-44be-9249-57e99c588a39",
   "metadata": {},
   "outputs": [],
   "source": [
    "# https://www.scientecheasy.com/2022/09/literals-in-python.html"
   ]
  },
  {
   "cell_type": "code",
   "execution_count": 2,
   "id": "6c050567-45ab-4559-8edf-f399895d01a4",
   "metadata": {},
   "outputs": [],
   "source": [
    "# Single line literals"
   ]
  },
  {
   "cell_type": "code",
   "execution_count": 3,
   "id": "79f81da4-2273-412d-a6ae-4a0a39125fbd",
   "metadata": {},
   "outputs": [],
   "source": [
    "Single_line = \"Welcome to python world\""
   ]
  },
  {
   "cell_type": "code",
   "execution_count": 4,
   "id": "9e41bf43-eb3f-4c28-bc40-773cc98dbe2d",
   "metadata": {},
   "outputs": [
    {
     "name": "stdout",
     "output_type": "stream",
     "text": [
      "Welcome to python world\n"
     ]
    }
   ],
   "source": [
    "print(Single_line)"
   ]
  },
  {
   "cell_type": "code",
   "execution_count": 5,
   "id": "4fb9ccc2-6cea-4458-b143-8eeb27900a8b",
   "metadata": {},
   "outputs": [],
   "source": [
    "# Multi-line literals"
   ]
  },
  {
   "cell_type": "code",
   "execution_count": 1,
   "id": "c73a3a61-9dbc-4258-9d0f-bc63c9c6d381",
   "metadata": {},
   "outputs": [
    {
     "name": "stdout",
     "output_type": "stream",
     "text": [
      "welcome, To Python world\n"
     ]
    }
   ],
   "source": [
    "mul_line = '''welcome, \\\n",
    "To \\\n",
    "Python \\\n",
    "world'''\n",
    "print(mul_line)"
   ]
  },
  {
   "cell_type": "code",
   "execution_count": null,
   "id": "cb836ad8-afdc-4c21-98cb-4133ab4675c4",
   "metadata": {},
   "outputs": [],
   "source": []
  },
  {
   "cell_type": "code",
   "execution_count": null,
   "id": "1e414a65-46c7-4ab8-b85b-18f93187c06a",
   "metadata": {},
   "outputs": [],
   "source": []
  }
 ],
 "metadata": {
  "kernelspec": {
   "display_name": "Python 3 (ipykernel)",
   "language": "python",
   "name": "python3"
  },
  "language_info": {
   "codemirror_mode": {
    "name": "ipython",
    "version": 3
   },
   "file_extension": ".py",
   "mimetype": "text/x-python",
   "name": "python",
   "nbconvert_exporter": "python",
   "pygments_lexer": "ipython3",
   "version": "3.12.7"
  }
 },
 "nbformat": 4,
 "nbformat_minor": 5
}
