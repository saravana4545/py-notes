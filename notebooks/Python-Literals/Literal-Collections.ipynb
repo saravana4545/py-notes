{
 "cells": [
  {
   "cell_type": "code",
   "execution_count": null,
   "id": "98441551-1b30-44da-be55-6eaa5a5a1cd0",
   "metadata": {},
   "outputs": [],
   "source": [
    "# Created at 10-01-2025"
   ]
  },
  {
   "cell_type": "code",
   "execution_count": 1,
   "id": "9fea3c4d-b2ad-4b60-beeb-9bfeff21f7c5",
   "metadata": {},
   "outputs": [],
   "source": [
    "# List Literal"
   ]
  },
  {
   "cell_type": "code",
   "execution_count": 2,
   "id": "ffe2c41b-2528-45ed-8c22-55f90903551e",
   "metadata": {},
   "outputs": [],
   "source": [
    "fruits = [\"apple\", \"banana\", \"cherry\"]"
   ]
  },
  {
   "cell_type": "code",
   "execution_count": 3,
   "id": "b18cc8f8-27ef-464a-9cfc-fb4df8b55c3a",
   "metadata": {},
   "outputs": [
    {
     "name": "stdout",
     "output_type": "stream",
     "text": [
      "List: ['apple', 'banana', 'cherry']\n"
     ]
    }
   ],
   "source": [
    "print(\"List:\", fruits)"
   ]
  },
  {
   "cell_type": "code",
   "execution_count": 4,
   "id": "73b239fc-ec0e-4abf-80b9-5dc858401325",
   "metadata": {},
   "outputs": [],
   "source": [
    "# Tuple Literal"
   ]
  },
  {
   "cell_type": "code",
   "execution_count": 5,
   "id": "0c4c24c7-eca9-435a-affb-c9a63e827b8e",
   "metadata": {},
   "outputs": [],
   "source": [
    "coordinates = (10, 20)"
   ]
  },
  {
   "cell_type": "code",
   "execution_count": 6,
   "id": "38787024-4864-4ddd-afc3-48696615f0f4",
   "metadata": {},
   "outputs": [
    {
     "name": "stdout",
     "output_type": "stream",
     "text": [
      "Tuple: (10, 20)\n"
     ]
    }
   ],
   "source": [
    "print(\"Tuple:\", coordinates)"
   ]
  },
  {
   "cell_type": "code",
   "execution_count": 7,
   "id": "cfcb4d04-4f6b-4c6c-854e-7c7ece0f2111",
   "metadata": {},
   "outputs": [],
   "source": [
    "# Dictionary Literal"
   ]
  },
  {
   "cell_type": "code",
   "execution_count": 8,
   "id": "42eca46e-dfcb-4b22-a7fe-2112776b143d",
   "metadata": {},
   "outputs": [],
   "source": [
    "person = {\"name\": \"Saravana\", \"age\": 25}"
   ]
  },
  {
   "cell_type": "code",
   "execution_count": 9,
   "id": "b6e6ef04-4516-411d-9625-c5fc55527e4d",
   "metadata": {},
   "outputs": [
    {
     "name": "stdout",
     "output_type": "stream",
     "text": [
      "Dictionary: {'name': 'Saravana', 'age': 25}\n"
     ]
    }
   ],
   "source": [
    "print(\"Dictionary:\", person)"
   ]
  },
  {
   "cell_type": "code",
   "execution_count": 10,
   "id": "78d666f4-5aef-46cf-b699-91c498d76c84",
   "metadata": {},
   "outputs": [],
   "source": [
    "# Set Literal"
   ]
  },
  {
   "cell_type": "code",
   "execution_count": 11,
   "id": "843b8150-2a1e-4825-9d3c-484cd766a9f3",
   "metadata": {},
   "outputs": [],
   "source": [
    "unique_numbers = {1, 2, 3, 4, 5}"
   ]
  },
  {
   "cell_type": "code",
   "execution_count": 12,
   "id": "c664cc92-8cf0-4f4f-9854-ffbbb891b066",
   "metadata": {},
   "outputs": [
    {
     "name": "stdout",
     "output_type": "stream",
     "text": [
      "Set: {1, 2, 3, 4, 5}\n"
     ]
    }
   ],
   "source": [
    "print(\"Set:\", unique_numbers)"
   ]
  },
  {
   "cell_type": "code",
   "execution_count": null,
   "id": "6c97f8d9-c5f5-452b-8117-92d6243222b5",
   "metadata": {},
   "outputs": [],
   "source": []
  }
 ],
 "metadata": {
  "kernelspec": {
   "display_name": "Python 3 (ipykernel)",
   "language": "python",
   "name": "python3"
  },
  "language_info": {
   "codemirror_mode": {
    "name": "ipython",
    "version": 3
   },
   "file_extension": ".py",
   "mimetype": "text/x-python",
   "name": "python",
   "nbconvert_exporter": "python",
   "pygments_lexer": "ipython3",
   "version": "3.12.7"
  }
 },
 "nbformat": 4,
 "nbformat_minor": 5
}
