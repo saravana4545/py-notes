{
 "cells": [
  {
   "cell_type": "code",
   "execution_count": null,
   "id": "61cecffd-de9a-435f-a44f-e99b811a1390",
   "metadata": {},
   "outputs": [],
   "source": [
    "# Created at 10-01-2025"
   ]
  },
  {
   "cell_type": "code",
   "execution_count": null,
   "id": "8d929494-65b1-4082-88ad-5432ff311ef4",
   "metadata": {},
   "outputs": [],
   "source": [
    "# https://www.scientecheasy.com/2022/09/literals-in-python.html/"
   ]
  },
  {
   "cell_type": "code",
   "execution_count": 10,
   "id": "213bed61-f653-490a-8027-ca23561f727d",
   "metadata": {},
   "outputs": [],
   "source": [
    "# Binary literal"
   ]
  },
  {
   "cell_type": "code",
   "execution_count": 11,
   "id": "c05da111-bb4b-454a-8e4f-7f4b732d943d",
   "metadata": {},
   "outputs": [],
   "source": [
    "binary_value = 0b1010"
   ]
  },
  {
   "cell_type": "code",
   "execution_count": 12,
   "id": "105c407c-20a1-4e06-8d56-c5a1e8d46fdb",
   "metadata": {},
   "outputs": [
    {
     "name": "stdout",
     "output_type": "stream",
     "text": [
      "Binary: 10\n"
     ]
    }
   ],
   "source": [
    "print(\"Binary:\", binary_value)"
   ]
  },
  {
   "cell_type": "code",
   "execution_count": 13,
   "id": "2adcf698-72ab-4442-a030-f44da494bac7",
   "metadata": {},
   "outputs": [],
   "source": [
    "# Octal literal"
   ]
  },
  {
   "cell_type": "code",
   "execution_count": 14,
   "id": "7f6f53f4-1827-4621-9502-67746079b9b2",
   "metadata": {},
   "outputs": [],
   "source": [
    "octal_value = 0o12"
   ]
  },
  {
   "cell_type": "code",
   "execution_count": 15,
   "id": "c6711e05-d8ed-40d8-83ba-0cb65d6fc404",
   "metadata": {},
   "outputs": [
    {
     "name": "stdout",
     "output_type": "stream",
     "text": [
      "Octal: 10\n"
     ]
    }
   ],
   "source": [
    "print(\"Octal:\", octal_value)"
   ]
  },
  {
   "cell_type": "code",
   "execution_count": 16,
   "id": "88d4ccd4-34a2-4eee-9228-54323b08cdcf",
   "metadata": {},
   "outputs": [],
   "source": [
    "# Hexadecimal literal"
   ]
  },
  {
   "cell_type": "code",
   "execution_count": 17,
   "id": "ec2e3232-8aa2-4f88-b5ef-fbaa75fa6f7b",
   "metadata": {},
   "outputs": [],
   "source": [
    "hex_value = 0xA"
   ]
  },
  {
   "cell_type": "code",
   "execution_count": 18,
   "id": "fa6b31ee-75ba-4a07-ac21-f7a3056e0c74",
   "metadata": {},
   "outputs": [
    {
     "name": "stdout",
     "output_type": "stream",
     "text": [
      "Hexadecimal: 10\n"
     ]
    }
   ],
   "source": [
    "print(\"Hexadecimal:\", hex_value)"
   ]
  },
  {
   "cell_type": "code",
   "execution_count": null,
   "id": "94f7162b-11db-4b52-bfab-a250a3ce9455",
   "metadata": {},
   "outputs": [],
   "source": []
  }
 ],
 "metadata": {
  "kernelspec": {
   "display_name": "Python 3 (ipykernel)",
   "language": "python",
   "name": "python3"
  },
  "language_info": {
   "codemirror_mode": {
    "name": "ipython",
    "version": 3
   },
   "file_extension": ".py",
   "mimetype": "text/x-python",
   "name": "python",
   "nbconvert_exporter": "python",
   "pygments_lexer": "ipython3",
   "version": "3.12.7"
  }
 },
 "nbformat": 4,
 "nbformat_minor": 5
}
