{
 "cells": [
  {
   "cell_type": "code",
   "execution_count": null,
   "id": "c83b1e95-dcba-451f-af28-5ddad1b17a38",
   "metadata": {},
   "outputs": [],
   "source": [
    "#import neccessery libraries"
   ]
  },
  {
   "cell_type": "code",
   "execution_count": 17,
   "id": "ae25c4ef-f479-4878-9413-3da3f0e522be",
   "metadata": {},
   "outputs": [],
   "source": [
    "from faker import Faker"
   ]
  },
  {
   "cell_type": "code",
   "execution_count": null,
   "id": "5ea8c0e9-8f24-4673-aa2d-3326237fb6f7",
   "metadata": {},
   "outputs": [],
   "source": [
    "#connect the faker "
   ]
  },
  {
   "cell_type": "code",
   "execution_count": 18,
   "id": "233ce3bb-d45a-4291-8525-fb76f4faa47c",
   "metadata": {},
   "outputs": [],
   "source": [
    "fake = Faker()"
   ]
  },
  {
   "cell_type": "code",
   "execution_count": null,
   "id": "c5e53d67-906b-454a-b33c-007a72cabfda",
   "metadata": {},
   "outputs": [],
   "source": [
    "#create a method called address_pat()"
   ]
  },
  {
   "cell_type": "code",
   "execution_count": 26,
   "id": "d6810ab3-b146-4fde-90a5-c44ee775e67d",
   "metadata": {},
   "outputs": [],
   "source": [
    "def address_pat():\n",
    "    fak_address = fake.address()\n",
    "    address = fak_address.replace(\" \", \"/\")\n",
    "    return address"
   ]
  },
  {
   "cell_type": "code",
   "execution_count": null,
   "id": "7c32bdb6-da82-478a-bcbf-e25f6a8150b4",
   "metadata": {},
   "outputs": [],
   "source": [
    "#set the range"
   ]
  },
  {
   "cell_type": "code",
   "execution_count": 27,
   "id": "886fa988-5f8e-4fb0-9cbd-33b353f44e01",
   "metadata": {},
   "outputs": [
    {
     "name": "stdout",
     "output_type": "stream",
     "text": [
      "3946/Braun/Hill/Apt./495\n",
      "North/Kathleen,/LA/91986\n",
      "05851/Maria/Lodge/Suite/728\n",
      "Teresamouth,/WA/02644\n"
     ]
    }
   ],
   "source": [
    "for _ in range(2):\n",
    "    print(address_pat())"
   ]
  },
  {
   "cell_type": "code",
   "execution_count": null,
   "id": "cdf1d3c6-7a56-46fd-a006-fc8c69638755",
   "metadata": {},
   "outputs": [],
   "source": []
  }
 ],
 "metadata": {
  "kernelspec": {
   "display_name": "Python 3 (ipykernel)",
   "language": "python",
   "name": "python3"
  },
  "language_info": {
   "codemirror_mode": {
    "name": "ipython",
    "version": 3
   },
   "file_extension": ".py",
   "mimetype": "text/x-python",
   "name": "python",
   "nbconvert_exporter": "python",
   "pygments_lexer": "ipython3",
   "version": "3.12.7"
  }
 },
 "nbformat": 4,
 "nbformat_minor": 5
}
