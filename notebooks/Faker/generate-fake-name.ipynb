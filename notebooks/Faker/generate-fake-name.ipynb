{
 "cells": [
  {
   "cell_type": "code",
   "execution_count": null,
   "id": "52725566-b56a-48d6-a05b-230b219e8c45",
   "metadata": {},
   "outputs": [],
   "source": [
    "#created at 08-01-2025."
   ]
  },
  {
   "cell_type": "code",
   "execution_count": null,
   "id": "f9854bbe-8e7f-40b2-873c-41ae8992949e",
   "metadata": {},
   "outputs": [],
   "source": [
    "#import neccesary libraries"
   ]
  },
  {
   "cell_type": "code",
   "execution_count": 5,
   "id": "f1ab6315-a24c-43f4-ad8b-d3528ee7bead",
   "metadata": {},
   "outputs": [],
   "source": [
    "from faker import Faker"
   ]
  },
  {
   "cell_type": "code",
   "execution_count": 6,
   "id": "8fb17132-0eae-4b47-90df-8f07caac7883",
   "metadata": {},
   "outputs": [],
   "source": [
    "fake=Faker()"
   ]
  },
  {
   "cell_type": "code",
   "execution_count": null,
   "id": "bbc03576-2acf-4c62-9632-7303e5e54874",
   "metadata": {},
   "outputs": [],
   "source": [
    "# create a method like generate_random_names()."
   ]
  },
  {
   "cell_type": "code",
   "execution_count": 7,
   "id": "746ee802-c9ed-4dc3-987c-4e7ab6b32743",
   "metadata": {},
   "outputs": [],
   "source": [
    "def generate_random_names():\n",
    "    random_names = []\n",
    "    for x in range(5) :\n",
    "        random_names.append(fake.name())\n",
    "    return  random_names"
   ]
  },
  {
   "cell_type": "code",
   "execution_count": null,
   "id": "8b4a6e37-c798-4385-beda-c83ed8651def",
   "metadata": {},
   "outputs": [],
   "source": [
    "# create a method like startpy() and call the above method inside of here.."
   ]
  },
  {
   "cell_type": "code",
   "execution_count": 8,
   "id": "c3b259b6-2e1b-426f-9a46-486b6eba2c7b",
   "metadata": {},
   "outputs": [],
   "source": [
    "def startpy():\n",
    "    random_name_list = generate_random_names()   \n",
    "    print(random_name_list)"
   ]
  },
  {
   "cell_type": "code",
   "execution_count": null,
   "id": "61d32abd-8e0a-445f-853f-d49fc7a3f229",
   "metadata": {},
   "outputs": [],
   "source": [
    "# And call the main method here"
   ]
  },
  {
   "cell_type": "code",
   "execution_count": 9,
   "id": "cba01b3e-2da3-4510-990b-24633ea5be11",
   "metadata": {},
   "outputs": [
    {
     "name": "stdout",
     "output_type": "stream",
     "text": [
      "['John Cannon', 'Amy Anthony', 'Raymond Robinson', 'Eric Hansen', 'Leslie Cook']\n"
     ]
    }
   ],
   "source": [
    "if __name__ == '__main__':\n",
    "    startpy()"
   ]
  },
  {
   "cell_type": "code",
   "execution_count": null,
   "id": "a4edf0c6-db17-402b-a15d-df64659bc0ca",
   "metadata": {},
   "outputs": [],
   "source": []
  }
 ],
 "metadata": {
  "kernelspec": {
   "display_name": "Python 3 (ipykernel)",
   "language": "python",
   "name": "python3"
  },
  "language_info": {
   "codemirror_mode": {
    "name": "ipython",
    "version": 3
   },
   "file_extension": ".py",
   "mimetype": "text/x-python",
   "name": "python",
   "nbconvert_exporter": "python",
   "pygments_lexer": "ipython3",
   "version": "3.12.7"
  }
 },
 "nbformat": 4,
 "nbformat_minor": 5
}
