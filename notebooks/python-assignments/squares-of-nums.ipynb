{
 "cells": [
  {
   "cell_type": "code",
   "execution_count": 21,
   "id": "69d19779-0c3f-460a-903a-3bb4787554a9",
   "metadata": {},
   "outputs": [],
   "source": [
    "#20. Write a function to generate a list of squares of numbers from 1 to n."
   ]
  },
  {
   "cell_type": "code",
   "execution_count": 25,
   "id": "602cfc45-6e76-47f7-9013-e0b8bfead0ce",
   "metadata": {},
   "outputs": [],
   "source": [
    "def generate_squares(n):\n",
    "    \"\"\"\n",
    "    Generate a list of squares of numbers from 1 to n.\n",
    "\n",
    "    Parameters:\n",
    "    n (int): The upper limit of the range.\n",
    "\n",
    "    Returns:\n",
    "    list: A list of squares of numbers from 1 to n.\n",
    "    \"\"\"\n",
    "    return [x**2 for x in range(1, n+1)]"
   ]
  },
  {
   "cell_type": "code",
   "execution_count": 26,
   "id": "6bf9308f-ee53-4a60-b0a3-3468f4beab6c",
   "metadata": {},
   "outputs": [
    {
     "name": "stdout",
     "output_type": "stream",
     "text": [
      "[1, 4, 9, 16, 25]\n"
     ]
    }
   ],
   "source": [
    "# Sample test cases\n",
    "print(generate_squares(5)) # Expected output: [1, 4, 9, 16, 25]"
   ]
  },
  {
   "cell_type": "code",
   "execution_count": 27,
   "id": "c75c2894-87c4-4de3-8b7b-8a938dd89dee",
   "metadata": {},
   "outputs": [
    {
     "name": "stdout",
     "output_type": "stream",
     "text": [
      "[1, 4, 9]\n"
     ]
    }
   ],
   "source": [
    "print(generate_squares(3)) # Expected output: [1, 4, 9]"
   ]
  },
  {
   "cell_type": "code",
   "execution_count": null,
   "id": "64e55638-e394-40af-9709-8bfbdd5bcfcb",
   "metadata": {},
   "outputs": [],
   "source": []
  }
 ],
 "metadata": {
  "kernelspec": {
   "display_name": "Python 3 (ipykernel)",
   "language": "python",
   "name": "python3"
  },
  "language_info": {
   "codemirror_mode": {
    "name": "ipython",
    "version": 3
   },
   "file_extension": ".py",
   "mimetype": "text/x-python",
   "name": "python",
   "nbconvert_exporter": "python",
   "pygments_lexer": "ipython3",
   "version": "3.12.7"
  }
 },
 "nbformat": 4,
 "nbformat_minor": 5
}
