{
 "cells": [
  {
   "cell_type": "code",
   "execution_count": null,
   "id": "a1a931d2-4f65-411a-bcbd-f3ff1381f387",
   "metadata": {},
   "outputs": [],
   "source": [
    "# https://stackoverflow.com/questions/16225677/get-the-second-largest-number-in-a-list-in-linear-time"
   ]
  },
  {
   "cell_type": "code",
   "execution_count": 25,
   "id": "7b70c946-fed0-4c08-aedf-52aa5c06b443",
   "metadata": {},
   "outputs": [],
   "source": [
    "#15 - Write a function to find the second largest number in a list."
   ]
  },
  {
   "cell_type": "code",
   "execution_count": 26,
   "id": "6a2d53ea-ac76-4a8a-82c8-cb5add75589d",
   "metadata": {},
   "outputs": [],
   "source": [
    "def find_second_largest(arr):\n",
    "    \"\"\"\n",
    "    Given a list of integers, find the second largest number in the list.\n",
    "\n",
    "    Parameters:\n",
    "    arr (list): A list of integers\n",
    "\n",
    "    Returns:\n",
    "    int: The second largest number in the list\n",
    "    \"\"\"\n",
    "    \n",
    "    # Sort the list in descending order\n",
    "    sort_list = sorted(arr)[-2]\n",
    "    return sort_list"
   ]
  },
  {
   "cell_type": "code",
   "execution_count": 27,
   "id": "b8ee660c-9c84-4941-a2b9-7f11b4c0a6f2",
   "metadata": {},
   "outputs": [],
   "source": [
    "# Sample test cases"
   ]
  },
  {
   "cell_type": "code",
   "execution_count": 28,
   "id": "386c5ecc-8b19-4c7b-9322-6636f6b56ee9",
   "metadata": {},
   "outputs": [
    {
     "name": "stdout",
     "output_type": "stream",
     "text": [
      "4\n"
     ]
    }
   ],
   "source": [
    "print(find_second_largest([1, 2, 3, 4, 5])) # Expected output: 4"
   ]
  },
  {
   "cell_type": "code",
   "execution_count": 29,
   "id": "8e507f65-ddce-4ea7-be5f-7a8afda5a01d",
   "metadata": {},
   "outputs": [
    {
     "name": "stdout",
     "output_type": "stream",
     "text": [
      "20\n"
     ]
    }
   ],
   "source": [
    "print(find_second_largest([10, 5, 20, 15, 30])) # Expected output: 20"
   ]
  },
  {
   "cell_type": "code",
   "execution_count": null,
   "id": "972328c1-94a5-4c47-9a51-a0b6f1dd22ad",
   "metadata": {},
   "outputs": [],
   "source": []
  }
 ],
 "metadata": {
  "kernelspec": {
   "display_name": "Python 3 (ipykernel)",
   "language": "python",
   "name": "python3"
  },
  "language_info": {
   "codemirror_mode": {
    "name": "ipython",
    "version": 3
   },
   "file_extension": ".py",
   "mimetype": "text/x-python",
   "name": "python",
   "nbconvert_exporter": "python",
   "pygments_lexer": "ipython3",
   "version": "3.12.7"
  }
 },
 "nbformat": 4,
 "nbformat_minor": 5
}
