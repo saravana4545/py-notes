{
 "cells": [
  {
   "cell_type": "code",
   "execution_count": 8,
   "id": "ee424ae9-31b2-4e9e-9f78-d0a66250919a",
   "metadata": {},
   "outputs": [],
   "source": [
    "#Write a function to check if a string is a palindrome."
   ]
  },
  {
   "cell_type": "code",
   "execution_count": 9,
   "id": "624074ca-4a22-4e7b-88db-659096700c77",
   "metadata": {},
   "outputs": [],
   "source": [
    "def is_palindrome(s):\n",
    "    \"\"\"\n",
    "    Problem: Write a function to check if a string is a palindrome.\n",
    "    \n",
    "    Args:\n",
    "    s: input string to be checked\n",
    "    \n",
    "    Returns:\n",
    "    True if the string is a palindrome, False otherwise\n",
    "    \"\"\"\n",
    "    if s == s[::-1]:\n",
    "        return True\n",
    "    return False"
   ]
  },
  {
   "cell_type": "code",
   "execution_count": 10,
   "id": "b259d500-9801-417e-b716-a36f7006f6d0",
   "metadata": {},
   "outputs": [
    {
     "name": "stdout",
     "output_type": "stream",
     "text": [
      "True\n"
     ]
    }
   ],
   "source": [
    "# Sample test cases\n",
    "print(is_palindrome(\"racecar\"))  # True"
   ]
  },
  {
   "cell_type": "code",
   "execution_count": 11,
   "id": "13f1c657-9c75-43aa-a541-6beb48d34c15",
   "metadata": {},
   "outputs": [
    {
     "name": "stdout",
     "output_type": "stream",
     "text": [
      "False\n"
     ]
    }
   ],
   "source": [
    "print(is_palindrome(\"hello\"))    # False"
   ]
  },
  {
   "cell_type": "code",
   "execution_count": 12,
   "id": "fc8d9476-7b64-47ae-8a65-221afa84c080",
   "metadata": {},
   "outputs": [
    {
     "name": "stdout",
     "output_type": "stream",
     "text": [
      "True\n"
     ]
    }
   ],
   "source": [
    "print(is_palindrome(\"level\"))    # True"
   ]
  },
  {
   "cell_type": "code",
   "execution_count": null,
   "id": "4811cea1-3938-487f-85f0-0d2f819b3eda",
   "metadata": {},
   "outputs": [],
   "source": []
  }
 ],
 "metadata": {
  "kernelspec": {
   "display_name": "Python 3 (ipykernel)",
   "language": "python",
   "name": "python3"
  },
  "language_info": {
   "codemirror_mode": {
    "name": "ipython",
    "version": 3
   },
   "file_extension": ".py",
   "mimetype": "text/x-python",
   "name": "python",
   "nbconvert_exporter": "python",
   "pygments_lexer": "ipython3",
   "version": "3.12.7"
  }
 },
 "nbformat": 4,
 "nbformat_minor": 5
}
