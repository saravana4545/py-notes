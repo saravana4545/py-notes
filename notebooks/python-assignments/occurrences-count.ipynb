{
 "cells": [
  {
   "cell_type": "code",
   "execution_count": 3,
   "id": "28529db6-888e-499e-be0f-cc88b790d90f",
   "metadata": {},
   "outputs": [],
   "source": [
    "#Write a function to count the occurrences of an item in a list."
   ]
  },
  {
   "cell_type": "code",
   "execution_count": 12,
   "id": "307eec68-43bd-4fec-9329-0d5330824544",
   "metadata": {},
   "outputs": [],
   "source": [
    "def count_occurrences(lst, item):\n",
    "    \"\"\"\n",
    "    Count the occurrences of an item in a list.\n",
    "\n",
    "    Parameters:\n",
    "    lst (list): The list to search for occurrences.\n",
    "    item: The item to count occurrences of.\n",
    "\n",
    "    Returns:\n",
    "    int: The number of occurrences of the item in the list.\n",
    "    \"\"\"\n",
    "    \n",
    "    # TODO: Implement the function\n",
    "    count_occur = lst.count(item)\n",
    "    return count_occur"
   ]
  },
  {
   "cell_type": "code",
   "execution_count": 13,
   "id": "b765a25a-1210-4b02-8856-f163b320537b",
   "metadata": {},
   "outputs": [],
   "source": [
    "# Sample test cases"
   ]
  },
  {
   "cell_type": "code",
   "execution_count": 14,
   "id": "05c11364-15ff-4920-af93-b2fbf2ae8191",
   "metadata": {},
   "outputs": [
    {
     "name": "stdout",
     "output_type": "stream",
     "text": [
      "3\n"
     ]
    }
   ],
   "source": [
    "print(count_occurrences([1, 2, 2, 3, 4, 2], 2))  # Output: 3"
   ]
  },
  {
   "cell_type": "code",
   "execution_count": 15,
   "id": "e48d60c7-8567-437a-a218-e2233c732c33",
   "metadata": {},
   "outputs": [
    {
     "name": "stdout",
     "output_type": "stream",
     "text": [
      "3\n"
     ]
    }
   ],
   "source": [
    "print(count_occurrences(['a', 'b', 'c', 'a', 'a'], 'a'))  # Output: 3"
   ]
  },
  {
   "cell_type": "code",
   "execution_count": null,
   "id": "83efb910-b05b-4b6e-b720-44fcb7301e6a",
   "metadata": {},
   "outputs": [],
   "source": []
  }
 ],
 "metadata": {
  "kernelspec": {
   "display_name": "Python 3 (ipykernel)",
   "language": "python",
   "name": "python3"
  },
  "language_info": {
   "codemirror_mode": {
    "name": "ipython",
    "version": 3
   },
   "file_extension": ".py",
   "mimetype": "text/x-python",
   "name": "python",
   "nbconvert_exporter": "python",
   "pygments_lexer": "ipython3",
   "version": "3.12.7"
  }
 },
 "nbformat": 4,
 "nbformat_minor": 5
}
