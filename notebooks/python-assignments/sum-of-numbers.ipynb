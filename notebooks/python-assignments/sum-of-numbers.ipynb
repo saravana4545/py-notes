{
 "cells": [
  {
   "cell_type": "code",
   "execution_count": 2,
   "id": "b7d8317b-d583-41cc-98e0-be9eb97d01cf",
   "metadata": {},
   "outputs": [],
   "source": [
    "#5. Write a function to calculate the sum of numbers in a list."
   ]
  },
  {
   "cell_type": "code",
   "execution_count": 3,
   "id": "955c2778-3004-4dfe-a252-93c153f8c028",
   "metadata": {},
   "outputs": [],
   "source": [
    "def calculate_sum(numbers):\n",
    "    \"\"\"\n",
    "    Calculate the sum of numbers in a list.\n",
    "\n",
    "    Parameters:\n",
    "    numbers (list): A list of numbers to calculate the sum for.\n",
    "\n",
    "    Returns:\n",
    "    int: The sum of numbers in the list.\n",
    "    \"\"\"\n",
    "    add_list = sum(numbers)\n",
    "    return add_list"
   ]
  },
  {
   "cell_type": "code",
   "execution_count": 4,
   "id": "1ed2d5f1-6352-46ac-9ea1-88bc3c6743b3",
   "metadata": {},
   "outputs": [],
   "source": [
    "#Sample test cases"
   ]
  },
  {
   "cell_type": "code",
   "execution_count": 5,
   "id": "bf306573-bb05-40fe-9c29-25dd83703604",
   "metadata": {},
   "outputs": [
    {
     "name": "stdout",
     "output_type": "stream",
     "text": [
      "6\n"
     ]
    }
   ],
   "source": [
    "print(calculate_sum([1, 2, 3])) # Expected output: 6"
   ]
  },
  {
   "cell_type": "code",
   "execution_count": 6,
   "id": "51681953-0404-4c88-9771-3f3e1e7f8866",
   "metadata": {},
   "outputs": [
    {
     "name": "stdout",
     "output_type": "stream",
     "text": [
      "0\n"
     ]
    }
   ],
   "source": [
    "print(calculate_sum([-1, 0, 1])) # Expected output: 0"
   ]
  },
  {
   "cell_type": "code",
   "execution_count": null,
   "id": "8d150bd3-e278-4d14-b44b-ec7515f02f15",
   "metadata": {},
   "outputs": [],
   "source": []
  }
 ],
 "metadata": {
  "kernelspec": {
   "display_name": "Python 3 (ipykernel)",
   "language": "python",
   "name": "python3"
  },
  "language_info": {
   "codemirror_mode": {
    "name": "ipython",
    "version": 3
   },
   "file_extension": ".py",
   "mimetype": "text/x-python",
   "name": "python",
   "nbconvert_exporter": "python",
   "pygments_lexer": "ipython3",
   "version": "3.12.7"
  }
 },
 "nbformat": 4,
 "nbformat_minor": 5
}
