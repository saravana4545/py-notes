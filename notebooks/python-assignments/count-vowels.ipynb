{
 "cells": [
  {
   "cell_type": "code",
   "execution_count": 25,
   "id": "ec5f5b2b-3248-47cf-90f8-8eefa7fe68ce",
   "metadata": {},
   "outputs": [],
   "source": [
    "#6. Write a function to count the vowels in a string."
   ]
  },
  {
   "cell_type": "code",
   "execution_count": 26,
   "id": "c1fae665-b2c0-4667-bdf0-8537d512f786",
   "metadata": {},
   "outputs": [],
   "source": [
    "def count_vowels(s):\n",
    "    \"\"\"\n",
    "    This function counts the number of vowels in a given string.\n",
    "    \n",
    "    Parameters:\n",
    "    s (str): A string to count vowels from.\n",
    "    \n",
    "    Returns:\n",
    "    int: The number of vowels in the string.\n",
    "    \"\"\"\n",
    "    \n",
    "    # Initialize a variable to store the count of vowels\n",
    "    vowels = ('a','e','i','o','u')\n",
    "    count  = 0\n",
    "    # Loop through each character in the string\n",
    "    for items in vowels:\n",
    "        count += s.count(items)\n",
    "    return count"
   ]
  },
  {
   "cell_type": "code",
   "execution_count": 27,
   "id": "4498cb0b-c0c2-4327-b212-121dcd23e7f3",
   "metadata": {},
   "outputs": [],
   "source": [
    "# Test cases"
   ]
  },
  {
   "cell_type": "code",
   "execution_count": 28,
   "id": "5af6f092-03b4-4c57-8ce2-bccf7eff4a62",
   "metadata": {},
   "outputs": [
    {
     "name": "stdout",
     "output_type": "stream",
     "text": [
      "2\n"
     ]
    }
   ],
   "source": [
    "print(count_vowels(\"hello\")) # Expected output: 2"
   ]
  },
  {
   "cell_type": "code",
   "execution_count": 29,
   "id": "84c8b4f3-e7c9-4535-b78a-6b4ea82e8ee6",
   "metadata": {},
   "outputs": [
    {
     "name": "stdout",
     "output_type": "stream",
     "text": [
      "1\n"
     ]
    }
   ],
   "source": [
    "print(count_vowels(\"Python\")) # Expected output: 1"
   ]
  },
  {
   "cell_type": "code",
   "execution_count": 30,
   "id": "1d5376d4-4bae-4b87-9dae-3633b29fae7e",
   "metadata": {},
   "outputs": [
    {
     "name": "stdout",
     "output_type": "stream",
     "text": [
      "3\n"
     ]
    }
   ],
   "source": [
    "print(count_vowels(\"programming\")) # Expected output: 3"
   ]
  },
  {
   "cell_type": "code",
   "execution_count": null,
   "id": "4a0f294f-9377-4967-a2b5-3dc6b30304bf",
   "metadata": {},
   "outputs": [],
   "source": []
  }
 ],
 "metadata": {
  "kernelspec": {
   "display_name": "Python 3 (ipykernel)",
   "language": "python",
   "name": "python3"
  },
  "language_info": {
   "codemirror_mode": {
    "name": "ipython",
    "version": 3
   },
   "file_extension": ".py",
   "mimetype": "text/x-python",
   "name": "python",
   "nbconvert_exporter": "python",
   "pygments_lexer": "ipython3",
   "version": "3.12.7"
  }
 },
 "nbformat": 4,
 "nbformat_minor": 5
}
