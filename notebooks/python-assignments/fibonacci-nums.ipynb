{
 "cells": [
  {
   "cell_type": "code",
   "execution_count": 12,
   "id": "97c6a7b8-c144-4920-84e7-a25c1998cefb",
   "metadata": {},
   "outputs": [
    {
     "name": "stdout",
     "output_type": "stream",
     "text": [
      "[0]\n",
      "[0]\n",
      "[0, 1, 1, 2, 3]\n"
     ]
    }
   ],
   "source": [
    "#21 - Write a function to return the first n Fibonacci numbers.\n",
    "\n",
    "def fibonacci_numbers(n):\n",
    "    \"\"\"\n",
    "    Problem: Write a function to return the first n Fibonacci numbers.\n",
    "    \n",
    "    Parameters:\n",
    "    n (int): Number of Fibonacci numbers to return\n",
    "    \n",
    "    Returns:\n",
    "    list: List of the first n Fibonacci numbers\n",
    "    \"\"\"\n",
    "    \n",
    "    # Initialize the list to store Fibonacci numbers\n",
    "    fib = [0,1]\n",
    "    for i in range(2,n):\n",
    "        fib.append(fib[i-1] + fib[i-2])\n",
    "    return fib[:n]\n",
    "    \n",
    "    \n",
    "\n",
    "# Sample test cases\n",
    "print(fibonacci_numbers(1))  # Output: []\n",
    "print(fibonacci_numbers(1))  # Output: [0]\n",
    "print(fibonacci_numbers(5))  # Output: [0, 1, 1, 2, 3]"
   ]
  },
  {
   "cell_type": "code",
   "execution_count": null,
   "id": "fb0b1307-6f90-47bc-b440-447b8052e43e",
   "metadata": {},
   "outputs": [],
   "source": []
  }
 ],
 "metadata": {
  "kernelspec": {
   "display_name": "Python 3 (ipykernel)",
   "language": "python",
   "name": "python3"
  },
  "language_info": {
   "codemirror_mode": {
    "name": "ipython",
    "version": 3
   },
   "file_extension": ".py",
   "mimetype": "text/x-python",
   "name": "python",
   "nbconvert_exporter": "python",
   "pygments_lexer": "ipython3",
   "version": "3.12.7"
  }
 },
 "nbformat": 4,
 "nbformat_minor": 5
}
