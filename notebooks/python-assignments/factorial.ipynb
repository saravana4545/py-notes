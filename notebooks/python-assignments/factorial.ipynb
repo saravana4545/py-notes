{
 "cells": [
  {
   "cell_type": "code",
   "execution_count": null,
   "id": "1bf1c68b-ee44-4a26-a073-9b23fcbb61a6",
   "metadata": {},
   "outputs": [],
   "source": [
    "#https://stackoverflow.com/questions/76722924/calculate-the-factorial-of-a-number"
   ]
  },
  {
   "cell_type": "code",
   "execution_count": 36,
   "id": "4616cb2a-08f4-4559-8bc2-88761d01c98c",
   "metadata": {},
   "outputs": [],
   "source": [
    "#Write a function to calculate the factorial of a number."
   ]
  },
  {
   "cell_type": "code",
   "execution_count": 1,
   "id": "1abf29e3-ab4f-4fcf-a3bc-f741242cf6e8",
   "metadata": {},
   "outputs": [],
   "source": [
    "def factorial(n):\n",
    "    \"\"\"\n",
    "    Calculate the factorial of a number.\n",
    "\n",
    "    Parameters:\n",
    "    n (int): The number to calculate the factorial for.\n",
    "\n",
    "    Returns:\n",
    "    int: The factorial of the given number.\n",
    "    \"\"\"\n",
    "    if n == 0:\n",
    "        return 1\n",
    "    else:\n",
    "        return n*factorial(n-1)"
   ]
  },
  {
   "cell_type": "code",
   "execution_count": 2,
   "id": "814a6f3d-7663-4bd2-93b5-01aa2d5382fa",
   "metadata": {},
   "outputs": [
    {
     "name": "stdout",
     "output_type": "stream",
     "text": [
      "1\n"
     ]
    }
   ],
   "source": [
    "# Sample test cases\n",
    "print(factorial(0)) # Expected output: 1"
   ]
  },
  {
   "cell_type": "code",
   "execution_count": 3,
   "id": "dcc3956a-cf7c-4f65-8bce-ddf5d08b658d",
   "metadata": {},
   "outputs": [
    {
     "name": "stdout",
     "output_type": "stream",
     "text": [
      "120\n"
     ]
    }
   ],
   "source": [
    "print(factorial(5)) # Expected output: 120"
   ]
  },
  {
   "cell_type": "code",
   "execution_count": 4,
   "id": "fefb2968-6f57-400a-b8ea-537ba2fd4d91",
   "metadata": {},
   "outputs": [
    {
     "name": "stdout",
     "output_type": "stream",
     "text": [
      "3628800\n"
     ]
    }
   ],
   "source": [
    "print(factorial(10)) # Expected output: 3628800"
   ]
  },
  {
   "cell_type": "code",
   "execution_count": null,
   "id": "0046abee-1f99-4bf4-8a40-d16f349b5b7b",
   "metadata": {},
   "outputs": [],
   "source": []
  }
 ],
 "metadata": {
  "kernelspec": {
   "display_name": "Python 3 (ipykernel)",
   "language": "python",
   "name": "python3"
  },
  "language_info": {
   "codemirror_mode": {
    "name": "ipython",
    "version": 3
   },
   "file_extension": ".py",
   "mimetype": "text/x-python",
   "name": "python",
   "nbconvert_exporter": "python",
   "pygments_lexer": "ipython3",
   "version": "3.12.7"
  }
 },
 "nbformat": 4,
 "nbformat_minor": 5
}
