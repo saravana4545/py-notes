{
 "cells": [
  {
   "cell_type": "code",
   "execution_count": 6,
   "id": "331a9903-8955-42aa-b636-827c8952a8ec",
   "metadata": {},
   "outputs": [
    {
     "name": "stdout",
     "output_type": "stream",
     "text": [
      "78.5\n",
      "314.0\n"
     ]
    }
   ],
   "source": [
    "#19 - Write a function to calculate the area of a circle given its radius.\n",
    "\n",
    "def calculate_circle_area(radius):\n",
    "    \"\"\"\n",
    "    Calculate the area of a circle given its radius.\n",
    "\n",
    "    Parameters:\n",
    "    radius (float): The radius of the circle.\n",
    "\n",
    "    Returns:\n",
    "    float: The area of the circle.\n",
    "    \"\"\"\n",
    "    PI = 3.14\n",
    "    my_area = PI*radius**2\n",
    "    return my_area\n",
    "\n",
    "# Sample test cases\n",
    "print(calculate_circle_area(5))  # Expected output: 78.53975\n",
    "print(calculate_circle_area(10))  # Expected output: 314.159"
   ]
  },
  {
   "cell_type": "code",
   "execution_count": null,
   "id": "d01c6fbf-d080-4b2c-b022-b0d1286e9103",
   "metadata": {},
   "outputs": [],
   "source": []
  }
 ],
 "metadata": {
  "kernelspec": {
   "display_name": "Python 3 (ipykernel)",
   "language": "python",
   "name": "python3"
  },
  "language_info": {
   "codemirror_mode": {
    "name": "ipython",
    "version": 3
   },
   "file_extension": ".py",
   "mimetype": "text/x-python",
   "name": "python",
   "nbconvert_exporter": "python",
   "pygments_lexer": "ipython3",
   "version": "3.12.7"
  }
 },
 "nbformat": 4,
 "nbformat_minor": 5
}
