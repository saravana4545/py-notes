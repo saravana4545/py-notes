{
 "cells": [
  {
   "cell_type": "code",
   "execution_count": 9,
   "id": "e842c4b6-3013-4110-bb49-5e2b5acf6196",
   "metadata": {},
   "outputs": [],
   "source": [
    "# 23 - Write a function to check if a number is positive, negative, or zero."
   ]
  },
  {
   "cell_type": "code",
   "execution_count": 20,
   "id": "13dd8769-56e6-4f99-b262-8aa6cc542c5f",
   "metadata": {},
   "outputs": [],
   "source": [
    "def check_number(num):\n",
    "    \"\"\"\n",
    "    This function checks if a number is positive, negative, or zero.\n",
    "\n",
    "    Parameters:\n",
    "    num (int): The number to be checked.\n",
    "\n",
    "    Returns:\n",
    "    str: 'Positive' if the number is positive, 'Negative' if the number is negative, 'Zero' if the number is zero.\n",
    "    \"\"\"\n",
    "    if num == 0:\n",
    "        return \"Zero\"\n",
    "    elif num >= 0:\n",
    "        return \"positive\"\n",
    "\n",
    "    return \"negative\""
   ]
  },
  {
   "cell_type": "code",
   "execution_count": 21,
   "id": "0411ca72-af1b-48a8-b8c3-41ff77328dd7",
   "metadata": {},
   "outputs": [],
   "source": [
    "# Sample test cases"
   ]
  },
  {
   "cell_type": "code",
   "execution_count": 22,
   "id": "1520d3ca-94ba-4d8c-9215-d87d05801711",
   "metadata": {},
   "outputs": [
    {
     "name": "stdout",
     "output_type": "stream",
     "text": [
      "positive\n"
     ]
    }
   ],
   "source": [
    "print(check_number(5))  # Expected output: 'Positive'"
   ]
  },
  {
   "cell_type": "code",
   "execution_count": 23,
   "id": "582ca08a-437f-4f6e-a5b2-5ec9c23b7c62",
   "metadata": {},
   "outputs": [
    {
     "name": "stdout",
     "output_type": "stream",
     "text": [
      "negative\n"
     ]
    }
   ],
   "source": [
    "print(check_number(-3))  # Expected output: 'Negative'"
   ]
  },
  {
   "cell_type": "code",
   "execution_count": 24,
   "id": "f943d91c-e8c8-4826-b439-7c6d754650c9",
   "metadata": {},
   "outputs": [
    {
     "name": "stdout",
     "output_type": "stream",
     "text": [
      "Zero\n"
     ]
    }
   ],
   "source": [
    "print(check_number(0))  # Expected output: 'Zero'"
   ]
  },
  {
   "cell_type": "code",
   "execution_count": null,
   "id": "de0ca1eb-92f8-42a5-bceb-bedd2942f4b0",
   "metadata": {},
   "outputs": [],
   "source": []
  }
 ],
 "metadata": {
  "kernelspec": {
   "display_name": "Python 3 (ipykernel)",
   "language": "python",
   "name": "python3"
  },
  "language_info": {
   "codemirror_mode": {
    "name": "ipython",
    "version": 3
   },
   "file_extension": ".py",
   "mimetype": "text/x-python",
   "name": "python",
   "nbconvert_exporter": "python",
   "pygments_lexer": "ipython3",
   "version": "3.12.7"
  }
 },
 "nbformat": 4,
 "nbformat_minor": 5
}
