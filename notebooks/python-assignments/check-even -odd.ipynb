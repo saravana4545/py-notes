{
 "cells": [
  {
   "cell_type": "code",
   "execution_count": 4,
   "id": "d196e3df-afc6-46af-927e-51017808be69",
   "metadata": {},
   "outputs": [],
   "source": [
    "#Write a function to check if a number is even or odd."
   ]
  },
  {
   "cell_type": "code",
   "execution_count": 5,
   "id": "ca454b1c-3f23-4b67-acf5-c9f7bfca70ff",
   "metadata": {},
   "outputs": [],
   "source": [
    "def check_even_odd(num):\n",
    "    \"\"\"\n",
    "    This function checks if a number is even or odd.\n",
    "\n",
    "    Parameters:\n",
    "    num (int): The number to be checked.\n",
    "\n",
    "    Returns:\n",
    "    str: 'Even' if the number is even, 'Odd' if the number is odd.\n",
    "    \"\"\"\n",
    "\n",
    "    # Check if the number is even or odd\n",
    "    if num % 2 == 0:\n",
    "        return 'Even'\n",
    "        \n",
    "    return 'Odd'"
   ]
  },
  {
   "cell_type": "code",
   "execution_count": 6,
   "id": "7e0fe26c-fc55-4afd-94b6-20122d290f3c",
   "metadata": {},
   "outputs": [],
   "source": [
    "# Sample test cases"
   ]
  },
  {
   "cell_type": "code",
   "execution_count": 7,
   "id": "50883728-67f9-4ac4-b816-4cf57ff747f3",
   "metadata": {},
   "outputs": [
    {
     "name": "stdout",
     "output_type": "stream",
     "text": [
      "Even\n"
     ]
    }
   ],
   "source": [
    "print(check_even_odd(2))  # Expected output: 'Even'"
   ]
  },
  {
   "cell_type": "code",
   "execution_count": 8,
   "id": "5be585b3-ac43-4f77-a61e-4a5c99076aca",
   "metadata": {},
   "outputs": [
    {
     "name": "stdout",
     "output_type": "stream",
     "text": [
      "Odd\n"
     ]
    }
   ],
   "source": [
    "print(check_even_odd(3))  # Expected output: 'Odd'"
   ]
  },
  {
   "cell_type": "code",
   "execution_count": 9,
   "id": "24f4f388-4008-4c7e-ba89-17815dfe24ab",
   "metadata": {},
   "outputs": [
    {
     "name": "stdout",
     "output_type": "stream",
     "text": [
      "Even\n"
     ]
    }
   ],
   "source": [
    "print(check_even_odd(0))  # Expected output: 'Even'"
   ]
  },
  {
   "cell_type": "code",
   "execution_count": null,
   "id": "7061fae5-fe64-451d-a135-7716d360e0cf",
   "metadata": {},
   "outputs": [],
   "source": []
  }
 ],
 "metadata": {
  "kernelspec": {
   "display_name": "Python 3 (ipykernel)",
   "language": "python",
   "name": "python3"
  },
  "language_info": {
   "codemirror_mode": {
    "name": "ipython",
    "version": 3
   },
   "file_extension": ".py",
   "mimetype": "text/x-python",
   "name": "python",
   "nbconvert_exporter": "python",
   "pygments_lexer": "ipython3",
   "version": "3.12.7"
  }
 },
 "nbformat": 4,
 "nbformat_minor": 5
}
