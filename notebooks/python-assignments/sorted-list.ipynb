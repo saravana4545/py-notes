{
 "cells": [
  {
   "cell_type": "code",
   "execution_count": 7,
   "id": "2d973e17-27ca-4e94-ba85-683b88499bb9",
   "metadata": {},
   "outputs": [],
   "source": [
    "#8. Write a function to sort a list in ascending order."
   ]
  },
  {
   "cell_type": "code",
   "execution_count": 8,
   "id": "694e874b-c58c-4ae2-b10b-5762f8329106",
   "metadata": {},
   "outputs": [],
   "source": [
    "def sort_list_ascending(lst):\n",
    "    \"\"\"\n",
    "    Sort a list in ascending order.\n",
    "\n",
    "    Parameters:\n",
    "    lst (list): List to be sorted.\n",
    "\n",
    "    Returns:\n",
    "    list: Sorted list in ascending order.\n",
    "    \"\"\"\n",
    "    sorted_list = sorted(lst)\n",
    "\n",
    "    return sorted_list"
   ]
  },
  {
   "cell_type": "code",
   "execution_count": 9,
   "id": "d2695e65-b19e-45b3-9927-29d1f73e6919",
   "metadata": {},
   "outputs": [],
   "source": [
    "# Sample test cases"
   ]
  },
  {
   "cell_type": "code",
   "execution_count": 10,
   "id": "448955dd-a8f5-413c-b07e-5e67e8880601",
   "metadata": {},
   "outputs": [
    {
     "name": "stdout",
     "output_type": "stream",
     "text": [
      "[1, 1, 2, 3, 3, 4, 5, 5, 6, 9]\n"
     ]
    }
   ],
   "source": [
    "print(sort_list_ascending([3, 1, 4, 1, 5, 9, 2, 6, 5, 3]))  # Expected output: [1, 1, 2, 3, 3, 4, 5, 5, 6, 9]"
   ]
  },
  {
   "cell_type": "code",
   "execution_count": 11,
   "id": "2dcb4fc6-44b3-4b3c-9d21-68ed7b0aaa38",
   "metadata": {},
   "outputs": [
    {
     "name": "stdout",
     "output_type": "stream",
     "text": [
      "[1, 2, 3, 4, 5, 6, 7, 8, 9]\n"
     ]
    }
   ],
   "source": [
    "print(sort_list_ascending([9, 8, 7, 6, 5, 4, 3, 2, 1]))  # Expected output: [1, 2, 3, 4, 5, 6, 7, 8, 9]"
   ]
  },
  {
   "cell_type": "code",
   "execution_count": null,
   "id": "1dd49a18-0a31-424b-b027-7c2a44403f95",
   "metadata": {},
   "outputs": [],
   "source": []
  }
 ],
 "metadata": {
  "kernelspec": {
   "display_name": "Python 3 (ipykernel)",
   "language": "python",
   "name": "python3"
  },
  "language_info": {
   "codemirror_mode": {
    "name": "ipython",
    "version": 3
   },
   "file_extension": ".py",
   "mimetype": "text/x-python",
   "name": "python",
   "nbconvert_exporter": "python",
   "pygments_lexer": "ipython3",
   "version": "3.12.7"
  }
 },
 "nbformat": 4,
 "nbformat_minor": 5
}
