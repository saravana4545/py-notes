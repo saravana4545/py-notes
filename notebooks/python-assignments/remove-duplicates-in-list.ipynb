{
 "cells": [
  {
   "cell_type": "code",
   "execution_count": 2,
   "id": "925ab712-12a3-4f26-a4d4-d927e758ceee",
   "metadata": {},
   "outputs": [],
   "source": [
    "#9. Write a function to remove duplicates from a list."
   ]
  },
  {
   "cell_type": "code",
   "execution_count": 3,
   "id": "702e631c-95bb-4f87-adb9-381ce36bcdd1",
   "metadata": {},
   "outputs": [],
   "source": [
    "def remove_duplicates(lst):\n",
    "    \"\"\"\n",
    "    Problem: Write a function to remove duplicates from a list.\n",
    "    \n",
    "    Args:\n",
    "    lst: a list of elements\n",
    "    \n",
    "    Returns:\n",
    "    a list with duplicates removed\n",
    "    \"\"\"\n",
    "    remove_duplicate = list(dict.fromkeys(lst))\n",
    "    \n",
    "    return remove_duplicate"
   ]
  },
  {
   "cell_type": "code",
   "execution_count": 4,
   "id": "a2952bfd-194f-4d19-be1c-88d1ad63f50c",
   "metadata": {},
   "outputs": [],
   "source": [
    "# Sample test cases"
   ]
  },
  {
   "cell_type": "code",
   "execution_count": 5,
   "id": "ab47a2a3-bb77-4927-a4db-71629d2c6e45",
   "metadata": {},
   "outputs": [
    {
     "name": "stdout",
     "output_type": "stream",
     "text": [
      "[1, 2, 3, 4, 5]\n"
     ]
    }
   ],
   "source": [
    "print(remove_duplicates([1, 2, 2, 3, 4, 4, 5])) # Output: [1, 2, 3, 4, 5]"
   ]
  },
  {
   "cell_type": "code",
   "execution_count": 6,
   "id": "ab89984b-df8b-4c93-ac31-7dd7371d9050",
   "metadata": {},
   "outputs": [
    {
     "name": "stdout",
     "output_type": "stream",
     "text": [
      "['a', 'b', 'c', 'd']\n"
     ]
    }
   ],
   "source": [
    "print(remove_duplicates(['a', 'b', 'a', 'c', 'd', 'b'])) # Output: ['a', 'b', 'c', 'd']"
   ]
  },
  {
   "cell_type": "code",
   "execution_count": null,
   "id": "756020b6-f2ec-4076-94db-d5ee5bed1cff",
   "metadata": {},
   "outputs": [],
   "source": []
  }
 ],
 "metadata": {
  "kernelspec": {
   "display_name": "Python 3 (ipykernel)",
   "language": "python",
   "name": "python3"
  },
  "language_info": {
   "codemirror_mode": {
    "name": "ipython",
    "version": 3
   },
   "file_extension": ".py",
   "mimetype": "text/x-python",
   "name": "python",
   "nbconvert_exporter": "python",
   "pygments_lexer": "ipython3",
   "version": "3.12.7"
  }
 },
 "nbformat": 4,
 "nbformat_minor": 5
}
