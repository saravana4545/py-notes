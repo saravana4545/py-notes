{
 "cells": [
  {
   "cell_type": "code",
   "execution_count": 8,
   "id": "9ec24f7b-ccdc-4502-a094-57f4251c2176",
   "metadata": {},
   "outputs": [],
   "source": [
    "#7. Write a function to check if a number is prime."
   ]
  },
  {
   "cell_type": "code",
   "execution_count": 9,
   "id": "eec89fac-2aec-4a5e-b81d-20d1d7516199",
   "metadata": {},
   "outputs": [],
   "source": [
    "def is_prime(num):\n",
    "    \"\"\"\n",
    "    Check if a number is prime.\n",
    "\n",
    "    Parameters:\n",
    "    num (int): The number to check for primality.\n",
    "\n",
    "    Returns:\n",
    "    bool: True if the number is prime, False otherwise.\n",
    "    \"\"\"\n",
    "    if num % 2:\n",
    "        return True\n",
    "\n",
    "    return False"
   ]
  },
  {
   "cell_type": "code",
   "execution_count": 10,
   "id": "9d40cf99-e164-480f-b6d3-877723122c71",
   "metadata": {},
   "outputs": [],
   "source": [
    "# Sample test cases"
   ]
  },
  {
   "cell_type": "code",
   "execution_count": 11,
   "id": "894fbc7f-64c1-44ed-aad7-a157505ac19b",
   "metadata": {},
   "outputs": [
    {
     "name": "stdout",
     "output_type": "stream",
     "text": [
      "True\n"
     ]
    }
   ],
   "source": [
    "print(is_prime(5)) # Expected output: True"
   ]
  },
  {
   "cell_type": "code",
   "execution_count": 12,
   "id": "dc6e81f2-950c-45ab-b621-bd010c505c3e",
   "metadata": {},
   "outputs": [
    {
     "name": "stdout",
     "output_type": "stream",
     "text": [
      "False\n"
     ]
    }
   ],
   "source": [
    "print(is_prime(10)) # Expected output: False"
   ]
  },
  {
   "cell_type": "code",
   "execution_count": 13,
   "id": "6f02fd1d-a95f-4c07-bf7c-33d09a3155f1",
   "metadata": {},
   "outputs": [
    {
     "name": "stdout",
     "output_type": "stream",
     "text": [
      "True\n"
     ]
    }
   ],
   "source": [
    "print(is_prime(17)) # Expected output: True"
   ]
  },
  {
   "cell_type": "code",
   "execution_count": null,
   "id": "29bd4525-21aa-47da-b2b7-42b83f8f7d51",
   "metadata": {},
   "outputs": [],
   "source": []
  }
 ],
 "metadata": {
  "kernelspec": {
   "display_name": "Python 3 (ipykernel)",
   "language": "python",
   "name": "python3"
  },
  "language_info": {
   "codemirror_mode": {
    "name": "ipython",
    "version": 3
   },
   "file_extension": ".py",
   "mimetype": "text/x-python",
   "name": "python",
   "nbconvert_exporter": "python",
   "pygments_lexer": "ipython3",
   "version": "3.12.7"
  }
 },
 "nbformat": 4,
 "nbformat_minor": 5
}
