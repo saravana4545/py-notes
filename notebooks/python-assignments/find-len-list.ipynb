{
 "cells": [
  {
   "cell_type": "code",
   "execution_count": 4,
   "id": "16670a67-f43e-4527-a768-3d146150f6d7",
   "metadata": {},
   "outputs": [],
   "source": [
    "\n",
    "#24 - Write a function to calculate the length of a list."
   ]
  },
  {
   "cell_type": "code",
   "execution_count": 5,
   "id": "a9076ebf-ef44-40bd-af49-c09759233197",
   "metadata": {},
   "outputs": [],
   "source": [
    "def calculate_list_length(lst):\n",
    "    \"\"\"\n",
    "    Calculate the length of a list.\n",
    "\n",
    "    Parameters:\n",
    "    lst (list): A list of elements.\n",
    "\n",
    "    Returns:\n",
    "    int: The length of the list.\n",
    "    \"\"\"\n",
    "    length = len(lst)\n",
    "    # Implement the code to calculate the length of the list here\n",
    "    \n",
    "    return length"
   ]
  },
  {
   "cell_type": "code",
   "execution_count": 6,
   "id": "2cfcad37-4f3a-4b7b-a8bb-e4b1a244ea1a",
   "metadata": {},
   "outputs": [],
   "source": [
    "# Sample test cases"
   ]
  },
  {
   "cell_type": "code",
   "execution_count": 7,
   "id": "14e15920-ae43-475f-afaa-886622e11445",
   "metadata": {},
   "outputs": [
    {
     "name": "stdout",
     "output_type": "stream",
     "text": [
      "3\n"
     ]
    }
   ],
   "source": [
    "print(calculate_list_length([1, 2, 3]))  # Expected output: 3"
   ]
  },
  {
   "cell_type": "code",
   "execution_count": 8,
   "id": "bb6e8572-1abd-45d8-8e2e-422242609aa8",
   "metadata": {},
   "outputs": [
    {
     "name": "stdout",
     "output_type": "stream",
     "text": [
      "0\n"
     ]
    }
   ],
   "source": [
    "print(calculate_list_length([]))  # Expected output: 0"
   ]
  },
  {
   "cell_type": "code",
   "execution_count": 9,
   "id": "39c16c04-e8b1-4c97-be67-d5beb8fe007c",
   "metadata": {},
   "outputs": [
    {
     "name": "stdout",
     "output_type": "stream",
     "text": [
      "4\n"
     ]
    }
   ],
   "source": [
    "print(calculate_list_length(['a', 'b', 'c', 'd']))  # Expected output: 4"
   ]
  },
  {
   "cell_type": "code",
   "execution_count": null,
   "id": "e794dab4-a154-4730-afe9-9806745fbfad",
   "metadata": {},
   "outputs": [],
   "source": []
  },
  {
   "cell_type": "code",
   "execution_count": null,
   "id": "cae0b8a9-7ec5-42b0-9113-f9fd4a34f611",
   "metadata": {},
   "outputs": [],
   "source": []
  }
 ],
 "metadata": {
  "kernelspec": {
   "display_name": "Python 3 (ipykernel)",
   "language": "python",
   "name": "python3"
  },
  "language_info": {
   "codemirror_mode": {
    "name": "ipython",
    "version": 3
   },
   "file_extension": ".py",
   "mimetype": "text/x-python",
   "name": "python",
   "nbconvert_exporter": "python",
   "pygments_lexer": "ipython3",
   "version": "3.12.7"
  }
 },
 "nbformat": 4,
 "nbformat_minor": 5
}
