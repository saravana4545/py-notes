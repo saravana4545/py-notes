{
 "cells": [
  {
   "cell_type": "code",
   "execution_count": 9,
   "id": "0f8c90c0-586d-4136-8871-6de014bde230",
   "metadata": {},
   "outputs": [],
   "source": [
    "#Write a function to check if a given year is a leap year."
   ]
  },
  {
   "cell_type": "code",
   "execution_count": 11,
   "id": "c66188aa-4cee-49fd-9372-ec5da948e11b",
   "metadata": {},
   "outputs": [],
   "source": [
    "def is_leap_year(year):\n",
    "    \"\"\"\n",
    "    Given a year, check if it is a leap year.\n",
    "\n",
    "    Parameters:\n",
    "    year (int): The year to be checked.\n",
    "\n",
    "    Returns:\n",
    "    bool: True if the year is a leap year, False otherwise.\n",
    "    \"\"\"\n",
    "\n",
    "    # Check if the year is divisible by 4\n",
    "    if (year % 4==0 and year % 100 != 0):\n",
    "        return True\n",
    "    else:\n",
    "        return False"
   ]
  },
  {
   "cell_type": "code",
   "execution_count": 12,
   "id": "b02a04f6-1e93-4038-b6ca-705e009f1946",
   "metadata": {},
   "outputs": [
    {
     "name": "stdout",
     "output_type": "stream",
     "text": [
      "False\n"
     ]
    }
   ],
   "source": [
    "# Sample test cases\n",
    "print(is_leap_year(2000)) # Expected output: True"
   ]
  },
  {
   "cell_type": "code",
   "execution_count": 13,
   "id": "cb9b8bde-4137-4a8f-a25b-4c5b660239e4",
   "metadata": {},
   "outputs": [
    {
     "name": "stdout",
     "output_type": "stream",
     "text": [
      "False\n"
     ]
    }
   ],
   "source": [
    "print(is_leap_year(1900)) # Expected output: False"
   ]
  },
  {
   "cell_type": "code",
   "execution_count": 14,
   "id": "e84f0a69-233b-49db-9d7c-6093d30965f7",
   "metadata": {},
   "outputs": [
    {
     "name": "stdout",
     "output_type": "stream",
     "text": [
      "False\n"
     ]
    }
   ],
   "source": [
    "print(is_leap_year(2021)) # Expected output: False"
   ]
  },
  {
   "cell_type": "code",
   "execution_count": 15,
   "id": "bc511c8a-3321-4c24-8cc9-bf06e2e02079",
   "metadata": {},
   "outputs": [
    {
     "name": "stdout",
     "output_type": "stream",
     "text": [
      "False\n"
     ]
    }
   ],
   "source": [
    "print(is_leap_year(2002)) "
   ]
  },
  {
   "cell_type": "code",
   "execution_count": 16,
   "id": "c4c496f8-bd22-482c-9f6b-045579fe84e8",
   "metadata": {},
   "outputs": [
    {
     "name": "stdout",
     "output_type": "stream",
     "text": [
      "True\n"
     ]
    }
   ],
   "source": [
    "print(is_leap_year(1996))"
   ]
  },
  {
   "cell_type": "code",
   "execution_count": null,
   "id": "48de7717-4ff1-4a85-abbe-a16327029659",
   "metadata": {},
   "outputs": [],
   "source": []
  },
  {
   "cell_type": "code",
   "execution_count": null,
   "id": "c2980f6d-2a30-4a8f-809c-4d598a0d2636",
   "metadata": {},
   "outputs": [],
   "source": []
  }
 ],
 "metadata": {
  "kernelspec": {
   "display_name": "Python 3 (ipykernel)",
   "language": "python",
   "name": "python3"
  },
  "language_info": {
   "codemirror_mode": {
    "name": "ipython",
    "version": 3
   },
   "file_extension": ".py",
   "mimetype": "text/x-python",
   "name": "python",
   "nbconvert_exporter": "python",
   "pygments_lexer": "ipython3",
   "version": "3.12.7"
  }
 },
 "nbformat": 4,
 "nbformat_minor": 5
}
