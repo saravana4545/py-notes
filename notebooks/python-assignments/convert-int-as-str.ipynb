{
 "cells": [
  {
   "cell_type": "code",
   "execution_count": null,
   "id": "4042136e-6389-489f-8263-250ec447bd48",
   "metadata": {},
   "outputs": [],
   "source": [
    "#https://stackoverflow.com/questions/7368789/convert-all-strings-in-a-list-to-integers"
   ]
  },
  {
   "cell_type": "code",
   "execution_count": 6,
   "id": "fdaee5c2-e0e7-4f04-af83-06f4c7082c5b",
   "metadata": {},
   "outputs": [],
   "source": [
    "# 22- Write a function to convert a list of integers to a list of strings."
   ]
  },
  {
   "cell_type": "code",
   "execution_count": 11,
   "id": "0fff2de3-e146-4c74-a968-b75942928c16",
   "metadata": {},
   "outputs": [],
   "source": [
    "def convert_integers_to_strings(lst):\n",
    "    \"\"\"\n",
    "    Converts a list of integers to a list of strings.\n",
    "\n",
    "    Parameters:\n",
    "    lst (list): A list of integers to be converted.\n",
    "\n",
    "    Returns:\n",
    "    list: A list of strings converted from the integers.\n",
    "    \"\"\"\n",
    "    # TODO: Complete the implementation of this function\n",
    "    convert_list_as_str = [str(item) for item in lst]\n",
    "    return convert_list_as_str"
   ]
  },
  {
   "cell_type": "code",
   "execution_count": 12,
   "id": "075be372-10f8-4a7a-bc07-090ef46b22be",
   "metadata": {},
   "outputs": [],
   "source": [
    "# Sample test cases"
   ]
  },
  {
   "cell_type": "code",
   "execution_count": 13,
   "id": "cfe53894-6e5d-4497-b9ca-04515ec5d2d8",
   "metadata": {},
   "outputs": [
    {
     "name": "stdout",
     "output_type": "stream",
     "text": [
      "['1', '2', '3']\n"
     ]
    }
   ],
   "source": [
    "print(convert_integers_to_strings([1, 2, 3]))  # Expected output: ['1', '2', '3']"
   ]
  },
  {
   "cell_type": "code",
   "execution_count": 14,
   "id": "74179b01-fb8f-42b4-b87d-9a9f7fc80575",
   "metadata": {},
   "outputs": [
    {
     "name": "stdout",
     "output_type": "stream",
     "text": [
      "['10', '20', '30']\n"
     ]
    }
   ],
   "source": [
    "print(convert_integers_to_strings([10, 20, 30]))  # Expected output: ['10', '20', '30']\n"
   ]
  },
  {
   "cell_type": "code",
   "execution_count": null,
   "id": "df24bcfd-62d8-49a7-b8db-e3df18b29901",
   "metadata": {},
   "outputs": [],
   "source": []
  }
 ],
 "metadata": {
  "kernelspec": {
   "display_name": "Python 3 (ipykernel)",
   "language": "python",
   "name": "python3"
  },
  "language_info": {
   "codemirror_mode": {
    "name": "ipython",
    "version": 3
   },
   "file_extension": ".py",
   "mimetype": "text/x-python",
   "name": "python",
   "nbconvert_exporter": "python",
   "pygments_lexer": "ipython3",
   "version": "3.12.7"
  }
 },
 "nbformat": 4,
 "nbformat_minor": 5
}
