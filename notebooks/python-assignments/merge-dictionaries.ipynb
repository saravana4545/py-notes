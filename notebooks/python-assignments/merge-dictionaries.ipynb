{
 "cells": [
  {
   "cell_type": "code",
   "execution_count": 1,
   "id": "d454162e-94a8-4324-9472-b4c89f816853",
   "metadata": {},
   "outputs": [],
   "source": [
    "#Write a function to merge two dictionaries."
   ]
  },
  {
   "cell_type": "code",
   "execution_count": 12,
   "id": "7b3b4fa0-c51f-4141-a5c1-b73e7639d885",
   "metadata": {},
   "outputs": [],
   "source": [
    "def merge_dicts(dict1, dict2):\n",
    "    \"\"\"\n",
    "    Merge two dictionaries into one.\n",
    "\n",
    "    Parameters:\n",
    "    dict1 (dict): The first dictionary to be merged.\n",
    "    dict2 (dict): The second dictionary to be merged.\n",
    "\n",
    "    Returns:\n",
    "    dict: A new dictionary containing the merged key-value pairs from dict1 and dict2.\n",
    "    \"\"\"\n",
    "    # Loop through dict1 and add key-value pairs to the merged_dict\n",
    "    merged_dict = {**dict1, **dict2}\n",
    "    # Loop through dict2 and add key-value pairs to the merged_dict        \n",
    "    return merged_dict"
   ]
  },
  {
   "cell_type": "code",
   "execution_count": 13,
   "id": "69d6f551-e506-4bcf-bd15-a26e63c3234d",
   "metadata": {},
   "outputs": [
    {
     "name": "stdout",
     "output_type": "stream",
     "text": [
      "{'a': 1, 'b': 2, 'c': 3, 'd': 4}\n"
     ]
    }
   ],
   "source": [
    "# Sample test cases\n",
    "print(merge_dicts({'a': 1, 'b': 2}, {'c': 3, 'd': 4}))  # Output: {'a': 1, 'b': 2, 'c': 3, 'd': 4}"
   ]
  },
  {
   "cell_type": "code",
   "execution_count": 14,
   "id": "17cb95f5-69da-4e48-a42e-90a9064c08b9",
   "metadata": {},
   "outputs": [
    {
     "name": "stdout",
     "output_type": "stream",
     "text": [
      "{'x': 10, 'y': 20, 'z': 30}\n"
     ]
    }
   ],
   "source": [
    "print(merge_dicts({'x': 10, 'y': 20}, {'z': 30}))  # Output: {'x': 10, 'y': 20, 'z': 30}"
   ]
  },
  {
   "cell_type": "code",
   "execution_count": null,
   "id": "24fa0031-fcf2-470c-8d7f-b3fc6710e0de",
   "metadata": {},
   "outputs": [],
   "source": []
  }
 ],
 "metadata": {
  "kernelspec": {
   "display_name": "Python 3 (ipykernel)",
   "language": "python",
   "name": "python3"
  },
  "language_info": {
   "codemirror_mode": {
    "name": "ipython",
    "version": 3
   },
   "file_extension": ".py",
   "mimetype": "text/x-python",
   "name": "python",
   "nbconvert_exporter": "python",
   "pygments_lexer": "ipython3",
   "version": "3.12.7"
  }
 },
 "nbformat": 4,
 "nbformat_minor": 5
}
