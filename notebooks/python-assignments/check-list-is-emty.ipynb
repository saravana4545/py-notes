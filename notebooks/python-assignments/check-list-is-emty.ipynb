{
 "cells": [
  {
   "cell_type": "code",
   "execution_count": 3,
   "id": "fa70ca17-1d62-4e2d-8c23-f966813e79ca",
   "metadata": {},
   "outputs": [],
   "source": [
    "#Write a function to check if a list is empty."
   ]
  },
  {
   "cell_type": "code",
   "execution_count": 7,
   "id": "73d8b791-ec25-44a3-95c5-863f13784331",
   "metadata": {},
   "outputs": [],
   "source": [
    "def is_list_empty(lst):\n",
    "    \"\"\"\n",
    "    Check if a list is empty.\n",
    "\n",
    "    Parameters:\n",
    "    lst (list): A list to check for emptiness.\n",
    "\n",
    "    Returns:\n",
    "    bool: True if the list is empty, False otherwise.\n",
    "    \"\"\"\n",
    "\n",
    "    # Check if the list is empty\n",
    "    if lst == []:\n",
    "        return True\n",
    "        \n",
    "    return False"
   ]
  },
  {
   "cell_type": "code",
   "execution_count": 8,
   "id": "6ca5c1df-80f6-4886-bf63-bcf7b0cdc957",
   "metadata": {},
   "outputs": [
    {
     "name": "stdout",
     "output_type": "stream",
     "text": [
      "True\n"
     ]
    }
   ],
   "source": [
    "# Sample test cases\n",
    "print(is_list_empty([])) # True"
   ]
  },
  {
   "cell_type": "code",
   "execution_count": 9,
   "id": "379c9c50-f563-4173-bc82-64cfd84f110e",
   "metadata": {},
   "outputs": [
    {
     "name": "stdout",
     "output_type": "stream",
     "text": [
      "False\n"
     ]
    }
   ],
   "source": [
    "print(is_list_empty([1, 2, 3])) # False"
   ]
  },
  {
   "cell_type": "code",
   "execution_count": null,
   "id": "afcc9cfc-ea28-4519-8e90-931d341ab40a",
   "metadata": {},
   "outputs": [],
   "source": []
  }
 ],
 "metadata": {
  "kernelspec": {
   "display_name": "Python 3 (ipykernel)",
   "language": "python",
   "name": "python3"
  },
  "language_info": {
   "codemirror_mode": {
    "name": "ipython",
    "version": 3
   },
   "file_extension": ".py",
   "mimetype": "text/x-python",
   "name": "python",
   "nbconvert_exporter": "python",
   "pygments_lexer": "ipython3",
   "version": "3.12.7"
  }
 },
 "nbformat": 4,
 "nbformat_minor": 5
}
