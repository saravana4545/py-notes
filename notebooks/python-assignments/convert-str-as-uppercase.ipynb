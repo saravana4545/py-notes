{
 "cells": [
  {
   "cell_type": "code",
   "execution_count": 2,
   "id": "32396de3-406b-4272-8fbf-b45970cb7011",
   "metadata": {},
   "outputs": [],
   "source": [
    "#Write a function to convert a string to uppercase."
   ]
  },
  {
   "cell_type": "code",
   "execution_count": 3,
   "id": "6768a2f3-e6ba-49c0-8716-3b823a0a4fec",
   "metadata": {},
   "outputs": [],
   "source": [
    "def convert_to_uppercase(s):\n",
    "    \"\"\"\n",
    "    Converts a given string to uppercase.\n",
    "\n",
    "    Parameters:\n",
    "    s (str): The input string to be converted.\n",
    "\n",
    "    Returns:\n",
    "    str: The input string converted to uppercase.\n",
    "    \"\"\"\n",
    "    converted_list = s.upper()\n",
    "    return converted_list"
   ]
  },
  {
   "cell_type": "code",
   "execution_count": 4,
   "id": "a023637c-c8d6-482c-a27d-8fc374dcdb65",
   "metadata": {},
   "outputs": [
    {
     "name": "stdout",
     "output_type": "stream",
     "text": [
      "HELLO\n"
     ]
    }
   ],
   "source": [
    "# Sample test cases\n",
    "print(convert_to_uppercase(\"hello\"))  # Expected output: \"HELLO\""
   ]
  },
  {
   "cell_type": "code",
   "execution_count": 5,
   "id": "ea7980bf-d139-4831-bf01-ab59eed5b3c4",
   "metadata": {},
   "outputs": [
    {
     "name": "stdout",
     "output_type": "stream",
     "text": [
      "PYTHON\n"
     ]
    }
   ],
   "source": [
    "print(convert_to_uppercase(\"Python\"))  # Expected output: \"PYTHON\""
   ]
  },
  {
   "cell_type": "code",
   "execution_count": null,
   "id": "3efa0b0f-cba7-4667-a1ed-7d76dfcb1e63",
   "metadata": {},
   "outputs": [],
   "source": []
  }
 ],
 "metadata": {
  "kernelspec": {
   "display_name": "Python 3 (ipykernel)",
   "language": "python",
   "name": "python3"
  },
  "language_info": {
   "codemirror_mode": {
    "name": "ipython",
    "version": 3
   },
   "file_extension": ".py",
   "mimetype": "text/x-python",
   "name": "python",
   "nbconvert_exporter": "python",
   "pygments_lexer": "ipython3",
   "version": "3.12.7"
  }
 },
 "nbformat": 4,
 "nbformat_minor": 5
}
