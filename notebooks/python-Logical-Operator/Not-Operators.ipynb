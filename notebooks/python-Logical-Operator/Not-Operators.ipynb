{
 "cells": [
  {
   "cell_type": "code",
   "execution_count": 1,
   "id": "a3288563-dc52-4549-94d7-21b93476999b",
   "metadata": {},
   "outputs": [],
   "source": [
    "# Created at 21-01-2025"
   ]
  },
  {
   "cell_type": "code",
   "execution_count": 2,
   "id": "3e6e2b1b-6676-4567-8e84-7a7044ed1ddb",
   "metadata": {},
   "outputs": [],
   "source": [
    "# https://www.scientecheasy.com/2022/10/logical-operators-in-python.html/"
   ]
  },
  {
   "cell_type": "code",
   "execution_count": 3,
   "id": "2eaa8a1f-8dc4-4b39-b3ad-612bb7046626",
   "metadata": {},
   "outputs": [],
   "source": [
    "# NOT Logical Operator"
   ]
  },
  {
   "cell_type": "code",
   "execution_count": 4,
   "id": "e10f2cd8-9fb6-4c7a-b9b6-e2c56e7702f5",
   "metadata": {},
   "outputs": [],
   "source": [
    "def not_operator():\n",
    "    x = 5\n",
    "    if not x < 0:\n",
    "        print(\"x is not less than 0\")\n",
    "    else:\n",
    "        print(\"x is less than 0\")"
   ]
  },
  {
   "cell_type": "code",
   "execution_count": 5,
   "id": "791cc128-694c-4d15-80d7-978298cf7c7a",
   "metadata": {},
   "outputs": [
    {
     "name": "stdout",
     "output_type": "stream",
     "text": [
      "x is not less than 0\n"
     ]
    }
   ],
   "source": [
    "not_operator()"
   ]
  },
  {
   "cell_type": "code",
   "execution_count": null,
   "id": "046f003e-1a11-46c5-b7f7-b0e4e9142117",
   "metadata": {},
   "outputs": [],
   "source": []
  },
  {
   "cell_type": "code",
   "execution_count": 6,
   "id": "2b1a7af6-63e9-47bf-8ba0-c75bf8f625cd",
   "metadata": {},
   "outputs": [],
   "source": [
    "# Combine Logical Operator."
   ]
  },
  {
   "cell_type": "code",
   "execution_count": 9,
   "id": "bfb0da4f-6524-46ac-b6ee-d943ef76c3bc",
   "metadata": {},
   "outputs": [],
   "source": [
    "def combine_operator():\n",
    "    x = 5\n",
    "    y = 10\n",
    "    z = 15\n",
    "    \n",
    "    if (x > 0 and y > 5) or not (z < 20):\n",
    "        print(\"The first condition is True\")\n",
    "    else:\n",
    "        print(\"condition is False\")"
   ]
  },
  {
   "cell_type": "code",
   "execution_count": 10,
   "id": "530431ef-db27-4f88-a44e-2044323c75c8",
   "metadata": {},
   "outputs": [
    {
     "name": "stdout",
     "output_type": "stream",
     "text": [
      "The first condition is True\n"
     ]
    }
   ],
   "source": [
    "combine_operator()"
   ]
  },
  {
   "cell_type": "code",
   "execution_count": null,
   "id": "dda8f519-764d-4101-b99d-85f8e48c0ce2",
   "metadata": {},
   "outputs": [],
   "source": []
  }
 ],
 "metadata": {
  "kernelspec": {
   "display_name": "Python 3 (ipykernel)",
   "language": "python",
   "name": "python3"
  },
  "language_info": {
   "codemirror_mode": {
    "name": "ipython",
    "version": 3
   },
   "file_extension": ".py",
   "mimetype": "text/x-python",
   "name": "python",
   "nbconvert_exporter": "python",
   "pygments_lexer": "ipython3",
   "version": "3.12.7"
  }
 },
 "nbformat": 4,
 "nbformat_minor": 5
}
