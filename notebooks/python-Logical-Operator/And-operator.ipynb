{
 "cells": [
  {
   "cell_type": "code",
   "execution_count": 1,
   "id": "7df19b81-4b6c-4276-aba2-dec88fb28e97",
   "metadata": {},
   "outputs": [],
   "source": [
    "# Created at 21-01-2025"
   ]
  },
  {
   "cell_type": "code",
   "execution_count": 2,
   "id": "71b54b04-65f1-4f23-b826-583615f28a12",
   "metadata": {},
   "outputs": [],
   "source": [
    "# https://www.scientecheasy.com/2022/10/logical-operators-in-python.html/"
   ]
  },
  {
   "cell_type": "code",
   "execution_count": 3,
   "id": "58a44475-3eb1-4723-8873-ccfeac3f302b",
   "metadata": {},
   "outputs": [],
   "source": [
    "# Logical Operator"
   ]
  },
  {
   "cell_type": "code",
   "execution_count": 4,
   "id": "850f2c6b-28bf-47b2-a394-dd8e4d3d3b0f",
   "metadata": {},
   "outputs": [],
   "source": [
    "# AND Logical Operator."
   ]
  },
  {
   "cell_type": "code",
   "execution_count": 5,
   "id": "62a728b3-3f6c-4690-9401-e501ad39f205",
   "metadata": {},
   "outputs": [],
   "source": [
    "def and_operator():\n",
    "    x = 5\n",
    "    y = 10\n",
    "    if x > 0 and y > 5:\n",
    "        print(\"Both conditions are True\")\n",
    "    else:\n",
    "        print(\"One or both conditions are False\")"
   ]
  },
  {
   "cell_type": "code",
   "execution_count": 6,
   "id": "f63811a6-1e10-4c8b-a2e6-08714d1025b7",
   "metadata": {},
   "outputs": [
    {
     "name": "stdout",
     "output_type": "stream",
     "text": [
      "Both conditions are True\n"
     ]
    }
   ],
   "source": [
    "and_operator()"
   ]
  },
  {
   "cell_type": "code",
   "execution_count": null,
   "id": "cfbb9d03-c1f4-4eb9-bc15-5a8db6050289",
   "metadata": {},
   "outputs": [],
   "source": []
  }
 ],
 "metadata": {
  "kernelspec": {
   "display_name": "Python 3 (ipykernel)",
   "language": "python",
   "name": "python3"
  },
  "language_info": {
   "codemirror_mode": {
    "name": "ipython",
    "version": 3
   },
   "file_extension": ".py",
   "mimetype": "text/x-python",
   "name": "python",
   "nbconvert_exporter": "python",
   "pygments_lexer": "ipython3",
   "version": "3.12.7"
  }
 },
 "nbformat": 4,
 "nbformat_minor": 5
}
