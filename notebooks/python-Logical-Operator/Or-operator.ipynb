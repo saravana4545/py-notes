{
 "cells": [
  {
   "cell_type": "code",
   "execution_count": 1,
   "id": "7457835d-c117-42b7-bbda-690fa2ab7a13",
   "metadata": {},
   "outputs": [],
   "source": [
    "# Created at 21-01-2025"
   ]
  },
  {
   "cell_type": "code",
   "execution_count": 2,
   "id": "a67488c8-14e3-4eba-a48f-d3f2d123c14a",
   "metadata": {},
   "outputs": [],
   "source": [
    "# https://www.scientecheasy.com/2022/10/logical-operators-in-python.html/"
   ]
  },
  {
   "cell_type": "code",
   "execution_count": 3,
   "id": "527a6078-5d53-4a72-b8b2-83ff0218bf93",
   "metadata": {},
   "outputs": [],
   "source": [
    "# OR Logical Operator."
   ]
  },
  {
   "cell_type": "code",
   "execution_count": 6,
   "id": "e4e5033e-b8c5-4799-82a4-56758a759513",
   "metadata": {},
   "outputs": [],
   "source": [
    "def or_operator():\n",
    "    x = 5\n",
    "    y = 10\n",
    "    if x > 0 or y < 5:\n",
    "        print(\"At least one condition is True\")\n",
    "    else:\n",
    "        print(\"Both conditions are False\")"
   ]
  },
  {
   "cell_type": "code",
   "execution_count": 7,
   "id": "6d1af1eb-731e-42c3-8e74-572778c370f2",
   "metadata": {},
   "outputs": [
    {
     "name": "stdout",
     "output_type": "stream",
     "text": [
      "At least one condition is True\n"
     ]
    }
   ],
   "source": [
    "or_operator()"
   ]
  },
  {
   "cell_type": "code",
   "execution_count": null,
   "id": "1e503d02-d221-45a3-a836-ac08dc070ea1",
   "metadata": {},
   "outputs": [],
   "source": []
  },
  {
   "cell_type": "code",
   "execution_count": null,
   "id": "f7df50ce-6830-4a18-a84f-2f3f04c1fbf3",
   "metadata": {},
   "outputs": [],
   "source": []
  }
 ],
 "metadata": {
  "kernelspec": {
   "display_name": "Python 3 (ipykernel)",
   "language": "python",
   "name": "python3"
  },
  "language_info": {
   "codemirror_mode": {
    "name": "ipython",
    "version": 3
   },
   "file_extension": ".py",
   "mimetype": "text/x-python",
   "name": "python",
   "nbconvert_exporter": "python",
   "pygments_lexer": "ipython3",
   "version": "3.12.7"
  }
 },
 "nbformat": 4,
 "nbformat_minor": 5
}
