{
 "cells": [
  {
   "cell_type": "code",
   "execution_count": 1,
   "id": "b782cdc3-3ca6-49aa-b1df-ba202ed25e6b",
   "metadata": {},
   "outputs": [],
   "source": [
    "# Created at 21-01-2025"
   ]
  },
  {
   "cell_type": "code",
   "execution_count": 2,
   "id": "c38d49b4-9462-4673-b7b8-4c7014b61e67",
   "metadata": {},
   "outputs": [],
   "source": [
    "# https://www.scientecheasy.com/2022/10/comparison-operators-in-python.html/"
   ]
  },
  {
   "cell_type": "code",
   "execution_count": null,
   "id": "1534a319-2394-4ab0-890a-65a5412840fe",
   "metadata": {},
   "outputs": [],
   "source": [
    "# Comparison (Relational) Operators in Python"
   ]
  },
  {
   "cell_type": "code",
   "execution_count": 3,
   "id": "f29a251c-f2f2-4f3c-a26b-06e417bb3b5d",
   "metadata": {},
   "outputs": [],
   "source": [
    "# Equal to (==)"
   ]
  },
  {
   "cell_type": "code",
   "execution_count": 4,
   "id": "03ae7f5e-3903-4d7a-8916-d630215ebb56",
   "metadata": {},
   "outputs": [],
   "source": [
    "a = 10"
   ]
  },
  {
   "cell_type": "code",
   "execution_count": 5,
   "id": "7920a79e-b233-42c9-9740-ca357bfbd359",
   "metadata": {},
   "outputs": [],
   "source": [
    "b = 20"
   ]
  },
  {
   "cell_type": "code",
   "execution_count": 6,
   "id": "4a8fd488-8265-45dd-a626-a134a597cdb7",
   "metadata": {},
   "outputs": [
    {
     "name": "stdout",
     "output_type": "stream",
     "text": [
      "False\n"
     ]
    }
   ],
   "source": [
    "print(a == b)"
   ]
  },
  {
   "cell_type": "code",
   "execution_count": 7,
   "id": "c38e2d66-c306-4ad4-aef5-b9aeddc81d6a",
   "metadata": {},
   "outputs": [
    {
     "name": "stdout",
     "output_type": "stream",
     "text": [
      "True\n"
     ]
    }
   ],
   "source": [
    "print(a == 10)"
   ]
  },
  {
   "cell_type": "code",
   "execution_count": null,
   "id": "0917405f-5729-41bc-bbb5-f1cc819eaee8",
   "metadata": {},
   "outputs": [],
   "source": []
  },
  {
   "cell_type": "code",
   "execution_count": 8,
   "id": "c9cdb485-de56-4f98-8357-25685c729ae0",
   "metadata": {},
   "outputs": [],
   "source": [
    "# Not equal to (!=)"
   ]
  },
  {
   "cell_type": "code",
   "execution_count": 9,
   "id": "0c46d5f3-9d3a-401f-807e-5381e40f4dc9",
   "metadata": {},
   "outputs": [],
   "source": [
    "x = 5"
   ]
  },
  {
   "cell_type": "code",
   "execution_count": 10,
   "id": "4d5f8ddc-761b-4bd3-ae79-5be330263c5f",
   "metadata": {},
   "outputs": [],
   "source": [
    "y = 10"
   ]
  },
  {
   "cell_type": "code",
   "execution_count": 11,
   "id": "b6e492b7-5ae2-449d-8c01-0feb1e796a4a",
   "metadata": {},
   "outputs": [
    {
     "name": "stdout",
     "output_type": "stream",
     "text": [
      "True\n"
     ]
    }
   ],
   "source": [
    "print(x != y)"
   ]
  },
  {
   "cell_type": "code",
   "execution_count": 12,
   "id": "85b54df7-d561-4d1d-8cb9-ccac1de558fb",
   "metadata": {},
   "outputs": [
    {
     "name": "stdout",
     "output_type": "stream",
     "text": [
      "False\n"
     ]
    }
   ],
   "source": [
    "print(x != 5)"
   ]
  },
  {
   "cell_type": "code",
   "execution_count": null,
   "id": "41fbef8e-0a1e-407b-9e64-5910a4e6087c",
   "metadata": {},
   "outputs": [],
   "source": []
  },
  {
   "cell_type": "code",
   "execution_count": 13,
   "id": "6d2d206b-d8bc-4f21-a019-f06f7f203cf2",
   "metadata": {},
   "outputs": [],
   "source": [
    "# Greater than (>)"
   ]
  },
  {
   "cell_type": "code",
   "execution_count": 14,
   "id": "ab4af9af-5d48-4938-a3fe-157d8704a625",
   "metadata": {},
   "outputs": [],
   "source": [
    "a = 15\n",
    "b = 10"
   ]
  },
  {
   "cell_type": "code",
   "execution_count": 15,
   "id": "99453b26-298b-4dff-94d5-c7f4418b1f9b",
   "metadata": {},
   "outputs": [
    {
     "name": "stdout",
     "output_type": "stream",
     "text": [
      "True\n"
     ]
    }
   ],
   "source": [
    "print(a > b)"
   ]
  },
  {
   "cell_type": "code",
   "execution_count": 16,
   "id": "888cb565-25d5-4ad7-aa30-4513b9183304",
   "metadata": {},
   "outputs": [
    {
     "name": "stdout",
     "output_type": "stream",
     "text": [
      "False\n"
     ]
    }
   ],
   "source": [
    "print(b > a)"
   ]
  },
  {
   "cell_type": "code",
   "execution_count": null,
   "id": "887135de-e9ba-4adb-832c-73ba80a0878c",
   "metadata": {},
   "outputs": [],
   "source": []
  },
  {
   "cell_type": "code",
   "execution_count": null,
   "id": "938b9de1-fa78-48ba-b082-c9c1c8a868f5",
   "metadata": {},
   "outputs": [],
   "source": []
  }
 ],
 "metadata": {
  "kernelspec": {
   "display_name": "Python 3 (ipykernel)",
   "language": "python",
   "name": "python3"
  },
  "language_info": {
   "codemirror_mode": {
    "name": "ipython",
    "version": 3
   },
   "file_extension": ".py",
   "mimetype": "text/x-python",
   "name": "python",
   "nbconvert_exporter": "python",
   "pygments_lexer": "ipython3",
   "version": "3.12.7"
  }
 },
 "nbformat": 4,
 "nbformat_minor": 5
}
