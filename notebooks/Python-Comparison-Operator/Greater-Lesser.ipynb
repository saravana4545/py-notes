{
 "cells": [
  {
   "cell_type": "code",
   "execution_count": 1,
   "id": "de616361-bba1-4bfd-9ad1-a95494efa871",
   "metadata": {},
   "outputs": [],
   "source": [
    " # created at 21-01-2025"
   ]
  },
  {
   "cell_type": "code",
   "execution_count": 2,
   "id": "ea2c41bd-d8b3-4a67-8051-db24a4d454a2",
   "metadata": {},
   "outputs": [],
   "source": [
    "# https://www.scientecheasy.com/2022/10/comparison-operators-in-python.html/"
   ]
  },
  {
   "cell_type": "code",
   "execution_count": 3,
   "id": "1f601ba5-5bd1-4839-99a8-3c1fd50ddd2c",
   "metadata": {},
   "outputs": [],
   "source": [
    "# Greater than or equal to (>=)"
   ]
  },
  {
   "cell_type": "code",
   "execution_count": 4,
   "id": "9b7c67f1-fdc8-4c24-b584-174e895907b0",
   "metadata": {},
   "outputs": [],
   "source": [
    "def greater_than():\n",
    "    num1 = 10\n",
    "    num2 = 10\n",
    "    print(num1 >= num2)\n",
    "    print(num1 >= 15)"
   ]
  },
  {
   "cell_type": "code",
   "execution_count": 5,
   "id": "d56b09bf-23de-43df-af5e-561ebebdb24f",
   "metadata": {},
   "outputs": [
    {
     "name": "stdout",
     "output_type": "stream",
     "text": [
      "True\n",
      "False\n"
     ]
    }
   ],
   "source": [
    "greater_than()"
   ]
  },
  {
   "cell_type": "code",
   "execution_count": null,
   "id": "ad34dfdb-9ade-44e1-8412-7ba55dc70d1c",
   "metadata": {},
   "outputs": [],
   "source": []
  },
  {
   "cell_type": "code",
   "execution_count": 6,
   "id": "7f0e2506-d743-41b1-b59a-5fb187f62d84",
   "metadata": {},
   "outputs": [],
   "source": [
    "# Less than or equal to (<=)"
   ]
  },
  {
   "cell_type": "code",
   "execution_count": 7,
   "id": "196d803b-0773-4193-bdd3-f69afc023296",
   "metadata": {},
   "outputs": [],
   "source": [
    "def less_than():\n",
    "    a = 7\n",
    "    b = 10\n",
    "    print(a <= b)\n",
    "    print(b <= a)"
   ]
  },
  {
   "cell_type": "code",
   "execution_count": 8,
   "id": "abd7ed39-9e51-40a6-859a-04ff0b0581ac",
   "metadata": {},
   "outputs": [
    {
     "name": "stdout",
     "output_type": "stream",
     "text": [
      "True\n",
      "False\n"
     ]
    }
   ],
   "source": [
    "less_than()"
   ]
  },
  {
   "cell_type": "code",
   "execution_count": null,
   "id": "a6aeadf0-806f-45f3-97e4-dc0d66666454",
   "metadata": {},
   "outputs": [],
   "source": []
  }
 ],
 "metadata": {
  "kernelspec": {
   "display_name": "Python 3 (ipykernel)",
   "language": "python",
   "name": "python3"
  },
  "language_info": {
   "codemirror_mode": {
    "name": "ipython",
    "version": 3
   },
   "file_extension": ".py",
   "mimetype": "text/x-python",
   "name": "python",
   "nbconvert_exporter": "python",
   "pygments_lexer": "ipython3",
   "version": "3.12.7"
  }
 },
 "nbformat": 4,
 "nbformat_minor": 5
}
