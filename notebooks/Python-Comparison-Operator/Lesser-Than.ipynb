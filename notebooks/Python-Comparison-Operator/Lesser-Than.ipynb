{
 "cells": [
  {
   "cell_type": "code",
   "execution_count": 1,
   "id": "b6c7285e-6fdf-49f9-a4d4-9f337ba502be",
   "metadata": {},
   "outputs": [],
   "source": [
    "# Created at 21-01-2025"
   ]
  },
  {
   "cell_type": "code",
   "execution_count": 2,
   "id": "573f49af-0e51-44a9-a73f-546aa9f0ca24",
   "metadata": {},
   "outputs": [],
   "source": [
    "# https://www.scientecheasy.com/2022/10/comparison-operators-in-python.html/"
   ]
  },
  {
   "cell_type": "code",
   "execution_count": 3,
   "id": "ff71ecb2-5f10-4414-a0b2-be48fa01ffcd",
   "metadata": {},
   "outputs": [],
   "source": [
    "# Less than (<)"
   ]
  },
  {
   "cell_type": "code",
   "execution_count": 4,
   "id": "fb56fa8d-2ac0-4362-b970-a273fd8c0b4d",
   "metadata": {},
   "outputs": [],
   "source": [
    "def lesser_than():\n",
    "    x = 8\n",
    "    y = 12\n",
    "    print(x < y)\n",
    "    print(y < x)"
   ]
  },
  {
   "cell_type": "code",
   "execution_count": 5,
   "id": "e30eef69-b910-4404-afe5-8c0ae2c30002",
   "metadata": {},
   "outputs": [
    {
     "name": "stdout",
     "output_type": "stream",
     "text": [
      "True\n",
      "False\n"
     ]
    }
   ],
   "source": [
    "lesser_than()"
   ]
  },
  {
   "cell_type": "code",
   "execution_count": null,
   "id": "40904b21-8602-4f4c-9b24-d17fb1d6a780",
   "metadata": {},
   "outputs": [],
   "source": []
  }
 ],
 "metadata": {
  "kernelspec": {
   "display_name": "Python 3 (ipykernel)",
   "language": "python",
   "name": "python3"
  },
  "language_info": {
   "codemirror_mode": {
    "name": "ipython",
    "version": 3
   },
   "file_extension": ".py",
   "mimetype": "text/x-python",
   "name": "python",
   "nbconvert_exporter": "python",
   "pygments_lexer": "ipython3",
   "version": "3.12.7"
  }
 },
 "nbformat": 4,
 "nbformat_minor": 5
}
