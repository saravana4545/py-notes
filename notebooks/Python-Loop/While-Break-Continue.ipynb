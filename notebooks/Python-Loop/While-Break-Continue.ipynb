{
 "cells": [
  {
   "cell_type": "code",
   "execution_count": 1,
   "id": "859968a6-c98e-45d3-97a2-22734a837c7a",
   "metadata": {},
   "outputs": [],
   "source": [
    "# Created at 27-01-2025"
   ]
  },
  {
   "cell_type": "code",
   "execution_count": 2,
   "id": "1e90be92-f39a-452e-88ba-2817c528bd2e",
   "metadata": {},
   "outputs": [],
   "source": [
    "# https://www.scientecheasy.com/2022/10/while-loop-in-python.html/"
   ]
  },
  {
   "cell_type": "code",
   "execution_count": 7,
   "id": "8784757c-290f-44ee-9862-fd9b20bfae02",
   "metadata": {},
   "outputs": [],
   "source": [
    "# While Loop - Examples"
   ]
  },
  {
   "cell_type": "code",
   "execution_count": 8,
   "id": "4e51d5c4-86f8-4e33-b0e2-6b03e52e4bdf",
   "metadata": {},
   "outputs": [],
   "source": [
    "i = 1"
   ]
  },
  {
   "cell_type": "code",
   "execution_count": 9,
   "id": "39ea8e33-2af2-4beb-bee3-bba4fff49a25",
   "metadata": {},
   "outputs": [
    {
     "name": "stdout",
     "output_type": "stream",
     "text": [
      "1\n",
      "2\n",
      "3\n",
      "4\n",
      "5\n"
     ]
    }
   ],
   "source": [
    "while i <= 5:\n",
    "    print(i)\n",
    "    i += 1"
   ]
  },
  {
   "cell_type": "code",
   "execution_count": null,
   "id": "30013a1a-0d05-4105-b8cc-dd65fb8228fd",
   "metadata": {},
   "outputs": [],
   "source": []
  },
  {
   "cell_type": "code",
   "execution_count": 10,
   "id": "c4174e08-2f89-4009-b9f4-2a79309b9182",
   "metadata": {},
   "outputs": [],
   "source": [
    "# Break Condition"
   ]
  },
  {
   "cell_type": "code",
   "execution_count": 11,
   "id": "b7282669-9806-42cc-97fc-56e5aa238c37",
   "metadata": {},
   "outputs": [],
   "source": [
    "i = 1"
   ]
  },
  {
   "cell_type": "code",
   "execution_count": 12,
   "id": "1613eab3-0d57-450d-8c93-6bb3678632f6",
   "metadata": {},
   "outputs": [
    {
     "name": "stdout",
     "output_type": "stream",
     "text": [
      "1\n",
      "2\n"
     ]
    }
   ],
   "source": [
    "while i <= 5:\n",
    "    if i == 3:\n",
    "        break\n",
    "    print(i)\n",
    "    i += 1"
   ]
  },
  {
   "cell_type": "code",
   "execution_count": null,
   "id": "b060dde1-3b91-4bb7-a306-c71102d98c75",
   "metadata": {},
   "outputs": [],
   "source": []
  },
  {
   "cell_type": "code",
   "execution_count": 13,
   "id": "32635562-3811-4f04-aab9-870d20c59a5a",
   "metadata": {},
   "outputs": [],
   "source": [
    "# Continue"
   ]
  },
  {
   "cell_type": "code",
   "execution_count": 14,
   "id": "dc1e16a3-3678-46d5-9234-4774402fd05a",
   "metadata": {},
   "outputs": [],
   "source": [
    "i = 1"
   ]
  },
  {
   "cell_type": "code",
   "execution_count": 15,
   "id": "b15c0cd1-a44d-4a24-ab5c-b68a98bd491a",
   "metadata": {},
   "outputs": [
    {
     "name": "stdout",
     "output_type": "stream",
     "text": [
      "1\n",
      "2\n",
      "4\n",
      "5\n"
     ]
    }
   ],
   "source": [
    "while i <= 5:\n",
    "    if i == 3:\n",
    "        i += 1\n",
    "        continue\n",
    "    print(i)\n",
    "    i += 1"
   ]
  },
  {
   "cell_type": "code",
   "execution_count": null,
   "id": "d0ec51ce-aa8d-456e-88d4-ca979d12f161",
   "metadata": {},
   "outputs": [],
   "source": []
  }
 ],
 "metadata": {
  "kernelspec": {
   "display_name": "Python 3 (ipykernel)",
   "language": "python",
   "name": "python3"
  },
  "language_info": {
   "codemirror_mode": {
    "name": "ipython",
    "version": 3
   },
   "file_extension": ".py",
   "mimetype": "text/x-python",
   "name": "python",
   "nbconvert_exporter": "python",
   "pygments_lexer": "ipython3",
   "version": "3.12.7"
  }
 },
 "nbformat": 4,
 "nbformat_minor": 5
}
