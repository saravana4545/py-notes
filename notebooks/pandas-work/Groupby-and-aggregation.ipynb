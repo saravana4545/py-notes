{
 "cells": [
  {
   "cell_type": "code",
   "execution_count": null,
   "id": "1e67ec0c-20da-44e5-ae62-afc220876e89",
   "metadata": {},
   "outputs": [],
   "source": [
    "#GroupBy with Multiple Aggregations"
   ]
  },
  {
   "cell_type": "code",
   "execution_count": null,
   "id": "8dcccb4d-0039-44f1-b6b5-699c629b6540",
   "metadata": {},
   "outputs": [],
   "source": [
    "#import pandas library"
   ]
  },
  {
   "cell_type": "code",
   "execution_count": 2,
   "id": "f76ca0bc-193f-4ad0-9432-cedb8219530f",
   "metadata": {},
   "outputs": [],
   "source": [
    "import pandas as pd"
   ]
  },
  {
   "cell_type": "code",
   "execution_count": 3,
   "id": "c49deb30-3627-4c4c-a19e-d25b6bdd269a",
   "metadata": {},
   "outputs": [],
   "source": [
    "# Sample DataFrame"
   ]
  },
  {
   "cell_type": "code",
   "execution_count": null,
   "id": "ba796de7-4f94-4691-ab62-93a4ff8d0767",
   "metadata": {},
   "outputs": [],
   "source": []
  },
  {
   "cell_type": "code",
   "execution_count": 4,
   "id": "b03e9e34-39ea-4883-a9da-d7f0fc54c021",
   "metadata": {},
   "outputs": [],
   "source": [
    "data = {\n",
    "    'Department': ['HR', 'HR', 'IT', 'IT', 'Sales', 'Sales'],\n",
    "    'Employee': ['John', 'Emma', 'Alice', 'Bob', 'Charles', 'Diana'],\n",
    "    'Salary': [50000, 60000, 75000, 80000, 45000, 48000],\n",
    "    'Experience': [5, 4, 6, 7, 3, 2]\n",
    "}\n"
   ]
  },
  {
   "cell_type": "code",
   "execution_count": null,
   "id": "6d693b90-55d1-49c7-a0b9-b2de0d614db0",
   "metadata": {},
   "outputs": [],
   "source": [
    "#convert the variable as DataFrame"
   ]
  },
  {
   "cell_type": "code",
   "execution_count": 6,
   "id": "58c1f1c7-c2e3-4026-bf4f-11697665a251",
   "metadata": {},
   "outputs": [],
   "source": [
    "df = pd.DataFrame(data)"
   ]
  },
  {
   "cell_type": "code",
   "execution_count": 7,
   "id": "7fa57d84-cea1-48f0-8886-b84bb40f70de",
   "metadata": {},
   "outputs": [
    {
     "data": {
      "text/html": [
       "<div>\n",
       "<style scoped>\n",
       "    .dataframe tbody tr th:only-of-type {\n",
       "        vertical-align: middle;\n",
       "    }\n",
       "\n",
       "    .dataframe tbody tr th {\n",
       "        vertical-align: top;\n",
       "    }\n",
       "\n",
       "    .dataframe thead th {\n",
       "        text-align: right;\n",
       "    }\n",
       "</style>\n",
       "<table border=\"1\" class=\"dataframe\">\n",
       "  <thead>\n",
       "    <tr style=\"text-align: right;\">\n",
       "      <th></th>\n",
       "      <th>Department</th>\n",
       "      <th>Employee</th>\n",
       "      <th>Salary</th>\n",
       "      <th>Experience</th>\n",
       "    </tr>\n",
       "  </thead>\n",
       "  <tbody>\n",
       "    <tr>\n",
       "      <th>0</th>\n",
       "      <td>HR</td>\n",
       "      <td>John</td>\n",
       "      <td>50000</td>\n",
       "      <td>5</td>\n",
       "    </tr>\n",
       "    <tr>\n",
       "      <th>1</th>\n",
       "      <td>HR</td>\n",
       "      <td>Emma</td>\n",
       "      <td>60000</td>\n",
       "      <td>4</td>\n",
       "    </tr>\n",
       "    <tr>\n",
       "      <th>2</th>\n",
       "      <td>IT</td>\n",
       "      <td>Alice</td>\n",
       "      <td>75000</td>\n",
       "      <td>6</td>\n",
       "    </tr>\n",
       "    <tr>\n",
       "      <th>3</th>\n",
       "      <td>IT</td>\n",
       "      <td>Bob</td>\n",
       "      <td>80000</td>\n",
       "      <td>7</td>\n",
       "    </tr>\n",
       "    <tr>\n",
       "      <th>4</th>\n",
       "      <td>Sales</td>\n",
       "      <td>Charles</td>\n",
       "      <td>45000</td>\n",
       "      <td>3</td>\n",
       "    </tr>\n",
       "    <tr>\n",
       "      <th>5</th>\n",
       "      <td>Sales</td>\n",
       "      <td>Diana</td>\n",
       "      <td>48000</td>\n",
       "      <td>2</td>\n",
       "    </tr>\n",
       "  </tbody>\n",
       "</table>\n",
       "</div>"
      ],
      "text/plain": [
       "  Department Employee  Salary  Experience\n",
       "0         HR     John   50000           5\n",
       "1         HR     Emma   60000           4\n",
       "2         IT    Alice   75000           6\n",
       "3         IT      Bob   80000           7\n",
       "4      Sales  Charles   45000           3\n",
       "5      Sales    Diana   48000           2"
      ]
     },
     "execution_count": 7,
     "metadata": {},
     "output_type": "execute_result"
    }
   ],
   "source": [
    "df"
   ]
  },
  {
   "cell_type": "code",
   "execution_count": 8,
   "id": "1e3a513b-de29-4da9-ba32-15008725ab3d",
   "metadata": {},
   "outputs": [],
   "source": [
    "# Group by and aggregate"
   ]
  },
  {
   "cell_type": "code",
   "execution_count": null,
   "id": "caf044c5-23f0-4dae-a9a5-c115397e084b",
   "metadata": {},
   "outputs": [],
   "source": []
  },
  {
   "cell_type": "code",
   "execution_count": 9,
   "id": "bf97b1a2-4538-4667-9240-71ecd779bc4e",
   "metadata": {},
   "outputs": [],
   "source": [
    "agg_df = df.groupby('Department').agg(\n",
    "    Total_Salary=('Salary', 'sum'),\n",
    "    Avg_Experience=('Experience', 'mean'),\n",
    "    Max_Salary=('Salary', 'max')\n",
    ").reset_index()"
   ]
  },
  {
   "cell_type": "code",
   "execution_count": 12,
   "id": "cde41006-14fa-40f3-b2a7-cfc2589e3a24",
   "metadata": {},
   "outputs": [
    {
     "name": "stdout",
     "output_type": "stream",
     "text": [
      "Grouped and Aggregated DataFrame:\n",
      "  Department  Total_Salary  Avg_Experience  Max_Salary\n",
      "0         HR        110000             4.5       60000\n",
      "1         IT        155000             6.5       80000\n",
      "2      Sales         93000             2.5       48000\n"
     ]
    }
   ],
   "source": [
    "print(f\"Grouped and Aggregated DataFrame:\\n{agg_df}\")"
   ]
  },
  {
   "cell_type": "code",
   "execution_count": null,
   "id": "48efe364-00cd-4a97-a90b-e6664d0aaceb",
   "metadata": {},
   "outputs": [],
   "source": []
  },
  {
   "cell_type": "code",
   "execution_count": null,
   "id": "89f2b902-f0f0-4c0c-ae99-567905547e8f",
   "metadata": {},
   "outputs": [],
   "source": []
  },
  {
   "cell_type": "code",
   "execution_count": null,
   "id": "7a178508-50a9-46c3-be93-1ce3f9fd1993",
   "metadata": {},
   "outputs": [],
   "source": []
  },
  {
   "cell_type": "code",
   "execution_count": null,
   "id": "8c50e8b6-ca35-4c5a-957e-bf21465da573",
   "metadata": {},
   "outputs": [],
   "source": []
  }
 ],
 "metadata": {
  "kernelspec": {
   "display_name": "Python 3 (ipykernel)",
   "language": "python",
   "name": "python3"
  },
  "language_info": {
   "codemirror_mode": {
    "name": "ipython",
    "version": 3
   },
   "file_extension": ".py",
   "mimetype": "text/x-python",
   "name": "python",
   "nbconvert_exporter": "python",
   "pygments_lexer": "ipython3",
   "version": "3.12.7"
  }
 },
 "nbformat": 4,
 "nbformat_minor": 5
}
