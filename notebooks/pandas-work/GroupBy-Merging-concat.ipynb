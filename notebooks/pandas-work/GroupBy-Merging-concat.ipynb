{
 "cells": [
  {
   "cell_type": "code",
   "execution_count": 13,
   "id": "31a962cb-efe9-45c3-a644-9978ea9cb244",
   "metadata": {},
   "outputs": [],
   "source": [
    "#import pandas library"
   ]
  },
  {
   "cell_type": "code",
   "execution_count": 14,
   "id": "3999b0cc-942b-45dc-81f1-cffd3a783887",
   "metadata": {},
   "outputs": [],
   "source": [
    "import pandas as pd"
   ]
  },
  {
   "cell_type": "code",
   "execution_count": 15,
   "id": "53669c2b-6c3f-4c9c-8852-4dfee02a6c8a",
   "metadata": {},
   "outputs": [],
   "source": [
    "# GroupBy and Aggregations"
   ]
  },
  {
   "cell_type": "code",
   "execution_count": 16,
   "id": "e862fc9c-6f37-4e9d-9412-43761ae4b85d",
   "metadata": {},
   "outputs": [],
   "source": [
    "data = {\n",
    "    'Department': ['HR', 'IT', 'HR', 'IT', 'Finance'],\n",
    "    'Salary': [50000, 60000, 45000, 70000, 65000]\n",
    "}\n"
   ]
  },
  {
   "cell_type": "code",
   "execution_count": 17,
   "id": "ba45bc9b-d6e7-4b1c-83f8-9fd020051dec",
   "metadata": {},
   "outputs": [],
   "source": [
    "df = pd.DataFrame(data)"
   ]
  },
  {
   "cell_type": "code",
   "execution_count": 18,
   "id": "c74bf23e-4eea-46d9-9d1e-05fb1b00a06a",
   "metadata": {},
   "outputs": [],
   "source": [
    "# Grouping and aggregating"
   ]
  },
  {
   "cell_type": "code",
   "execution_count": 19,
   "id": "4c4f22fd-4647-4b54-8dfb-7e8ca7029615",
   "metadata": {},
   "outputs": [
    {
     "name": "stdout",
     "output_type": "stream",
     "text": [
      "               mean     sum    max\n",
      "Department                        \n",
      "Finance     65000.0   65000  65000\n",
      "HR          47500.0   95000  50000\n",
      "IT          65000.0  130000  70000\n"
     ]
    }
   ],
   "source": [
    "grouped = df.groupby('Department')['Salary'].agg(['mean', 'sum', 'max'])\n",
    "print(grouped)"
   ]
  },
  {
   "cell_type": "code",
   "execution_count": null,
   "id": "dd1a5b4f-638d-479e-9858-b24d634faec4",
   "metadata": {},
   "outputs": [],
   "source": []
  },
  {
   "cell_type": "code",
   "execution_count": 20,
   "id": "e23d274f-9e53-43f7-aea8-c854f25b82db",
   "metadata": {},
   "outputs": [],
   "source": [
    "#Merging, Joining, and Concatenating"
   ]
  },
  {
   "cell_type": "code",
   "execution_count": 21,
   "id": "7390e744-58eb-459f-a59e-eb370cb38949",
   "metadata": {},
   "outputs": [],
   "source": [
    "df1 = pd.DataFrame({'ID': [1, 2], 'Name': ['Alice', 'Bob']})\n",
    "df2 = pd.DataFrame({'ID': [1, 3], 'Salary': [50000, 60000]})"
   ]
  },
  {
   "cell_type": "code",
   "execution_count": 22,
   "id": "a85ac738-dde2-4824-ae20-d4dd28f6258b",
   "metadata": {},
   "outputs": [
    {
     "name": "stdout",
     "output_type": "stream",
     "text": [
      "   ID   Name   Salary\n",
      "0   1  Alice  50000.0\n",
      "1   2    Bob      NaN\n",
      "2   3    NaN  60000.0\n"
     ]
    }
   ],
   "source": [
    "merged = pd.merge(df1, df2, on='ID', how='outer')\n",
    "print(merged)"
   ]
  },
  {
   "cell_type": "code",
   "execution_count": null,
   "id": "d0c59042-6062-412e-81cd-ad6ded4558a1",
   "metadata": {},
   "outputs": [],
   "source": []
  },
  {
   "cell_type": "code",
   "execution_count": 23,
   "id": "67f53dee-09f1-4b34-8749-4f8a707eb92f",
   "metadata": {},
   "outputs": [],
   "source": [
    "#Concatenating"
   ]
  },
  {
   "cell_type": "code",
   "execution_count": 24,
   "id": "1bcd61df-f948-45a5-95e8-3998253a8719",
   "metadata": {},
   "outputs": [
    {
     "name": "stdout",
     "output_type": "stream",
     "text": [
      "   ID   Name   Salary\n",
      "0   1  Alice      NaN\n",
      "1   2    Bob      NaN\n",
      "2   1    NaN  50000.0\n",
      "3   3    NaN  60000.0\n"
     ]
    }
   ],
   "source": [
    "concat = pd.concat([df1, df2], ignore_index=True)\n",
    "print(concat)"
   ]
  },
  {
   "cell_type": "code",
   "execution_count": null,
   "id": "62307cb4-9821-4795-b798-85d3be403db9",
   "metadata": {},
   "outputs": [],
   "source": []
  },
  {
   "cell_type": "code",
   "execution_count": null,
   "id": "1b700902-9e64-47cd-90f9-dace8250405f",
   "metadata": {},
   "outputs": [],
   "source": []
  },
  {
   "cell_type": "code",
   "execution_count": null,
   "id": "1b77c4ec-3b49-44f7-a0ce-e9f63b4083c1",
   "metadata": {},
   "outputs": [],
   "source": []
  }
 ],
 "metadata": {
  "kernelspec": {
   "display_name": "Python 3 (ipykernel)",
   "language": "python",
   "name": "python3"
  },
  "language_info": {
   "codemirror_mode": {
    "name": "ipython",
    "version": 3
   },
   "file_extension": ".py",
   "mimetype": "text/x-python",
   "name": "python",
   "nbconvert_exporter": "python",
   "pygments_lexer": "ipython3",
   "version": "3.12.7"
  }
 },
 "nbformat": 4,
 "nbformat_minor": 5
}
