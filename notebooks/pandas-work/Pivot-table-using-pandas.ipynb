{
 "cells": [
  {
   "cell_type": "code",
   "execution_count": null,
   "id": "b2b0357d-2c06-468c-8c7f-bb5719f3e97d",
   "metadata": {},
   "outputs": [],
   "source": [
    "#Pivot Tables for Aggregated Data Analysis"
   ]
  },
  {
   "cell_type": "code",
   "execution_count": null,
   "id": "db444e66-ab7f-4f19-886c-4fe69c258c3f",
   "metadata": {},
   "outputs": [],
   "source": [
    "#import pandas library"
   ]
  },
  {
   "cell_type": "code",
   "execution_count": 1,
   "id": "473a7315-f827-4c04-b4ed-32ec37f3a044",
   "metadata": {},
   "outputs": [],
   "source": [
    "import pandas as pd"
   ]
  },
  {
   "cell_type": "code",
   "execution_count": 21,
   "id": "b797e25e-f955-4956-8553-c5b8e0e49919",
   "metadata": {},
   "outputs": [],
   "source": [
    "# Sample DataFrame"
   ]
  },
  {
   "cell_type": "code",
   "execution_count": null,
   "id": "20098125-7773-49a5-b4b9-9b9960b26785",
   "metadata": {},
   "outputs": [],
   "source": []
  },
  {
   "cell_type": "code",
   "execution_count": 9,
   "id": "bcc8540e-8a41-4849-89ec-e3dede3fb67c",
   "metadata": {},
   "outputs": [],
   "source": [
    "data = {\n",
    "    'Category': ['A', 'A', 'B', 'B', 'C', 'C'],\n",
    "    'Subcategory': ['X', 'Y', 'X', 'Y', 'X', 'Y'],\n",
    "    'Values': [10, 20, 0, 40, 50, 60],\n",
    "    'Counts': [1, 2, 1, 3, 2, 4]\n",
    "}"
   ]
  },
  {
   "cell_type": "code",
   "execution_count": null,
   "id": "42841637-2c0a-4897-81e7-4765123dcf70",
   "metadata": {},
   "outputs": [],
   "source": [
    "#converte the variable as DataFrame"
   ]
  },
  {
   "cell_type": "code",
   "execution_count": null,
   "id": "450c862d-536b-42eb-ba2c-c04e0228b35a",
   "metadata": {},
   "outputs": [],
   "source": []
  },
  {
   "cell_type": "code",
   "execution_count": 10,
   "id": "01ea3742-e6cc-4dac-83fe-60a437de9148",
   "metadata": {},
   "outputs": [],
   "source": [
    "df = pd.DataFrame(data)"
   ]
  },
  {
   "cell_type": "code",
   "execution_count": 11,
   "id": "aefc9eb6-30c8-4771-a740-6378850fca92",
   "metadata": {},
   "outputs": [
    {
     "data": {
      "text/html": [
       "<div>\n",
       "<style scoped>\n",
       "    .dataframe tbody tr th:only-of-type {\n",
       "        vertical-align: middle;\n",
       "    }\n",
       "\n",
       "    .dataframe tbody tr th {\n",
       "        vertical-align: top;\n",
       "    }\n",
       "\n",
       "    .dataframe thead th {\n",
       "        text-align: right;\n",
       "    }\n",
       "</style>\n",
       "<table border=\"1\" class=\"dataframe\">\n",
       "  <thead>\n",
       "    <tr style=\"text-align: right;\">\n",
       "      <th></th>\n",
       "      <th>Category</th>\n",
       "      <th>Subcategory</th>\n",
       "      <th>Values</th>\n",
       "      <th>Counts</th>\n",
       "    </tr>\n",
       "  </thead>\n",
       "  <tbody>\n",
       "    <tr>\n",
       "      <th>0</th>\n",
       "      <td>A</td>\n",
       "      <td>X</td>\n",
       "      <td>10</td>\n",
       "      <td>1</td>\n",
       "    </tr>\n",
       "    <tr>\n",
       "      <th>1</th>\n",
       "      <td>A</td>\n",
       "      <td>Y</td>\n",
       "      <td>20</td>\n",
       "      <td>2</td>\n",
       "    </tr>\n",
       "    <tr>\n",
       "      <th>2</th>\n",
       "      <td>B</td>\n",
       "      <td>X</td>\n",
       "      <td>0</td>\n",
       "      <td>1</td>\n",
       "    </tr>\n",
       "    <tr>\n",
       "      <th>3</th>\n",
       "      <td>B</td>\n",
       "      <td>Y</td>\n",
       "      <td>40</td>\n",
       "      <td>3</td>\n",
       "    </tr>\n",
       "    <tr>\n",
       "      <th>4</th>\n",
       "      <td>C</td>\n",
       "      <td>X</td>\n",
       "      <td>50</td>\n",
       "      <td>2</td>\n",
       "    </tr>\n",
       "    <tr>\n",
       "      <th>5</th>\n",
       "      <td>C</td>\n",
       "      <td>Y</td>\n",
       "      <td>60</td>\n",
       "      <td>4</td>\n",
       "    </tr>\n",
       "  </tbody>\n",
       "</table>\n",
       "</div>"
      ],
      "text/plain": [
       "  Category Subcategory  Values  Counts\n",
       "0        A           X      10       1\n",
       "1        A           Y      20       2\n",
       "2        B           X       0       1\n",
       "3        B           Y      40       3\n",
       "4        C           X      50       2\n",
       "5        C           Y      60       4"
      ]
     },
     "execution_count": 11,
     "metadata": {},
     "output_type": "execute_result"
    }
   ],
   "source": [
    "df"
   ]
  },
  {
   "cell_type": "code",
   "execution_count": 12,
   "id": "e827daf3-1670-4b4a-810c-bd9f61933b90",
   "metadata": {},
   "outputs": [],
   "source": [
    "# Create a pivot table"
   ]
  },
  {
   "cell_type": "code",
   "execution_count": null,
   "id": "91408be9-edb1-43c7-bfc5-fa95c52e49f9",
   "metadata": {},
   "outputs": [],
   "source": []
  },
  {
   "cell_type": "code",
   "execution_count": 19,
   "id": "b2e8f3d9-db0d-4946-987b-7e508898e955",
   "metadata": {},
   "outputs": [],
   "source": [
    "pivot = pd.pivot_table(\n",
    "    df, \n",
    "    values     ='Values', \n",
    "    index      ='Category', \n",
    "    columns    ='Subcategory', \n",
    "    aggfunc    ='sum', \n",
    "    fill_value =0\n",
    ")"
   ]
  },
  {
   "cell_type": "code",
   "execution_count": 20,
   "id": "2426a7f5-9b0a-49a6-8c21-4ad10a11e549",
   "metadata": {},
   "outputs": [
    {
     "name": "stdout",
     "output_type": "stream",
     "text": [
      "Pivot Table:\n",
      "Subcategory   X   Y\n",
      "Category           \n",
      "A            10  20\n",
      "B             0  40\n",
      "C            50  60\n"
     ]
    }
   ],
   "source": [
    "print(\"Pivot Table:\")\n",
    "print(pivot)"
   ]
  },
  {
   "cell_type": "code",
   "execution_count": null,
   "id": "d754107d-e45d-445c-8405-d6eec4b201b1",
   "metadata": {},
   "outputs": [],
   "source": []
  },
  {
   "cell_type": "code",
   "execution_count": null,
   "id": "e354fad5-6765-4d67-9935-c4a0af8aa862",
   "metadata": {},
   "outputs": [],
   "source": []
  },
  {
   "cell_type": "code",
   "execution_count": null,
   "id": "42806abf-680f-4294-8f71-6d487297555f",
   "metadata": {},
   "outputs": [],
   "source": []
  }
 ],
 "metadata": {
  "kernelspec": {
   "display_name": "Python 3 (ipykernel)",
   "language": "python",
   "name": "python3"
  },
  "language_info": {
   "codemirror_mode": {
    "name": "ipython",
    "version": 3
   },
   "file_extension": ".py",
   "mimetype": "text/x-python",
   "name": "python",
   "nbconvert_exporter": "python",
   "pygments_lexer": "ipython3",
   "version": "3.12.7"
  }
 },
 "nbformat": 4,
 "nbformat_minor": 5
}
