{
 "cells": [
  {
   "cell_type": "code",
   "execution_count": null,
   "id": "ccce9e38-1316-4399-8a08-186206953005",
   "metadata": {},
   "outputs": [],
   "source": [
    "#import pandas library"
   ]
  },
  {
   "cell_type": "code",
   "execution_count": null,
   "id": "989f8f03-402c-415f-ab13-e5f8e0897dee",
   "metadata": {},
   "outputs": [],
   "source": [
    "#!pip install pandas"
   ]
  },
  {
   "cell_type": "code",
   "execution_count": 1,
   "id": "9b8a36a6-3c4e-4948-85b9-c31440b96273",
   "metadata": {},
   "outputs": [],
   "source": [
    "import pandas as pd"
   ]
  },
  {
   "cell_type": "code",
   "execution_count": null,
   "id": "5827276c-4e94-4663-b329-c8805dddcf24",
   "metadata": {},
   "outputs": [],
   "source": [
    "#create a variable called data and put some values"
   ]
  },
  {
   "cell_type": "code",
   "execution_count": 9,
   "id": "caab9a7c-29e3-4c89-99aa-7a29ea46c9ee",
   "metadata": {},
   "outputs": [],
   "source": [
    "data1 = {\n",
    "    'Category': ['A', 'A', 'B', 'B'],\n",
    "    'Type': ['X', 'Y', 'X', 'Y'],\n",
    "    'Value': [10, 20, 30, 40]\n",
    "}"
   ]
  },
  {
   "cell_type": "code",
   "execution_count": 10,
   "id": "e8163dbe-a1a6-4f96-8051-cce574a2df0c",
   "metadata": {},
   "outputs": [],
   "source": [
    "df = pd.DataFrame(data1)"
   ]
  },
  {
   "cell_type": "code",
   "execution_count": 11,
   "id": "d854c8ab-fa77-49c7-8dab-60cbd252a875",
   "metadata": {},
   "outputs": [],
   "source": [
    "# Setting a multi-level index"
   ]
  },
  {
   "cell_type": "code",
   "execution_count": 12,
   "id": "cb1b5530-17f0-43cb-a567-24451287ab41",
   "metadata": {},
   "outputs": [
    {
     "name": "stdout",
     "output_type": "stream",
     "text": [
      "               Value\n",
      "Category Type       \n",
      "A        X        10\n",
      "         Y        20\n",
      "B        X        30\n",
      "         Y        40\n"
     ]
    }
   ],
   "source": [
    "df = df.set_index(['Category', 'Type'])\n",
    "print(df)"
   ]
  },
  {
   "cell_type": "code",
   "execution_count": 13,
   "id": "54780992-f889-4230-bec1-a6ef2ab937ce",
   "metadata": {},
   "outputs": [],
   "source": [
    "# Accessing data using multi-level indexing"
   ]
  },
  {
   "cell_type": "code",
   "execution_count": 14,
   "id": "0d8fd360-6277-4b81-adc8-46b935b09e3d",
   "metadata": {},
   "outputs": [
    {
     "name": "stdout",
     "output_type": "stream",
     "text": [
      "Value    10\n",
      "Name: (A, X), dtype: int64\n"
     ]
    }
   ],
   "source": [
    "print(df.loc['A', 'X'])"
   ]
  },
  {
   "cell_type": "code",
   "execution_count": null,
   "id": "d64a6893-35bd-4063-8f89-eeb6f0cfee4e",
   "metadata": {},
   "outputs": [],
   "source": []
  },
  {
   "cell_type": "code",
   "execution_count": null,
   "id": "2711a867-9650-49fd-a61e-0eb1e1a662ed",
   "metadata": {},
   "outputs": [],
   "source": []
  },
  {
   "cell_type": "code",
   "execution_count": 16,
   "id": "3bfae289-9043-431f-8365-07b42ffe910a",
   "metadata": {},
   "outputs": [],
   "source": [
    "#create pivot  table "
   ]
  },
  {
   "cell_type": "code",
   "execution_count": 17,
   "id": "a9a317e9-3242-4192-8ccc-74f51b073050",
   "metadata": {},
   "outputs": [],
   "source": [
    "data2 = {\n",
    "    'City': ['New York', 'Los Angeles', 'Chicago', 'New York'],\n",
    "    'Year': [2020, 2020, 2021, 2021],\n",
    "    'Sales': [100, 200, 150, 300]\n",
    "}"
   ]
  },
  {
   "cell_type": "code",
   "execution_count": 18,
   "id": "c843043e-082d-43a8-91b7-9ba006eab17c",
   "metadata": {},
   "outputs": [],
   "source": [
    "df = pd.DataFrame(data2)"
   ]
  },
  {
   "cell_type": "code",
   "execution_count": 19,
   "id": "36166d4e-b967-46f0-87af-194e3adf9113",
   "metadata": {},
   "outputs": [],
   "source": [
    "# Creating a pivot table"
   ]
  },
  {
   "cell_type": "code",
   "execution_count": 20,
   "id": "19b4c6fa-ce4b-461e-a94f-9903e58b3eab",
   "metadata": {},
   "outputs": [
    {
     "name": "stdout",
     "output_type": "stream",
     "text": [
      "Year         2020  2021\n",
      "City                   \n",
      "Chicago         0   150\n",
      "Los Angeles   200     0\n",
      "New York      100   300\n"
     ]
    }
   ],
   "source": [
    "pivot = df.pivot_table(values='Sales', index='City', columns='Year', aggfunc='sum', fill_value=0)\n",
    "print(pivot)"
   ]
  },
  {
   "cell_type": "code",
   "execution_count": null,
   "id": "f7ea43fe-a238-4a92-8788-2ec5ab79b65d",
   "metadata": {},
   "outputs": [],
   "source": []
  },
  {
   "cell_type": "code",
   "execution_count": null,
   "id": "7d322e31-8f86-418b-b749-ef616c76a04f",
   "metadata": {},
   "outputs": [],
   "source": []
  },
  {
   "cell_type": "code",
   "execution_count": 21,
   "id": "68697434-7b71-4968-b0a5-73bbfa652ff3",
   "metadata": {},
   "outputs": [],
   "source": [
    "#Exploding Lists into Rows"
   ]
  },
  {
   "cell_type": "code",
   "execution_count": 22,
   "id": "7323ea9f-8595-44e1-a2d5-408d74c7f3c5",
   "metadata": {},
   "outputs": [],
   "source": [
    "data3 = {\n",
    "    'Name': ['Alice', 'Bob'],\n",
    "    'Hobbies': [['Reading', 'Cycling'], ['Swimming']]\n",
    "}"
   ]
  },
  {
   "cell_type": "code",
   "execution_count": 23,
   "id": "2be8e243-8aa6-48cb-b598-c30f7783bdfd",
   "metadata": {},
   "outputs": [],
   "source": [
    "df = pd.DataFrame(data3)"
   ]
  },
  {
   "cell_type": "code",
   "execution_count": 24,
   "id": "078a6cc1-71b6-4149-9106-0644768927af",
   "metadata": {},
   "outputs": [],
   "source": [
    "# Exploding lists into separate rows"
   ]
  },
  {
   "cell_type": "code",
   "execution_count": 25,
   "id": "48f20ce6-3a23-4879-baa0-d9d79777e025",
   "metadata": {},
   "outputs": [
    {
     "name": "stdout",
     "output_type": "stream",
     "text": [
      "    Name   Hobbies\n",
      "0  Alice   Reading\n",
      "0  Alice   Cycling\n",
      "1    Bob  Swimming\n"
     ]
    }
   ],
   "source": [
    "df = df.explode('Hobbies')\n",
    "print(df)"
   ]
  },
  {
   "cell_type": "code",
   "execution_count": null,
   "id": "dee9c760-e0bf-4755-9399-26ac45e0dea9",
   "metadata": {},
   "outputs": [],
   "source": []
  },
  {
   "cell_type": "code",
   "execution_count": null,
   "id": "0d3f34a9-edf2-42f5-8f4a-c13e5a46d977",
   "metadata": {},
   "outputs": [],
   "source": []
  }
 ],
 "metadata": {
  "kernelspec": {
   "display_name": "Python 3 (ipykernel)",
   "language": "python",
   "name": "python3"
  },
  "language_info": {
   "codemirror_mode": {
    "name": "ipython",
    "version": 3
   },
   "file_extension": ".py",
   "mimetype": "text/x-python",
   "name": "python",
   "nbconvert_exporter": "python",
   "pygments_lexer": "ipython3",
   "version": "3.12.7"
  }
 },
 "nbformat": 4,
 "nbformat_minor": 5
}
