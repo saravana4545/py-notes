{
 "cells": [
  {
   "cell_type": "code",
   "execution_count": null,
   "id": "08066355-d658-46d1-a425-191227d5fd43",
   "metadata": {},
   "outputs": [],
   "source": [
    "#import neccessary library"
   ]
  },
  {
   "cell_type": "code",
   "execution_count": 3,
   "id": "abf5c2e8-010b-4df5-acc4-f61bad646558",
   "metadata": {},
   "outputs": [],
   "source": [
    "import pandas as pd"
   ]
  },
  {
   "cell_type": "code",
   "execution_count": 4,
   "id": "380267ec-e4c7-40d1-acd2-2ac1223db34b",
   "metadata": {},
   "outputs": [],
   "source": [
    "# Creating a DataFrame with time series data"
   ]
  },
  {
   "cell_type": "code",
   "execution_count": 5,
   "id": "b045cd9f-8b1d-4a8d-ae98-0561106d0b42",
   "metadata": {},
   "outputs": [],
   "source": [
    "time_data = {\n",
    "    'Date': pd.date_range(start='2023-01-01', periods=5),\n",
    "    'Value': [10, 20, 30, 40, 50]\n",
    "}"
   ]
  },
  {
   "cell_type": "code",
   "execution_count": 6,
   "id": "f41bc1dd-fc05-45a5-a228-83eb3c016790",
   "metadata": {},
   "outputs": [],
   "source": [
    "df = pd.DataFrame(time_data)"
   ]
  },
  {
   "cell_type": "code",
   "execution_count": 7,
   "id": "d68b5455-b25c-42ee-ad50-5ee6955811df",
   "metadata": {},
   "outputs": [],
   "source": [
    "# Setting the Date column as the index"
   ]
  },
  {
   "cell_type": "code",
   "execution_count": 8,
   "id": "36a38db0-7b71-48c1-b837-6f43dd9b74c1",
   "metadata": {},
   "outputs": [],
   "source": [
    "df = df.set_index('Date')"
   ]
  },
  {
   "cell_type": "code",
   "execution_count": 9,
   "id": "c78e2bee-505e-4d01-8646-9e51e6046653",
   "metadata": {},
   "outputs": [],
   "source": [
    "# Resampling to a different frequency (weekly)"
   ]
  },
  {
   "cell_type": "code",
   "execution_count": 10,
   "id": "0c40214c-9746-4fd5-b2c5-ce0d9899c4db",
   "metadata": {},
   "outputs": [
    {
     "name": "stdout",
     "output_type": "stream",
     "text": [
      "            Value\n",
      "Date             \n",
      "2023-01-01     10\n",
      "2023-01-08    140\n"
     ]
    }
   ],
   "source": [
    "resampled = df.resample('W').sum()\n",
    "print(resampled)"
   ]
  },
  {
   "cell_type": "code",
   "execution_count": null,
   "id": "55cebe0b-b098-4d12-b4ae-a481e063e8eb",
   "metadata": {},
   "outputs": [],
   "source": []
  },
  {
   "cell_type": "code",
   "execution_count": null,
   "id": "bd0e16dc-1de1-4af3-bc9e-6846c4222bf0",
   "metadata": {},
   "outputs": [],
   "source": []
  },
  {
   "cell_type": "code",
   "execution_count": null,
   "id": "e7bbc720-71f3-4e26-bd2a-419bbce13cb0",
   "metadata": {},
   "outputs": [],
   "source": []
  }
 ],
 "metadata": {
  "kernelspec": {
   "display_name": "Python 3 (ipykernel)",
   "language": "python",
   "name": "python3"
  },
  "language_info": {
   "codemirror_mode": {
    "name": "ipython",
    "version": 3
   },
   "file_extension": ".py",
   "mimetype": "text/x-python",
   "name": "python",
   "nbconvert_exporter": "python",
   "pygments_lexer": "ipython3",
   "version": "3.12.7"
  }
 },
 "nbformat": 4,
 "nbformat_minor": 5
}
