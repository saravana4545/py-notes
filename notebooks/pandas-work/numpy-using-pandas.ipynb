{
 "cells": [
  {
   "cell_type": "code",
   "execution_count": null,
   "id": "7fc59e41-172d-4f6e-857a-7319279f25b9",
   "metadata": {},
   "outputs": [],
   "source": [
    "# Handling Missing Data"
   ]
  },
  {
   "cell_type": "code",
   "execution_count": 12,
   "id": "725c84ad-6095-4c0a-91e5-35ae182a15ad",
   "metadata": {},
   "outputs": [],
   "source": [
    "#import neccessary libraries"
   ]
  },
  {
   "cell_type": "code",
   "execution_count": 41,
   "id": "de1bf382-d480-4b94-8153-897a9418f36b",
   "metadata": {},
   "outputs": [],
   "source": [
    "import pandas as pd"
   ]
  },
  {
   "cell_type": "code",
   "execution_count": 42,
   "id": "e98f18fa-d532-440c-be50-c82cc239d316",
   "metadata": {},
   "outputs": [],
   "source": [
    "import numpy as np"
   ]
  },
  {
   "cell_type": "code",
   "execution_count": 43,
   "id": "a1728057-1895-4290-8ed9-e8be2c612830",
   "metadata": {},
   "outputs": [],
   "source": [
    "# Create a DataFrame with missing values"
   ]
  },
  {
   "cell_type": "code",
   "execution_count": 44,
   "id": "5d466ddd-0246-48e7-ac40-6a92760d17f2",
   "metadata": {},
   "outputs": [],
   "source": [
    "#np.nan: Represents missing values."
   ]
  },
  {
   "cell_type": "code",
   "execution_count": null,
   "id": "88bc44f5-3c62-4fb9-9607-c7c78e18ce58",
   "metadata": {},
   "outputs": [],
   "source": []
  },
  {
   "cell_type": "code",
   "execution_count": 45,
   "id": "95debd71-ac30-486e-b01d-f6a2f1768539",
   "metadata": {},
   "outputs": [],
   "source": [
    "data = {\n",
    "    'Name': ['Alice', 'Bob', None],\n",
    "    'Age': [25, np.nan, 35],\n",
    "    'City': ['New York', None, 'Chicago']\n",
    "}"
   ]
  },
  {
   "cell_type": "code",
   "execution_count": 46,
   "id": "3da1d9d5-01aa-4523-ae3d-ae54e71555fe",
   "metadata": {},
   "outputs": [],
   "source": [
    "df = pd.DataFrame(data)"
   ]
  },
  {
   "cell_type": "code",
   "execution_count": 47,
   "id": "e4f68798-3e1c-4ea4-bcc9-e8da3bdbeda7",
   "metadata": {},
   "outputs": [],
   "source": [
    "# Fill missing values with 'Unknown' or 0"
   ]
  },
  {
   "cell_type": "code",
   "execution_count": 48,
   "id": "3818072b-c09f-42e1-9c73-8e49f8539fc0",
   "metadata": {},
   "outputs": [],
   "source": [
    "#df.fillna(): Replaces missing values with specified values."
   ]
  },
  {
   "cell_type": "code",
   "execution_count": 49,
   "id": "7530bbfc-3433-457a-b566-e352d0136e8f",
   "metadata": {},
   "outputs": [],
   "source": [
    "df_filled = df.fillna({'Name': 'Unknown', 'Age': 0, 'City': 'Unknown'})"
   ]
  },
  {
   "cell_type": "code",
   "execution_count": 50,
   "id": "c8554127-d902-4e10-b6b7-15e97f886f25",
   "metadata": {},
   "outputs": [],
   "source": [
    "#print the variable"
   ]
  },
  {
   "cell_type": "code",
   "execution_count": 51,
   "id": "33158b96-fca0-4c02-a4c7-8b83e5a446ad",
   "metadata": {},
   "outputs": [
    {
     "name": "stdout",
     "output_type": "stream",
     "text": [
      "      Name   Age      City\n",
      "0    Alice  25.0  New York\n",
      "1      Bob   0.0   Unknown\n",
      "2  Unknown  35.0   Chicago\n"
     ]
    }
   ],
   "source": [
    "print(df_filled)"
   ]
  },
  {
   "cell_type": "code",
   "execution_count": null,
   "id": "b722a1cc-a264-4f57-b1e9-aeddc2690330",
   "metadata": {},
   "outputs": [],
   "source": []
  },
  {
   "cell_type": "code",
   "execution_count": null,
   "id": "25fe06a4-14b6-4d0b-80c3-1e7d1c9595a6",
   "metadata": {},
   "outputs": [],
   "source": []
  },
  {
   "cell_type": "code",
   "execution_count": 52,
   "id": "186367f1-de7a-4582-ab0f-c2d27820c870",
   "metadata": {},
   "outputs": [],
   "source": [
    "# Sort by Age in descending order"
   ]
  },
  {
   "cell_type": "code",
   "execution_count": 53,
   "id": "b80a1a14-15c8-4a01-a70c-53f9beb31e57",
   "metadata": {},
   "outputs": [],
   "source": [
    "sorted_df = df.sort_values(by='Age', ascending=False)"
   ]
  },
  {
   "cell_type": "code",
   "execution_count": 54,
   "id": "6d47460e-e51c-4908-9b5f-79d9ad26b908",
   "metadata": {},
   "outputs": [
    {
     "name": "stdout",
     "output_type": "stream",
     "text": [
      "    Name   Age      City\n",
      "2   None  35.0   Chicago\n",
      "0  Alice  25.0  New York\n",
      "1    Bob   NaN      None\n"
     ]
    }
   ],
   "source": [
    "print(sorted_df)"
   ]
  },
  {
   "cell_type": "code",
   "execution_count": null,
   "id": "304ab83b-4dca-4e65-b9be-34382d40a236",
   "metadata": {},
   "outputs": [],
   "source": []
  },
  {
   "cell_type": "code",
   "execution_count": 55,
   "id": "ff3adcb1-6482-4189-addf-db1776d68314",
   "metadata": {},
   "outputs": [],
   "source": [
    "# Group by 'City' and calculate the average Age"
   ]
  },
  {
   "cell_type": "code",
   "execution_count": 56,
   "id": "dbf7debc-c9e9-4c6b-abbf-81928ca51014",
   "metadata": {},
   "outputs": [],
   "source": [
    "grouped_df = df.groupby('City')['Age'].mean()"
   ]
  },
  {
   "cell_type": "code",
   "execution_count": 57,
   "id": "f47db575-aa16-4146-aedd-6a1777420f32",
   "metadata": {},
   "outputs": [
    {
     "name": "stdout",
     "output_type": "stream",
     "text": [
      "City\n",
      "Chicago     35.0\n",
      "New York    25.0\n",
      "Name: Age, dtype: float64\n"
     ]
    }
   ],
   "source": [
    "print(grouped_df)"
   ]
  },
  {
   "cell_type": "code",
   "execution_count": null,
   "id": "a0a3e104-c3db-45e5-8b7e-11a86cdb23f4",
   "metadata": {},
   "outputs": [],
   "source": []
  },
  {
   "cell_type": "code",
   "execution_count": 59,
   "id": "83f8cc29-3f3a-4f54-9f1b-96ac05ca114c",
   "metadata": {},
   "outputs": [],
   "source": [
    "# Summary statistics"
   ]
  },
  {
   "cell_type": "code",
   "execution_count": 60,
   "id": "1be4ecbb-4b50-4f6d-8fa9-c0fdc42631b4",
   "metadata": {},
   "outputs": [
    {
     "name": "stdout",
     "output_type": "stream",
     "text": [
      "             Age\n",
      "count   2.000000\n",
      "mean   30.000000\n",
      "std     7.071068\n",
      "min    25.000000\n",
      "25%    27.500000\n",
      "50%    30.000000\n",
      "75%    32.500000\n",
      "max    35.000000\n"
     ]
    }
   ],
   "source": [
    "print(df.describe())"
   ]
  },
  {
   "cell_type": "code",
   "execution_count": null,
   "id": "b1f3fa2f-00b6-468d-a676-a928540d1c8d",
   "metadata": {},
   "outputs": [],
   "source": []
  },
  {
   "cell_type": "code",
   "execution_count": null,
   "id": "19f765ca-1897-467c-99cd-8dbc5fe1f451",
   "metadata": {},
   "outputs": [],
   "source": [
    "# Merging DataFrames"
   ]
  },
  {
   "cell_type": "code",
   "execution_count": 64,
   "id": "3c4dbac6-ec3a-423b-a6d1-16bcabb4d2a4",
   "metadata": {},
   "outputs": [],
   "source": [
    "df1 = pd.DataFrame({'ID': [1, 2, 3], 'Name': ['Alice', 'Bob', 'Charlie']})"
   ]
  },
  {
   "cell_type": "code",
   "execution_count": 65,
   "id": "8c1d651f-5689-4c82-97fe-703627a201ac",
   "metadata": {},
   "outputs": [],
   "source": [
    "df2 = pd.DataFrame({'ID': [1, 2, 4], 'Score': [85, 90, 95]})"
   ]
  },
  {
   "cell_type": "code",
   "execution_count": 66,
   "id": "bde08e0a-a905-4aba-b907-4ce298c7fcf7",
   "metadata": {},
   "outputs": [],
   "source": [
    "# Merge on the 'ID' column"
   ]
  },
  {
   "cell_type": "code",
   "execution_count": 67,
   "id": "62b1e6c6-a6c8-4f04-99fe-d337f19bc495",
   "metadata": {},
   "outputs": [],
   "source": [
    "merged_df = pd.merge(df1, df2, on='ID', how='inner')"
   ]
  },
  {
   "cell_type": "code",
   "execution_count": 68,
   "id": "b536417c-27b5-4b88-a227-3af1439b5cf5",
   "metadata": {},
   "outputs": [
    {
     "name": "stdout",
     "output_type": "stream",
     "text": [
      "   ID   Name  Score\n",
      "0   1  Alice     85\n",
      "1   2    Bob     90\n"
     ]
    }
   ],
   "source": [
    "print(merged_df)"
   ]
  },
  {
   "cell_type": "code",
   "execution_count": null,
   "id": "72e6c468-fcfd-448a-aa68-029191909ce5",
   "metadata": {},
   "outputs": [],
   "source": []
  },
  {
   "cell_type": "code",
   "execution_count": null,
   "id": "fea26c5c-71f4-45e7-a810-a946f23e6ac8",
   "metadata": {},
   "outputs": [],
   "source": []
  }
 ],
 "metadata": {
  "kernelspec": {
   "display_name": "Python 3 (ipykernel)",
   "language": "python",
   "name": "python3"
  },
  "language_info": {
   "codemirror_mode": {
    "name": "ipython",
    "version": 3
   },
   "file_extension": ".py",
   "mimetype": "text/x-python",
   "name": "python",
   "nbconvert_exporter": "python",
   "pygments_lexer": "ipython3",
   "version": "3.12.7"
  }
 },
 "nbformat": 4,
 "nbformat_minor": 5
}
