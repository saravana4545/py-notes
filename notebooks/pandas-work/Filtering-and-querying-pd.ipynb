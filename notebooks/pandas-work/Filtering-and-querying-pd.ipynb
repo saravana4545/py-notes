{
 "cells": [
  {
   "cell_type": "code",
   "execution_count": null,
   "id": "08a0673e-c90c-475b-ab7a-15f95b8ee96c",
   "metadata": {},
   "outputs": [],
   "source": []
  },
  {
   "cell_type": "code",
   "execution_count": 3,
   "id": "b0673a25-094d-4531-a01d-1463ed8a5b3c",
   "metadata": {},
   "outputs": [],
   "source": [
    "import pandas as pd"
   ]
  },
  {
   "cell_type": "code",
   "execution_count": null,
   "id": "429c8849-bc9e-4c81-8463-3be13d1200fc",
   "metadata": {},
   "outputs": [],
   "source": [
    "#Filtering and Querying"
   ]
  },
  {
   "cell_type": "code",
   "execution_count": 4,
   "id": "0c633f7c-77db-4f4d-a236-7f5654db3e53",
   "metadata": {},
   "outputs": [],
   "source": [
    "data = {\n",
    "    'Name': ['Alice', 'Bob', 'Charlie'],\n",
    "    'Age': [25, 30, 35],\n",
    "    'Salary': [50000, 60000, 70000]\n",
    "}"
   ]
  },
  {
   "cell_type": "code",
   "execution_count": 5,
   "id": "1ba4dca8-9b02-48c2-805d-0d20680f25ad",
   "metadata": {},
   "outputs": [],
   "source": [
    "df = pd.DataFrame(data)"
   ]
  },
  {
   "cell_type": "code",
   "execution_count": 6,
   "id": "6ab802de-498a-4728-b34c-5c011043ffb5",
   "metadata": {},
   "outputs": [],
   "source": [
    "# Querying the DataFrame"
   ]
  },
  {
   "cell_type": "code",
   "execution_count": 7,
   "id": "3b2e4964-3e82-452a-883e-f7396eac26d3",
   "metadata": {},
   "outputs": [
    {
     "name": "stdout",
     "output_type": "stream",
     "text": [
      "      Name  Age  Salary\n",
      "1      Bob   30   60000\n",
      "2  Charlie   35   70000\n"
     ]
    }
   ],
   "source": [
    "filtered = df.query('Age > 28 and Salary > 55000')\n",
    "print(filtered)"
   ]
  },
  {
   "cell_type": "code",
   "execution_count": null,
   "id": "b0e0e598-4063-43e0-86ed-f4741bb5a603",
   "metadata": {},
   "outputs": [],
   "source": []
  },
  {
   "cell_type": "code",
   "execution_count": null,
   "id": "f80865a8-080b-46c9-ad21-338b7293a058",
   "metadata": {},
   "outputs": [],
   "source": []
  },
  {
   "cell_type": "code",
   "execution_count": 9,
   "id": "d5884c06-c60d-4132-bda2-08140a94e905",
   "metadata": {},
   "outputs": [],
   "source": [
    "#Filtering with Complex Conditions"
   ]
  },
  {
   "cell_type": "code",
   "execution_count": 10,
   "id": "2ae4e1a5-f108-4cf9-b4f7-323eec5821a3",
   "metadata": {},
   "outputs": [],
   "source": [
    "# Using lambda functions"
   ]
  },
  {
   "cell_type": "code",
   "execution_count": 11,
   "id": "2f50bde6-1722-478f-9579-5ea951ab131e",
   "metadata": {},
   "outputs": [
    {
     "name": "stdout",
     "output_type": "stream",
     "text": [
      "    Name  Age  Salary\n",
      "0  Alice   25   50000\n"
     ]
    }
   ],
   "source": [
    "filtered = df[df['Name'].apply(lambda x: x.startswith('A'))]\n",
    "print(filtered)"
   ]
  },
  {
   "cell_type": "code",
   "execution_count": null,
   "id": "21b084a6-d898-4f5d-8c13-42098b94ec61",
   "metadata": {},
   "outputs": [],
   "source": []
  },
  {
   "cell_type": "code",
   "execution_count": 12,
   "id": "f8b54180-c0e6-4de9-8564-cdd7e79bec02",
   "metadata": {},
   "outputs": [],
   "source": [
    "#Data Transformation and Adding Calculated Columns"
   ]
  },
  {
   "cell_type": "code",
   "execution_count": 13,
   "id": "7c0b2a16-b7f4-454e-bafa-928764c22d15",
   "metadata": {},
   "outputs": [
    {
     "name": "stdout",
     "output_type": "stream",
     "text": [
      "      Name  Age  Salary  Salary in USD\n",
      "0    Alice   25   50000        55000.0\n",
      "1      Bob   30   60000        66000.0\n",
      "2  Charlie   35   70000        77000.0\n"
     ]
    }
   ],
   "source": [
    "df['Salary in USD'] = df['Salary'] * 1.1  # Assuming a 10% conversion rate\n",
    "print(df)"
   ]
  },
  {
   "cell_type": "code",
   "execution_count": null,
   "id": "a3131d9d-f90a-40f8-b381-faece96c9c6b",
   "metadata": {},
   "outputs": [],
   "source": []
  },
  {
   "cell_type": "code",
   "execution_count": null,
   "id": "854391d7-287d-48fe-a47a-b6e7769b51ea",
   "metadata": {},
   "outputs": [],
   "source": []
  },
  {
   "cell_type": "code",
   "execution_count": 14,
   "id": "73a531b4-1f34-44c2-8098-eba387816c45",
   "metadata": {},
   "outputs": [],
   "source": [
    "#Apply Custom Functions"
   ]
  },
  {
   "cell_type": "code",
   "execution_count": 15,
   "id": "5e37df38-3d94-44eb-952a-53a541d7ce2c",
   "metadata": {},
   "outputs": [],
   "source": [
    "def age_group(age):\n",
    "    if age < 30:\n",
    "        return 'Young'\n",
    "    elif age < 40:\n",
    "        return 'Mid-Age'\n",
    "    else:\n",
    "        return 'Senior'"
   ]
  },
  {
   "cell_type": "code",
   "execution_count": 16,
   "id": "b8e11d98-c0c9-4deb-8494-867a8d288d82",
   "metadata": {},
   "outputs": [
    {
     "name": "stdout",
     "output_type": "stream",
     "text": [
      "      Name  Age  Salary  Salary in USD Age Group\n",
      "0    Alice   25   50000        55000.0     Young\n",
      "1      Bob   30   60000        66000.0   Mid-Age\n",
      "2  Charlie   35   70000        77000.0   Mid-Age\n"
     ]
    }
   ],
   "source": [
    "df['Age Group'] = df['Age'].apply(age_group)\n",
    "print(df)"
   ]
  },
  {
   "cell_type": "code",
   "execution_count": null,
   "id": "7ca9ddaa-21b8-4fbc-8d94-5f0d040151ba",
   "metadata": {},
   "outputs": [],
   "source": []
  },
  {
   "cell_type": "code",
   "execution_count": null,
   "id": "5c91ed16-d934-4db7-a09d-7461aa63584d",
   "metadata": {},
   "outputs": [],
   "source": []
  }
 ],
 "metadata": {
  "kernelspec": {
   "display_name": "Python 3 (ipykernel)",
   "language": "python",
   "name": "python3"
  },
  "language_info": {
   "codemirror_mode": {
    "name": "ipython",
    "version": 3
   },
   "file_extension": ".py",
   "mimetype": "text/x-python",
   "name": "python",
   "nbconvert_exporter": "python",
   "pygments_lexer": "ipython3",
   "version": "3.12.7"
  }
 },
 "nbformat": 4,
 "nbformat_minor": 5
}
