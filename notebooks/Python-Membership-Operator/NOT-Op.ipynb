{
 "cells": [
  {
   "cell_type": "code",
   "execution_count": 1,
   "id": "e51dfc77-c3b6-4175-acd7-4bcaed1f3efc",
   "metadata": {},
   "outputs": [],
   "source": [
    "# Created at 25-01-2025"
   ]
  },
  {
   "cell_type": "code",
   "execution_count": 2,
   "id": "7ef7aa00-be0e-4267-bc28-f9f7d9a67010",
   "metadata": {},
   "outputs": [],
   "source": [
    "# https://www.scientecheasy.com/2022/10/membership-operators-in-python.html/"
   ]
  },
  {
   "cell_type": "code",
   "execution_count": 3,
   "id": "0b0fe5c5-7aed-492d-ace3-7fe3d130a7c3",
   "metadata": {},
   "outputs": [],
   "source": [
    "# NOT IN Operator"
   ]
  },
  {
   "cell_type": "code",
   "execution_count": 4,
   "id": "81290750-2717-4211-b158-3054eacd0e91",
   "metadata": {},
   "outputs": [],
   "source": [
    "# Example with a string"
   ]
  },
  {
   "cell_type": "code",
   "execution_count": 5,
   "id": "54d4b639-c048-4d54-8ff0-111f66c0ac29",
   "metadata": {},
   "outputs": [],
   "source": [
    "sentence = \"Python is fun\""
   ]
  },
  {
   "cell_type": "code",
   "execution_count": 6,
   "id": "d778fff9-6dce-4df3-8482-93f012e5ea02",
   "metadata": {},
   "outputs": [
    {
     "name": "stdout",
     "output_type": "stream",
     "text": [
      "True\n"
     ]
    }
   ],
   "source": [
    "print(\"Java\" not in sentence)"
   ]
  },
  {
   "cell_type": "code",
   "execution_count": 7,
   "id": "21a03802-8b77-42fe-9d32-fb4dc832a8c3",
   "metadata": {},
   "outputs": [
    {
     "name": "stdout",
     "output_type": "stream",
     "text": [
      "False\n"
     ]
    }
   ],
   "source": [
    "print(\"fun\" not in sentence)"
   ]
  },
  {
   "cell_type": "code",
   "execution_count": null,
   "id": "5eef84a5-46ee-408c-adf1-6abb956d5126",
   "metadata": {},
   "outputs": [],
   "source": []
  }
 ],
 "metadata": {
  "kernelspec": {
   "display_name": "Python 3 (ipykernel)",
   "language": "python",
   "name": "python3"
  },
  "language_info": {
   "codemirror_mode": {
    "name": "ipython",
    "version": 3
   },
   "file_extension": ".py",
   "mimetype": "text/x-python",
   "name": "python",
   "nbconvert_exporter": "python",
   "pygments_lexer": "ipython3",
   "version": "3.12.7"
  }
 },
 "nbformat": 4,
 "nbformat_minor": 5
}
