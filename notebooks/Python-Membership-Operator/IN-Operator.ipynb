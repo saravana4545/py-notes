{
 "cells": [
  {
   "cell_type": "code",
   "execution_count": 1,
   "id": "1cc49cfb-d00e-4dde-bc1a-34013354ac7a",
   "metadata": {},
   "outputs": [],
   "source": [
    "# Created at 25-01-2025"
   ]
  },
  {
   "cell_type": "code",
   "execution_count": 2,
   "id": "5d028b3c-175b-4526-9470-64a1bf6fd947",
   "metadata": {},
   "outputs": [],
   "source": [
    "# https://www.scientecheasy.com/2022/10/membership-operators-in-python.html/"
   ]
  },
  {
   "cell_type": "code",
   "execution_count": 3,
   "id": "0ec0f8fd-462c-4c2f-bff5-e5bea84f9728",
   "metadata": {},
   "outputs": [],
   "source": [
    "# IN Operator "
   ]
  },
  {
   "cell_type": "code",
   "execution_count": 4,
   "id": "54052b07-8e48-4c08-84b3-023b1bc3ab95",
   "metadata": {},
   "outputs": [],
   "source": [
    "# Example with a list"
   ]
  },
  {
   "cell_type": "code",
   "execution_count": null,
   "id": "465b0462-5356-4f80-a13e-2c98dffb2bdf",
   "metadata": {},
   "outputs": [],
   "source": [
    "# If the value found in the list it will through True, otherwise False."
   ]
  },
  {
   "cell_type": "code",
   "execution_count": 5,
   "id": "2d252e08-947b-4105-a6c7-eb55c7f3ca83",
   "metadata": {},
   "outputs": [],
   "source": [
    "fruits = [\"apple\", \"banana\", \"cherry\"]"
   ]
  },
  {
   "cell_type": "code",
   "execution_count": 6,
   "id": "19977a39-64ad-4fda-b7ef-40b9b09c4524",
   "metadata": {},
   "outputs": [
    {
     "name": "stdout",
     "output_type": "stream",
     "text": [
      "True\n"
     ]
    }
   ],
   "source": [
    "print(\"apple\" in fruits)"
   ]
  },
  {
   "cell_type": "code",
   "execution_count": 7,
   "id": "b476524c-b763-4995-8690-8dab1d5d8d81",
   "metadata": {},
   "outputs": [
    {
     "name": "stdout",
     "output_type": "stream",
     "text": [
      "False\n"
     ]
    }
   ],
   "source": [
    "print(\"mango\" in fruits)"
   ]
  },
  {
   "cell_type": "code",
   "execution_count": null,
   "id": "de757170-6013-4cbf-ad18-9d5da1a1e1ef",
   "metadata": {},
   "outputs": [],
   "source": []
  }
 ],
 "metadata": {
  "kernelspec": {
   "display_name": "Python 3 (ipykernel)",
   "language": "python",
   "name": "python3"
  },
  "language_info": {
   "codemirror_mode": {
    "name": "ipython",
    "version": 3
   },
   "file_extension": ".py",
   "mimetype": "text/x-python",
   "name": "python",
   "nbconvert_exporter": "python",
   "pygments_lexer": "ipython3",
   "version": "3.12.7"
  }
 },
 "nbformat": 4,
 "nbformat_minor": 5
}
